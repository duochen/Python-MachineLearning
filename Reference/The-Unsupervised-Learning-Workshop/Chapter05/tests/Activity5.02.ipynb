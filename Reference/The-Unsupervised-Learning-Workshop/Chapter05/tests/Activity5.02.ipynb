{
 "cells": [
  {
   "cell_type": "code",
   "execution_count": 2,
   "metadata": {},
   "outputs": [],
   "source": [
    "import pickle\n",
    "import numpy as np\n",
    "import matplotlib.pyplot as plt\n",
    "# from keras.models import Model\n",
    "# from keras.layers import Input, Dense\n",
    "\n",
    "# import tensorflow.python.util.deprecation as deprecation\n",
    "# deprecation._PRINT_DEPRECATION_WARNINGS = False\n",
    "\n",
    "\n",
    "\n",
    "from tensorflow.keras.models import Model\n",
    "from tensorflow.keras.layers import Input, Dense"
   ]
  },
  {
   "cell_type": "code",
   "execution_count": 3,
   "metadata": {},
   "outputs": [],
   "source": [
    "with open('mnist.pkl', 'rb') as f:\n",
    "    images = pickle.load(f)['images']"
   ]
  },
  {
   "cell_type": "code",
   "execution_count": 4,
   "metadata": {},
   "outputs": [],
   "source": [
    "images = images.reshape((-1, 28 ** 2))\n",
    "images = images / 255."
   ]
  },
  {
   "cell_type": "code",
   "execution_count": 5,
   "metadata": {},
   "outputs": [],
   "source": [
    "input_stage = Input(shape=(784,))\n",
    "encoding_stage = Dense(100, activation='relu')(input_stage)\n",
    "decoding_stage = Dense(784, activation='sigmoid')(encoding_stage)\n",
    "autoencoder = Model(input_stage, decoding_stage)"
   ]
  },
  {
   "cell_type": "code",
   "execution_count": 9,
   "metadata": {},
   "outputs": [],
   "source": [
    "autoencoder.compile(loss='binary_crossentropy',\n",
    "              optimizer='adadelta')"
   ]
  },
  {
   "cell_type": "code",
   "execution_count": 10,
   "metadata": {},
   "outputs": [
    {
     "name": "stdout",
     "output_type": "stream",
     "text": [
      "Train on 10000 samples\n",
      "Epoch 1/100\n",
      "10000/10000 [==============================] - 3s 284us/sample - loss: 0.6974\n",
      "Epoch 2/100\n",
      "10000/10000 [==============================] - 2s 197us/sample - loss: 0.6968\n",
      "Epoch 3/100\n",
      "10000/10000 [==============================] - 2s 203us/sample - loss: 0.6962\n",
      "Epoch 4/100\n",
      "10000/10000 [==============================] - 2s 224us/sample - loss: 0.6956\n",
      "Epoch 5/100\n",
      "10000/10000 [==============================] - 2s 196us/sample - loss: 0.6950\n",
      "Epoch 6/100\n",
      "10000/10000 [==============================] - 2s 198us/sample - loss: 0.6944\n",
      "Epoch 7/100\n",
      "10000/10000 [==============================] - 2s 198us/sample - loss: 0.6939\n",
      "Epoch 8/100\n",
      "10000/10000 [==============================] - 2s 199us/sample - loss: 0.6933\n",
      "Epoch 9/100\n",
      "10000/10000 [==============================] - 2s 209us/sample - loss: 0.6928\n",
      "Epoch 10/100\n",
      "10000/10000 [==============================] - 2s 219us/sample - loss: 0.6922\n",
      "Epoch 11/100\n",
      "10000/10000 [==============================] - 2s 201us/sample - loss: 0.6917\n",
      "Epoch 12/100\n",
      "10000/10000 [==============================] - 2s 204us/sample - loss: 0.6911\n",
      "Epoch 13/100\n",
      "10000/10000 [==============================] - 2s 202us/sample - loss: 0.6906\n",
      "Epoch 14/100\n",
      "10000/10000 [==============================] - 2s 204us/sample - loss: 0.6900\n",
      "Epoch 15/100\n",
      "10000/10000 [==============================] - 2s 211us/sample - loss: 0.6895\n",
      "Epoch 16/100\n",
      "10000/10000 [==============================] - 2s 205us/sample - loss: 0.6889\n",
      "Epoch 17/100\n",
      "10000/10000 [==============================] - 2s 202us/sample - loss: 0.6884\n",
      "Epoch 18/100\n",
      "10000/10000 [==============================] - 2s 205us/sample - loss: 0.6878\n",
      "Epoch 19/100\n",
      "10000/10000 [==============================] - 2s 217us/sample - loss: 0.6872\n",
      "Epoch 20/100\n",
      "10000/10000 [==============================] - 2s 213us/sample - loss: 0.6866\n",
      "Epoch 21/100\n",
      "10000/10000 [==============================] - 2s 210us/sample - loss: 0.6861\n",
      "Epoch 22/100\n",
      "10000/10000 [==============================] - 2s 219us/sample - loss: 0.6854\n",
      "Epoch 23/100\n",
      "10000/10000 [==============================] - 2s 209us/sample - loss: 0.6848\n",
      "Epoch 24/100\n",
      "10000/10000 [==============================] - 2s 234us/sample - loss: 0.6842\n",
      "Epoch 25/100\n",
      "10000/10000 [==============================] - 2s 226us/sample - loss: 0.6836\n",
      "Epoch 26/100\n",
      "10000/10000 [==============================] - 2s 229us/sample - loss: 0.6829\n",
      "Epoch 27/100\n",
      "10000/10000 [==============================] - 2s 230us/sample - loss: 0.6822\n",
      "Epoch 28/100\n",
      "10000/10000 [==============================] - 2s 234us/sample - loss: 0.6815\n",
      "Epoch 29/100\n",
      "10000/10000 [==============================] - 2s 211us/sample - loss: 0.6808\n",
      "Epoch 30/100\n",
      "10000/10000 [==============================] - 2s 214us/sample - loss: 0.6801\n",
      "Epoch 31/100\n",
      "10000/10000 [==============================] - 2s 214us/sample - loss: 0.6794\n",
      "Epoch 32/100\n",
      "10000/10000 [==============================] - 2s 214us/sample - loss: 0.6786\n",
      "Epoch 33/100\n",
      "10000/10000 [==============================] - 2s 216us/sample - loss: 0.6778\n",
      "Epoch 34/100\n",
      "10000/10000 [==============================] - 2s 236us/sample - loss: 0.6770\n",
      "Epoch 35/100\n",
      "10000/10000 [==============================] - 2s 212us/sample - loss: 0.6761\n",
      "Epoch 36/100\n",
      "10000/10000 [==============================] - 2s 213us/sample - loss: 0.6753\n",
      "Epoch 37/100\n",
      "10000/10000 [==============================] - 2s 211us/sample - loss: 0.6744\n",
      "Epoch 38/100\n",
      "10000/10000 [==============================] - 2s 211us/sample - loss: 0.6734\n",
      "Epoch 39/100\n",
      "10000/10000 [==============================] - 2s 222us/sample - loss: 0.6725\n",
      "Epoch 40/100\n",
      "10000/10000 [==============================] - 2s 212us/sample - loss: 0.6715\n",
      "Epoch 41/100\n",
      "10000/10000 [==============================] - 2s 216us/sample - loss: 0.6704\n",
      "Epoch 42/100\n",
      "10000/10000 [==============================] - 2s 223us/sample - loss: 0.6694\n",
      "Epoch 43/100\n",
      "10000/10000 [==============================] - 2s 219us/sample - loss: 0.6683\n",
      "Epoch 44/100\n",
      "10000/10000 [==============================] - 2s 224us/sample - loss: 0.6671\n",
      "Epoch 45/100\n",
      "10000/10000 [==============================] - 2s 217us/sample - loss: 0.6660\n",
      "Epoch 46/100\n",
      "10000/10000 [==============================] - 2s 225us/sample - loss: 0.6647\n",
      "Epoch 47/100\n",
      "10000/10000 [==============================] - 2s 220us/sample - loss: 0.6635\n",
      "Epoch 48/100\n",
      "10000/10000 [==============================] - 2s 220us/sample - loss: 0.6622\n",
      "Epoch 49/100\n",
      "10000/10000 [==============================] - 2s 220us/sample - loss: 0.6608\n",
      "Epoch 50/100\n",
      "10000/10000 [==============================] - 2s 230us/sample - loss: 0.6594\n",
      "Epoch 51/100\n",
      "10000/10000 [==============================] - 2s 225us/sample - loss: 0.6580\n",
      "Epoch 52/100\n",
      "10000/10000 [==============================] - 2s 221us/sample - loss: 0.6565\n",
      "Epoch 53/100\n",
      "10000/10000 [==============================] - 2s 234us/sample - loss: 0.6549\n",
      "Epoch 54/100\n",
      "10000/10000 [==============================] - 2s 227us/sample - loss: 0.6533\n",
      "Epoch 55/100\n",
      "10000/10000 [==============================] - 2s 226us/sample - loss: 0.6516\n",
      "Epoch 56/100\n",
      "10000/10000 [==============================] - 2s 222us/sample - loss: 0.6499\n",
      "Epoch 57/100\n",
      "10000/10000 [==============================] - 2s 231us/sample - loss: 0.6481\n",
      "Epoch 58/100\n",
      "10000/10000 [==============================] - 2s 224us/sample - loss: 0.6463\n",
      "Epoch 59/100\n",
      "10000/10000 [==============================] - 2s 227us/sample - loss: 0.6444\n",
      "Epoch 60/100\n",
      "10000/10000 [==============================] - 2s 232us/sample - loss: 0.6424\n",
      "Epoch 61/100\n",
      "10000/10000 [==============================] - 2s 235us/sample - loss: 0.6404\n",
      "Epoch 62/100\n",
      "10000/10000 [==============================] - 2s 225us/sample - loss: 0.6383\n",
      "Epoch 63/100\n",
      "10000/10000 [==============================] - 2s 234us/sample - loss: 0.6361\n",
      "Epoch 64/100\n",
      "10000/10000 [==============================] - 2s 227us/sample - loss: 0.6339\n",
      "Epoch 65/100\n",
      "10000/10000 [==============================] - 2s 222us/sample - loss: 0.6316\n",
      "Epoch 66/100\n",
      "10000/10000 [==============================] - 2s 233us/sample - loss: 0.6292\n",
      "Epoch 67/100\n",
      "10000/10000 [==============================] - 2s 226us/sample - loss: 0.6268\n",
      "Epoch 68/100\n",
      "10000/10000 [==============================] - 2s 229us/sample - loss: 0.6243\n",
      "Epoch 69/100\n",
      "10000/10000 [==============================] - 2s 234us/sample - loss: 0.6217\n",
      "Epoch 70/100\n",
      "10000/10000 [==============================] - 2s 232us/sample - loss: 0.6190\n",
      "Epoch 71/100\n",
      "10000/10000 [==============================] - 2s 234us/sample - loss: 0.6163\n",
      "Epoch 72/100\n",
      "10000/10000 [==============================] - 2s 236us/sample - loss: 0.6135\n",
      "Epoch 73/100\n",
      "10000/10000 [==============================] - 2s 228us/sample - loss: 0.6106\n",
      "Epoch 74/100\n",
      "10000/10000 [==============================] - 2s 237us/sample - loss: 0.6077\n",
      "Epoch 75/100\n",
      "10000/10000 [==============================] - 2s 231us/sample - loss: 0.6046\n",
      "Epoch 76/100\n",
      "10000/10000 [==============================] - 2s 233us/sample - loss: 0.6016\n",
      "Epoch 77/100\n",
      "10000/10000 [==============================] - 2s 236us/sample - loss: 0.5984\n",
      "Epoch 78/100\n",
      "10000/10000 [==============================] - 2s 234us/sample - loss: 0.5951\n",
      "Epoch 79/100\n",
      "10000/10000 [==============================] - 2s 242us/sample - loss: 0.5918\n",
      "Epoch 80/100\n",
      "10000/10000 [==============================] - 2s 235us/sample - loss: 0.5884\n",
      "Epoch 81/100\n",
      "10000/10000 [==============================] - 2s 240us/sample - loss: 0.5850\n",
      "Epoch 82/100\n",
      "10000/10000 [==============================] - 2s 228us/sample - loss: 0.5815\n",
      "Epoch 83/100\n",
      "10000/10000 [==============================] - 2s 231us/sample - loss: 0.5779\n",
      "Epoch 84/100\n",
      "10000/10000 [==============================] - 2s 241us/sample - loss: 0.5742\n",
      "Epoch 85/100\n",
      "10000/10000 [==============================] - 2s 233us/sample - loss: 0.5705\n",
      "Epoch 86/100\n",
      "10000/10000 [==============================] - 2s 238us/sample - loss: 0.5668\n",
      "Epoch 87/100\n",
      "10000/10000 [==============================] - 2s 230us/sample - loss: 0.5629\n",
      "Epoch 88/100\n",
      "10000/10000 [==============================] - 2s 238us/sample - loss: 0.5591\n",
      "Epoch 89/100\n",
      "10000/10000 [==============================] - 2s 234us/sample - loss: 0.5551\n",
      "Epoch 90/100\n",
      "10000/10000 [==============================] - 2s 239us/sample - loss: 0.5512\n",
      "Epoch 91/100\n",
      "10000/10000 [==============================] - 2s 233us/sample - loss: 0.5471\n",
      "Epoch 92/100\n",
      "10000/10000 [==============================] - 2s 237us/sample - loss: 0.5431\n",
      "Epoch 93/100\n",
      "10000/10000 [==============================] - 2s 235us/sample - loss: 0.5390\n",
      "Epoch 94/100\n",
      "10000/10000 [==============================] - 2s 240us/sample - loss: 0.5349\n",
      "Epoch 95/100\n",
      "10000/10000 [==============================] - 2s 237us/sample - loss: 0.5307\n",
      "Epoch 96/100\n",
      "10000/10000 [==============================] - 2s 238us/sample - loss: 0.5265\n",
      "Epoch 97/100\n",
      "10000/10000 [==============================] - 2s 239us/sample - loss: 0.5223\n",
      "Epoch 98/100\n",
      "10000/10000 [==============================] - 2s 237us/sample - loss: 0.5181\n",
      "Epoch 99/100\n",
      "10000/10000 [==============================] - 2s 240us/sample - loss: 0.5139\n",
      "Epoch 100/100\n",
      "10000/10000 [==============================] - 2s 232us/sample - loss: 0.5096\n"
     ]
    },
    {
     "data": {
      "text/plain": [
       "<tensorflow.python.keras.callbacks.History at 0x7f65ff27e358>"
      ]
     },
     "execution_count": 10,
     "metadata": {},
     "output_type": "execute_result"
    }
   ],
   "source": [
    "autoencoder.fit(images, images, epochs=100)"
   ]
  },
  {
   "cell_type": "code",
   "execution_count": 11,
   "metadata": {},
   "outputs": [],
   "source": [
    "encoder_output = Model(input_stage, encoding_stage).predict(images[:5])"
   ]
  },
  {
   "cell_type": "code",
   "execution_count": 12,
   "metadata": {},
   "outputs": [],
   "source": [
    "encoder_output = encoder_output.reshape((-1, 10, 10)) * 255"
   ]
  },
  {
   "cell_type": "code",
   "execution_count": 13,
   "metadata": {},
   "outputs": [],
   "source": [
    "decoder_output = autoencoder.predict(images[:5])"
   ]
  },
  {
   "cell_type": "code",
   "execution_count": 14,
   "metadata": {},
   "outputs": [],
   "source": [
    "decoder_output = decoder_output.reshape((-1, 28, 28)) * 255"
   ]
  },
  {
   "cell_type": "code",
   "execution_count": 15,
   "metadata": {},
   "outputs": [
    {
     "data": {
      "image/png": "[encoded data removed]",
      "text/plain": [
       "<Figure size 720x504 with 15 Axes>"
      ]
     },
     "metadata": {
      "needs_background": "light"
     },
     "output_type": "display_data"
    }
   ],
   "source": [
    "images = images.reshape((-1, 28, 28))\n",
    "plt.figure(figsize=(10, 7))\n",
    "for i in range(5):\n",
    "    plt.subplot(3, 5, i + 1)\n",
    "    plt.imshow(images[i], cmap='gray')\n",
    "    plt.axis('off')\n",
    "    \n",
    "    plt.subplot(3, 5, i + 6)\n",
    "    plt.imshow(encoder_output[i], cmap='gray')\n",
    "    plt.axis('off')   \n",
    "    \n",
    "    plt.subplot(3, 5, i + 11)\n",
    "    plt.imshow(decoder_output[i], cmap='gray')\n",
    "    plt.axis('off')        "
   ]
  },
  {
   "cell_type": "code",
   "execution_count": null,
   "metadata": {},
   "outputs": [],
   "source": []
  },
  {
   "cell_type": "code",
   "execution_count": null,
   "metadata": {},
   "outputs": [],
   "source": []
  },
  {
   "cell_type": "code",
   "execution_count": null,
   "metadata": {},
   "outputs": [],
   "source": []
  },
  {
   "cell_type": "code",
   "execution_count": 16,
   "metadata": {},
   "outputs": [],
   "source": [
    "# Unit Test"
   ]
  },
  {
   "cell_type": "code",
   "execution_count": 17,
   "metadata": {},
   "outputs": [],
   "source": [
    "import unittest\n",
    "class TestEncodeDecodeMNIST(unittest.TestCase):   \n",
    "        \n",
    "    def test_images(self):\n",
    "        self.assertEqual(len(images),10000)\n",
    "        \n",
    "    def test_input_stage_shape(self):\n",
    "        self.assertListEqual(list(input_stage.shape),[None, 784])\n",
    "        \n",
    "    def test_encoding_stage_shape(self):\n",
    "        self.assertListEqual(list(encoding_stage.shape),[None, 100])\n",
    "        \n",
    "    def test_decoding_stage_spape(self):\n",
    "        self.assertListEqual(list(decoding_stage.shape),[None, 784])\n",
    "        \n",
    "        \n",
    "    def test_encoder_output_len(self):\n",
    "        self.assertEqual(len(encoder_output),5)\n",
    "        \n",
    "    def test_decoder_output_len(self):\n",
    "        self.assertEqual(len(decoder_output),5)\n",
    "        \n",
    "         "
   ]
  },
  {
   "cell_type": "code",
   "execution_count": 18,
   "metadata": {},
   "outputs": [
    {
     "name": "stderr",
     "output_type": "stream",
     "text": [
      "test_decoder_output_len (__main__.TestEncodeDecodeMNIST) ... ok\n",
      "test_decoding_stage_spape (__main__.TestEncodeDecodeMNIST) ... ok\n",
      "test_encoder_output_len (__main__.TestEncodeDecodeMNIST) ... ok\n",
      "test_encoding_stage_shape (__main__.TestEncodeDecodeMNIST) ... ok\n",
      "test_images (__main__.TestEncodeDecodeMNIST) ... ok\n",
      "test_input_stage_shape (__main__.TestEncodeDecodeMNIST) ... ok\n",
      "\n",
      "----------------------------------------------------------------------\n",
      "Ran 6 tests in 0.012s\n",
      "\n",
      "OK\n"
     ]
    },
    {
     "data": {
      "text/plain": [
       "<unittest.runner.TextTestResult run=6 errors=0 failures=0>"
      ]
     },
     "execution_count": 18,
     "metadata": {},
     "output_type": "execute_result"
    }
   ],
   "source": [
    "suite = unittest.TestLoader().loadTestsFromTestCase(TestEncodeDecodeMNIST)\n",
    "unittest.TextTestRunner(verbosity=2).run(suite)"
   ]
  },
  {
   "cell_type": "code",
   "execution_count": null,
   "metadata": {},
   "outputs": [],
   "source": []
  },
  {
   "cell_type": "code",
   "execution_count": null,
   "metadata": {},
   "outputs": [],
   "source": []
  },
  {
   "cell_type": "code",
   "execution_count": null,
   "metadata": {},
   "outputs": [],
   "source": []
  },
  {
   "cell_type": "code",
   "execution_count": null,
   "metadata": {},
   "outputs": [],
   "source": []
  }
 ],
 "metadata": {
  "kernelspec": {
   "display_name": "Python 3",
   "language": "python",
   "name": "python3"
  },
  "language_info": {
   "codemirror_mode": {
    "name": "ipython",
    "version": 3
   },
   "file_extension": ".py",
   "mimetype": "text/x-python",
   "name": "python",
   "nbconvert_exporter": "python",
   "pygments_lexer": "ipython3",
   "version": "3.6.8"
  }
 },
 "nbformat": 4,
 "nbformat_minor": 2
}
