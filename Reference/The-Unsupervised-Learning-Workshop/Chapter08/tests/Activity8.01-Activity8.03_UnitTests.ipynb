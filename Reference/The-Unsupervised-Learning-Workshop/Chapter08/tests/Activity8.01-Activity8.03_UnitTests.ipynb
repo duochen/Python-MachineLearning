{
 "cells": [
  {
   "cell_type": "markdown",
   "metadata": {},
   "source": [
    "# CH. 8 - Market Basket Analysis\n",
    "## Activities"
   ]
  },
  {
   "cell_type": "markdown",
   "metadata": {},
   "source": [
    "#### Activity 8.01: Load and Prep Full Online Retail Data"
   ]
  },
  {
   "cell_type": "code",
   "execution_count": 1,
   "metadata": {},
   "outputs": [],
   "source": [
    "import matplotlib.pyplot as plt\n",
    "import mlxtend.frequent_patterns\n",
    "import mlxtend.preprocessing\n",
    "import numpy\n",
    "import pandas"
   ]
  },
  {
   "cell_type": "code",
   "execution_count": 2,
   "metadata": {},
   "outputs": [],
   "source": [
    "online = pandas.read_excel(\n",
    "    io=\"~/Desktop/Online Retail.xlsx\", \n",
    "    sheet_name=\"Online Retail\", \n",
    "    header=0\n",
    ")"
   ]
  },
  {
   "cell_type": "code",
   "execution_count": 3,
   "metadata": {},
   "outputs": [],
   "source": [
    "online['IsCPresent'] = (\n",
    "    online['InvoiceNo']\n",
    "    .astype(str)\n",
    "    .apply(lambda x: 1 if x.find('C') != -1 else 0)\n",
    ")"
   ]
  },
  {
   "cell_type": "code",
   "execution_count": 4,
   "metadata": {},
   "outputs": [],
   "source": [
    "online1 = (\n",
    "    online\n",
    "    .loc[online[\"Quantity\"] > 0]\n",
    "    .loc[online['IsCPresent'] != 1]\n",
    "    .loc[:, [\"InvoiceNo\", \"Description\"]]\n",
    "    .dropna()\n",
    ")"
   ]
  },
  {
   "cell_type": "code",
   "execution_count": 5,
   "metadata": {},
   "outputs": [],
   "source": [
    "invoice_item_list = []\n",
    "for num in list(set(online1.InvoiceNo.tolist())):\n",
    "    tmp_df = online1.loc[online1['InvoiceNo'] == num]\n",
    "    tmp_items = tmp_df.Description.tolist()\n",
    "    invoice_item_list.append(tmp_items)"
   ]
  },
  {
   "cell_type": "code",
   "execution_count": 6,
   "metadata": {},
   "outputs": [],
   "source": [
    "online_encoder = mlxtend.preprocessing.TransactionEncoder()\n",
    "online_encoder_array = online_encoder.fit_transform(invoice_item_list)"
   ]
  },
  {
   "cell_type": "code",
   "execution_count": 7,
   "metadata": {},
   "outputs": [],
   "source": [
    "online_encoder_df = pandas.DataFrame(\n",
    "    online_encoder_array, \n",
    "    columns=online_encoder.columns_\n",
    ")"
   ]
  },
  {
   "cell_type": "code",
   "execution_count": 8,
   "metadata": {},
   "outputs": [
    {
     "data": {
      "text/html": [
       "<div>\n",
       "<style scoped>\n",
       "    .dataframe tbody tr th:only-of-type {\n",
       "        vertical-align: middle;\n",
       "    }\n",
       "\n",
       "    .dataframe tbody tr th {\n",
       "        vertical-align: top;\n",
       "    }\n",
       "\n",
       "    .dataframe thead th {\n",
       "        text-align: right;\n",
       "    }\n",
       "</style>\n",
       "<table border=\"1\" class=\"dataframe\">\n",
       "  <thead>\n",
       "    <tr style=\"text-align: right;\">\n",
       "      <th></th>\n",
       "      <th>6 CHOCOLATE LOVE HEART T-LIGHTS</th>\n",
       "      <th>6 EGG HOUSE PAINTED WOOD</th>\n",
       "      <th>6 GIFT TAGS 50'S CHRISTMAS</th>\n",
       "      <th>6 GIFT TAGS VINTAGE CHRISTMAS</th>\n",
       "      <th>6 RIBBONS ELEGANT CHRISTMAS</th>\n",
       "      <th>6 RIBBONS EMPIRE</th>\n",
       "      <th>6 RIBBONS RUSTIC CHARM</th>\n",
       "      <th>6 RIBBONS SHIMMERING PINKS</th>\n",
       "      <th>6 ROCKET BALLOONS</th>\n",
       "      <th>60 CAKE CASES DOLLY GIRL DESIGN</th>\n",
       "    </tr>\n",
       "  </thead>\n",
       "  <tbody>\n",
       "    <tr>\n",
       "      <td>20125</td>\n",
       "      <td>False</td>\n",
       "      <td>False</td>\n",
       "      <td>False</td>\n",
       "      <td>True</td>\n",
       "      <td>False</td>\n",
       "      <td>False</td>\n",
       "      <td>False</td>\n",
       "      <td>False</td>\n",
       "      <td>False</td>\n",
       "      <td>False</td>\n",
       "    </tr>\n",
       "    <tr>\n",
       "      <td>20126</td>\n",
       "      <td>False</td>\n",
       "      <td>False</td>\n",
       "      <td>False</td>\n",
       "      <td>False</td>\n",
       "      <td>True</td>\n",
       "      <td>False</td>\n",
       "      <td>False</td>\n",
       "      <td>False</td>\n",
       "      <td>False</td>\n",
       "      <td>False</td>\n",
       "    </tr>\n",
       "    <tr>\n",
       "      <td>20127</td>\n",
       "      <td>False</td>\n",
       "      <td>False</td>\n",
       "      <td>False</td>\n",
       "      <td>False</td>\n",
       "      <td>False</td>\n",
       "      <td>False</td>\n",
       "      <td>False</td>\n",
       "      <td>False</td>\n",
       "      <td>False</td>\n",
       "      <td>False</td>\n",
       "    </tr>\n",
       "    <tr>\n",
       "      <td>20128</td>\n",
       "      <td>False</td>\n",
       "      <td>False</td>\n",
       "      <td>False</td>\n",
       "      <td>False</td>\n",
       "      <td>False</td>\n",
       "      <td>False</td>\n",
       "      <td>False</td>\n",
       "      <td>False</td>\n",
       "      <td>False</td>\n",
       "      <td>False</td>\n",
       "    </tr>\n",
       "    <tr>\n",
       "      <td>20129</td>\n",
       "      <td>True</td>\n",
       "      <td>False</td>\n",
       "      <td>False</td>\n",
       "      <td>False</td>\n",
       "      <td>False</td>\n",
       "      <td>False</td>\n",
       "      <td>False</td>\n",
       "      <td>False</td>\n",
       "      <td>False</td>\n",
       "      <td>False</td>\n",
       "    </tr>\n",
       "    <tr>\n",
       "      <td>20130</td>\n",
       "      <td>True</td>\n",
       "      <td>False</td>\n",
       "      <td>False</td>\n",
       "      <td>False</td>\n",
       "      <td>False</td>\n",
       "      <td>False</td>\n",
       "      <td>False</td>\n",
       "      <td>False</td>\n",
       "      <td>False</td>\n",
       "      <td>False</td>\n",
       "    </tr>\n",
       "    <tr>\n",
       "      <td>20131</td>\n",
       "      <td>False</td>\n",
       "      <td>False</td>\n",
       "      <td>False</td>\n",
       "      <td>False</td>\n",
       "      <td>False</td>\n",
       "      <td>False</td>\n",
       "      <td>False</td>\n",
       "      <td>False</td>\n",
       "      <td>False</td>\n",
       "      <td>False</td>\n",
       "    </tr>\n",
       "    <tr>\n",
       "      <td>20132</td>\n",
       "      <td>False</td>\n",
       "      <td>False</td>\n",
       "      <td>False</td>\n",
       "      <td>False</td>\n",
       "      <td>False</td>\n",
       "      <td>False</td>\n",
       "      <td>False</td>\n",
       "      <td>False</td>\n",
       "      <td>False</td>\n",
       "      <td>False</td>\n",
       "    </tr>\n",
       "    <tr>\n",
       "      <td>20133</td>\n",
       "      <td>False</td>\n",
       "      <td>False</td>\n",
       "      <td>False</td>\n",
       "      <td>False</td>\n",
       "      <td>False</td>\n",
       "      <td>False</td>\n",
       "      <td>False</td>\n",
       "      <td>False</td>\n",
       "      <td>False</td>\n",
       "      <td>False</td>\n",
       "    </tr>\n",
       "    <tr>\n",
       "      <td>20134</td>\n",
       "      <td>False</td>\n",
       "      <td>False</td>\n",
       "      <td>False</td>\n",
       "      <td>False</td>\n",
       "      <td>False</td>\n",
       "      <td>False</td>\n",
       "      <td>False</td>\n",
       "      <td>False</td>\n",
       "      <td>False</td>\n",
       "      <td>False</td>\n",
       "    </tr>\n",
       "    <tr>\n",
       "      <td>20135</td>\n",
       "      <td>False</td>\n",
       "      <td>False</td>\n",
       "      <td>False</td>\n",
       "      <td>False</td>\n",
       "      <td>False</td>\n",
       "      <td>False</td>\n",
       "      <td>False</td>\n",
       "      <td>False</td>\n",
       "      <td>False</td>\n",
       "      <td>False</td>\n",
       "    </tr>\n",
       "  </tbody>\n",
       "</table>\n",
       "</div>"
      ],
      "text/plain": [
       "       6 CHOCOLATE LOVE HEART T-LIGHTS  6 EGG HOUSE PAINTED WOOD  \\\n",
       "20125                            False                     False   \n",
       "20126                            False                     False   \n",
       "20127                            False                     False   \n",
       "20128                            False                     False   \n",
       "20129                             True                     False   \n",
       "20130                             True                     False   \n",
       "20131                            False                     False   \n",
       "20132                            False                     False   \n",
       "20133                            False                     False   \n",
       "20134                            False                     False   \n",
       "20135                            False                     False   \n",
       "\n",
       "       6 GIFT TAGS 50'S CHRISTMAS   6 GIFT TAGS VINTAGE CHRISTMAS   \\\n",
       "20125                        False                            True   \n",
       "20126                        False                           False   \n",
       "20127                        False                           False   \n",
       "20128                        False                           False   \n",
       "20129                        False                           False   \n",
       "20130                        False                           False   \n",
       "20131                        False                           False   \n",
       "20132                        False                           False   \n",
       "20133                        False                           False   \n",
       "20134                        False                           False   \n",
       "20135                        False                           False   \n",
       "\n",
       "       6 RIBBONS ELEGANT CHRISTMAS   6 RIBBONS EMPIRE    \\\n",
       "20125                         False               False   \n",
       "20126                          True               False   \n",
       "20127                         False               False   \n",
       "20128                         False               False   \n",
       "20129                         False               False   \n",
       "20130                         False               False   \n",
       "20131                         False               False   \n",
       "20132                         False               False   \n",
       "20133                         False               False   \n",
       "20134                         False               False   \n",
       "20135                         False               False   \n",
       "\n",
       "       6 RIBBONS RUSTIC CHARM  6 RIBBONS SHIMMERING PINKS   \\\n",
       "20125                   False                        False   \n",
       "20126                   False                        False   \n",
       "20127                   False                        False   \n",
       "20128                   False                        False   \n",
       "20129                   False                        False   \n",
       "20130                   False                        False   \n",
       "20131                   False                        False   \n",
       "20132                   False                        False   \n",
       "20133                   False                        False   \n",
       "20134                   False                        False   \n",
       "20135                   False                        False   \n",
       "\n",
       "       6 ROCKET BALLOONS   60 CAKE CASES DOLLY GIRL DESIGN  \n",
       "20125               False                            False  \n",
       "20126               False                            False  \n",
       "20127               False                            False  \n",
       "20128               False                            False  \n",
       "20129               False                            False  \n",
       "20130               False                            False  \n",
       "20131               False                            False  \n",
       "20132               False                            False  \n",
       "20133               False                            False  \n",
       "20134               False                            False  \n",
       "20135               False                            False  "
      ]
     },
     "execution_count": 8,
     "metadata": {},
     "output_type": "execute_result"
    }
   ],
   "source": [
    "## COL in different order\n",
    "online_encoder_df.loc[\n",
    "    20125:20135, \n",
    "    online_encoder_df.columns.tolist()[100:110]\n",
    "]"
   ]
  },
  {
   "cell_type": "code",
   "execution_count": null,
   "metadata": {},
   "outputs": [],
   "source": [
    "# Activity 8.01 Unit Test\n",
    "\n",
    "def unittest_activity_8_01(df):\n",
    "    df_shape = df.shape\n",
    "    assert df_shape == (20136, 4077), \"Dimension mismatch\"\n",
    "    \n",
    "    unique_vals = list(set(df.nunique().values.tolist()))[0]\n",
    "    assert unique_vals == 2, \"Too many unique values\"\n",
    "\n",
    "unittest_activity_8_01(df=online_encoder_df)"
   ]
  },
  {
   "cell_type": "markdown",
   "metadata": {},
   "source": [
    "#### Activity 8.02: Apriori on the Complete Online Retail Data Set"
   ]
  },
  {
   "cell_type": "code",
   "execution_count": 16,
   "metadata": {},
   "outputs": [
    {
     "data": {
      "text/html": [
       "<div>\n",
       "<style scoped>\n",
       "    .dataframe tbody tr th:only-of-type {\n",
       "        vertical-align: middle;\n",
       "    }\n",
       "\n",
       "    .dataframe tbody tr th {\n",
       "        vertical-align: top;\n",
       "    }\n",
       "\n",
       "    .dataframe thead th {\n",
       "        text-align: right;\n",
       "    }\n",
       "</style>\n",
       "<table border=\"1\" class=\"dataframe\">\n",
       "  <thead>\n",
       "    <tr style=\"text-align: right;\">\n",
       "      <th></th>\n",
       "      <th>support</th>\n",
       "      <th>itemsets</th>\n",
       "    </tr>\n",
       "  </thead>\n",
       "  <tbody>\n",
       "    <tr>\n",
       "      <td>0</td>\n",
       "      <td>0.013359</td>\n",
       "      <td>( SET 2 TEA TOWELS I LOVE LONDON )</td>\n",
       "    </tr>\n",
       "    <tr>\n",
       "      <td>1</td>\n",
       "      <td>0.015793</td>\n",
       "      <td>(10 COLOUR SPACEBOY PEN)</td>\n",
       "    </tr>\n",
       "    <tr>\n",
       "      <td>2</td>\n",
       "      <td>0.012465</td>\n",
       "      <td>(12 MESSAGE CARDS WITH ENVELOPES)</td>\n",
       "    </tr>\n",
       "    <tr>\n",
       "      <td>3</td>\n",
       "      <td>0.017630</td>\n",
       "      <td>(12 PENCIL SMALL TUBE WOODLAND)</td>\n",
       "    </tr>\n",
       "    <tr>\n",
       "      <td>4</td>\n",
       "      <td>0.017978</td>\n",
       "      <td>(12 PENCILS SMALL TUBE RED RETROSPOT)</td>\n",
       "    </tr>\n",
       "    <tr>\n",
       "      <td>5</td>\n",
       "      <td>0.017630</td>\n",
       "      <td>(12 PENCILS SMALL TUBE SKULL)</td>\n",
       "    </tr>\n",
       "    <tr>\n",
       "      <td>6</td>\n",
       "      <td>0.013309</td>\n",
       "      <td>(12 PENCILS TALL TUBE RED RETROSPOT)</td>\n",
       "    </tr>\n",
       "  </tbody>\n",
       "</table>\n",
       "</div>"
      ],
      "text/plain": [
       "    support                               itemsets\n",
       "0  0.013359     ( SET 2 TEA TOWELS I LOVE LONDON )\n",
       "1  0.015793               (10 COLOUR SPACEBOY PEN)\n",
       "2  0.012465      (12 MESSAGE CARDS WITH ENVELOPES)\n",
       "3  0.017630        (12 PENCIL SMALL TUBE WOODLAND)\n",
       "4  0.017978  (12 PENCILS SMALL TUBE RED RETROSPOT)\n",
       "5  0.017630          (12 PENCILS SMALL TUBE SKULL)\n",
       "6  0.013309   (12 PENCILS TALL TUBE RED RETROSPOT)"
      ]
     },
     "execution_count": 16,
     "metadata": {},
     "output_type": "execute_result"
    }
   ],
   "source": [
    "mod_colnames_minsupport = mlxtend.frequent_patterns.apriori(\n",
    "    online_encoder_df, \n",
    "    min_support=0.01,\n",
    "    use_colnames=True\n",
    ")\n",
    "mod_colnames_minsupport.loc[0:6]"
   ]
  },
  {
   "cell_type": "code",
   "execution_count": 17,
   "metadata": {},
   "outputs": [
    {
     "data": {
      "text/html": [
       "<div>\n",
       "<style scoped>\n",
       "    .dataframe tbody tr th:only-of-type {\n",
       "        vertical-align: middle;\n",
       "    }\n",
       "\n",
       "    .dataframe tbody tr th {\n",
       "        vertical-align: top;\n",
       "    }\n",
       "\n",
       "    .dataframe thead th {\n",
       "        text-align: right;\n",
       "    }\n",
       "</style>\n",
       "<table border=\"1\" class=\"dataframe\">\n",
       "  <thead>\n",
       "    <tr style=\"text-align: right;\">\n",
       "      <th></th>\n",
       "      <th>support</th>\n",
       "      <th>itemsets</th>\n",
       "    </tr>\n",
       "  </thead>\n",
       "  <tbody>\n",
       "  </tbody>\n",
       "</table>\n",
       "</div>"
      ],
      "text/plain": [
       "Empty DataFrame\n",
       "Columns: [support, itemsets]\n",
       "Index: []"
      ]
     },
     "execution_count": 17,
     "metadata": {},
     "output_type": "execute_result"
    }
   ],
   "source": [
    "mod_colnames_minsupport[\n",
    "    mod_colnames_minsupport['itemsets'] == frozenset(\n",
    "        {'ANTIQUE SILVER TEA GLASS ETCHED', 'REGENCY CAKESTAND 3 TIER'}\n",
    "    )\n",
    "]"
   ]
  },
  {
   "cell_type": "code",
   "execution_count": 18,
   "metadata": {},
   "outputs": [],
   "source": [
    "mod_colnames_minsupport['length'] = (\n",
    "    mod_colnames_minsupport['itemsets'].apply(lambda x: len(x))\n",
    ")"
   ]
  },
  {
   "cell_type": "code",
   "execution_count": 19,
   "metadata": {},
   "outputs": [
    {
     "data": {
      "text/html": [
       "<div>\n",
       "<style scoped>\n",
       "    .dataframe tbody tr th:only-of-type {\n",
       "        vertical-align: middle;\n",
       "    }\n",
       "\n",
       "    .dataframe tbody tr th {\n",
       "        vertical-align: top;\n",
       "    }\n",
       "\n",
       "    .dataframe thead th {\n",
       "        text-align: right;\n",
       "    }\n",
       "</style>\n",
       "<table border=\"1\" class=\"dataframe\">\n",
       "  <thead>\n",
       "    <tr style=\"text-align: right;\">\n",
       "      <th></th>\n",
       "      <th>support</th>\n",
       "      <th>itemsets</th>\n",
       "      <th>length</th>\n",
       "    </tr>\n",
       "  </thead>\n",
       "  <tbody>\n",
       "    <tr>\n",
       "      <td>836</td>\n",
       "      <td>0.020759</td>\n",
       "      <td>(ALARM CLOCK BAKELIKE GREEN, ALARM CLOCK BAKEL...</td>\n",
       "      <td>2</td>\n",
       "    </tr>\n",
       "    <tr>\n",
       "      <td>887</td>\n",
       "      <td>0.020362</td>\n",
       "      <td>(CHARLOTTE BAG PINK POLKADOT, CHARLOTTE BAG SU...</td>\n",
       "      <td>2</td>\n",
       "    </tr>\n",
       "    <tr>\n",
       "      <td>923</td>\n",
       "      <td>0.020610</td>\n",
       "      <td>(CHARLOTTE BAG SUKI DESIGN, STRAWBERRY CHARLOT...</td>\n",
       "      <td>2</td>\n",
       "    </tr>\n",
       "    <tr>\n",
       "      <td>1105</td>\n",
       "      <td>0.020560</td>\n",
       "      <td>(JUMBO BAG PINK POLKADOT, JUMBO  BAG BAROQUE B...</td>\n",
       "      <td>2</td>\n",
       "    </tr>\n",
       "    <tr>\n",
       "      <td>1114</td>\n",
       "      <td>0.020908</td>\n",
       "      <td>(JUMBO SHOPPER VINTAGE RED PAISLEY, JUMBO  BAG...</td>\n",
       "      <td>2</td>\n",
       "    </tr>\n",
       "    <tr>\n",
       "      <td>1116</td>\n",
       "      <td>0.020957</td>\n",
       "      <td>(JUMBO STORAGE BAG SUKI, JUMBO  BAG BAROQUE BL...</td>\n",
       "      <td>2</td>\n",
       "    </tr>\n",
       "    <tr>\n",
       "      <td>1129</td>\n",
       "      <td>0.020560</td>\n",
       "      <td>(JUMBO BAG RED RETROSPOT, JUMBO BAG ALPHABET)</td>\n",
       "      <td>2</td>\n",
       "    </tr>\n",
       "    <tr>\n",
       "      <td>1137</td>\n",
       "      <td>0.020163</td>\n",
       "      <td>(JUMBO BAG APPLES, JUMBO BAG PEARS)</td>\n",
       "      <td>2</td>\n",
       "    </tr>\n",
       "    <tr>\n",
       "      <td>1203</td>\n",
       "      <td>0.020709</td>\n",
       "      <td>(JUMBO BAG PINK VINTAGE PAISLEY, JUMBO SHOPPER...</td>\n",
       "      <td>2</td>\n",
       "    </tr>\n",
       "    <tr>\n",
       "      <td>1218</td>\n",
       "      <td>0.020560</td>\n",
       "      <td>(JUMBO STORAGE BAG SKULLS, JUMBO BAG RED RETRO...</td>\n",
       "      <td>2</td>\n",
       "    </tr>\n",
       "    <tr>\n",
       "      <td>1236</td>\n",
       "      <td>0.020610</td>\n",
       "      <td>(RECYCLING BAG RETROSPOT , JUMBO BAG RED RETRO...</td>\n",
       "      <td>2</td>\n",
       "    </tr>\n",
       "    <tr>\n",
       "      <td>1328</td>\n",
       "      <td>0.020610</td>\n",
       "      <td>(LUNCH BAG  BLACK SKULL., LUNCH BAG APPLE DESIGN)</td>\n",
       "      <td>2</td>\n",
       "    </tr>\n",
       "    <tr>\n",
       "      <td>1390</td>\n",
       "      <td>0.020610</td>\n",
       "      <td>(LUNCH BAG PINK POLKADOT, LUNCH BAG SUKI DESIGN )</td>\n",
       "      <td>2</td>\n",
       "    </tr>\n",
       "    <tr>\n",
       "      <td>1458</td>\n",
       "      <td>0.020610</td>\n",
       "      <td>(NATURAL SLATE HEART CHALKBOARD , WHITE HANGIN...</td>\n",
       "      <td>2</td>\n",
       "    </tr>\n",
       "    <tr>\n",
       "      <td>1581</td>\n",
       "      <td>0.020362</td>\n",
       "      <td>(SET OF 3 CAKE TINS PANTRY DESIGN , SET OF 6 S...</td>\n",
       "      <td>2</td>\n",
       "    </tr>\n",
       "    <tr>\n",
       "      <td>1607</td>\n",
       "      <td>0.020163</td>\n",
       "      <td>(WOODLAND CHARLOTTE BAG, STRAWBERRY CHARLOTTE ...</td>\n",
       "      <td>2</td>\n",
       "    </tr>\n",
       "    <tr>\n",
       "      <td>1615</td>\n",
       "      <td>0.020262</td>\n",
       "      <td>(WOODEN PICTURE FRAME WHITE FINISH, WHITE HANG...</td>\n",
       "      <td>2</td>\n",
       "    </tr>\n",
       "  </tbody>\n",
       "</table>\n",
       "</div>"
      ],
      "text/plain": [
       "       support                                           itemsets  length\n",
       "836   0.020759  (ALARM CLOCK BAKELIKE GREEN, ALARM CLOCK BAKEL...       2\n",
       "887   0.020362  (CHARLOTTE BAG PINK POLKADOT, CHARLOTTE BAG SU...       2\n",
       "923   0.020610  (CHARLOTTE BAG SUKI DESIGN, STRAWBERRY CHARLOT...       2\n",
       "1105  0.020560  (JUMBO BAG PINK POLKADOT, JUMBO  BAG BAROQUE B...       2\n",
       "1114  0.020908  (JUMBO SHOPPER VINTAGE RED PAISLEY, JUMBO  BAG...       2\n",
       "1116  0.020957  (JUMBO STORAGE BAG SUKI, JUMBO  BAG BAROQUE BL...       2\n",
       "1129  0.020560      (JUMBO BAG RED RETROSPOT, JUMBO BAG ALPHABET)       2\n",
       "1137  0.020163                (JUMBO BAG APPLES, JUMBO BAG PEARS)       2\n",
       "1203  0.020709  (JUMBO BAG PINK VINTAGE PAISLEY, JUMBO SHOPPER...       2\n",
       "1218  0.020560  (JUMBO STORAGE BAG SKULLS, JUMBO BAG RED RETRO...       2\n",
       "1236  0.020610  (RECYCLING BAG RETROSPOT , JUMBO BAG RED RETRO...       2\n",
       "1328  0.020610  (LUNCH BAG  BLACK SKULL., LUNCH BAG APPLE DESIGN)       2\n",
       "1390  0.020610  (LUNCH BAG PINK POLKADOT, LUNCH BAG SUKI DESIGN )       2\n",
       "1458  0.020610  (NATURAL SLATE HEART CHALKBOARD , WHITE HANGIN...       2\n",
       "1581  0.020362  (SET OF 3 CAKE TINS PANTRY DESIGN , SET OF 6 S...       2\n",
       "1607  0.020163  (WOODLAND CHARLOTTE BAG, STRAWBERRY CHARLOTTE ...       2\n",
       "1615  0.020262  (WOODEN PICTURE FRAME WHITE FINISH, WHITE HANG...       2"
      ]
     },
     "execution_count": 19,
     "metadata": {},
     "output_type": "execute_result"
    }
   ],
   "source": [
    "## item set order different\n",
    "\n",
    "mod_colnames_minsupport[\n",
    "    (mod_colnames_minsupport['length'] == 2) & \n",
    "    (mod_colnames_minsupport['support'] >= 0.02) &\n",
    "    (mod_colnames_minsupport['support'] < 0.021)\n",
    "]"
   ]
  },
  {
   "cell_type": "code",
   "execution_count": 20,
   "metadata": {},
   "outputs": [
    {
     "data": {
      "text/plain": [
       "Text(0.5, 1.0, 'Support')"
      ]
     },
     "execution_count": 20,
     "metadata": {},
     "output_type": "execute_result"
    },
    {
     "data": {
      "image/png": "[encoded data removed]",
      "text/plain": [
       "<Figure size 432x288 with 1 Axes>"
      ]
     },
     "metadata": {
      "needs_background": "light"
     },
     "output_type": "display_data"
    }
   ],
   "source": [
    "mod_colnames_minsupport.hist(\"support\", grid=False, bins=30)\n",
    "plt.title(\"Support\")"
   ]
  },
  {
   "cell_type": "code",
   "execution_count": null,
   "metadata": {},
   "outputs": [],
   "source": [
    "# Activity 8.02 Unit Test\n",
    "\n",
    "def unittest_activity_8_02(df):\n",
    "    df_shape = df.shape\n",
    "    assert df_shape == (1854, 3), \"Dimension mismatch\"\n",
    "    \n",
    "    df_filt_shape = df[(df['length'] == 2) \n",
    "                       & (df['support'] >= 0.02) \n",
    "                       & (df['support'] < 0.021)].shape\n",
    "    assert df_filt_shape == (17, 3), \"Filtered dimension mismatch\"\n",
    "\n",
    "unittest_activity_8_02(df=mod_colnames_minsupport)"
   ]
  },
  {
   "cell_type": "markdown",
   "metadata": {},
   "source": [
    "#### Activity 8.03: Find the Association Rules on the Complete Online Retail Data Set"
   ]
  },
  {
   "cell_type": "code",
   "execution_count": 28,
   "metadata": {},
   "outputs": [
    {
     "data": {
      "text/html": [
       "<div>\n",
       "<style scoped>\n",
       "    .dataframe tbody tr th:only-of-type {\n",
       "        vertical-align: middle;\n",
       "    }\n",
       "\n",
       "    .dataframe tbody tr th {\n",
       "        vertical-align: top;\n",
       "    }\n",
       "\n",
       "    .dataframe thead th {\n",
       "        text-align: right;\n",
       "    }\n",
       "</style>\n",
       "<table border=\"1\" class=\"dataframe\">\n",
       "  <thead>\n",
       "    <tr style=\"text-align: right;\">\n",
       "      <th></th>\n",
       "      <th>antecedents</th>\n",
       "      <th>consequents</th>\n",
       "      <th>antecedent support</th>\n",
       "      <th>consequent support</th>\n",
       "      <th>support</th>\n",
       "      <th>confidence</th>\n",
       "      <th>lift</th>\n",
       "      <th>leverage</th>\n",
       "      <th>conviction</th>\n",
       "    </tr>\n",
       "  </thead>\n",
       "  <tbody>\n",
       "    <tr>\n",
       "      <td>0</td>\n",
       "      <td>(ALARM CLOCK BAKELIKE CHOCOLATE)</td>\n",
       "      <td>(ALARM CLOCK BAKELIKE GREEN)</td>\n",
       "      <td>0.021255</td>\n",
       "      <td>0.048669</td>\n",
       "      <td>0.013756</td>\n",
       "      <td>0.647196</td>\n",
       "      <td>13.297902</td>\n",
       "      <td>0.012722</td>\n",
       "      <td>2.696488</td>\n",
       "    </tr>\n",
       "    <tr>\n",
       "      <td>1</td>\n",
       "      <td>(ALARM CLOCK BAKELIKE CHOCOLATE)</td>\n",
       "      <td>(ALARM CLOCK BAKELIKE RED )</td>\n",
       "      <td>0.021255</td>\n",
       "      <td>0.052195</td>\n",
       "      <td>0.014501</td>\n",
       "      <td>0.682243</td>\n",
       "      <td>13.071023</td>\n",
       "      <td>0.013392</td>\n",
       "      <td>2.982798</td>\n",
       "    </tr>\n",
       "    <tr>\n",
       "      <td>2</td>\n",
       "      <td>(ALARM CLOCK BAKELIKE ORANGE)</td>\n",
       "      <td>(ALARM CLOCK BAKELIKE GREEN)</td>\n",
       "      <td>0.022100</td>\n",
       "      <td>0.048669</td>\n",
       "      <td>0.013558</td>\n",
       "      <td>0.613483</td>\n",
       "      <td>12.605201</td>\n",
       "      <td>0.012482</td>\n",
       "      <td>2.461292</td>\n",
       "    </tr>\n",
       "    <tr>\n",
       "      <td>3</td>\n",
       "      <td>(ALARM CLOCK BAKELIKE GREEN)</td>\n",
       "      <td>(ALARM CLOCK BAKELIKE RED )</td>\n",
       "      <td>0.048669</td>\n",
       "      <td>0.052195</td>\n",
       "      <td>0.031784</td>\n",
       "      <td>0.653061</td>\n",
       "      <td>12.511932</td>\n",
       "      <td>0.029244</td>\n",
       "      <td>2.731908</td>\n",
       "    </tr>\n",
       "    <tr>\n",
       "      <td>4</td>\n",
       "      <td>(ALARM CLOCK BAKELIKE RED )</td>\n",
       "      <td>(ALARM CLOCK BAKELIKE GREEN)</td>\n",
       "      <td>0.052195</td>\n",
       "      <td>0.048669</td>\n",
       "      <td>0.031784</td>\n",
       "      <td>0.608944</td>\n",
       "      <td>12.511932</td>\n",
       "      <td>0.029244</td>\n",
       "      <td>2.432722</td>\n",
       "    </tr>\n",
       "    <tr>\n",
       "      <td>5</td>\n",
       "      <td>(ALARM CLOCK BAKELIKE IVORY)</td>\n",
       "      <td>(ALARM CLOCK BAKELIKE RED )</td>\n",
       "      <td>0.028308</td>\n",
       "      <td>0.052195</td>\n",
       "      <td>0.018524</td>\n",
       "      <td>0.654386</td>\n",
       "      <td>12.537313</td>\n",
       "      <td>0.017047</td>\n",
       "      <td>2.742380</td>\n",
       "    </tr>\n",
       "    <tr>\n",
       "      <td>6</td>\n",
       "      <td>(ALARM CLOCK BAKELIKE ORANGE)</td>\n",
       "      <td>(ALARM CLOCK BAKELIKE RED )</td>\n",
       "      <td>0.022100</td>\n",
       "      <td>0.052195</td>\n",
       "      <td>0.014998</td>\n",
       "      <td>0.678652</td>\n",
       "      <td>13.002217</td>\n",
       "      <td>0.013845</td>\n",
       "      <td>2.949463</td>\n",
       "    </tr>\n",
       "  </tbody>\n",
       "</table>\n",
       "</div>"
      ],
      "text/plain": [
       "                        antecedents                   consequents  \\\n",
       "0  (ALARM CLOCK BAKELIKE CHOCOLATE)  (ALARM CLOCK BAKELIKE GREEN)   \n",
       "1  (ALARM CLOCK BAKELIKE CHOCOLATE)   (ALARM CLOCK BAKELIKE RED )   \n",
       "2     (ALARM CLOCK BAKELIKE ORANGE)  (ALARM CLOCK BAKELIKE GREEN)   \n",
       "3      (ALARM CLOCK BAKELIKE GREEN)   (ALARM CLOCK BAKELIKE RED )   \n",
       "4       (ALARM CLOCK BAKELIKE RED )  (ALARM CLOCK BAKELIKE GREEN)   \n",
       "5      (ALARM CLOCK BAKELIKE IVORY)   (ALARM CLOCK BAKELIKE RED )   \n",
       "6     (ALARM CLOCK BAKELIKE ORANGE)   (ALARM CLOCK BAKELIKE RED )   \n",
       "\n",
       "   antecedent support  consequent support   support  confidence       lift  \\\n",
       "0            0.021255            0.048669  0.013756    0.647196  13.297902   \n",
       "1            0.021255            0.052195  0.014501    0.682243  13.071023   \n",
       "2            0.022100            0.048669  0.013558    0.613483  12.605201   \n",
       "3            0.048669            0.052195  0.031784    0.653061  12.511932   \n",
       "4            0.052195            0.048669  0.031784    0.608944  12.511932   \n",
       "5            0.028308            0.052195  0.018524    0.654386  12.537313   \n",
       "6            0.022100            0.052195  0.014998    0.678652  13.002217   \n",
       "\n",
       "   leverage  conviction  \n",
       "0  0.012722    2.696488  \n",
       "1  0.013392    2.982798  \n",
       "2  0.012482    2.461292  \n",
       "3  0.029244    2.731908  \n",
       "4  0.029244    2.432722  \n",
       "5  0.017047    2.742380  \n",
       "6  0.013845    2.949463  "
      ]
     },
     "execution_count": 28,
     "metadata": {},
     "output_type": "execute_result"
    }
   ],
   "source": [
    "rules = mlxtend.frequent_patterns.association_rules(\n",
    "    mod_colnames_minsupport, \n",
    "    metric=\"confidence\",\n",
    "    min_threshold=0.6, \n",
    "    support_only=False\n",
    ")\n",
    "\n",
    "rules.loc[0:6]"
   ]
  },
  {
   "cell_type": "code",
   "execution_count": 29,
   "metadata": {},
   "outputs": [
    {
     "name": "stdout",
     "output_type": "stream",
     "text": [
      "Number of Associations: 498\n"
     ]
    }
   ],
   "source": [
    "print(\"Number of Associations: {}\".format(rules.shape[0]))"
   ]
  },
  {
   "cell_type": "code",
   "execution_count": 30,
   "metadata": {},
   "outputs": [
    {
     "data": {
      "image/png": "[encoded data removed]",
      "text/plain": [
       "<Figure size 432x288 with 1 Axes>"
      ]
     },
     "metadata": {
      "needs_background": "light"
     },
     "output_type": "display_data"
    }
   ],
   "source": [
    "rules.plot.scatter(\"support\", \"confidence\", alpha=0.5, marker=\"*\")\n",
    "plt.xlabel(\"Support\")\n",
    "plt.ylabel(\"Confidence\")\n",
    "plt.title(\"Association Rules\")\n",
    "plt.show()"
   ]
  },
  {
   "cell_type": "code",
   "execution_count": 31,
   "metadata": {},
   "outputs": [
    {
     "data": {
      "text/plain": [
       "Text(0.5, 1.0, 'Lift')"
      ]
     },
     "execution_count": 31,
     "metadata": {},
     "output_type": "execute_result"
    },
    {
     "data": {
      "image/png": "[encoded data removed]",
      "text/plain": [
       "<Figure size 432x288 with 1 Axes>"
      ]
     },
     "metadata": {
      "needs_background": "light"
     },
     "output_type": "display_data"
    }
   ],
   "source": [
    "rules.hist(\"lift\", grid=False, bins=30)\n",
    "plt.title(\"Lift\")"
   ]
  },
  {
   "cell_type": "code",
   "execution_count": 32,
   "metadata": {},
   "outputs": [
    {
     "data": {
      "text/plain": [
       "Text(0.5, 1.0, 'Leverage')"
      ]
     },
     "execution_count": 32,
     "metadata": {},
     "output_type": "execute_result"
    },
    {
     "data": {
      "image/png": "[encoded data removed]",
      "text/plain": [
       "<Figure size 432x288 with 1 Axes>"
      ]
     },
     "metadata": {
      "needs_background": "light"
     },
     "output_type": "display_data"
    }
   ],
   "source": [
    "rules.hist(\"leverage\", grid=False, bins=30)\n",
    "plt.title(\"Leverage\")"
   ]
  },
  {
   "cell_type": "code",
   "execution_count": 33,
   "metadata": {},
   "outputs": [
    {
     "data": {
      "text/plain": [
       "Text(0.5, 1.0, 'Conviction')"
      ]
     },
     "execution_count": 33,
     "metadata": {},
     "output_type": "execute_result"
    },
    {
     "data": {
      "image/png": "[encoded data removed]",
      "text/plain": [
       "<Figure size 432x288 with 1 Axes>"
      ]
     },
     "metadata": {
      "needs_background": "light"
     },
     "output_type": "display_data"
    }
   ],
   "source": [
    "plt.hist(rules[numpy.isfinite(rules['conviction'])].conviction.values, bins = 30)\n",
    "plt.title(\"Conviction\")"
   ]
  },
  {
   "cell_type": "code",
   "execution_count": null,
   "metadata": {},
   "outputs": [],
   "source": [
    "# Activity 8.03 Unit Test\n",
    "\n",
    "def unittest_activity_8_03(df):\n",
    "    df_shape = df.shape\n",
    "    assert df_shape == (498, 9), \"Dimension mismatch\"\n",
    "    \n",
    "    vals = df[numpy.isfinite(df['conviction'])].conviction.values\n",
    "    vmin = round(numpy.min(vals), 2)\n",
    "    vmax = round(numpy.max(vals), 2)\n",
    "    assert (vmin, vmax) == (2.25, 23.37), \"Conviction incorrect\"\n",
    "\n",
    "unittest_activity_8_03(df=rules)"
   ]
  },
  {
   "cell_type": "code",
   "execution_count": null,
   "metadata": {},
   "outputs": [],
   "source": []
  }
 ],
 "metadata": {
  "kernelspec": {
   "display_name": "Python 3",
   "language": "python",
   "name": "python3"
  },
  "language_info": {
   "codemirror_mode": {
    "name": "ipython",
    "version": 3
   },
   "file_extension": ".py",
   "mimetype": "text/x-python",
   "name": "python",
   "nbconvert_exporter": "python",
   "pygments_lexer": "ipython3",
   "version": "3.7.4"
  }
 },
 "nbformat": 4,
 "nbformat_minor": 2
}
