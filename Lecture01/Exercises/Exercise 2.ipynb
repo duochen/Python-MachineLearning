{
 "cells": [
  {
   "cell_type": "markdown",
   "id": "1b7369b0",
   "metadata": {},
   "source": [
    "# Exercise 2: Dealing with Messy Data"
   ]
  },
  {
   "cell_type": "code",
   "execution_count": 1,
   "id": "60383f31",
   "metadata": {},
   "outputs": [],
   "source": [
    "# Import all the required libraries. Next load the tops dataset\n",
    "# and store it in a variable called tips\n",
    "import seaborn as sns\n",
    "import numpy as np\n",
    "import matplotlib.pyplot as plt\n",
    "tips = sns.load_dataset('tips')"
   ]
  },
  {
   "cell_type": "code",
   "execution_count": 3,
   "id": "624b14ad",
   "metadata": {},
   "outputs": [
    {
     "data": {
      "text/plain": [
       "0     NaN\n",
       "1     NaN\n",
       "2     NaN\n",
       "3     NaN\n",
       "4     NaN\n",
       "5     NaN\n",
       "6     NaN\n",
       "7     NaN\n",
       "8     NaN\n",
       "9     NaN\n",
       "10    NaN\n",
       "11    NaN\n",
       "12    NaN\n",
       "13    NaN\n",
       "14    NaN\n",
       "15    NaN\n",
       "16    3.0\n",
       "17    3.0\n",
       "18    3.0\n",
       "19    3.0\n",
       "Name: size, dtype: float64"
      ]
     },
     "execution_count": 3,
     "metadata": {},
     "output_type": "execute_result"
    }
   ],
   "source": [
    "# Create a variable called size to store the values of that feature from the\n",
    "# dataset. As this dataset does not contain any missing data, we will convert the \n",
    "# top 16 values of the size variable into missing values. Print out the top \n",
    "# 20 values of the age variable\n",
    "size = tips[\"size\"]\n",
    "size.loc[:15] = np.nan\n",
    "size.head(20)"
   ]
  },
  {
   "cell_type": "code",
   "execution_count": 4,
   "id": "d8bf02b4",
   "metadata": {},
   "outputs": [
    {
     "data": {
      "text/plain": [
       "(244,)"
      ]
     },
     "execution_count": 4,
     "metadata": {},
     "output_type": "execute_result"
    }
   ],
   "source": [
    "# Check the shape of the size variable\n",
    "size.shape"
   ]
  },
  {
   "cell_type": "code",
   "execution_count": 5,
   "id": "b5ba8f90",
   "metadata": {},
   "outputs": [
    {
     "data": {
      "text/plain": [
       "16"
      ]
     },
     "execution_count": 5,
     "metadata": {},
     "output_type": "execute_result"
    }
   ],
   "source": [
    "# Now, count the number of NaN values to determine how to handle them. Use the \n",
    "# isnull() function to find the NaN values, and use the sum() function to sum them all.\n",
    "size.isnull().sum()"
   ]
  },
  {
   "cell_type": "code",
   "execution_count": 6,
   "id": "368e9494",
   "metadata": {},
   "outputs": [
    {
     "name": "stdout",
     "output_type": "stream",
     "text": [
      "3\n"
     ]
    }
   ],
   "source": [
    "# Let's choose the mean imputation methodology to replace the missing values. \n",
    "# To do so, compute the mean of the available values.\n",
    "mean = size.mean()\n",
    "mean = round(mean)\n",
    "print(mean)"
   ]
  },
  {
   "cell_type": "code",
   "execution_count": 7,
   "id": "23446298",
   "metadata": {},
   "outputs": [
    {
     "data": {
      "text/plain": [
       "0     3.0\n",
       "1     3.0\n",
       "2     3.0\n",
       "3     3.0\n",
       "4     3.0\n",
       "5     3.0\n",
       "6     3.0\n",
       "7     3.0\n",
       "8     3.0\n",
       "9     3.0\n",
       "10    3.0\n",
       "11    3.0\n",
       "12    3.0\n",
       "13    3.0\n",
       "14    3.0\n",
       "15    3.0\n",
       "16    3.0\n",
       "17    3.0\n",
       "18    3.0\n",
       "19    3.0\n",
       "Name: size, dtype: float64"
      ]
     },
     "execution_count": 7,
     "metadata": {},
     "output_type": "execute_result"
    }
   ],
   "source": [
    "# Replace all missing values with the mean. Use the fillna() function, which takes every \n",
    "# missing value and replaces it with the value that is defined inside the parenthesis. \n",
    "# To check that the values have been replaced, print the first 10 values again.\n",
    "# Note\n",
    "# When inplace is set to True, the original DataFrame is modified.\n",
    "size.fillna(mean, inplace=True)\n",
    "size.head(20)"
   ]
  },
  {
   "cell_type": "code",
   "execution_count": 8,
   "id": "523beb43",
   "metadata": {},
   "outputs": [
    {
     "data": {
      "image/png": "[encoded data removed]",
      "text/plain": [
       "<Figure size 432x288 with 1 Axes>"
      ]
     },
     "metadata": {
      "needs_background": "light"
     },
     "output_type": "display_data"
    }
   ],
   "source": [
    "# Use Matplotlib to graph a histogram of the age variable. Use Matplotlib's hist() function.\n",
    "plt.hist(size)\n",
    "plt.show()"
   ]
  },
  {
   "cell_type": "code",
   "execution_count": 9,
   "id": "ceafc3e5",
   "metadata": {},
   "outputs": [
    {
     "name": "stdout",
     "output_type": "stream",
     "text": [
      "-0.1974349065787404\n"
     ]
    }
   ],
   "source": [
    "# Discover the outliers in the data. Let's use three standard deviations as the \n",
    "# measure to calculate the minimum and maximum values.\n",
    "min_val = size.mean() - (3 * size.std())\n",
    "print(min_val)"
   ]
  },
  {
   "cell_type": "code",
   "execution_count": 10,
   "id": "4d0e8234",
   "metadata": {},
   "outputs": [
    {
     "name": "stdout",
     "output_type": "stream",
     "text": [
      "5.369566054119724\n"
     ]
    }
   ],
   "source": [
    "# Opposite to the min value, for the max value, the standard deviations are added \n",
    "# to the mean to calculate the higher threshold. Calculate the max value, as shown \n",
    "# in the following code, and store it in a variable named max_val.\n",
    "max_val = size.mean() + (3 * size.std())\n",
    "print(max_val)"
   ]
  },
  {
   "cell_type": "code",
   "execution_count": 14,
   "id": "fda771ef",
   "metadata": {},
   "outputs": [
    {
     "data": {
      "text/plain": [
       "4"
      ]
     },
     "execution_count": 14,
     "metadata": {},
     "output_type": "execute_result"
    }
   ],
   "source": [
    "# Count the number of instances that are above the maximum value to decide \n",
    "# how to handle them, as per the instructions given here. \n",
    "# Using indexing, obtain the values in size that are above the max threshold \n",
    "# and store them in a variable called outliers. Then, count the outliers using count().\n",
    "outliers = size[size > max_val]\n",
    "outliers.count()"
   ]
  },
  {
   "cell_type": "code",
   "execution_count": 15,
   "id": "bbea7876",
   "metadata": {},
   "outputs": [
    {
     "name": "stdout",
     "output_type": "stream",
     "text": [
      "125    6.0\n",
      "141    6.0\n",
      "143    6.0\n",
      "156    6.0\n",
      "Name: size, dtype: float64\n"
     ]
    }
   ],
   "source": [
    "# Print out the outliers and check that the correct values were stored.\n",
    "print(outliers)"
   ]
  },
  {
   "cell_type": "code",
   "execution_count": 16,
   "id": "e80cf56a",
   "metadata": {},
   "outputs": [
    {
     "data": {
      "text/plain": [
       "(240,)"
      ]
     },
     "execution_count": 16,
     "metadata": {},
     "output_type": "execute_result"
    }
   ],
   "source": [
    "# Redefine the values stored in size by using indexing to include only values \n",
    "# below the max threshold. Then, print the shape of size.\n",
    "age = size[size <= max_val]\n",
    "age.shape"
   ]
  },
  {
   "cell_type": "code",
   "execution_count": null,
   "id": "6ced0d52",
   "metadata": {},
   "outputs": [],
   "source": []
  }
 ],
 "metadata": {
  "kernelspec": {
   "display_name": "Python 3 (ipykernel)",
   "language": "python",
   "name": "python3"
  },
  "language_info": {
   "codemirror_mode": {
    "name": "ipython",
    "version": 3
   },
   "file_extension": ".py",
   "mimetype": "text/x-python",
   "name": "python",
   "nbconvert_exporter": "python",
   "pygments_lexer": "ipython3",
   "version": "3.9.7"
  }
 },
 "nbformat": 4,
 "nbformat_minor": 5
}
