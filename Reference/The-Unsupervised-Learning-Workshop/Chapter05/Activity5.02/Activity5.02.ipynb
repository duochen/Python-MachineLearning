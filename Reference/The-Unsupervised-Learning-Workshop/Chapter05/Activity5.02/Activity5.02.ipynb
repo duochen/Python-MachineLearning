{
 "cells": [
  {
   "cell_type": "code",
   "execution_count": 1,
   "metadata": {},
   "outputs": [
    {
     "name": "stderr",
     "output_type": "stream",
     "text": [
      "Using TensorFlow backend.\n"
     ]
    }
   ],
   "source": [
    "import pickle\n",
    "import numpy as np\n",
    "import matplotlib.pyplot as plt\n",
    "from keras.models import Model\n",
    "from keras.layers import Input, Dense\n",
    "\n",
    "import tensorflow.python.util.deprecation as deprecation\n",
    "deprecation._PRINT_DEPRECATION_WARNINGS = False"
   ]
  },
  {
   "cell_type": "code",
   "execution_count": 2,
   "metadata": {},
   "outputs": [],
   "source": [
    "with open('mnist.pkl', 'rb') as f:\n",
    "    images = pickle.load(f)['images']"
   ]
  },
  {
   "cell_type": "code",
   "execution_count": 3,
   "metadata": {},
   "outputs": [],
   "source": [
    "images = images.reshape((-1, 28 ** 2))\n",
    "images = images / 255."
   ]
  },
  {
   "cell_type": "code",
   "execution_count": 4,
   "metadata": {},
   "outputs": [],
   "source": [
    "input_stage = Input(shape=(784,))\n",
    "encoding_stage = Dense(100, activation='relu')(input_stage)\n",
    "decoding_stage = Dense(784, activation='sigmoid')(encoding_stage)\n",
    "autoencoder = Model(input_stage, decoding_stage)"
   ]
  },
  {
   "cell_type": "code",
   "execution_count": 5,
   "metadata": {},
   "outputs": [],
   "source": [
    "autoencoder.compile(loss='binary_crossentropy',\n",
    "              optimizer='adadelta')"
   ]
  },
  {
   "cell_type": "code",
   "execution_count": 6,
   "metadata": {},
   "outputs": [
    {
     "name": "stdout",
     "output_type": "stream",
     "text": [
      "Epoch 1/100\n",
      "10000/10000 [==============================] - 3s 293us/step - loss: 0.3173\n",
      "Epoch 2/100\n",
      "10000/10000 [==============================] - 2s 229us/step - loss: 0.2338\n",
      "Epoch 3/100\n",
      "10000/10000 [==============================] - 2s 225us/step - loss: 0.2045\n",
      "Epoch 4/100\n",
      "10000/10000 [==============================] - 2s 233us/step - loss: 0.1859\n",
      "Epoch 5/100\n",
      "10000/10000 [==============================] - 2s 226us/step - loss: 0.1732\n",
      "Epoch 6/100\n",
      "10000/10000 [==============================] - 2s 232us/step - loss: 0.1634\n",
      "Epoch 7/100\n",
      "10000/10000 [==============================] - 2s 238us/step - loss: 0.1555\n",
      "Epoch 8/100\n",
      "10000/10000 [==============================] - 2s 235us/step - loss: 0.1488\n",
      "Epoch 9/100\n",
      "10000/10000 [==============================] - 2s 205us/step - loss: 0.1430\n",
      "Epoch 10/100\n",
      "10000/10000 [==============================] - 2s 233us/step - loss: 0.1380\n",
      "Epoch 11/100\n",
      "10000/10000 [==============================] - 3s 270us/step - loss: 0.1336 \n",
      "Epoch 12/100\n",
      "10000/10000 [==============================] - 2s 238us/step - loss: 0.1296\n",
      "Epoch 13/100\n",
      "10000/10000 [==============================] - 2s 242us/step - loss: 0.1259\n",
      "Epoch 14/100\n",
      "10000/10000 [==============================] - 2s 232us/step - loss: 0.1226\n",
      "Epoch 15/100\n",
      "10000/10000 [==============================] - 2s 232us/step - loss: 0.1194\n",
      "Epoch 16/100\n",
      "10000/10000 [==============================] - 2s 233us/step - loss: 0.1165\n",
      "Epoch 17/100\n",
      "10000/10000 [==============================] - 2s 234us/step - loss: 0.1138\n",
      "Epoch 18/100\n",
      "10000/10000 [==============================] - 2s 240us/step - loss: 0.1112\n",
      "Epoch 19/100\n",
      "10000/10000 [==============================] - 3s 273us/step - loss: 0.1089\n",
      "Epoch 20/100\n",
      "10000/10000 [==============================] - 2s 232us/step - loss: 0.1068\n",
      "Epoch 21/100\n",
      "10000/10000 [==============================] - 2s 234us/step - loss: 0.1049\n",
      "Epoch 22/100\n",
      "10000/10000 [==============================] - 2s 235us/step - loss: 0.1031\n",
      "Epoch 23/100\n",
      "10000/10000 [==============================] - 2s 233us/step - loss: 0.1014\n",
      "Epoch 24/100\n",
      "10000/10000 [==============================] - 3s 258us/step - loss: 0.1000\n",
      "Epoch 25/100\n",
      "10000/10000 [==============================] - 3s 259us/step - loss: 0.0986\n",
      "Epoch 26/100\n",
      "10000/10000 [==============================] - 2s 238us/step - loss: 0.0973\n",
      "Epoch 27/100\n",
      "10000/10000 [==============================] - 2s 239us/step - loss: 0.0962\n",
      "Epoch 28/100\n",
      "10000/10000 [==============================] - 2s 240us/step - loss: 0.0951\n",
      "Epoch 29/100\n",
      "10000/10000 [==============================] - 3s 303us/step - loss: 0.0942\n",
      "Epoch 30/100\n",
      "10000/10000 [==============================] - 3s 276us/step - loss: 0.0932\n",
      "Epoch 31/100\n",
      "10000/10000 [==============================] - 3s 283us/step - loss: 0.0924\n",
      "Epoch 32/100\n",
      "10000/10000 [==============================] - 3s 258us/step - loss: 0.0916\n",
      "Epoch 33/100\n",
      "10000/10000 [==============================] - 3s 278us/step - loss: 0.0909\n",
      "Epoch 34/100\n",
      "10000/10000 [==============================] - 2s 225us/step - loss: 0.0902\n",
      "Epoch 35/100\n",
      "10000/10000 [==============================] - 2s 226us/step - loss: 0.0895\n",
      "Epoch 36/100\n",
      "10000/10000 [==============================] - 2s 229us/step - loss: 0.0890\n",
      "Epoch 37/100\n",
      "10000/10000 [==============================] - 2s 227us/step - loss: 0.0884\n",
      "Epoch 38/100\n",
      "10000/10000 [==============================] - 2s 234us/step - loss: 0.0878\n",
      "Epoch 39/100\n",
      "10000/10000 [==============================] - 2s 229us/step - loss: 0.0873\n",
      "Epoch 40/100\n",
      "10000/10000 [==============================] - 2s 227us/step - loss: 0.0869\n",
      "Epoch 41/100\n",
      "10000/10000 [==============================] - 2s 231us/step - loss: 0.0864\n",
      "Epoch 42/100\n",
      "10000/10000 [==============================] - 3s 251us/step - loss: 0.0860\n",
      "Epoch 43/100\n",
      "10000/10000 [==============================] - 2s 228us/step - loss: 0.0856\n",
      "Epoch 44/100\n",
      "10000/10000 [==============================] - 2s 226us/step - loss: 0.0852\n",
      "Epoch 45/100\n",
      "10000/10000 [==============================] - 2s 228us/step - loss: 0.0848\n",
      "Epoch 46/100\n",
      "10000/10000 [==============================] - 2s 234us/step - loss: 0.0844\n",
      "Epoch 47/100\n",
      "10000/10000 [==============================] - 2s 236us/step - loss: 0.0841\n",
      "Epoch 48/100\n",
      "10000/10000 [==============================] - 2s 230us/step - loss: 0.0838\n",
      "Epoch 49/100\n",
      "10000/10000 [==============================] - 2s 229us/step - loss: 0.0834\n",
      "Epoch 50/100\n",
      "10000/10000 [==============================] - 2s 228us/step - loss: 0.0831\n",
      "Epoch 51/100\n",
      "10000/10000 [==============================] - 2s 237us/step - loss: 0.0828\n",
      "Epoch 52/100\n",
      "10000/10000 [==============================] - 2s 231us/step - loss: 0.0826\n",
      "Epoch 53/100\n",
      "10000/10000 [==============================] - 2s 229us/step - loss: 0.0823\n",
      "Epoch 54/100\n",
      "10000/10000 [==============================] - 2s 235us/step - loss: 0.0820\n",
      "Epoch 55/100\n",
      "10000/10000 [==============================] - 2s 233us/step - loss: 0.0818\n",
      "Epoch 56/100\n",
      "10000/10000 [==============================] - 2s 234us/step - loss: 0.0815\n",
      "Epoch 57/100\n",
      "10000/10000 [==============================] - 2s 228us/step - loss: 0.0813\n",
      "Epoch 58/100\n",
      "10000/10000 [==============================] - 2s 226us/step - loss: 0.0811\n",
      "Epoch 59/100\n",
      "10000/10000 [==============================] - 2s 227us/step - loss: 0.0808\n",
      "Epoch 60/100\n",
      "10000/10000 [==============================] - 3s 268us/step - loss: 0.0806\n",
      "Epoch 61/100\n",
      "10000/10000 [==============================] - 3s 291us/step - loss: 0.0804\n",
      "Epoch 62/100\n",
      "10000/10000 [==============================] - 3s 268us/step - loss: 0.0802\n",
      "Epoch 63/100\n",
      "10000/10000 [==============================] - 3s 273us/step - loss: 0.0800\n",
      "Epoch 64/100\n",
      "10000/10000 [==============================] - 3s 268us/step - loss: 0.0798\n",
      "Epoch 65/100\n",
      "10000/10000 [==============================] - 3s 257us/step - loss: 0.0796\n",
      "Epoch 66/100\n",
      "10000/10000 [==============================] - 3s 257us/step - loss: 0.0794\n",
      "Epoch 67/100\n",
      "10000/10000 [==============================] - 3s 254us/step - loss: 0.0793\n",
      "Epoch 68/100\n",
      "10000/10000 [==============================] - 3s 263us/step - loss: 0.0791\n",
      "Epoch 69/100\n",
      "10000/10000 [==============================] - 3s 260us/step - loss: 0.0789\n",
      "Epoch 70/100\n",
      "10000/10000 [==============================] - 3s 252us/step - loss: 0.0788\n",
      "Epoch 71/100\n",
      "10000/10000 [==============================] - 3s 255us/step - loss: 0.0786\n",
      "Epoch 72/100\n",
      "10000/10000 [==============================] - 3s 256us/step - loss: 0.0784\n",
      "Epoch 73/100\n",
      "10000/10000 [==============================] - 3s 262us/step - loss: 0.0783\n",
      "Epoch 74/100\n",
      "10000/10000 [==============================] - 3s 252us/step - loss: 0.0781\n",
      "Epoch 75/100\n",
      "10000/10000 [==============================] - 3s 258us/step - loss: 0.0780\n",
      "Epoch 76/100\n",
      "10000/10000 [==============================] - 3s 260us/step - loss: 0.0778\n",
      "Epoch 77/100\n",
      "10000/10000 [==============================] - 3s 261us/step - loss: 0.0777\n",
      "Epoch 78/100\n",
      "10000/10000 [==============================] - 3s 256us/step - loss: 0.0776\n",
      "Epoch 79/100\n",
      "10000/10000 [==============================] - 3s 255us/step - loss: 0.0774\n",
      "Epoch 80/100\n",
      "10000/10000 [==============================] - 3s 257us/step - loss: 0.0773\n",
      "Epoch 81/100\n",
      "10000/10000 [==============================] - 3s 278us/step - loss: 0.0772\n",
      "Epoch 82/100\n",
      "10000/10000 [==============================] - 3s 261us/step - loss: 0.0770\n",
      "Epoch 83/100\n",
      "10000/10000 [==============================] - 3s 256us/step - loss: 0.0769\n",
      "Epoch 84/100\n",
      "10000/10000 [==============================] - 3s 256us/step - loss: 0.0768\n",
      "Epoch 85/100\n",
      "10000/10000 [==============================] - 3s 260us/step - loss: 0.0767\n",
      "Epoch 86/100\n",
      "10000/10000 [==============================] - 3s 252us/step - loss: 0.0766\n",
      "Epoch 87/100\n",
      "10000/10000 [==============================] - 3s 261us/step - loss: 0.0765\n",
      "Epoch 88/100\n",
      "10000/10000 [==============================] - 3s 257us/step - loss: 0.0764\n",
      "Epoch 89/100\n",
      "10000/10000 [==============================] - 3s 253us/step - loss: 0.0762\n",
      "Epoch 90/100\n",
      "10000/10000 [==============================] - 3s 257us/step - loss: 0.0761\n",
      "Epoch 91/100\n",
      "10000/10000 [==============================] - ETA: 0s - loss: 0.076 - 3s 255us/step - loss: 0.0760\n",
      "Epoch 92/100\n"
     ]
    },
    {
     "name": "stdout",
     "output_type": "stream",
     "text": [
      "10000/10000 [==============================] - 2s 222us/step - loss: 0.0759\n",
      "Epoch 93/100\n",
      "10000/10000 [==============================] - 2s 227us/step - loss: 0.0758\n",
      "Epoch 94/100\n",
      "10000/10000 [==============================] - 2s 230us/step - loss: 0.0757\n",
      "Epoch 95/100\n",
      "10000/10000 [==============================] - 2s 223us/step - loss: 0.0756\n",
      "Epoch 96/100\n",
      "10000/10000 [==============================] - 2s 225us/step - loss: 0.0755\n",
      "Epoch 97/100\n",
      "10000/10000 [==============================] - 2s 226us/step - loss: 0.0754\n",
      "Epoch 98/100\n",
      "10000/10000 [==============================] - 2s 225us/step - loss: 0.0754\n",
      "Epoch 99/100\n",
      "10000/10000 [==============================] - 2s 225us/step - loss: 0.0753\n",
      "Epoch 100/100\n",
      "10000/10000 [==============================] - 2s 225us/step - loss: 0.0752\n"
     ]
    },
    {
     "data": {
      "text/plain": [
       "<keras.callbacks.History at 0x24da05b2d48>"
      ]
     },
     "execution_count": 6,
     "metadata": {},
     "output_type": "execute_result"
    }
   ],
   "source": [
    "autoencoder.fit(images, images, epochs=100)"
   ]
  },
  {
   "cell_type": "code",
   "execution_count": 7,
   "metadata": {},
   "outputs": [],
   "source": [
    "encoder_output = Model(input_stage, encoding_stage).predict(images[:5])"
   ]
  },
  {
   "cell_type": "code",
   "execution_count": 8,
   "metadata": {},
   "outputs": [],
   "source": [
    "encoder_output = encoder_output.reshape((-1, 10, 10)) * 255"
   ]
  },
  {
   "cell_type": "code",
   "execution_count": 9,
   "metadata": {},
   "outputs": [],
   "source": [
    "decoder_output = autoencoder.predict(images[:5])"
   ]
  },
  {
   "cell_type": "code",
   "execution_count": 10,
   "metadata": {},
   "outputs": [],
   "source": [
    "decoder_output = decoder_output.reshape((-1, 28, 28)) * 255"
   ]
  },
  {
   "cell_type": "code",
   "execution_count": 11,
   "metadata": {},
   "outputs": [
    {
     "data": {
      "image/png": "[encoded data removed]",
      "text/plain": [
       "<Figure size 720x504 with 15 Axes>"
      ]
     },
     "metadata": {
      "needs_background": "light"
     },
     "output_type": "display_data"
    }
   ],
   "source": [
    "images = images.reshape((-1, 28, 28))\n",
    "plt.figure(figsize=(10, 7))\n",
    "for i in range(5):\n",
    "    plt.subplot(3, 5, i + 1)\n",
    "    plt.imshow(images[i], cmap='gray')\n",
    "    plt.axis('off')\n",
    "    \n",
    "    plt.subplot(3, 5, i + 6)\n",
    "    plt.imshow(encoder_output[i], cmap='gray')\n",
    "    plt.axis('off')   \n",
    "    \n",
    "    plt.subplot(3, 5, i + 11)\n",
    "    plt.imshow(decoder_output[i], cmap='gray')\n",
    "    plt.axis('off')        "
   ]
  },
  {
   "cell_type": "code",
   "execution_count": null,
   "metadata": {},
   "outputs": [],
   "source": []
  }
 ],
 "metadata": {
  "kernelspec": {
   "display_name": "Python 3",
   "language": "python",
   "name": "python3"
  },
  "language_info": {
   "codemirror_mode": {
    "name": "ipython",
    "version": 3
   },
   "file_extension": ".py",
   "mimetype": "text/x-python",
   "name": "python",
   "nbconvert_exporter": "python",
   "pygments_lexer": "ipython3",
   "version": "3.7.4"
  }
 },
 "nbformat": 4,
 "nbformat_minor": 2
}
