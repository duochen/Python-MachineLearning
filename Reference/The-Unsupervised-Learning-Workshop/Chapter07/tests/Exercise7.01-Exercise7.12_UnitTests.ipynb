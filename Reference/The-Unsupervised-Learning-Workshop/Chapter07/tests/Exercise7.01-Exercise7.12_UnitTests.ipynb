{
 "cells": [
  {
   "cell_type": "markdown",
   "metadata": {},
   "source": [
    "# CH. 7 - TOPIC MODELS\n",
    "## Exercises"
   ]
  },
  {
   "cell_type": "markdown",
   "metadata": {},
   "source": [
    "#### Exercise 7.01: Load Libraries"
   ]
  },
  {
   "cell_type": "code",
   "execution_count": 1,
   "metadata": {},
   "outputs": [],
   "source": [
    "# not necessary\n",
    "\n",
    "# put this in to block deprecation warnings\n",
    "# from pyLDAvis\n",
    "\n",
    "import warnings\n",
    "warnings.filterwarnings('ignore')"
   ]
  },
  {
   "cell_type": "code",
   "execution_count": 2,
   "metadata": {},
   "outputs": [
    {
     "name": "stderr",
     "output_type": "stream",
     "text": [
      "/opt/anaconda3/lib/python3.7/site-packages/past/builtins/misc.py:4: DeprecationWarning: Using or importing the ABCs from 'collections' instead of from 'collections.abc' is deprecated, and in 3.8 it will stop working\n",
      "  from collections import Mapping\n"
     ]
    }
   ],
   "source": [
    "import langdetect  # language detection\n",
    "import matplotlib.pyplot  # plotting\n",
    "import nltk  # natural language processing\n",
    "import numpy  # arrays and matrices\n",
    "import pandas  # dataframes\n",
    "import pyLDAvis  # plotting\n",
    "import pyLDAvis.sklearn  # plotting\n",
    "import regex  # regular expressions\n",
    "import sklearn  # machine learning\n",
    "import sys"
   ]
  },
  {
   "cell_type": "code",
   "execution_count": 3,
   "metadata": {},
   "outputs": [
    {
     "name": "stderr",
     "output_type": "stream",
     "text": [
      "[nltk_data] Downloading package wordnet to\n",
      "[nltk_data]     /Users/aaronjones/nltk_data...\n",
      "[nltk_data]   Package wordnet is already up-to-date!\n",
      "[nltk_data] Downloading package stopwords to\n",
      "[nltk_data]     /Users/aaronjones/nltk_data...\n",
      "[nltk_data]   Package stopwords is already up-to-date!\n"
     ]
    },
    {
     "data": {
      "text/plain": [
       "True"
      ]
     },
     "execution_count": 3,
     "metadata": {},
     "output_type": "execute_result"
    }
   ],
   "source": [
    "# installing specific word dictionarys\n",
    "# used for stopword removal and lemmatization\n",
    "\n",
    "nltk.download('wordnet')\n",
    "nltk.download('stopwords')"
   ]
  },
  {
   "cell_type": "code",
   "execution_count": 4,
   "metadata": {},
   "outputs": [],
   "source": [
    "%matplotlib inline"
   ]
  },
  {
   "cell_type": "code",
   "execution_count": null,
   "metadata": {},
   "outputs": [],
   "source": [
    "# Exercise 7.01 Unit Test\n",
    "\n",
    "def unittest_exercise_7_01(libs):\n",
    "    for l in libs:\n",
    "        if not l in sys.modules:\n",
    "            raise ValueError(\"The {} module is not installed.\".format(l))\n",
    "\n",
    "list_libraries=[\"warnings\", \"langdetect\", \"matplotlib.pyplot\", \"nltk\", \"numpy\", \n",
    "                \"pandas\", \"pyLDAvis\", \"pyLDAvis.sklearn\", \"regex\", \"sklearn\"]\n",
    "unittest_exercise_7_01(libs=list_libraries)"
   ]
  },
  {
   "cell_type": "markdown",
   "metadata": {},
   "source": [
    "#### Exercise 7.02: Load and Examine Data"
   ]
  },
  {
   "cell_type": "code",
   "execution_count": 6,
   "metadata": {},
   "outputs": [],
   "source": [
    "# define path and load data\n",
    "\n",
    "path = \"~/Documents/packt-data/topic-model-news-final/News_Final.csv\"\n",
    "df = pandas.read_csv(path, header=0)"
   ]
  },
  {
   "cell_type": "code",
   "execution_count": 7,
   "metadata": {},
   "outputs": [],
   "source": [
    "# define quick look function for data frame\n",
    "\n",
    "def dataframe_quick_look(df, nrows):\n",
    "    print(\"SHAPE:\\n{shape}\\n\".format(shape=df.shape))\n",
    "    print(\"COLUMN NAMES:\\n{names}\\n\".format(names=df.columns))\n",
    "    print(\"HEAD:\\n{head}\\n\".format(head=df.head(nrows)))"
   ]
  },
  {
   "cell_type": "code",
   "execution_count": 8,
   "metadata": {},
   "outputs": [
    {
     "name": "stdout",
     "output_type": "stream",
     "text": [
      "SHAPE:\n",
      "(93239, 11)\n",
      "\n",
      "COLUMN NAMES:\n",
      "Index(['IDLink', 'Title', 'Headline', 'Source', 'Topic', 'PublishDate',\n",
      "       'SentimentTitle', 'SentimentHeadline', 'Facebook', 'GooglePlus',\n",
      "       'LinkedIn'],\n",
      "      dtype='object')\n",
      "\n",
      "HEAD:\n",
      "    IDLink                                             Title  \\\n",
      "0  99248.0  Obama Lays Wreath at Arlington National Cemetery   \n",
      "1  10423.0       A Look at the Health of the Chinese Economy   \n",
      "\n",
      "                                            Headline     Source    Topic  \\\n",
      "0  Obama Lays Wreath at Arlington National Cemete...  USA TODAY    obama   \n",
      "1  Tim Haywood, investment director business-unit...  Bloomberg  economy   \n",
      "\n",
      "           PublishDate  SentimentTitle  SentimentHeadline  Facebook  \\\n",
      "0  2002-04-02 00:00:00        0.000000          -0.053300        -1   \n",
      "1  2008-09-20 00:00:00        0.208333          -0.156386        -1   \n",
      "\n",
      "   GooglePlus  LinkedIn  \n",
      "0          -1        -1  \n",
      "1          -1        -1  \n",
      "\n"
     ]
    }
   ],
   "source": [
    "dataframe_quick_look(df, nrows=2)"
   ]
  },
  {
   "cell_type": "code",
   "execution_count": 9,
   "metadata": {},
   "outputs": [
    {
     "name": "stdout",
     "output_type": "stream",
     "text": [
      "TOPICS:\n",
      "economy      33928\n",
      "obama        28610\n",
      "microsoft    21858\n",
      "palestine     8843\n",
      "Name: Topic, dtype: int64\n",
      "\n"
     ]
    }
   ],
   "source": [
    "# data set came with prespecified topics\n",
    "# print the topics out with counts\n",
    "\n",
    "print(\"TOPICS:\\n{topics}\\n\".format(topics=df[\"Topic\"].value_counts()))"
   ]
  },
  {
   "cell_type": "code",
   "execution_count": 10,
   "metadata": {},
   "outputs": [
    {
     "name": "stdout",
     "output_type": "stream",
     "text": [
      "HEADLINES:\n",
      "['Obama Lays Wreath at Arlington National Cemetery. President Barack Obama has laid a wreath at the Tomb of the Unknowns to honor', 'Tim Haywood, investment director business-unit head for fixed income at Gam, discusses the China beige book and the state of the economy.', \"Nouriel Roubini, NYU professor and chairman at Roubini Global Economics, explains why the global economy isn't facing the same conditions\", \"Finland's economy expanded marginally in the three months ended December, after contracting in the previous quarter, preliminary figures from Statistics Finland showed Monday. \", 'Tourism and public spending continued to boost the economy in January, in light of contraction in private consumption and exports, according to the Bank of Thailand data. ']\n",
      "\n",
      "LENGTH:\n",
      "93239\n",
      "\n"
     ]
    }
   ],
   "source": [
    "# lets look at the final data we are going to move forward with\n",
    "\n",
    "raw = df[\"Headline\"].tolist()\n",
    "print(\"HEADLINES:\\n{lines}\\n\".format(lines=raw[:5]))\n",
    "print(\"LENGTH:\\n{length}\\n\".format(length=len(raw)))"
   ]
  },
  {
   "cell_type": "code",
   "execution_count": null,
   "metadata": {},
   "outputs": [],
   "source": [
    "# Exercise 7.02 Unit Test\n",
    "\n",
    "def unittest_exercise_7_02():\n",
    "    try:\n",
    "        df\n",
    "    except NameError:\n",
    "        print(\"No dataframe present.\")\n",
    "\n",
    "unittest_exercise_7_02()"
   ]
  },
  {
   "cell_type": "markdown",
   "metadata": {},
   "source": [
    "#### Exercise 7.03: Step-by-step Data Cleaning"
   ]
  },
  {
   "cell_type": "code",
   "execution_count": 12,
   "metadata": {},
   "outputs": [
    {
     "name": "stdout",
     "output_type": "stream",
     "text": [
      "Over 100 attendees expected to see latest version of Microsoft Dynamics SL and Dynamics GP (PRWeb February 29, 2016) Read the full story at http://www.prweb.com/releases/2016/03/prweb13238571.htm \n"
     ]
    }
   ],
   "source": [
    "# select one headline to use as an example\n",
    "\n",
    "example = raw[5]\n",
    "print(example)"
   ]
  },
  {
   "cell_type": "code",
   "execution_count": 13,
   "metadata": {},
   "outputs": [],
   "source": [
    "# check language of headline\n",
    "# filter to english only\n",
    "\n",
    "def do_language_identifying(txt):\n",
    "    try: the_language = langdetect.detect(txt)\n",
    "    except: the_language = 'none'\n",
    "    return the_language"
   ]
  },
  {
   "cell_type": "code",
   "execution_count": 14,
   "metadata": {},
   "outputs": [
    {
     "name": "stdout",
     "output_type": "stream",
     "text": [
      "DETECTED LANGUAGE:\n",
      "en\n",
      "\n"
     ]
    }
   ],
   "source": [
    "print(\"DETECTED LANGUAGE:\\n{lang}\\n\".format(lang=do_language_identifying(example)))"
   ]
  },
  {
   "cell_type": "code",
   "execution_count": 15,
   "metadata": {},
   "outputs": [
    {
     "name": "stdout",
     "output_type": "stream",
     "text": [
      "['Over', '100', 'attendees', 'expected', 'to', 'see', 'latest', 'version', 'of', 'Microsoft', 'Dynamics', 'SL', 'and', 'Dynamics', 'GP', '(PRWeb', 'February', '29,', '2016)', 'Read', 'the', 'full', 'story', 'at', 'http://www.prweb.com/releases/2016/03/prweb13238571.htm', '']\n"
     ]
    }
   ],
   "source": [
    "# tokenize the data\n",
    "\n",
    "example = example.split(\" \")\n",
    "print(example)"
   ]
  },
  {
   "cell_type": "code",
   "execution_count": 16,
   "metadata": {},
   "outputs": [
    {
     "name": "stdout",
     "output_type": "stream",
     "text": [
      "['Over', '100', 'attendees', 'expected', 'to', 'see', 'latest', 'version', 'of', 'Microsoft', 'Dynamics', 'SL', 'and', 'Dynamics', 'GP', '(PRWeb', 'February', '29,', '2016)', 'Read', 'the', 'full', 'story', 'at', 'URL', '']\n"
     ]
    }
   ],
   "source": [
    "# find and replace website addresses\n",
    "\n",
    "example = [\n",
    "    'URL' if bool(regex.search(\"http[s]?://\", i)) \n",
    "    else i for i in example\n",
    "]\n",
    "print(example)"
   ]
  },
  {
   "cell_type": "code",
   "execution_count": 17,
   "metadata": {},
   "outputs": [
    {
     "name": "stdout",
     "output_type": "stream",
     "text": [
      "['Over', '100', 'attendees', 'expected', 'to', 'see', 'latest', 'version', 'of', 'Microsoft', 'Dynamics', 'SL', 'and', 'Dynamics', 'GP', 'PRWeb', 'February', '29', '2016', 'Read', 'the', 'full', 'story', 'at', 'URL', '']\n"
     ]
    }
   ],
   "source": [
    "# remove punctuation\n",
    "\n",
    "example = [regex.sub(\"[^\\\\w\\\\s]|\\n\", \"\", i) for i in example]\n",
    "print(example)"
   ]
  },
  {
   "cell_type": "code",
   "execution_count": 18,
   "metadata": {},
   "outputs": [
    {
     "name": "stdout",
     "output_type": "stream",
     "text": [
      "['Over', '', 'attendees', 'expected', 'to', 'see', 'latest', 'version', 'of', 'Microsoft', 'Dynamics', 'SL', 'and', 'Dynamics', 'GP', 'PRWeb', 'February', '', '', 'Read', 'the', 'full', 'story', 'at', 'URL', '']\n"
     ]
    }
   ],
   "source": [
    "# remove numbers\n",
    "\n",
    "example = [regex.sub(\"^[0-9]*$\", \"\", i) for i in example]\n",
    "print(example)"
   ]
  },
  {
   "cell_type": "code",
   "execution_count": 19,
   "metadata": {},
   "outputs": [
    {
     "name": "stdout",
     "output_type": "stream",
     "text": [
      "['over', '', 'attendees', 'expected', 'to', 'see', 'latest', 'version', 'of', 'microsoft', 'dynamics', 'sl', 'and', 'dynamics', 'gp', 'prweb', 'february', '', '', 'read', 'the', 'full', 'story', 'at', 'URL', '']\n"
     ]
    }
   ],
   "source": [
    "# make everything lowercase\n",
    "\n",
    "example = [i.lower() if i not in \"URL\" else i for i in example]\n",
    "print(example)"
   ]
  },
  {
   "cell_type": "code",
   "execution_count": 20,
   "metadata": {},
   "outputs": [
    {
     "name": "stdout",
     "output_type": "stream",
     "text": [
      "['over', 'attendees', 'expected', 'to', 'see', 'latest', 'version', 'of', 'microsoft', 'dynamics', 'sl', 'and', 'dynamics', 'gp', 'prweb', 'february', 'read', 'the', 'full', 'story', 'at']\n"
     ]
    }
   ],
   "source": [
    "# remove the url placeholder\n",
    "\n",
    "example = [i for i in example if i not in \"URL\"]\n",
    "print(example)"
   ]
  },
  {
   "cell_type": "code",
   "execution_count": 21,
   "metadata": {},
   "outputs": [
    {
     "name": "stdout",
     "output_type": "stream",
     "text": [
      "['i', 'me', 'my', 'myself', 'we', 'our', 'ours', 'ourselves', 'you', 'youre', 'youve', 'youll', 'youd', 'your', 'yours', 'yourself', 'yourselves', 'he', 'him', 'his', 'himself', 'she', 'shes', 'her', 'hers', 'herself', 'it', 'its', 'its', 'itself', 'they', 'them', 'their', 'theirs', 'themselves', 'what', 'which', 'who', 'whom', 'this', 'that', 'thatll', 'these', 'those', 'am', 'is', 'are', 'was', 'were', 'be', 'been', 'being', 'have', 'has', 'had', 'having', 'do', 'does', 'did', 'doing', 'a', 'an', 'the', 'and', 'but', 'if', 'or', 'because', 'as', 'until', 'while', 'of', 'at', 'by', 'for', 'with', 'about', 'against', 'between', 'into', 'through', 'during', 'before', 'after', 'above', 'below', 'to', 'from', 'up', 'down', 'in', 'out', 'on', 'off', 'over', 'under', 'again', 'further', 'then', 'once', 'here', 'there', 'when', 'where', 'why', 'how', 'all', 'any', 'both', 'each', 'few', 'more', 'most', 'other', 'some', 'such', 'no', 'nor', 'not', 'only', 'own', 'same', 'so', 'than', 'too', 'very', 's', 't', 'can', 'will', 'just', 'don', 'dont', 'should', 'shouldve', 'now', 'd', 'll', 'm', 'o', 're', 've', 'y', 'ain', 'aren', 'arent', 'couldn', 'couldnt', 'didn', 'didnt', 'doesn', 'doesnt', 'hadn', 'hadnt', 'hasn', 'hasnt', 'haven', 'havent', 'isn', 'isnt', 'ma', 'mightn', 'mightnt', 'mustn', 'mustnt', 'needn', 'neednt', 'shan', 'shant', 'shouldn', 'shouldnt', 'wasn', 'wasnt', 'weren', 'werent', 'won', 'wont', 'wouldn', 'wouldnt']\n"
     ]
    }
   ],
   "source": [
    "# remove stopwords\n",
    "# uses stopwords dictionary previously loaded\n",
    "\n",
    "list_stop_words = nltk.corpus.stopwords.words(\"english\")\n",
    "list_stop_words = [regex.sub(\"[^\\\\w\\\\s]\", \"\", i) for i in list_stop_words]\n",
    "print(list_stop_words)"
   ]
  },
  {
   "cell_type": "code",
   "execution_count": 22,
   "metadata": {},
   "outputs": [
    {
     "name": "stdout",
     "output_type": "stream",
     "text": [
      "['attendees', 'expected', 'see', 'latest', 'version', 'microsoft', 'dynamics', 'sl', 'dynamics', 'gp', 'prweb', 'february', 'read', 'full', 'story']\n"
     ]
    }
   ],
   "source": [
    "example = [i for i in example if i not in list_stop_words]\n",
    "print(example)"
   ]
  },
  {
   "cell_type": "code",
   "execution_count": 23,
   "metadata": {},
   "outputs": [],
   "source": [
    "# perform lemmatization\n",
    "# uses wordnet dictionary previously loaded\n",
    "\n",
    "def do_lemmatizing(wrd):\n",
    "    out = nltk.corpus.wordnet.morphy(wrd)\n",
    "    return (wrd if out is None else out)"
   ]
  },
  {
   "cell_type": "code",
   "execution_count": 24,
   "metadata": {},
   "outputs": [
    {
     "name": "stdout",
     "output_type": "stream",
     "text": [
      "['attendee', 'expect', 'see', 'latest', 'version', 'microsoft', 'dynamics', 'sl', 'dynamics', 'gp', 'prweb', 'february', 'read', 'full', 'story']\n"
     ]
    }
   ],
   "source": [
    "example = [do_lemmatizing(i) for i in example]\n",
    "print(example)"
   ]
  },
  {
   "cell_type": "code",
   "execution_count": 25,
   "metadata": {},
   "outputs": [
    {
     "name": "stdout",
     "output_type": "stream",
     "text": [
      "['attendee', 'expect', 'latest', 'version', 'microsoft', 'dynamics', 'dynamics', 'prweb', 'february', 'story']\n"
     ]
    }
   ],
   "source": [
    "# remove words less than 5 characters long\n",
    "\n",
    "example = [i for i in example if len(i) >= 5]\n",
    "print(example)"
   ]
  },
  {
   "cell_type": "code",
   "execution_count": null,
   "metadata": {},
   "outputs": [],
   "source": [
    "# Exercise 7.03 Unit Test\n",
    "\n",
    "def unittest_exercise_7_03(predicted):\n",
    "    actual = ['attendee', 'expect', 'latest', 'version', 'microsoft', \n",
    "              'dynamics', 'dynamics', 'prweb', 'february', 'story']\n",
    "    assert actual == predicted, \"Inputted list does not match expected list.\"\n",
    "\n",
    "unittest_exercise_7_03(predicted=example)"
   ]
  },
  {
   "cell_type": "markdown",
   "metadata": {},
   "source": [
    "#### Exercise 7.04: Complete Data Cleaning"
   ]
  },
  {
   "cell_type": "code",
   "execution_count": 27,
   "metadata": {},
   "outputs": [],
   "source": [
    "# define consolidated data cleaning function\n",
    "\n",
    "def do_headline_cleaning(txt):\n",
    "    # identify language of tweet\n",
    "    # return null if language not english\n",
    "    lg = do_language_identifying(txt)\n",
    "    if lg != 'en':\n",
    "        return None\n",
    "    \n",
    "    # split the string on whitespace\n",
    "    out = txt.split(\" \")\n",
    "    \n",
    "    # identify urls\n",
    "    # replace with URL\n",
    "    out = ['URL' if bool(regex.search(\"http[s]?://\", i)) else i for i in out]\n",
    "    \n",
    "    # remove all punctuation\n",
    "    out = [regex.sub(\"[^\\\\w\\\\s]|\\n\", \"\", i) for i in out]\n",
    "    \n",
    "    # remove all numerics\n",
    "    out = [regex.sub(\"^[0-9]*$\", \"\", i) for i in out]\n",
    "    \n",
    "    # make all non-keywords lowercase\n",
    "    out = [i.lower() if i not in \"URL\" else i for i in out]\n",
    "    \n",
    "    # remove URL\n",
    "    out = [i for i in out if i not in \"URL\"]\n",
    "    \n",
    "    # remove stopwords\n",
    "    list_stop_words = nltk.corpus.stopwords.words(\"english\")\n",
    "    list_stop_words = [regex.sub(\"[^\\\\w\\\\s]\", \"\", i) for i in list_stop_words]\n",
    "    \n",
    "    out = [i for i in out if i not in list_stop_words]\n",
    "    \n",
    "    # lemmatizing\n",
    "    out = [do_lemmatizing(i) for i in out]\n",
    "    \n",
    "    # keep words 5 or more characters long\n",
    "    out = [i for i in out if len(i) >= 5]\n",
    "    \n",
    "    return out"
   ]
  },
  {
   "cell_type": "code",
   "execution_count": 28,
   "metadata": {},
   "outputs": [],
   "source": [
    "# execute function\n",
    "# takes several minutes\n",
    "\n",
    "clean = list(map(do_headline_cleaning, raw))"
   ]
  },
  {
   "cell_type": "code",
   "execution_count": 29,
   "metadata": {},
   "outputs": [
    {
     "name": "stdout",
     "output_type": "stream",
     "text": [
      "HEADLINES:\n",
      "[['obama', 'wreath', 'arlington', 'national', 'cemetery', 'president', 'barack', 'obama', 'wreath', 'unknown', 'honor'], ['haywood', 'investment', 'director', 'businessunit', 'income', 'discus', 'china', 'beige', 'state', 'economy'], ['nouriel', 'roubini', 'professor', 'chairman', 'roubini', 'global', 'economics', 'explain', 'global', 'economy', 'facing', 'conditions'], ['finland', 'economy', 'expand', 'marginally', 'three', 'month', 'december', 'contracting', 'previous', 'quarter', 'preliminary', 'figure', 'statistics', 'finland', 'monday'], ['tourism', 'public', 'spending', 'continue', 'boost', 'economy', 'january', 'light', 'contraction', 'private', 'consumption', 'export', 'accord', 'thailand']]\n",
      "\n",
      "LENGTH:\n",
      "92948\n",
      "\n"
     ]
    }
   ],
   "source": [
    "# remove none types\n",
    "\n",
    "clean = list(filter(None.__ne__, clean))\n",
    "print(\"HEADLINES:\\n{lines}\\n\".format(lines=clean[:5]))\n",
    "print(\"LENGTH:\\n{length}\\n\".format(length=len(clean)))"
   ]
  },
  {
   "cell_type": "code",
   "execution_count": 30,
   "metadata": {},
   "outputs": [],
   "source": [
    "# turn tokens back into string\n",
    "# concatenate with white spaces\n",
    "\n",
    "clean_sentences = [\" \".join(i) for i in clean]"
   ]
  },
  {
   "cell_type": "code",
   "execution_count": 31,
   "metadata": {},
   "outputs": [
    {
     "name": "stdout",
     "output_type": "stream",
     "text": [
      "['obama wreath arlington national cemetery president barack obama wreath unknown honor', 'haywood investment director businessunit income discus china beige state economy', 'nouriel roubini professor chairman roubini global economics explain global economy facing conditions', 'finland economy expand marginally three month december contracting previous quarter preliminary figure statistics finland monday', 'tourism public spending continue boost economy january light contraction private consumption export accord thailand', 'attendee expect latest version microsoft dynamics dynamics prweb february story', 'ramallah february palestine liberation organization sectretarygeneral erekat thursday express concern kenyan president uhuru kenyattas visit jerusalem jordan valley', 'first michelle obama speak state white house washington wednesday interactive student workshop musical legacy charles student school community organization across country participate quotin performance white housequot series', 'hancock county early monday morning family years', 'delhi feb29 technology giant microsoft target rival apple series focusing windows gross windows machine']\n"
     ]
    }
   ],
   "source": [
    "print(clean_sentences[0:10])"
   ]
  },
  {
   "cell_type": "code",
   "execution_count": null,
   "metadata": {},
   "outputs": [],
   "source": [
    "# Exercise 7.04 Unit Test\n",
    "\n",
    "def unittest_exercise_7_04(predicted):\n",
    "    actualCnt = 92948\n",
    "    predictedCnt = len(predicted)\n",
    "    assert actualCnt == predictedCnt, \"List lengths not equal.\"\n",
    "\n",
    "unittest_exercise_7_04(predicted=clean_sentences)"
   ]
  },
  {
   "cell_type": "markdown",
   "metadata": {},
   "source": [
    "#### Exercise 7.05: Count Vectorizer"
   ]
  },
  {
   "cell_type": "code",
   "execution_count": 34,
   "metadata": {},
   "outputs": [],
   "source": [
    "# define some global variables\n",
    "\n",
    "number_words = 10\n",
    "number_docs = 10\n",
    "number_features = 1000"
   ]
  },
  {
   "cell_type": "code",
   "execution_count": 35,
   "metadata": {},
   "outputs": [
    {
     "name": "stdout",
     "output_type": "stream",
     "text": [
      "  (0, 572)\t2\n",
      "  (0, 557)\t1\n",
      "  (0, 643)\t1\n",
      "  (0, 88)\t1\n",
      "  (0, 407)\t1\n"
     ]
    }
   ],
   "source": [
    "# execute bag of words model\n",
    "# use raw term counts for lda \n",
    "# as it is a probabilistic graphical model\n",
    "\n",
    "vectorizer1 = sklearn.feature_extraction.text.CountVectorizer(\n",
    "    analyzer=\"word\",\n",
    "    max_df=0.5, \n",
    "    min_df=20, \n",
    "    max_features=number_features\n",
    ")\n",
    "clean_vec1 = vectorizer1.fit_transform(clean_sentences)\n",
    "print(clean_vec1[0])\n",
    "\n",
    "feature_names_vec1 = vectorizer1.get_feature_names()"
   ]
  },
  {
   "cell_type": "code",
   "execution_count": null,
   "metadata": {},
   "outputs": [],
   "source": [
    "# Exercise 7.05 Unit Test\n",
    "\n",
    "def unittest_exercise_7_05(num_feats, vectorized):\n",
    "    actualCnt = num_feats\n",
    "    predictedCnt = len(vectorized)\n",
    "    assert actualCnt == predictedCnt, \"Size of count vectorizer not correct.\"\n",
    "\n",
    "unittest_exercise_7_05(num_feats=number_features, vectorized=feature_names_vec1)"
   ]
  },
  {
   "cell_type": "markdown",
   "metadata": {},
   "source": [
    "#### Exercise 7.06: Select Number of Topics"
   ]
  },
  {
   "cell_type": "code",
   "execution_count": 39,
   "metadata": {},
   "outputs": [],
   "source": [
    "# define function to calculate perplexity for LDA model trained on ntopics\n",
    "\n",
    "def perplexity_by_ntopic(data, ntopics):\n",
    "    output_dict = {\n",
    "        \"Number Of Topics\": [], \n",
    "        \"Perplexity Score\": []\n",
    "    }\n",
    "    \n",
    "    for t in ntopics:\n",
    "        lda = sklearn.decomposition.LatentDirichletAllocation(\n",
    "            n_components=t,\n",
    "            learning_method=\"online\",\n",
    "            random_state=0\n",
    "        )\n",
    "        lda.fit(data)\n",
    "        \n",
    "        output_dict[\"Number Of Topics\"].append(t)\n",
    "        output_dict[\"Perplexity Score\"].append(lda.perplexity(data))\n",
    "        \n",
    "    output_df = pandas.DataFrame(output_dict)\n",
    "    \n",
    "    index_min_perplexity = output_df[\"Perplexity Score\"].idxmin()\n",
    "    output_num_topics = output_df.loc[\n",
    "        index_min_perplexity,  # index\n",
    "        \"Number Of Topics\"  # column\n",
    "    ]\n",
    "        \n",
    "    return (output_df, output_num_topics)"
   ]
  },
  {
   "cell_type": "code",
   "execution_count": 40,
   "metadata": {},
   "outputs": [],
   "source": [
    "# find perplexity scores for several different numbers of topics\n",
    "# takes several minutes\n",
    "\n",
    "df_perplexity, optimal_num_topics = perplexity_by_ntopic(\n",
    "    clean_vec1, \n",
    "    ntopics=[1, 2, 3, 4, 6, 8, 10]\n",
    ")"
   ]
  },
  {
   "cell_type": "code",
   "execution_count": 41,
   "metadata": {},
   "outputs": [
    {
     "name": "stdout",
     "output_type": "stream",
     "text": [
      "   Number Of Topics  Perplexity Score\n",
      "0                 1        510.027194\n",
      "1                 2        462.489204\n",
      "2                 3        409.262083\n",
      "3                 4        426.006467\n",
      "4                 6        501.805279\n",
      "5                 8        530.169285\n",
      "6                10        580.127011\n"
     ]
    }
   ],
   "source": [
    "print(df_perplexity)"
   ]
  },
  {
   "cell_type": "code",
   "execution_count": 42,
   "metadata": {},
   "outputs": [
    {
     "data": {
      "text/plain": [
       "<matplotlib.axes._subplots.AxesSubplot at 0x1a2e55d490>"
      ]
     },
     "execution_count": 42,
     "metadata": {},
     "output_type": "execute_result"
    },
    {
     "data": {
      "image/png": "[encoded data removed]",
      "text/plain": [
       "<Figure size 432x288 with 1 Axes>"
      ]
     },
     "metadata": {
      "needs_background": "light"
     },
     "output_type": "display_data"
    }
   ],
   "source": [
    "df_perplexity.plot.line(\"Number Of Topics\", \"Perplexity Score\")"
   ]
  },
  {
   "cell_type": "code",
   "execution_count": null,
   "metadata": {},
   "outputs": [],
   "source": [
    "# Exercise 7.06 Unit Test\n",
    "\n",
    "def unittest_exercise_7_06(predicted):\n",
    "    actual = 3\n",
    "    assert actual == predicted, \"Incorrect number of topics.\"\n",
    "\n",
    "unittest_exercise_7_06(predicted=optimal_num_topics)"
   ]
  },
  {
   "cell_type": "markdown",
   "metadata": {},
   "source": [
    "#### Exercise 7.07: Latent Dirichlet Allocation"
   ]
  },
  {
   "cell_type": "code",
   "execution_count": 44,
   "metadata": {},
   "outputs": [
    {
     "data": {
      "text/plain": [
       "LatentDirichletAllocation(batch_size=128, doc_topic_prior=None,\n",
       "                          evaluate_every=-1, learning_decay=0.7,\n",
       "                          learning_method='online', learning_offset=10.0,\n",
       "                          max_doc_update_iter=100, max_iter=10,\n",
       "                          mean_change_tol=0.001, n_components=3, n_jobs=None,\n",
       "                          perp_tol=0.1, random_state=0, topic_word_prior=None,\n",
       "                          total_samples=1000000.0, verbose=0)"
      ]
     },
     "execution_count": 44,
     "metadata": {},
     "output_type": "execute_result"
    }
   ],
   "source": [
    "# define and fit LDA model\n",
    "\n",
    "lda = sklearn.decomposition.LatentDirichletAllocation(\n",
    "    n_components=optimal_num_topics,\n",
    "    learning_method=\"online\",\n",
    "    random_state=0\n",
    ")\n",
    "lda.fit(clean_vec1)"
   ]
  },
  {
   "cell_type": "code",
   "execution_count": 45,
   "metadata": {},
   "outputs": [
    {
     "name": "stdout",
     "output_type": "stream",
     "text": [
      "(92948, 3)\n",
      "[[0.0481743  0.04761956 0.90420614]\n",
      " [0.64777829 0.16174437 0.19047734]\n",
      " [0.79057518 0.16247142 0.0469534 ]\n",
      " ...\n",
      " [0.30685006 0.04029243 0.6528575 ]\n",
      " [0.06985503 0.06917984 0.86096513]\n",
      " [0.20602805 0.40959865 0.3843733 ]]\n"
     ]
    }
   ],
   "source": [
    "# output matrix\n",
    "# h: docs to topics\n",
    "\n",
    "lda_transform = lda.transform(clean_vec1)\n",
    "print(lda_transform.shape)\n",
    "print(lda_transform)"
   ]
  },
  {
   "cell_type": "code",
   "execution_count": 46,
   "metadata": {},
   "outputs": [
    {
     "name": "stdout",
     "output_type": "stream",
     "text": [
      "(3, 1000)\n",
      "[[3.36595777e-01 4.45005961e-01 2.09506864e+02 ... 2.31726830e+02\n",
      "  1.22597909e+02 2.50395708e+00]\n",
      " [3.35637820e-01 2.72131014e+02 6.03813829e+00 ... 3.35771012e-01\n",
      "  2.07927729e+02 4.13448292e-01]\n",
      " [2.74831510e+02 3.80769191e-01 3.62699704e-01 ... 3.46630689e-01\n",
      "  1.72942249e+02 4.59896574e+02]]\n"
     ]
    }
   ],
   "source": [
    "# output matrix\n",
    "# w: words to topics\n",
    "\n",
    "lda_components = lda.components_\n",
    "print(lda_components.shape)\n",
    "print(lda_components)"
   ]
  },
  {
   "cell_type": "code",
   "execution_count": 47,
   "metadata": {},
   "outputs": [],
   "source": [
    "# define function to reformat output matrices into easily readable tables\n",
    "\n",
    "def get_topics(mod, vec, names, docs, ndocs, nwords):\n",
    "    # word to topic matrix\n",
    "    W = mod.components_\n",
    "    W_norm = W / W.sum(axis=1)[:, numpy.newaxis]\n",
    "    # topic to document matrix\n",
    "    H = mod.transform(vec)\n",
    "    \n",
    "    W_dict = {}\n",
    "    H_dict = {}\n",
    "    \n",
    "    for tpc_idx, tpc_val in enumerate(W_norm):\n",
    "        topic = \"Topic{}\".format(tpc_idx)\n",
    "        \n",
    "        # formatting w\n",
    "        W_indices = tpc_val.argsort()[::-1][:nwords]\n",
    "        W_names_values = [\n",
    "            (round(tpc_val[j], 4), names[j]) \n",
    "            for j in W_indices\n",
    "        ]\n",
    "        W_dict[topic] = W_names_values\n",
    "        \n",
    "        # formatting h\n",
    "        H_indices = H[:, tpc_idx].argsort()[::-1][:ndocs]\n",
    "        H_names_values = [\n",
    "            (round(H[:, tpc_idx][j], 4), docs[j]) \n",
    "            for j in H_indices\n",
    "        ]\n",
    "        H_dict[topic] = H_names_values\n",
    "        \n",
    "    W_df = pandas.DataFrame(\n",
    "        W_dict, \n",
    "        index=[\"Word\" + str(i) for i in range(nwords)]\n",
    "    )\n",
    "    H_df = pandas.DataFrame(\n",
    "        H_dict,\n",
    "        index=[\"Doc\" + str(i) for i in range(ndocs)]\n",
    "    )\n",
    "        \n",
    "    return (W_df, H_df)"
   ]
  },
  {
   "cell_type": "code",
   "execution_count": 48,
   "metadata": {},
   "outputs": [],
   "source": [
    "# run function\n",
    "\n",
    "W_df, H_df = get_topics(\n",
    "    mod=lda,\n",
    "    vec=clean_vec1,\n",
    "    names=feature_names_vec1,\n",
    "    docs=raw,\n",
    "    ndocs=number_docs, \n",
    "    nwords=number_words\n",
    ")"
   ]
  },
  {
   "cell_type": "code",
   "execution_count": 49,
   "metadata": {},
   "outputs": [
    {
     "name": "stdout",
     "output_type": "stream",
     "text": [
      "                     Topic0                Topic1                 Topic2\n",
      "Word0     (0.1007, economy)   (0.1017, microsoft)        (0.0881, obama)\n",
      "Word1    (0.0346, economic)     (0.0233, windows)    (0.0764, president)\n",
      "Word2      (0.0175, growth)     (0.0228, company)       (0.0439, barack)\n",
      "Word3      (0.0149, global)  (0.0184, microsofts)        (0.0178, state)\n",
      "Word4       (0.0116, china)    (0.0154, announce)    (0.0159, palestine)\n",
      "Word5       (0.0112, world)       (0.0139, today)       (0.0137, obamas)\n",
      "Word6     (0.0108, percent)     (0.0104, release)   (0.0131, washington)\n",
      "Word7  (0.0106, government)    (0.0088, business)  (0.0125, palestinian)\n",
      "Word8      (0.0098, market)      (0.0087, update)        (0.0113, house)\n",
      "Word9     (0.0097, country)     (0.0074, surface)        (0.0104, white)\n"
     ]
    }
   ],
   "source": [
    "# word-topic table\n",
    "\n",
    "print(W_df)"
   ]
  },
  {
   "cell_type": "code",
   "execution_count": 50,
   "metadata": {},
   "outputs": [
    {
     "name": "stdout",
     "output_type": "stream",
     "text": [
      "                                                 Topic0  \\\n",
      "Doc0  (0.9787, President Mahmoud Abbas makes proposa...   \n",
      "Doc1  (0.9781, LONDON - Indonesia and the United Kin...   \n",
      "Doc2  (0.9781, Microsoft Corp said on Wednesday it w...   \n",
      "Doc3  (0.9781, Today, 150 Microsoft customers, devel...   \n",
      "Doc4  (0.9781, When President Barack Obama's state v...   \n",
      "Doc5  (0.978, People’s Bank of China Governor Zhou X...   \n",
      "Doc6  (0.9779, The UK is facing a digital skills cri...   \n",
      "Doc7  (0.9779, Microsoft has been on the acquisition...   \n",
      "Doc8  (0.9779, Microsoft said Monday that it is buyi...   \n",
      "Doc9  (0.9779, Software giant Microsoft has launched...   \n",
      "\n",
      "                                                 Topic1  \\\n",
      "Doc0  (0.9776, When American presidential candidates...   \n",
      "Doc1  (0.9765, &quot;We have put the utmost priority...   \n",
      "Doc2  (0.9756, France's fragile economy has cooled i...   \n",
      "Doc3  (0.9754, France's Palestine peace plan is part...   \n",
      "Doc4  (0.9752, Patent trolls drain $1.5 billion a we...   \n",
      "Doc5  (0.9751, Rancho Mirage, California (CNN) Presi...   \n",
      "Doc6  (0.9749, Economist with the University of Ghan...   \n",
      "Doc7  (0.9749, The Estonian economy was also positiv...   \n",
      "Doc8  (0.9749, 2 economy could be sucked into a Japa...   \n",
      "Doc9  (0.9749, YOU may already be reading this on Ch...   \n",
      "\n",
      "                                                 Topic2  \n",
      "Doc0  (0.9798, Jews, you will not enjoy in Palestine...  \n",
      "Doc1  (0.9775, Kantor says South Africa's monetary p...  \n",
      "Doc2  (0.9775, Washington (CNN) President Barack Oba...  \n",
      "Doc3  (0.9773, Malia Obama is 17 and probably wants ...  \n",
      "Doc4  (0.9773, Member nations of the Organization of...  \n",
      "Doc5  (0.9767, This Indian economic development woul...  \n",
      "Doc6  (0.9763, In his final State of the Union addre...  \n",
      "Doc7  (0.9758, President Barack Obama will visit a m...  \n",
      "Doc8  (0.9758, Microsoft's big Windows 10 push is pa...  \n",
      "Doc9  (0.9756, Preying on the minds of financial mar...  \n"
     ]
    }
   ],
   "source": [
    "# document-topic table\n",
    "\n",
    "print(H_df)"
   ]
  },
  {
   "cell_type": "code",
   "execution_count": null,
   "metadata": {},
   "outputs": [],
   "source": [
    "# Exercise 7.07 Unit Test\n",
    "\n",
    "def unittest_exercise_7_07(output):\n",
    "    # dimensions of output\n",
    "    output_shape = output.shape\n",
    "    assert (92948, 3) == output_shape, \"Dimensions of output incorrect.\"\n",
    "    \n",
    "    # testing presence of W_df\n",
    "    try:\n",
    "        W_df\n",
    "    except NameError:\n",
    "        print(\"No W_df present.\")\n",
    "    \n",
    "    # testing presence of H_df\n",
    "    try:\n",
    "        H_df\n",
    "    except NameError:\n",
    "        print(\"No H_df present.\")\n",
    "\n",
    "unittest_exercise_7_07(output=lda_transform)"
   ]
  },
  {
   "cell_type": "markdown",
   "metadata": {},
   "source": [
    "#### Exercise 7.08: Visualizing LDA"
   ]
  },
  {
   "cell_type": "code",
   "execution_count": 52,
   "metadata": {},
   "outputs": [
    {
     "data": {
      "text/html": [
       "\n",
       "<link rel=\"stylesheet\" type=\"text/css\" href=\"https://cdn.rawgit.com/bmabey/pyLDAvis/files/ldavis.v1.0.0.css\">\n",
       "\n",
       "\n",
       "<div id=\"ldavis_el221541121841022244826705668\"></div>\n",
       "<script type=\"text/javascript\">\n",
       "\n",
       "var ldavis_el221541121841022244826705668_data = {\"mdsDat\": {\"x\": [-0.2629922567909947, 0.014319915119766588, 0.24867234167122815], \"y\": [0.13079190626452858, -0.2855596128690064, 0.15476770660447792], \"topics\": [1, 2, 3], \"cluster\": [1, 1, 1], \"Freq\": [38.78749383307075, 34.02574505288092, 27.18676111404835]}, \"tinfo\": {\"Category\": [\"Default\", \"Default\", \"Default\", \"Default\", \"Default\", \"Default\", \"Default\", \"Default\", \"Default\", \"Default\", \"Topic1\", \"Topic1\", \"Topic1\", \"Topic1\", \"Topic1\", \"Topic1\", \"Topic1\", \"Topic1\", \"Topic1\", \"Topic1\", \"Topic2\", \"Topic2\", \"Topic2\", \"Topic2\", \"Topic2\", \"Topic2\", \"Topic2\", \"Topic2\", \"Topic2\", \"Topic2\", \"Topic2\", \"Topic2\", \"Topic2\", \"Topic2\", \"Topic3\", \"Topic3\", \"Topic3\", \"Topic3\", \"Topic3\", \"Topic3\", \"Topic3\", \"Topic3\", \"Topic3\", \"Topic3\", \"Topic3\", \"Topic3\", \"Topic3\"], \"Freq\": [26470.0, 21359.0, 26397.0, 22883.0, 13149.0, 9102.0, 4893.0, 4780.0, 5345.0, 3864.0, 26397.196455901252, 22882.67135274967, 13149.24245513685, 4770.486234686832, 5344.578144865152, 4114.796204869206, 3731.758553281921, 3925.363781976743, 3391.409994797353, 3126.4995336981992, 26469.655919247256, 9101.581759433928, 4608.300918153515, 3906.1920539923117, 3041.308728482675, 2849.532202089378, 2471.000828585238, 2160.3097826515796, 1960.274613278104, 1515.5438694491431, 2790.460632232959, 2562.9764162127235, 2938.2306746332292, 2558.0532070781837, 21359.23776109968, 4893.099823565212, 4779.355205002691, 3863.5922594717, 1831.5152464556706, 2923.197904074334, 1554.074750249482, 1507.2676634137767, 1488.2527109450555, 1472.8188448919684, 3226.2807198537653, 2188.0529681391727, 1844.7268351690961], \"Term\": [\"economy\", \"microsoft\", \"obama\", \"president\", \"barack\", \"economic\", \"windows\", \"company\", \"state\", \"microsofts\", \"obama\", \"president\", \"barack\", \"palestine\", \"state\", \"obamas\", \"palestinian\", \"washington\", \"house\", \"white\", \"economy\", \"economic\", \"growth\", \"global\", \"china\", \"percent\", \"quarter\", \"expect\", \"european\", \"britain\", \"government\", \"market\", \"world\", \"country\", \"microsoft\", \"windows\", \"company\", \"microsofts\", \"update\", \"today\", \"surface\", \"software\", \"cloud\", \"technology\", \"announce\", \"release\", \"business\"], \"Total\": [26470.0, 21359.0, 26397.0, 22883.0, 13149.0, 9102.0, 4893.0, 4780.0, 5345.0, 3864.0, 26397.88886649834, 22883.36863072265, 13149.93052620859, 4771.197929248669, 5345.4499987440795, 4115.490810565391, 3732.4564612757563, 3926.122306753322, 3392.1033186489017, 3127.1929304472587, 26470.35306407491, 9102.281707216249, 4608.983170265546, 3906.919933960528, 3042.0051028179646, 2850.2182306411555, 2471.681804463704, 2161.09734077933, 1961.0018341603043, 1516.26398524101, 3315.717847619027, 3004.837173563686, 4252.812529917563, 3483.7549410945794, 21359.90923438794, 4893.7651559456435, 4780.0596700200895, 3864.2620685351935, 1832.1960766362395, 2924.4162821311484, 1554.7425854002101, 1507.9391988837565, 1488.9298400801579, 1473.5073870491922, 3773.261275249715, 2666.456380816853, 3277.3472741578416], \"loglift\": [10.0, 9.0, 8.0, 7.0, 6.0, 5.0, 4.0, 3.0, 2.0, 1.0, 0.947, 0.947, 0.947, 0.9469, 0.9469, 0.9469, 0.9469, 0.9469, 0.9469, 0.9469, 1.078, 1.078, 1.0779, 1.0779, 1.0778, 1.0778, 1.0778, 1.0777, 1.0777, 1.0776, 0.9056, 0.919, 0.7083, 0.7692, 1.3024, 1.3023, 1.3023, 1.3023, 1.3021, 1.302, 1.302, 1.302, 1.302, 1.302, 1.1458, 1.1047, 0.7277], \"logprob\": [10.0, 9.0, 8.0, 7.0, 6.0, 5.0, 4.0, 3.0, 2.0, 1.0, -2.429, -2.5719, -3.1259, -4.1398, -4.0262, -4.2877, -4.3854, -4.3348, -4.481, -4.5623, -2.2953, -3.3628, -4.0434, -4.2087, -4.459, -4.5241, -4.6666, -4.801, -4.8982, -5.1555, -4.5451, -4.6301, -4.4935, -4.632, -2.2854, -3.759, -3.7826, -3.9953, -4.7417, -4.2742, -4.906, -4.9366, -4.9493, -4.9597, -4.1755, -4.5639, -4.7345]}, \"token.table\": {\"Topic\": [1, 3, 1, 2, 2, 3, 2, 3, 3, 1, 2, 2, 2, 2, 2, 2, 1, 2, 2, 1, 2, 3, 3, 3, 1, 1, 1, 1, 2, 1, 2, 2, 3, 3, 1, 2, 3, 3, 1, 3, 3, 1, 1, 3, 1, 2, 3], \"Freq\": [0.14496743270549148, 0.8549633234148364, 0.9999292371768249, 0.9998258975722041, 0.43693874350498046, 0.5629552945298107, 0.9996695920013304, 0.9993754977198201, 0.9997783144786381, 0.2655181020595465, 0.7342651946684541, 0.99996905092313, 0.9999866619053379, 0.9994891212527941, 0.9994922298229593, 0.9997645372886883, 0.15833675364657326, 0.8414467479503608, 0.9997866839106967, 0.9996747390791914, 0.8529580313199884, 0.14709615678635773, 0.9999574326661241, 0.9999321814797896, 0.9999663281218117, 0.9998807406970437, 0.9997489248472955, 0.999877704862604, 0.9999234337080546, 0.999983890889117, 0.9997241536258945, 0.17926413626671348, 0.8205647074300608, 0.9993771639569741, 0.9999158164898774, 0.0001870749890532979, 0.9995223740526674, 0.9996556603287831, 0.00034194858170850316, 0.9995157043339548, 0.9998929827223517, 0.9997141437108591, 0.99961852994881, 0.9998436467788582, 0.17988095986324346, 0.690836941278705, 0.12909104178421002], \"Term\": [\"announce\", \"announce\", \"barack\", \"britain\", \"business\", \"business\", \"china\", \"cloud\", \"company\", \"country\", \"country\", \"economic\", \"economy\", \"european\", \"expect\", \"global\", \"government\", \"government\", \"growth\", \"house\", \"market\", \"market\", \"microsoft\", \"microsofts\", \"obama\", \"obamas\", \"palestine\", \"palestinian\", \"percent\", \"president\", \"quarter\", \"release\", \"release\", \"software\", \"state\", \"state\", \"surface\", \"technology\", \"today\", \"today\", \"update\", \"washington\", \"white\", \"windows\", \"world\", \"world\", \"world\"]}, \"R\": 10, \"lambda.step\": 0.01, \"plot.opts\": {\"xlab\": \"PC1\", \"ylab\": \"PC2\"}, \"topic.order\": [3, 1, 2]};\n",
       "\n",
       "function LDAvis_load_lib(url, callback){\n",
       "  var s = document.createElement('script');\n",
       "  s.src = url;\n",
       "  s.async = true;\n",
       "  s.onreadystatechange = s.onload = callback;\n",
       "  s.onerror = function(){console.warn(\"failed to load library \" + url);};\n",
       "  document.getElementsByTagName(\"head\")[0].appendChild(s);\n",
       "}\n",
       "\n",
       "if(typeof(LDAvis) !== \"undefined\"){\n",
       "   // already loaded: just create the visualization\n",
       "   !function(LDAvis){\n",
       "       new LDAvis(\"#\" + \"ldavis_el221541121841022244826705668\", ldavis_el221541121841022244826705668_data);\n",
       "   }(LDAvis);\n",
       "}else if(typeof define === \"function\" && define.amd){\n",
       "   // require.js is available: use it to load d3/LDAvis\n",
       "   require.config({paths: {d3: \"https://cdnjs.cloudflare.com/ajax/libs/d3/3.5.5/d3.min\"}});\n",
       "   require([\"d3\"], function(d3){\n",
       "      window.d3 = d3;\n",
       "      LDAvis_load_lib(\"https://cdn.rawgit.com/bmabey/pyLDAvis/files/ldavis.v1.0.0.js\", function(){\n",
       "        new LDAvis(\"#\" + \"ldavis_el221541121841022244826705668\", ldavis_el221541121841022244826705668_data);\n",
       "      });\n",
       "    });\n",
       "}else{\n",
       "    // require.js not available: dynamically load d3 & LDAvis\n",
       "    LDAvis_load_lib(\"https://cdnjs.cloudflare.com/ajax/libs/d3/3.5.5/d3.min.js\", function(){\n",
       "         LDAvis_load_lib(\"https://cdn.rawgit.com/bmabey/pyLDAvis/files/ldavis.v1.0.0.js\", function(){\n",
       "                 new LDAvis(\"#\" + \"ldavis_el221541121841022244826705668\", ldavis_el221541121841022244826705668_data);\n",
       "            })\n",
       "         });\n",
       "}\n",
       "</script>"
      ],
      "text/plain": [
       "<IPython.core.display.HTML object>"
      ]
     },
     "execution_count": 52,
     "metadata": {},
     "output_type": "execute_result"
    }
   ],
   "source": [
    "# iterative visualization\n",
    "# featuring pca biplot and histogram\n",
    "\n",
    "lda_plot = pyLDAvis.sklearn.prepare(lda, clean_vec1, vectorizer1, R=10)\n",
    "pyLDAvis.display(lda_plot)"
   ]
  },
  {
   "cell_type": "code",
   "execution_count": 53,
   "metadata": {},
   "outputs": [],
   "source": [
    "# define functiont to fit and plot t-SNE model\n",
    "\n",
    "def plot_tsne(data, threshold):\n",
    "    # filter data according to threshold\n",
    "    index_meet_threshold = numpy.amax(data, axis=1) >= threshold\n",
    "    lda_transform_filt = data[index_meet_threshold]\n",
    "    \n",
    "    # fit tsne model\n",
    "    # x-d -> 2-d, x = number of topics\n",
    "    tsne = sklearn.manifold.TSNE(\n",
    "        n_components=2, \n",
    "        verbose=0, \n",
    "        random_state=0, \n",
    "        angle=0.5, \n",
    "        init='pca'\n",
    "    )\n",
    "    tsne_fit = tsne.fit_transform(lda_transform_filt)\n",
    "    \n",
    "    # most probable topic for each headline\n",
    "    most_prob_topic = []\n",
    "    for i in range(tsne_fit.shape[0]):\n",
    "        most_prob_topic.append(lda_transform_filt[i].argmax())\n",
    "    \n",
    "    print(\"LENGTH:\\n{}\\n\".format(len(most_prob_topic)))\n",
    "\n",
    "    unique, counts = numpy.unique(\n",
    "        numpy.array(most_prob_topic), \n",
    "        return_counts=True\n",
    "    )\n",
    "\n",
    "    print(\"COUNTS:\\n{}\\n\".format(numpy.asarray((unique, counts)).T))\n",
    "    \n",
    "    # make plot\n",
    "    color_list = ['b', 'g', 'r', 'c', 'm', 'y', 'k']\n",
    "\n",
    "    for i in list(set(most_prob_topic)):\n",
    "        indices = [idx for idx, val in enumerate(most_prob_topic) if val == i]\n",
    "        matplotlib.pyplot.scatter(\n",
    "            x=tsne_fit[indices, 0], \n",
    "            y=tsne_fit[indices, 1], \n",
    "            s=0.5, \n",
    "            c=color_list[i], \n",
    "            label='Topic' + str(i),\n",
    "            alpha=0.25\n",
    "        )\n",
    "\n",
    "    matplotlib.pyplot.xlabel('x-tsne')\n",
    "    matplotlib.pyplot.ylabel('y-tsne')\n",
    "    matplotlib.pyplot.legend(markerscale=10)"
   ]
  },
  {
   "cell_type": "code",
   "execution_count": 54,
   "metadata": {},
   "outputs": [
    {
     "name": "stdout",
     "output_type": "stream",
     "text": [
      "LENGTH:\n",
      "57017\n",
      "\n",
      "COUNTS:\n",
      "[[    0 18239]\n",
      " [    1 15383]\n",
      " [    2 23395]]\n",
      "\n"
     ]
    },
    {
     "data": {
      "image/png": "[encoded data removed]",
      "text/plain": [
       "<Figure size 432x288 with 1 Axes>"
      ]
     },
     "metadata": {
      "needs_background": "light"
     },
     "output_type": "display_data"
    }
   ],
   "source": [
    "plot_tsne(data=lda_transform, threshold=0.75)"
   ]
  },
  {
   "cell_type": "code",
   "execution_count": null,
   "metadata": {},
   "outputs": [],
   "source": [
    "# Exercise 7.08 Unit Test\n",
    "\n",
    "def unittest_exercise_7_08():\n",
    "    # test for presence of lda_plot\n",
    "    try:\n",
    "        lda_plot\n",
    "    except:\n",
    "        print(\"LDA plot did not form correctly.\")\n",
    "\n",
    "unittest_exercise_7_08()"
   ]
  },
  {
   "cell_type": "markdown",
   "metadata": {},
   "source": [
    "#### Exercise 7.09: Trying 4 Topics"
   ]
  },
  {
   "cell_type": "code",
   "execution_count": 58,
   "metadata": {},
   "outputs": [
    {
     "data": {
      "text/plain": [
       "LatentDirichletAllocation(batch_size=128, doc_topic_prior=None,\n",
       "                          evaluate_every=-1, learning_decay=0.7,\n",
       "                          learning_method='online', learning_offset=10.0,\n",
       "                          max_doc_update_iter=100, max_iter=10,\n",
       "                          mean_change_tol=0.001, n_components=4, n_jobs=None,\n",
       "                          perp_tol=0.1, random_state=0, topic_word_prior=None,\n",
       "                          total_samples=1000000.0, verbose=0)"
      ]
     },
     "execution_count": 58,
     "metadata": {},
     "output_type": "execute_result"
    }
   ],
   "source": [
    "# rerun LDA model using number of topics equal to 4\n",
    "\n",
    "lda4 = sklearn.decomposition.LatentDirichletAllocation(\n",
    "    n_components=4,  # number of topics data suggests\n",
    "    learning_method=\"online\",\n",
    "    random_state=0\n",
    ")\n",
    "lda4.fit(clean_vec1)"
   ]
  },
  {
   "cell_type": "code",
   "execution_count": 59,
   "metadata": {},
   "outputs": [],
   "source": [
    "# run function to output raw matrices in nice table format\n",
    "\n",
    "W_df4, H_df4 = get_topics(\n",
    "    mod=lda4,\n",
    "    vec=clean_vec1,\n",
    "    names=feature_names_vec1,\n",
    "    docs=raw,\n",
    "    ndocs=number_docs, \n",
    "    nwords=number_words\n",
    ")"
   ]
  },
  {
   "cell_type": "code",
   "execution_count": 60,
   "metadata": {},
   "outputs": [
    {
     "name": "stdout",
     "output_type": "stream",
     "text": [
      "                   Topic0                Topic1                 Topic2  \\\n",
      "Word0   (0.1156, economy)   (0.1092, microsoft)    (0.0368, palestine)   \n",
      "Word1  (0.0397, economic)      (0.025, windows)  (0.0288, palestinian)   \n",
      "Word2    (0.0201, growth)     (0.0244, company)        (0.0185, state)   \n",
      "Word3    (0.0171, global)  (0.0197, microsofts)       (0.0122, nation)   \n",
      "Word4  (0.0136, minister)    (0.0161, announce)      (0.0116, meeting)   \n",
      "Word5     (0.0135, world)     (0.0111, release)        (0.0114, issue)   \n",
      "Word6     (0.0133, china)       (0.0108, today)       (0.0114, israel)   \n",
      "Word7   (0.0124, percent)      (0.0094, update)    (0.0114, financial)   \n",
      "Word8   (0.0108, quarter)    (0.0086, business)       (0.0108, recent)   \n",
      "Word9   (0.0107, country)     (0.0079, surface)     (0.0106, thursday)   \n",
      "\n",
      "                         Topic3  \n",
      "Word0           (0.1218, obama)  \n",
      "Word1       (0.1056, president)  \n",
      "Word2          (0.0607, barack)  \n",
      "Word3           (0.019, obamas)  \n",
      "Word4      (0.0181, washington)  \n",
      "Word5           (0.0156, house)  \n",
      "Word6           (0.0144, white)  \n",
      "Word7  (0.0141, administration)  \n",
      "Word8           (0.0136, state)  \n",
      "Word9         (0.0102, tuesday)  \n"
     ]
    }
   ],
   "source": [
    "# word-topic table\n",
    "\n",
    "print(W_df4)"
   ]
  },
  {
   "cell_type": "code",
   "execution_count": 61,
   "metadata": {},
   "outputs": [
    {
     "name": "stdout",
     "output_type": "stream",
     "text": [
      "                                                 Topic0  \\\n",
      "Doc0  (0.9754, President Obama welcomed the Super Bo...   \n",
      "Doc1  (0.9754, Twitter, Microsoft, Facebook and YouT...   \n",
      "Doc2  (0.9747, Manifold Technology has realised the ...   \n",
      "Doc3  (0.9747, Prime Minister Alexis Tsipras said Mo...   \n",
      "Doc4  (0.9747, The US economy grew at an annual rate...   \n",
      "Doc5  (0.9747, The Washington Post editorial board s...   \n",
      "Doc6  (0.9747, An escaped political prisoner whose e...   \n",
      "Doc7  (0.9747, The U.S. economy grew a revised 2% an...   \n",
      "Doc8  (0.9746, (CNN) The Obama administration will a...   \n",
      "Doc9  (0.9746, Obama, a featured speaker at the annu...   \n",
      "\n",
      "                                                 Topic1  \\\n",
      "Doc0  (0.9749, When American presidential candidates...   \n",
      "Doc1  (0.9736, France's fragile economy has cooled i...   \n",
      "Doc2  (0.9727, Patent trolls drain $1.5 billion a we...   \n",
      "Doc3  (0.9721, The Estonian economy was also positiv...   \n",
      "Doc4  (0.9721, 2 economy could be sucked into a Japa...   \n",
      "Doc5  (0.9721, Economist with the University of Ghan...   \n",
      "Doc6  (0.9721, Rancho Mirage, California (CNN) Presi...   \n",
      "Doc7  (0.9719, On Thursday, this 32-year-old live-ou...   \n",
      "Doc8  (0.9711, BENGALURU: The global tech giant Micr...   \n",
      "Doc9  (0.9706, President Barack Obama has urged univ...   \n",
      "\n",
      "                                                 Topic2  \\\n",
      "Doc0  (0.9552, Worries of an economic downturn, conc...   \n",
      "Doc1  (0.9552, President Obama implored the media to...   \n",
      "Doc2  (0.9552, Washington (CNN) President Barack Oba...   \n",
      "Doc3  (0.9552, NABLUS, February 11, 2016 (WAFA) – Th...   \n",
      "Doc4  (0.9552, \"\"\"If I were African-American, I woul...   \n",
      "Doc5  (0.9552, But it's also significant that Team O...   \n",
      "Doc6  (0.9552, The U.S. economy is stronger. But how...   \n",
      "Doc7  (0.9552, During his Oval Office address on Sun...   \n",
      "Doc8  (0.9551, The economic recovery action plan to ...   \n",
      "Doc9  (0.9525, Microsoft logo Sigma Planning boosted...   \n",
      "\n",
      "                                                 Topic3  \n",
      "Doc0  (0.9728, WASHINGTON \"\"\" President Obama will c...  \n",
      "Doc1  (0.9727, President Barack Obama will visit a m...  \n",
      "Doc2  (0.9727, Microsoft's big Windows 10 push is pa...  \n",
      "Doc3  (0.9719, Yet another poll is out showing that ...  \n",
      "Doc4  (0.9717, US stocks ended the worst January sin...  \n",
      "Doc5  (0.9685, President Barack Obama on Wednesday w...  \n",
      "Doc6  (0.9685, WASHINGTON — President Barack Obama h...  \n",
      "Doc7  (0.9685, BUSINESS WIRE)--Adobe (Nasdaq:ADBE) t...  \n",
      "Doc8  (0.9684, NASA has been one of the key partners...  \n",
      "Doc9  (0.9683, A new report from the Software Allian...  \n"
     ]
    }
   ],
   "source": [
    "# document-topic table\n",
    "\n",
    "print(H_df4)"
   ]
  },
  {
   "cell_type": "code",
   "execution_count": 62,
   "metadata": {},
   "outputs": [
    {
     "data": {
      "text/html": [
       "\n",
       "<link rel=\"stylesheet\" type=\"text/css\" href=\"https://cdn.rawgit.com/bmabey/pyLDAvis/files/ldavis.v1.0.0.css\">\n",
       "\n",
       "\n",
       "<div id=\"ldavis_el221541124632812325450682264\"></div>\n",
       "<script type=\"text/javascript\">\n",
       "\n",
       "var ldavis_el221541124632812325450682264_data = {\"mdsDat\": {\"x\": [0.2381823206823432, -0.22177339034336208, 0.18345146505603477, -0.19986039539501604], \"y\": [0.2291316640163604, 0.15159871789628218, -0.25318150706689996, -0.1275488748457425], \"topics\": [1, 2, 3, 4], \"cluster\": [1, 1, 1, 1], \"Freq\": [29.234415585891355, 27.993931880703922, 24.688137591236732, 18.083514942167987]}, \"tinfo\": {\"Category\": [\"Default\", \"Default\", \"Default\", \"Default\", \"Default\", \"Default\", \"Default\", \"Default\", \"Default\", \"Default\", \"Topic1\", \"Topic1\", \"Topic1\", \"Topic1\", \"Topic1\", \"Topic1\", \"Topic1\", \"Topic1\", \"Topic1\", \"Topic1\", \"Topic1\", \"Topic1\", \"Topic1\", \"Topic1\", \"Topic2\", \"Topic2\", \"Topic2\", \"Topic2\", \"Topic2\", \"Topic2\", \"Topic2\", \"Topic2\", \"Topic2\", \"Topic2\", \"Topic2\", \"Topic2\", \"Topic3\", \"Topic3\", \"Topic3\", \"Topic3\", \"Topic3\", \"Topic3\", \"Topic3\", \"Topic3\", \"Topic3\", \"Topic3\", \"Topic3\", \"Topic3\", \"Topic3\", \"Topic3\", \"Topic4\", \"Topic4\", \"Topic4\", \"Topic4\", \"Topic4\", \"Topic4\", \"Topic4\", \"Topic4\", \"Topic4\", \"Topic4\", \"Topic4\", \"Topic4\", \"Topic4\", \"Topic4\", \"Topic4\"], \"Freq\": [26334.0, 26099.0, 20815.0, 22828.0, 13118.0, 8974.0, 5136.0, 4017.0, 4769.0, 4658.0, 26097.2289099777, 8973.916927487611, 4543.619836368502, 2998.599979911625, 2809.50861791756, 2436.2826823467135, 3850.9021042206314, 2130.0172393390044, 1932.7395080465649, 1968.5308418289483, 3079.3801191675457, 3050.3912556715895, 2419.955241842097, 2425.144762949347, 26334.204339175554, 22828.05769515168, 13117.824160913597, 4104.914298872684, 3915.9809096471527, 3383.2512176132627, 3118.973425731719, 3045.2718254915635, 2106.921730217825, 2022.4290234991577, 2934.229864897643, 2202.3169919148177, 20814.84891912494, 4768.323845692869, 4657.499236680652, 3765.0532642756566, 1784.7673482649866, 1514.3900594348945, 1468.7771736875968, 1450.250940621945, 1435.213859445088, 1400.3809112639647, 3062.2544263343902, 2111.660831559473, 2068.369645581411, 1636.6369909020207, 5135.341464136157, 4017.145293060126, 1589.4637674297883, 1614.728787518207, 1585.837293659766, 1506.024038241569, 1383.9110839024422, 1284.6137954799651, 1118.981728942284, 1075.1455598013354, 1225.5203892364011, 1598.0672200325519, 1699.0187267496622, 2587.5397980557927, 1482.861682498821], \"Term\": [\"obama\", \"economy\", \"microsoft\", \"president\", \"barack\", \"economic\", \"palestine\", \"palestinian\", \"windows\", \"company\", \"economy\", \"economic\", \"growth\", \"china\", \"percent\", \"quarter\", \"global\", \"expect\", \"european\", \"policy\", \"minister\", \"world\", \"market\", \"country\", \"obama\", \"president\", \"barack\", \"obamas\", \"washington\", \"house\", \"white\", \"administration\", \"trump\", \"republican\", \"state\", \"tuesday\", \"microsoft\", \"windows\", \"company\", \"microsofts\", \"update\", \"surface\", \"software\", \"cloud\", \"technology\", \"build\", \"announce\", \"release\", \"today\", \"business\", \"palestine\", \"palestinian\", \"israel\", \"meeting\", \"financial\", \"recent\", \"israeli\", \"executive\", \"concern\", \"another\", \"chief\", \"issue\", \"nation\", \"state\", \"thursday\"], \"Total\": [26334.0, 26099.0, 20815.0, 22828.0, 13118.0, 8974.0, 5136.0, 4017.0, 4769.0, 4658.0, 26099.38510452783, 8974.698571654017, 4544.389115822126, 2999.3783142009524, 2810.279636018656, 2437.0495692687227, 3852.2022693122103, 2130.819345457019, 1933.5298502067583, 1969.366757297539, 3085.7473714795683, 4240.499077474526, 2958.820587098617, 3476.11919601056, 26334.976482375143, 22828.832946263316, 13118.593965778759, 4105.687274530231, 3916.7691196050782, 3384.023959618463, 3119.7448466382994, 3046.049130978284, 2107.6944524271275, 2023.196946427269, 5522.288085553326, 2964.178709142657, 20815.613012731006, 4769.083759285443, 4658.277214285083, 3765.8162357741426, 1785.534745710727, 1515.1512949224345, 1469.540775316382, 1451.0159187507531, 1435.9870930838217, 1401.1586780478265, 3688.3096419556405, 2603.7541976283337, 2875.6506904341654, 3226.499070395963, 5136.092343136006, 4017.893618219332, 1590.2154695605252, 1615.5187641821142, 1586.6483864570619, 1506.8133014399982, 1384.660412029797, 1285.391225107069, 1119.769821298162, 1075.9404059928877, 1228.1904026302625, 1690.06907141252, 2016.7673480511903, 5522.288085553326, 2929.773729341769], \"loglift\": [10.0, 9.0, 8.0, 7.0, 6.0, 5.0, 4.0, 3.0, 2.0, 1.0, 1.2297, 1.2297, 1.2297, 1.2296, 1.2295, 1.2295, 1.2295, 1.2294, 1.2294, 1.2294, 1.2278, 0.9004, 1.0288, 0.8698, 1.2732, 1.2731, 1.2731, 1.273, 1.273, 1.273, 1.2729, 1.2729, 1.2728, 1.2728, 0.6408, 0.9761, 1.3988, 1.3987, 1.3987, 1.3986, 1.3984, 1.3983, 1.3983, 1.3983, 1.3983, 1.3983, 1.2128, 1.1894, 1.0693, 0.7201, 1.71, 1.71, 1.7097, 1.7097, 1.7097, 1.7096, 1.7096, 1.7096, 1.7095, 1.7094, 1.708, 1.6542, 1.5387, 0.9521, 1.0292], \"logprob\": [10.0, 9.0, 8.0, 7.0, 6.0, 5.0, 4.0, 3.0, 2.0, 1.0, -2.1577, -3.2252, -3.9058, -4.3213, -4.3865, -4.529, -4.0712, -4.6634, -4.7606, -4.7422, -4.2948, -4.3042, -4.5357, -4.5336, -2.1053, -2.2481, -2.8022, -3.9639, -4.0111, -4.1573, -4.2386, -4.2625, -4.6309, -4.6718, -4.2997, -4.5866, -2.2148, -3.6885, -3.712, -3.9247, -4.6712, -4.8355, -4.866, -4.8787, -4.8892, -4.9137, -4.1313, -4.503, -4.5237, -4.7578, -3.303, -3.5486, -4.4757, -4.46, -4.478, -4.5297, -4.6142, -4.6887, -4.8267, -4.8667, -4.7358, -4.4704, -4.4091, -3.9884, -4.5452]}, \"token.table\": {\"Topic\": [2, 2, 3, 4, 2, 3, 1, 3, 4, 1, 4, 1, 3, 3, 4, 1, 2, 4, 1, 1, 4, 1, 4, 1, 4, 1, 4, 1, 2, 4, 4, 3, 4, 1, 3, 4, 3, 3, 1, 4, 1, 4, 2, 2, 4, 4, 1, 1, 2, 1, 4, 1, 2, 3, 2, 3, 2, 4, 3, 3, 2, 4, 1, 2, 3, 4, 2, 1, 2, 3, 2, 2, 3, 1, 2, 4], \"Freq\": [0.9996555764752398, 0.1697254462800683, 0.8301906014529858, 0.9991259683271957, 0.9999547233659104, 0.999173057223297, 0.4091121587826792, 0.5073610635812469, 0.08368203247827528, 0.0016284120082007227, 0.998216561027043, 0.9998738691284252, 0.9992998569225706, 0.9997258183173028, 0.9993125182662366, 0.6976170445429781, 0.18008588448820795, 0.12226278100237761, 0.9999221621040039, 0.9999086145317877, 7.663015783666994e-05, 0.9997259674027263, 0.999695637328599, 0.9996154786848702, 0.9995913483651474, 0.9996879007829397, 0.0002595917685751596, 0.9999143744489725, 0.9996974136026572, 0.9992356573157591, 0.9995230512665347, 0.05384395320834097, 0.9455234860102073, 0.8178934574647604, 0.1818292066595211, 0.9996788869348869, 0.9999705503397555, 0.9997832512998408, 0.9978133752808374, 0.0019444235958704203, 0.1571822353759933, 0.8424372804536676, 0.9999629207044937, 0.9998326042671359, 0.9997873201914942, 0.9997775903734036, 0.9999004953047831, 0.9998137689202989, 0.9999635134102003, 0.9995693278946978, 0.999460250689836, 0.1866535637053144, 0.002304364984016227, 0.8111364743737121, 0.999408388575624, 0.9996320106760797, 0.5313015102699078, 0.4686463219422364, 0.9992401452407474, 0.9993126030947104, 0.49355347326596183, 0.506182434891716, 0.0006954947645946665, 0.09250080369109064, 0.7191415865908851, 0.1874358390582626, 0.9996705156070759, 0.25673215911469366, 0.7428701897116367, 0.9997005122907792, 0.9998036341735773, 0.9997612475779544, 0.999772753145018, 0.7192549613326317, 0.10989272523967421, 0.17073462032945091], \"Term\": [\"administration\", \"announce\", \"announce\", \"another\", \"barack\", \"build\", \"business\", \"business\", \"business\", \"chief\", \"chief\", \"china\", \"cloud\", \"company\", \"concern\", \"country\", \"country\", \"country\", \"economic\", \"economy\", \"economy\", \"european\", \"executive\", \"expect\", \"financial\", \"global\", \"global\", \"growth\", \"house\", \"israel\", \"israeli\", \"issue\", \"issue\", \"market\", \"market\", \"meeting\", \"microsoft\", \"microsofts\", \"minister\", \"minister\", \"nation\", \"nation\", \"obama\", \"obamas\", \"palestine\", \"palestinian\", \"percent\", \"policy\", \"president\", \"quarter\", \"recent\", \"release\", \"release\", \"release\", \"republican\", \"software\", \"state\", \"state\", \"surface\", \"technology\", \"thursday\", \"thursday\", \"today\", \"today\", \"today\", \"today\", \"trump\", \"tuesday\", \"tuesday\", \"update\", \"washington\", \"white\", \"windows\", \"world\", \"world\", \"world\"]}, \"R\": 10, \"lambda.step\": 0.01, \"plot.opts\": {\"xlab\": \"PC1\", \"ylab\": \"PC2\"}, \"topic.order\": [1, 4, 2, 3]};\n",
       "\n",
       "function LDAvis_load_lib(url, callback){\n",
       "  var s = document.createElement('script');\n",
       "  s.src = url;\n",
       "  s.async = true;\n",
       "  s.onreadystatechange = s.onload = callback;\n",
       "  s.onerror = function(){console.warn(\"failed to load library \" + url);};\n",
       "  document.getElementsByTagName(\"head\")[0].appendChild(s);\n",
       "}\n",
       "\n",
       "if(typeof(LDAvis) !== \"undefined\"){\n",
       "   // already loaded: just create the visualization\n",
       "   !function(LDAvis){\n",
       "       new LDAvis(\"#\" + \"ldavis_el221541124632812325450682264\", ldavis_el221541124632812325450682264_data);\n",
       "   }(LDAvis);\n",
       "}else if(typeof define === \"function\" && define.amd){\n",
       "   // require.js is available: use it to load d3/LDAvis\n",
       "   require.config({paths: {d3: \"https://cdnjs.cloudflare.com/ajax/libs/d3/3.5.5/d3.min\"}});\n",
       "   require([\"d3\"], function(d3){\n",
       "      window.d3 = d3;\n",
       "      LDAvis_load_lib(\"https://cdn.rawgit.com/bmabey/pyLDAvis/files/ldavis.v1.0.0.js\", function(){\n",
       "        new LDAvis(\"#\" + \"ldavis_el221541124632812325450682264\", ldavis_el221541124632812325450682264_data);\n",
       "      });\n",
       "    });\n",
       "}else{\n",
       "    // require.js not available: dynamically load d3 & LDAvis\n",
       "    LDAvis_load_lib(\"https://cdnjs.cloudflare.com/ajax/libs/d3/3.5.5/d3.min.js\", function(){\n",
       "         LDAvis_load_lib(\"https://cdn.rawgit.com/bmabey/pyLDAvis/files/ldavis.v1.0.0.js\", function(){\n",
       "                 new LDAvis(\"#\" + \"ldavis_el221541124632812325450682264\", ldavis_el221541124632812325450682264_data);\n",
       "            })\n",
       "         });\n",
       "}\n",
       "</script>"
      ],
      "text/plain": [
       "<IPython.core.display.HTML object>"
      ]
     },
     "execution_count": 62,
     "metadata": {},
     "output_type": "execute_result"
    }
   ],
   "source": [
    "# iteractive visualization\n",
    "\n",
    "lda4_plot = pyLDAvis.sklearn.prepare(lda4, clean_vec1, vectorizer1, R=10)\n",
    "pyLDAvis.display(lda4_plot)"
   ]
  },
  {
   "cell_type": "code",
   "execution_count": null,
   "metadata": {},
   "outputs": [],
   "source": [
    "# Exercise 7.09 Unit Test\n",
    "\n",
    "def unittest_exercise_7_09():\n",
    "    # testing presence of W_df4\n",
    "    try:\n",
    "        W_df4\n",
    "    except NameError:\n",
    "        print(\"No W_df4 present.\")\n",
    "    \n",
    "    # testing presence of H_df4\n",
    "    try:\n",
    "        H_df4\n",
    "    except NameError:\n",
    "        print(\"No H_df4 present.\")\n",
    "        \n",
    "    # test for presence of lda4_plot\n",
    "    try:\n",
    "        lda4_plot\n",
    "    except:\n",
    "        print(\"LDA4 plot did not form correctly.\")\n",
    "\n",
    "unittest_exercise_7_09()"
   ]
  },
  {
   "cell_type": "markdown",
   "metadata": {},
   "source": [
    "#### Exercise 7.10: TF-IDF Vectorizer"
   ]
  },
  {
   "cell_type": "code",
   "execution_count": 65,
   "metadata": {},
   "outputs": [
    {
     "name": "stdout",
     "output_type": "stream",
     "text": [
      "  (0, 407)\t0.6671876288988704\n",
      "  (0, 88)\t0.2807209598114986\n",
      "  (0, 643)\t0.23484180288034218\n",
      "  (0, 557)\t0.4665958005970176\n",
      "  (0, 572)\t0.4507705592116158\n"
     ]
    }
   ],
   "source": [
    "# convert to bag of words model\n",
    "# use tf-idf method this time\n",
    "\n",
    "vectorizer2 = sklearn.feature_extraction.text.TfidfVectorizer(\n",
    "    analyzer=\"word\",\n",
    "    max_df=0.5, \n",
    "    min_df=20, \n",
    "    max_features=number_features,\n",
    "    smooth_idf=False\n",
    ")\n",
    "clean_vec2 = vectorizer2.fit_transform(clean_sentences)\n",
    "print(clean_vec2[0])\n",
    "\n",
    "feature_names_vec2 = vectorizer2.get_feature_names()"
   ]
  },
  {
   "cell_type": "code",
   "execution_count": null,
   "metadata": {},
   "outputs": [],
   "source": [
    "# Exercise 7.10 Unit Test\n",
    "\n",
    "def unittest_exercise_7_10(num_feats, vectorized):\n",
    "    actualCnt = num_feats\n",
    "    predictedCnt = len(vectorized)\n",
    "    assert actualCnt == predictedCnt, \"Size of tfidf vectorizer not correct.\"\n",
    "\n",
    "unittest_exercise_7_10(num_feats=number_features, vectorized=feature_names_vec2)"
   ]
  },
  {
   "cell_type": "markdown",
   "metadata": {},
   "source": [
    "#### Exercise 7.11: Non-negative Matrix Factorization"
   ]
  },
  {
   "cell_type": "code",
   "execution_count": 67,
   "metadata": {},
   "outputs": [
    {
     "data": {
      "text/plain": [
       "NMF(alpha=0.1, beta_loss='frobenius', init='nndsvda', l1_ratio=0.5,\n",
       "    max_iter=200, n_components=4, random_state=0, shuffle=False, solver='mu',\n",
       "    tol=0.0001, verbose=0)"
      ]
     },
     "execution_count": 67,
     "metadata": {},
     "output_type": "execute_result"
    }
   ],
   "source": [
    "# define and fit nmf model\n",
    "\n",
    "nmf = sklearn.decomposition.NMF(\n",
    "    n_components=4,\n",
    "    init=\"nndsvda\",\n",
    "    solver=\"mu\",\n",
    "    beta_loss=\"frobenius\",\n",
    "    random_state=0, \n",
    "    alpha=0.1, \n",
    "    l1_ratio=0.5\n",
    ")\n",
    "nmf.fit(clean_vec2)"
   ]
  },
  {
   "cell_type": "code",
   "execution_count": 68,
   "metadata": {},
   "outputs": [],
   "source": [
    "# run function to produce nice output tables\n",
    "\n",
    "W_df, H_df = get_topics(\n",
    "    mod=nmf,\n",
    "    vec=clean_vec2,\n",
    "    names=feature_names_vec2,\n",
    "    docs=raw,\n",
    "    ndocs=number_docs, \n",
    "    nwords=number_words\n",
    ")"
   ]
  },
  {
   "cell_type": "code",
   "execution_count": 69,
   "metadata": {},
   "outputs": [
    {
     "name": "stdout",
     "output_type": "stream",
     "text": [
      "                         Topic0              Topic1                Topic2  \\\n",
      "Word0           (0.0696, obama)   (0.0628, economy)    (0.087, microsoft)   \n",
      "Word1       (0.0646, president)  (0.0212, economic)     (0.0306, windows)   \n",
      "Word2          (0.0484, barack)    (0.0179, growth)     (0.0196, company)   \n",
      "Word3      (0.0157, washington)    (0.0144, global)    (0.0162, announce)   \n",
      "Word4           (0.0149, house)     (0.0127, china)  (0.0124, microsofts)   \n",
      "Word5           (0.0144, white)   (0.0111, percent)      (0.0119, update)   \n",
      "Word6          (0.0127, obamas)     (0.0108, world)     (0.0106, release)   \n",
      "Word7           (0.0109, state)   (0.0097, quarter)         (0.01, today)   \n",
      "Word8  (0.0096, administration)    (0.0092, market)     (0.0096, surface)   \n",
      "Word9           (0.0081, first)   (0.0086, country)    (0.0085, software)   \n",
      "\n",
      "                        Topic3  \n",
      "Word0       (0.088, palestine)  \n",
      "Word1    (0.0765, palestinian)  \n",
      "Word2         (0.031, israeli)  \n",
      "Word3         (0.0279, israel)  \n",
      "Word4          (0.0171, state)  \n",
      "Word5  (0.0094, international)  \n",
      "Word6       (0.0092, ramallah)  \n",
      "Word7        (0.009, minister)  \n",
      "Word8          (0.0079, unite)  \n",
      "Word9          (0.0078, force)  \n"
     ]
    }
   ],
   "source": [
    "# word-topic table\n",
    "\n",
    "print(W_df)"
   ]
  },
  {
   "cell_type": "code",
   "execution_count": 70,
   "metadata": {},
   "outputs": [
    {
     "name": "stdout",
     "output_type": "stream",
     "text": [
      "                                                 Topic0  \\\n",
      "Doc0  (0.0845, The UK economy is steering clear of a...   \n",
      "Doc1  (0.0845, The Israeli military carried out a ra...   \n",
      "Doc2  (0.0845, Obama went golfing with Paulsen and N...   \n",
      "Doc3  (0.0845, South Africa's economy shrank sharply...   \n",
      "Doc4  (0.0845, Las Vegas air traffic is the simplest...   \n",
      "Doc5  (0.0845, WASHINGTON \"\"\" Continuing his efforts...   \n",
      "Doc6  (0.0845, U.S. Bank Senor Portfolio Manager Eri...   \n",
      "Doc7  (0.0845, As a member of McAuliffe's Economic D...   \n",
      "Doc8  (0.0845, A new economic model, which envisages...   \n",
      "Doc9  (0.0845, “The possibility of two states, Israe...   \n",
      "\n",
      "                                                 Topic1  \\\n",
      "Doc0  (0.0677, Brazil's economy shrank 1.7 percent i...   \n",
      "Doc1  (0.0677, Jack Shao watched as his young cowork...   \n",
      "Doc2  (0.0677, President Obama gave a somber denounc...   \n",
      "Doc3  (0.0677, More than half of Minnesota's workfor...   \n",
      "Doc4  (0.0677, President Barack Obama gives a fist b...   \n",
      "Doc5  (0.0677, The following guide walks you through...   \n",
      "Doc6  (0.0677, &quot;Microsoft will make updates ava...   \n",
      "Doc7  (0.0677, Boris Johnson has described Barack Ob...   \n",
      "Doc8  (0.0677, According to the US Commerce Departme...   \n",
      "Doc9  (0.0677, The Obama administration on Wednesday...   \n",
      "\n",
      "                                                 Topic2  \\\n",
      "Doc0  (0.0836, President Barack Obama issued a Thank...   \n",
      "Doc1  (0.0836, President Barack Obama's famously con...   \n",
      "Doc2  (0.0836, Here's BI's model of how far the econ...   \n",
      "Doc3  (0.0836, Like Google and Facebook, Microsoft, ...   \n",
      "Doc4  (0.0836, I applaud the courage of each company...   \n",
      "Doc5  (0.0836, Here's President Barack Obama celebra...   \n",
      "Doc6  (0.0836, &quot;We will have further weaned our...   \n",
      "Doc7  (0.0836, On Monday, March 21st, 2016, at 1:50p...   \n",
      "Doc8  (0.0836, Example of the \"\"\"pop manga\"\"\" style ...   \n",
      "Doc9  (0.0836, Microsoft failed to tell users of its...   \n",
      "\n",
      "                                                 Topic3  \n",
      "Doc0  (0.1077, The 2015 global economy knocked the w...  \n",
      "Doc1  (0.1077, Government Senate Representative Sen....  \n",
      "Doc2  (0.0856, (Reuters) \"\"\" On Monday, U.S. Distric...  \n",
      "Doc3  (0.0852, \"\"\"Unlike Clinton, Kasich has a sensi...  \n",
      "Doc4  (0.0841, The gig economy tends to divide opini...  \n",
      "Doc5  (0.0828, I hope the Committee on the Future Ec...  \n",
      "Doc6  (0.0815, Coming just a day after President Bar...  \n",
      "Doc7  (0.0815, Microsoft has announced it will provi...  \n",
      "Doc8  (0.0815, The timing of Obama's criticism was s...  \n",
      "Doc9  (0.0815, You have multiple blocks of text you ...  \n"
     ]
    }
   ],
   "source": [
    "# document-topic table\n",
    "\n",
    "print(H_df)"
   ]
  },
  {
   "cell_type": "code",
   "execution_count": null,
   "metadata": {},
   "outputs": [],
   "source": [
    "# Exercise 7.11 Unit Test\n",
    "\n",
    "def unittest_exercise_7_11(output):\n",
    "    # testing presence of nmf model\n",
    "    try:\n",
    "        nmf\n",
    "    except:\n",
    "        print(\"Non-negative matrix factorization non-existent.\")\n",
    "    \n",
    "    # testing presence of W_df\n",
    "    try:\n",
    "        W_df\n",
    "    except NameError:\n",
    "        print(\"No W_df present.\")\n",
    "    \n",
    "    # testing presence of H_df\n",
    "    try:\n",
    "        H_df\n",
    "    except NameError:\n",
    "        print(\"No H_df present.\")\n",
    "\n",
    "unittest_exercise_7_11(output=lda_transform)"
   ]
  },
  {
   "cell_type": "markdown",
   "metadata": {},
   "source": [
    "#### Exercise 7.12: Visualizing NMF"
   ]
  },
  {
   "cell_type": "code",
   "execution_count": 72,
   "metadata": {},
   "outputs": [
    {
     "name": "stdout",
     "output_type": "stream",
     "text": [
      "(92948, 4)\n",
      "[[5.12617233e-02 3.73608308e-15 2.75578334e-34 7.93397204e-16]\n",
      " [7.45030549e-04 2.03798724e-02 6.68099017e-15 2.13690261e-03]\n",
      " [2.90951586e-15 1.94132357e-02 4.55228914e-21 1.24081933e-18]\n",
      " ...\n",
      " [9.26466168e-06 3.41461778e-03 6.14054509e-04 3.23849312e-02]\n",
      " [6.38520096e-07 1.34780439e-07 3.48092631e-08 6.14097419e-02]\n",
      " [4.50847795e-05 1.16915004e-04 1.84693785e-02 2.00453398e-03]]\n"
     ]
    }
   ],
   "source": [
    "# output raw document-topic matrix for t-SNE plot\n",
    "\n",
    "nmf_transform = nmf.transform(clean_vec2)\n",
    "print(nmf_transform.shape)\n",
    "print(nmf_transform)"
   ]
  },
  {
   "cell_type": "code",
   "execution_count": 73,
   "metadata": {},
   "outputs": [
    {
     "name": "stdout",
     "output_type": "stream",
     "text": [
      "LENGTH:\n",
      "92948\n",
      "\n",
      "COUNTS:\n",
      "[[    0 28976]\n",
      " [    1 32946]\n",
      " [    2 22147]\n",
      " [    3  8879]]\n",
      "\n"
     ]
    },
    {
     "data": {
      "image/png": "[encoded data removed]",
      "text/plain": [
       "<Figure size 432x288 with 1 Axes>"
      ]
     },
     "metadata": {
      "needs_background": "light"
     },
     "output_type": "display_data"
    }
   ],
   "source": [
    "# run function to produce t-SNE plot\n",
    "\n",
    "plot_tsne(data=nmf_transform, threshold=0)"
   ]
  },
  {
   "cell_type": "code",
   "execution_count": null,
   "metadata": {},
   "outputs": [],
   "source": [
    "# Exercise 7.12 Unit Test\n",
    "\n",
    "def unittest_exercise_7_12(output):\n",
    "    # dimensions of output\n",
    "    output_shape = output.shape\n",
    "    assert (92948, 4) == output_shape, \"Dimensions of output incorrect.\"\n",
    "\n",
    "unittest_exercise_7_12(output=nmf_transform)"
   ]
  },
  {
   "cell_type": "code",
   "execution_count": null,
   "metadata": {},
   "outputs": [],
   "source": []
  }
 ],
 "metadata": {
  "kernelspec": {
   "display_name": "Python 3",
   "language": "python",
   "name": "python3"
  },
  "language_info": {
   "codemirror_mode": {
    "name": "ipython",
    "version": 3
   },
   "file_extension": ".py",
   "mimetype": "text/x-python",
   "name": "python",
   "nbconvert_exporter": "python",
   "pygments_lexer": "ipython3",
   "version": "3.7.4"
  }
 },
 "nbformat": 4,
 "nbformat_minor": 2
}
