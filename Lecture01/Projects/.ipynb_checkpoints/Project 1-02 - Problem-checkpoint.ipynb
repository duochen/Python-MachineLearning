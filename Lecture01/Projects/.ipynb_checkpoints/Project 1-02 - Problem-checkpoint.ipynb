{
 "cells": [
  {
   "cell_type": "markdown",
   "id": "d15fbe68",
   "metadata": {},
   "source": [
    "# Project 1-02: Pre-processing an Entire Dataset"
   ]
  },
  {
   "cell_type": "code",
   "execution_count": 2,
   "id": "eb8b5d50",
   "metadata": {},
   "outputs": [],
   "source": [
    "# Import seaborn and the LabelEncoder class from scikit-learn. Next, load the \n",
    "# Titanic dataset and create the features matrix, including the following features: \n",
    "# sex, age, fare, class, embark_town, and alone."
   ]
  },
  {
   "cell_type": "code",
   "execution_count": 3,
   "id": "62a75d2d",
   "metadata": {},
   "outputs": [],
   "source": [
    "# Check for missing values and outliers in all the features of the features matrix (X). \n",
    "# Choose a methodology to handle them."
   ]
  },
  {
   "cell_type": "code",
   "execution_count": 4,
   "id": "3e4f23ff",
   "metadata": {},
   "outputs": [],
   "source": [
    "# Convert all text features into their numeric representations"
   ]
  },
  {
   "cell_type": "code",
   "execution_count": 5,
   "id": "590204ba",
   "metadata": {},
   "outputs": [],
   "source": [
    "# Rescale your data, either by normalizing or standardizing it."
   ]
  },
  {
   "cell_type": "code",
   "execution_count": null,
   "id": "e148ac9a",
   "metadata": {},
   "outputs": [],
   "source": []
  }
 ],
 "metadata": {
  "kernelspec": {
   "display_name": "Python 3 (ipykernel)",
   "language": "python",
   "name": "python3"
  },
  "language_info": {
   "codemirror_mode": {
    "name": "ipython",
    "version": 3
   },
   "file_extension": ".py",
   "mimetype": "text/x-python",
   "name": "python",
   "nbconvert_exporter": "python",
   "pygments_lexer": "ipython3",
   "version": "3.9.7"
  }
 },
 "nbformat": 4,
 "nbformat_minor": 5
}
