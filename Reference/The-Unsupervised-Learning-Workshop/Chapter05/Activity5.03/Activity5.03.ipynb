{
 "cells": [
  {
   "cell_type": "code",
   "execution_count": 1,
   "metadata": {},
   "outputs": [
    {
     "name": "stderr",
     "output_type": "stream",
     "text": [
      "Using TensorFlow backend.\n"
     ]
    }
   ],
   "source": [
    "import pickle\n",
    "import numpy as np\n",
    "import matplotlib.pyplot as plt\n",
    "from keras.models import Model\n",
    "from keras.layers import Input, Conv2D, MaxPooling2D, UpSampling2D\n",
    "\n",
    "import tensorflow.python.util.deprecation as deprecation\n",
    "deprecation._PRINT_DEPRECATION_WARNINGS = False"
   ]
  },
  {
   "cell_type": "code",
   "execution_count": 2,
   "metadata": {},
   "outputs": [],
   "source": [
    "with open('mnist.pkl', 'rb') as f:\n",
    "    images = pickle.load(f)['images']"
   ]
  },
  {
   "cell_type": "code",
   "execution_count": 3,
   "metadata": {},
   "outputs": [],
   "source": [
    "images = images / 255."
   ]
  },
  {
   "cell_type": "code",
   "execution_count": 4,
   "metadata": {},
   "outputs": [],
   "source": [
    "images = images.reshape((-1, 28, 28, 1))"
   ]
  },
  {
   "cell_type": "code",
   "execution_count": 5,
   "metadata": {},
   "outputs": [],
   "source": [
    "input_layer = Input(shape=(28, 28, 1,))"
   ]
  },
  {
   "cell_type": "code",
   "execution_count": 6,
   "metadata": {},
   "outputs": [],
   "source": [
    "hidden_encoding = Conv2D(\n",
    "    16, # Number of layers or filters in the weight matrix\n",
    "    (3, 3), # Shape of the weight matrix\n",
    "    activation='relu',\n",
    "    padding='same', # How to apply the weights to the images\n",
    ")(input_layer)"
   ]
  },
  {
   "cell_type": "code",
   "execution_count": 7,
   "metadata": {},
   "outputs": [],
   "source": [
    "encoded = MaxPooling2D((2, 2))(hidden_encoding)"
   ]
  },
  {
   "cell_type": "code",
   "execution_count": 8,
   "metadata": {},
   "outputs": [],
   "source": [
    "hidden_decoding = Conv2D(\n",
    "    16, # Number of layers or filters in the weight matrix\n",
    "    (3, 3), # Shape of the weight matrix\n",
    "    activation='relu',\n",
    "    padding='same', # How to apply the weights to the images\n",
    ")(encoded)"
   ]
  },
  {
   "cell_type": "code",
   "execution_count": 9,
   "metadata": {},
   "outputs": [],
   "source": [
    "upsample_decoding = UpSampling2D((2, 2))(hidden_decoding)"
   ]
  },
  {
   "cell_type": "code",
   "execution_count": 10,
   "metadata": {},
   "outputs": [],
   "source": [
    "decoded = Conv2D(\n",
    "    1, # Number of layers or filters in the weight matrix\n",
    "    (3, 3), # Shape of the weight matrix\n",
    "    activation='sigmoid',\n",
    "    padding='same', # How to apply the weights to the images\n",
    ")(upsample_decoding)"
   ]
  },
  {
   "cell_type": "code",
   "execution_count": 11,
   "metadata": {},
   "outputs": [],
   "source": [
    "autoencoder = Model(input_layer, decoded)"
   ]
  },
  {
   "cell_type": "code",
   "execution_count": 12,
   "metadata": {},
   "outputs": [
    {
     "name": "stdout",
     "output_type": "stream",
     "text": [
      "_________________________________________________________________\n",
      "Layer (type)                 Output Shape              Param #   \n",
      "=================================================================\n",
      "input_1 (InputLayer)         (None, 28, 28, 1)         0         \n",
      "_________________________________________________________________\n",
      "conv2d_1 (Conv2D)            (None, 28, 28, 16)        160       \n",
      "_________________________________________________________________\n",
      "max_pooling2d_1 (MaxPooling2 (None, 14, 14, 16)        0         \n",
      "_________________________________________________________________\n",
      "conv2d_2 (Conv2D)            (None, 14, 14, 16)        2320      \n",
      "_________________________________________________________________\n",
      "up_sampling2d_1 (UpSampling2 (None, 28, 28, 16)        0         \n",
      "_________________________________________________________________\n",
      "conv2d_3 (Conv2D)            (None, 28, 28, 1)         145       \n",
      "=================================================================\n",
      "Total params: 2,625\n",
      "Trainable params: 2,625\n",
      "Non-trainable params: 0\n",
      "_________________________________________________________________\n"
     ]
    }
   ],
   "source": [
    "autoencoder.summary()"
   ]
  },
  {
   "cell_type": "code",
   "execution_count": 13,
   "metadata": {},
   "outputs": [],
   "source": [
    "autoencoder.compile(loss='binary_crossentropy',\n",
    "              optimizer='adadelta')"
   ]
  },
  {
   "cell_type": "code",
   "execution_count": 14,
   "metadata": {},
   "outputs": [
    {
     "name": "stdout",
     "output_type": "stream",
     "text": [
      "Epoch 1/20\n",
      "10000/10000 [==============================] - 41s 4ms/step - loss: 0.1202\n",
      "Epoch 2/20\n",
      "10000/10000 [==============================] - 41s 4ms/step - loss: 0.0707\n",
      "Epoch 3/20\n",
      "10000/10000 [==============================] - 34s 3ms/step - loss: 0.0684\n",
      "Epoch 4/20\n",
      "10000/10000 [==============================] - 37s 4ms/step - loss: 0.0673\n",
      "Epoch 5/20\n",
      "10000/10000 [==============================] - 40s 4ms/step - loss: 0.0667\n",
      "Epoch 6/20\n",
      "10000/10000 [==============================] - 36s 4ms/step - loss: 0.0663\n",
      "Epoch 7/20\n",
      "10000/10000 [==============================] - 34s 3ms/step - loss: 0.0658\n",
      "Epoch 8/20\n",
      "10000/10000 [==============================] - 35s 3ms/step - loss: 0.0655\n",
      "Epoch 9/20\n",
      "10000/10000 [==============================] - 35s 3ms/step - loss: 0.0651\n",
      "Epoch 10/20\n",
      "10000/10000 [==============================] - 36s 4ms/step - loss: 0.0649\n",
      "Epoch 11/20\n",
      "10000/10000 [==============================] - 34s 3ms/step - loss: 0.0646\n",
      "Epoch 12/20\n",
      "10000/10000 [==============================] - 27s 3ms/step - loss: 0.0644\n",
      "Epoch 13/20\n",
      "10000/10000 [==============================] - 26s 3ms/step - loss: 0.0642\n",
      "Epoch 14/20\n",
      "10000/10000 [==============================] - 27s 3ms/step - loss: 0.0641\n",
      "Epoch 15/20\n",
      "10000/10000 [==============================] - 25s 2ms/step - loss: 0.0638\n",
      "Epoch 16/20\n",
      "10000/10000 [==============================] - 25s 3ms/step - loss: 0.0638\n",
      "Epoch 17/20\n",
      "10000/10000 [==============================] - 24s 2ms/step - loss: 0.0636\n",
      "Epoch 18/20\n",
      "10000/10000 [==============================] - 25s 2ms/step - loss: 0.0635\n",
      "Epoch 19/20\n",
      "10000/10000 [==============================] - 25s 3ms/step - loss: 0.0634\n",
      "Epoch 20/20\n",
      "10000/10000 [==============================] - 25s 2ms/step - loss: 0.0633\n"
     ]
    },
    {
     "data": {
      "text/plain": [
       "<keras.callbacks.History at 0x2acfe717a08>"
      ]
     },
     "execution_count": 14,
     "metadata": {},
     "output_type": "execute_result"
    }
   ],
   "source": [
    "autoencoder.fit(images, images, epochs=20)"
   ]
  },
  {
   "cell_type": "code",
   "execution_count": 15,
   "metadata": {},
   "outputs": [],
   "source": [
    "encoder_output = Model(input_layer, encoded).predict(images[:5])"
   ]
  },
  {
   "cell_type": "code",
   "execution_count": 16,
   "metadata": {},
   "outputs": [],
   "source": [
    "encoder_output = encoder_output.reshape((-1, 14 * 14, 16))"
   ]
  },
  {
   "cell_type": "code",
   "execution_count": 17,
   "metadata": {},
   "outputs": [],
   "source": [
    "decoder_output = autoencoder.predict(images[:5])"
   ]
  },
  {
   "cell_type": "code",
   "execution_count": 18,
   "metadata": {},
   "outputs": [],
   "source": [
    "decoder_output = decoder_output.reshape((-1, 28, 28))"
   ]
  },
  {
   "cell_type": "code",
   "execution_count": 19,
   "metadata": {},
   "outputs": [],
   "source": [
    "images = images.reshape((-1, 28, 28))"
   ]
  },
  {
   "cell_type": "code",
   "execution_count": 20,
   "metadata": {},
   "outputs": [
    {
     "data": {
      "image/png": "[encoded data removed]",
      "text/plain": [
       "<Figure size 720x504 with 15 Axes>"
      ]
     },
     "metadata": {
      "needs_background": "light"
     },
     "output_type": "display_data"
    }
   ],
   "source": [
    "plt.figure(figsize=(10, 7))\n",
    "for i in range(5):\n",
    "    # Plot original digit images\n",
    "    plt.subplot(3, 5, i + 1)\n",
    "    plt.imshow(images[i], cmap='gray')\n",
    "    plt.axis('off')\n",
    "    \n",
    "    # Plot the encoder output\n",
    "    plt.subplot(3, 5, i + 6)\n",
    "    plt.imshow(encoder_output[i], cmap='gray')\n",
    "    plt.axis('off')   \n",
    "    \n",
    "    # Plot the decoder output\n",
    "    plt.subplot(3, 5, i + 11)\n",
    "    plt.imshow(decoder_output[i], cmap='gray')\n",
    "    plt.axis('off')        "
   ]
  }
 ],
 "metadata": {
  "kernelspec": {
   "display_name": "Python 3",
   "language": "python",
   "name": "python3"
  },
  "language_info": {
   "codemirror_mode": {
    "name": "ipython",
    "version": 3
   },
   "file_extension": ".py",
   "mimetype": "text/x-python",
   "name": "python",
   "nbconvert_exporter": "python",
   "pygments_lexer": "ipython3",
   "version": "3.7.4"
  }
 },
 "nbformat": 4,
 "nbformat_minor": 2
}
