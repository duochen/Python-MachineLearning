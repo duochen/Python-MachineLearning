{
 "cells": [
  {
   "cell_type": "code",
   "execution_count": 1,
   "metadata": {},
   "outputs": [],
   "source": [
    "import pickle\n",
    "import numpy as np\n",
    "import matplotlib.pyplot as plt\n",
    "\n",
    "# from keras.models import Model\n",
    "# from keras.layers import Input, Conv2D, MaxPooling2D, UpSampling2D\n",
    "\n",
    "# import tensorflow.python.util.deprecation as deprecation\n",
    "# deprecation._PRINT_DEPRECATION_WARNINGS = False\n",
    "\n",
    "\n",
    "from tensorflow.keras.models import Model\n",
    "from tensorflow.keras.layers import Input, Conv2D, MaxPooling2D, UpSampling2D"
   ]
  },
  {
   "cell_type": "code",
   "execution_count": 2,
   "metadata": {},
   "outputs": [],
   "source": [
    "with open('data_batch_1', 'rb') as f:\n",
    "    batch_1 = pickle.load(f, encoding='bytes')"
   ]
  },
  {
   "cell_type": "code",
   "execution_count": 3,
   "metadata": {},
   "outputs": [],
   "source": [
    "images = np.zeros((10000, 32, 32, 3), dtype='uint8')\n",
    "\n",
    "for idx, img in enumerate(batch_1[b'data']):\n",
    "    images[idx, :, :, 0] = img[:1024].reshape((32, 32)) # Red\n",
    "    images[idx, :, :, 1] = img[1024:2048].reshape((32, 32)) # Green\n",
    "    images[idx, :, :, 2] = img[2048:].reshape((32, 32)) # Blue"
   ]
  },
  {
   "cell_type": "code",
   "execution_count": 4,
   "metadata": {},
   "outputs": [],
   "source": [
    "images = images / 255."
   ]
  },
  {
   "cell_type": "code",
   "execution_count": 5,
   "metadata": {},
   "outputs": [],
   "source": [
    "input_layer = Input(shape=(32, 32, 3,))"
   ]
  },
  {
   "cell_type": "code",
   "execution_count": 6,
   "metadata": {},
   "outputs": [],
   "source": [
    "hidden_encoding = Conv2D(\n",
    "    32, # Number of filters in the weight matrix\n",
    "    (3, 3), # Shape of the weight matrix\n",
    "    activation='relu',\n",
    "    padding='same', # Retaining dimensions between input and output\n",
    ")(input_layer)"
   ]
  },
  {
   "cell_type": "code",
   "execution_count": 7,
   "metadata": {},
   "outputs": [],
   "source": [
    "encoded = MaxPooling2D((2, 2))(hidden_encoding)"
   ]
  },
  {
   "cell_type": "code",
   "execution_count": 8,
   "metadata": {},
   "outputs": [],
   "source": [
    "hidden_decoding = Conv2D(\n",
    "    32, # Number of filters in the weight matrix\n",
    "    (3, 3), # Shape of the weight matrix\n",
    "    activation='relu',\n",
    "    padding='same', # Retaining dimensions between input and output\n",
    ")(encoded)"
   ]
  },
  {
   "cell_type": "code",
   "execution_count": 9,
   "metadata": {},
   "outputs": [],
   "source": [
    "upsample_decoding = UpSampling2D((2, 2))(hidden_decoding)"
   ]
  },
  {
   "cell_type": "code",
   "execution_count": 10,
   "metadata": {},
   "outputs": [],
   "source": [
    "decoded = Conv2D(\n",
    "    3, # Number of filters in the weight matrix\n",
    "    (3, 3), # Shape of the weight matrix\n",
    "    activation='sigmoid',\n",
    "    padding='same', # Retaining dimensions between input and output\n",
    ")(upsample_decoding)"
   ]
  },
  {
   "cell_type": "code",
   "execution_count": 11,
   "metadata": {},
   "outputs": [],
   "source": [
    "autoencoder = Model(input_layer, decoded)"
   ]
  },
  {
   "cell_type": "code",
   "execution_count": 12,
   "metadata": {},
   "outputs": [
    {
     "name": "stdout",
     "output_type": "stream",
     "text": [
      "Model: \"model\"\n",
      "_________________________________________________________________\n",
      "Layer (type)                 Output Shape              Param #   \n",
      "=================================================================\n",
      "input_1 (InputLayer)         [(None, 32, 32, 3)]       0         \n",
      "_________________________________________________________________\n",
      "conv2d (Conv2D)              (None, 32, 32, 32)        896       \n",
      "_________________________________________________________________\n",
      "max_pooling2d (MaxPooling2D) (None, 16, 16, 32)        0         \n",
      "_________________________________________________________________\n",
      "conv2d_1 (Conv2D)            (None, 16, 16, 32)        9248      \n",
      "_________________________________________________________________\n",
      "up_sampling2d (UpSampling2D) (None, 32, 32, 32)        0         \n",
      "_________________________________________________________________\n",
      "conv2d_2 (Conv2D)            (None, 32, 32, 3)         867       \n",
      "=================================================================\n",
      "Total params: 11,011\n",
      "Trainable params: 11,011\n",
      "Non-trainable params: 0\n",
      "_________________________________________________________________\n"
     ]
    }
   ],
   "source": [
    "autoencoder.summary()"
   ]
  },
  {
   "cell_type": "code",
   "execution_count": 13,
   "metadata": {},
   "outputs": [],
   "source": [
    "autoencoder.compile(loss='binary_crossentropy',\n",
    "              optimizer='adadelta')"
   ]
  },
  {
   "cell_type": "code",
   "execution_count": 14,
   "metadata": {},
   "outputs": [
    {
     "name": "stdout",
     "output_type": "stream",
     "text": [
      "Train on 10000 samples\n",
      "Epoch 1/2\n",
      "10000/10000 [==============================] - 38s 4ms/sample - loss: 0.7076\n",
      "Epoch 2/2\n",
      "10000/10000 [==============================] - 34s 3ms/sample - loss: 0.7032\n"
     ]
    },
    {
     "data": {
      "text/plain": [
       "<tensorflow.python.keras.callbacks.History at 0x7f8e557999b0>"
      ]
     },
     "execution_count": 14,
     "metadata": {},
     "output_type": "execute_result"
    }
   ],
   "source": [
    "autoencoder.fit(images, images, epochs=20)"
   ]
  },
  {
   "cell_type": "code",
   "execution_count": 15,
   "metadata": {},
   "outputs": [],
   "source": [
    "encoder_output = Model(input_layer, encoded).predict(images[:5])"
   ]
  },
  {
   "cell_type": "code",
   "execution_count": 16,
   "metadata": {},
   "outputs": [],
   "source": [
    "encoder_output = encoder_output.reshape((-1, 256, 32))"
   ]
  },
  {
   "cell_type": "code",
   "execution_count": 17,
   "metadata": {},
   "outputs": [],
   "source": [
    "decoder_output = autoencoder.predict(images[:5])"
   ]
  },
  {
   "cell_type": "code",
   "execution_count": 18,
   "metadata": {},
   "outputs": [
    {
     "data": {
      "image/png": "[encoded data removed]",
      "text/plain": [
       "<Figure size 720x504 with 15 Axes>"
      ]
     },
     "metadata": {
      "needs_background": "light"
     },
     "output_type": "display_data"
    }
   ],
   "source": [
    "plt.figure(figsize=(10, 7))\n",
    "for i in range(5):\n",
    "    # Plot original images\n",
    "    plt.subplot(3, 5, i + 1)\n",
    "    plt.imshow(images[i], cmap='gray')\n",
    "    plt.axis('off')\n",
    "    \n",
    "    # Plot encoder output\n",
    "    plt.subplot(3, 5, i + 6)\n",
    "    plt.imshow(encoder_output[i], cmap='gray')\n",
    "    plt.axis('off')   \n",
    "    \n",
    "    # Plot decoder output\n",
    "    plt.subplot(3, 5, i + 11)\n",
    "    plt.imshow(decoder_output[i])\n",
    "    plt.axis('off')        "
   ]
  },
  {
   "cell_type": "code",
   "execution_count": null,
   "metadata": {},
   "outputs": [],
   "source": []
  },
  {
   "cell_type": "code",
   "execution_count": null,
   "metadata": {},
   "outputs": [],
   "source": []
  },
  {
   "cell_type": "code",
   "execution_count": null,
   "metadata": {},
   "outputs": [],
   "source": []
  },
  {
   "cell_type": "code",
   "execution_count": 19,
   "metadata": {},
   "outputs": [],
   "source": [
    "#  Unit Test"
   ]
  },
  {
   "cell_type": "code",
   "execution_count": 20,
   "metadata": {},
   "outputs": [],
   "source": [
    "import unittest\n",
    "class TestEncodeDecode(unittest.TestCase):   \n",
    "    \n",
    "    def test_batch_1(self):\n",
    "        self.assertEqual(len(batch_1),4)\n",
    "        \n",
    "    def test_images(self):\n",
    "        self.assertEqual(len(images),10000)\n",
    "        \n",
    "    def test_input_layer_shape(self):\n",
    "        self.assertListEqual(list(input_layer.shape),[None, 32, 32, 3])\n",
    "        \n",
    "    def test_hidden_encoding_shape(self):\n",
    "        self.assertListEqual(list(hidden_encoding.shape),[None, 32, 32, 32])\n",
    "        \n",
    "    def test_encoded(self):\n",
    "        self.assertListEqual(list(encoded.shape),[None, 16, 16, 32])\n",
    "        \n",
    "    def test_hidden_decoding_shape(self):\n",
    "        self.assertListEqual(list(hidden_decoding.shape),[None, 16, 16, 32])\n",
    "        \n",
    "    def test_upsample_decoding_shape(self):\n",
    "        self.assertListEqual(list(upsample_decoding.shape),[None, 32, 32, 32])\n",
    "        \n",
    "        \n",
    "    def test_decoded(self):\n",
    "        self.assertListEqual(list(decoded.shape),[None, 32, 32, 3])\n",
    "        \n",
    "        \n",
    "    def test_encoder_output_len(self):\n",
    "        self.assertEqual(len(encoder_output),5)\n",
    "        \n",
    "    def test_decoder_output_len(self):\n",
    "        self.assertEqual(len(decoder_output),5)\n",
    "        \n",
    "         "
   ]
  },
  {
   "cell_type": "code",
   "execution_count": 21,
   "metadata": {},
   "outputs": [
    {
     "name": "stderr",
     "output_type": "stream",
     "text": [
      "test_batch_1 (__main__.TestEncodeDecode) ... ok\n",
      "test_decoded (__main__.TestEncodeDecode) ... ok\n",
      "test_decoder_output_len (__main__.TestEncodeDecode) ... ok\n",
      "test_encoded (__main__.TestEncodeDecode) ... ok\n",
      "test_encoder_output_len (__main__.TestEncodeDecode) ... ok\n",
      "test_hidden_decoding_shape (__main__.TestEncodeDecode) ... ok\n",
      "test_hidden_encoding_shape (__main__.TestEncodeDecode) ... ok\n",
      "test_images (__main__.TestEncodeDecode) ... ok\n",
      "test_input_layer_shape (__main__.TestEncodeDecode) ... ok\n",
      "test_upsample_decoding_shape (__main__.TestEncodeDecode) ... ok\n",
      "\n",
      "----------------------------------------------------------------------\n",
      "Ran 10 tests in 0.018s\n",
      "\n",
      "OK\n"
     ]
    },
    {
     "data": {
      "text/plain": [
       "<unittest.runner.TextTestResult run=10 errors=0 failures=0>"
      ]
     },
     "execution_count": 21,
     "metadata": {},
     "output_type": "execute_result"
    }
   ],
   "source": [
    "suite = unittest.TestLoader().loadTestsFromTestCase(TestEncodeDecode)\n",
    "unittest.TextTestRunner(verbosity=2).run(suite)"
   ]
  },
  {
   "cell_type": "code",
   "execution_count": null,
   "metadata": {},
   "outputs": [],
   "source": []
  }
 ],
 "metadata": {
  "kernelspec": {
   "display_name": "Python 3",
   "language": "python",
   "name": "python3"
  },
  "language_info": {
   "codemirror_mode": {
    "name": "ipython",
    "version": 3
   },
   "file_extension": ".py",
   "mimetype": "text/x-python",
   "name": "python",
   "nbconvert_exporter": "python",
   "pygments_lexer": "ipython3",
   "version": "3.6.8"
  }
 },
 "nbformat": 4,
 "nbformat_minor": 2
}
