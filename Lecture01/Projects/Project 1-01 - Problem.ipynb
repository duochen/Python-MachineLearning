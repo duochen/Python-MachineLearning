{
 "cells": [
  {
   "cell_type": "markdown",
   "id": "51255a32",
   "metadata": {},
   "source": [
    "# Project 1-01: Selecting a Target Feature and Creating a Target Matrix"
   ]
  },
  {
   "cell_type": "code",
   "execution_count": 1,
   "id": "d2c8421c",
   "metadata": {},
   "outputs": [],
   "source": [
    "# Load the titanic dataset using the seaborn library"
   ]
  },
  {
   "cell_type": "code",
   "execution_count": 2,
   "id": "e14a5c7c",
   "metadata": {},
   "outputs": [],
   "source": [
    "# Select your preferred target feature for the goal of this activity"
   ]
  },
  {
   "cell_type": "code",
   "execution_count": 3,
   "id": "e1ab932f",
   "metadata": {},
   "outputs": [],
   "source": [
    "# Create both the features matrix and the target matrix. Make sure that you store \n",
    "# the data from the features matrix in a variable, X, and the data from the target \n",
    "# matrix in another variable, Y. "
   ]
  },
  {
   "cell_type": "code",
   "execution_count": null,
   "id": "03a6edaa",
   "metadata": {},
   "outputs": [],
   "source": [
    "# Print out the shape of each of the matrices, which should match the following values:\n",
    "# Features matrix: (891, 14)\n",
    "# Target matrix: (891, )"
   ]
  }
 ],
 "metadata": {
  "kernelspec": {
   "display_name": "Python 3 (ipykernel)",
   "language": "python",
   "name": "python3"
  },
  "language_info": {
   "codemirror_mode": {
    "name": "ipython",
    "version": 3
   },
   "file_extension": ".py",
   "mimetype": "text/x-python",
   "name": "python",
   "nbconvert_exporter": "python",
   "pygments_lexer": "ipython3",
   "version": "3.9.7"
  }
 },
 "nbformat": 4,
 "nbformat_minor": 5
}
