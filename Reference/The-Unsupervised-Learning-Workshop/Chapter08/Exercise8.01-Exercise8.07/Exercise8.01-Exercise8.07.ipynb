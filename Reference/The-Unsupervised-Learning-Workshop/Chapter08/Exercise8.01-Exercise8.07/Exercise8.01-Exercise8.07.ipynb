{
 "cells": [
  {
   "cell_type": "markdown",
   "metadata": {
    "colab_type": "text",
    "id": "vAM__pSGf5Pt"
   },
   "source": [
    "# CH. 8 - Market Basket Analysis\n",
    "## Exercises"
   ]
  },
  {
   "cell_type": "markdown",
   "metadata": {
    "colab_type": "text",
    "id": "C_nNF6aAf5P8"
   },
   "source": [
    "#### Exercise 8.01: Simple Transaction Data"
   ]
  },
  {
   "cell_type": "code",
   "execution_count": 0,
   "metadata": {
    "colab": {},
    "colab_type": "code",
    "id": "o9cGDEXCf5QB"
   },
   "outputs": [],
   "source": [
    "import matplotlib.pyplot as plt\n",
    "import mlxtend.frequent_patterns\n",
    "import mlxtend.preprocessing\n",
    "import numpy\n",
    "import pandas"
   ]
  },
  {
   "cell_type": "code",
   "execution_count": 0,
   "metadata": {
    "colab": {},
    "colab_type": "code",
    "id": "cGZWj6G9f5QM"
   },
   "outputs": [],
   "source": [
    "example = [\n",
    "    ['milk', 'bread', 'apples', 'cereal', 'jelly', 'cookies', 'salad', 'tomatoes'],\n",
    "    ['beer', 'milk', 'chips', 'salsa', 'grapes', 'wine', 'potatoes', 'eggs', 'carrots'],\n",
    "    ['diapers', 'baby formula', 'milk', 'bread', 'chicken', 'asparagus', 'cookies'],\n",
    "    ['milk', 'cookies', 'chicken', 'asparagus', 'broccoli', 'cereal', 'orange juice'],\n",
    "    ['steak', 'asparagus', 'broccoli', 'chips', 'salsa', 'ketchup', 'potatoes', 'salad'],\n",
    "    ['beer', 'salsa', 'asparagus', 'wine', 'cheese', 'crackers', 'strawberries', 'cookies'],\n",
    "    ['chocolate cake', 'strawberries', 'wine', 'cheese', 'beer', 'milk', 'orange juice'],\n",
    "    ['chicken', 'peas', 'broccoli', 'milk', 'bread', 'eggs', 'potatoes', 'ketchup', 'crackers'],\n",
    "    ['eggs', 'bread', 'cheese', 'turkey', 'salad', 'tomatoes', 'wine', 'steak', 'carrots'],\n",
    "    ['bread', 'milk', 'tomatoes', 'cereal', 'chicken', 'turkey', 'chips', 'salsa', 'diapers']\n",
    "]"
   ]
  },
  {
   "cell_type": "code",
   "execution_count": 3,
   "metadata": {
    "colab": {
     "base_uri": "https://localhost:8080/",
     "height": 54
    },
    "colab_type": "code",
    "id": "lNQ8WGZhf5Qe",
    "outputId": "1d267ab7-619d-4460-a3ca-c8467c878d2e"
   },
   "outputs": [
    {
     "name": "stdout",
     "output_type": "stream",
     "text": [
      "[['milk', 'bread', 'apples', 'cereal', 'jelly', 'cookies', 'salad', 'tomatoes'], ['beer', 'milk', 'chips', 'salsa', 'grapes', 'wine', 'potatoes', 'eggs', 'carrots'], ['diapers', 'baby formula', 'milk', 'bread', 'chicken', 'asparagus', 'cookies'], ['milk', 'cookies', 'chicken', 'asparagus', 'broccoli', 'cereal', 'orange juice'], ['steak', 'asparagus', 'broccoli', 'chips', 'salsa', 'ketchup', 'potatoes', 'salad'], ['beer', 'salsa', 'asparagus', 'wine', 'cheese', 'crackers', 'strawberries', 'cookies'], ['chocolate cake', 'strawberries', 'wine', 'cheese', 'beer', 'milk', 'orange juice'], ['chicken', 'peas', 'broccoli', 'milk', 'bread', 'eggs', 'potatoes', 'ketchup', 'crackers'], ['eggs', 'bread', 'cheese', 'turkey', 'salad', 'tomatoes', 'wine', 'steak', 'carrots'], ['bread', 'milk', 'tomatoes', 'cereal', 'chicken', 'turkey', 'chips', 'salsa', 'diapers']]\n"
     ]
    }
   ],
   "source": [
    "print(example)"
   ]
  },
  {
   "cell_type": "markdown",
   "metadata": {
    "colab_type": "text",
    "id": "jkXS9DdHf5Qw"
   },
   "source": [
    "#### Exercise 8.02: Computing Metrics"
   ]
  },
  {
   "cell_type": "code",
   "execution_count": 4,
   "metadata": {
    "colab": {
     "base_uri": "https://localhost:8080/",
     "height": 85
    },
    "colab_type": "code",
    "id": "b5kmwORMf5Q5",
    "outputId": "8f28655c-d796-4c5b-91d1-110110e7bb86"
   },
   "outputs": [
    {
     "name": "stdout",
     "output_type": "stream",
     "text": [
      "N = 10\n",
      "Freq(x) = 7\n",
      "Freq(y) = 5\n",
      "Freq(x, y) = 4\n"
     ]
    }
   ],
   "source": [
    "# the number of transactions\n",
    "N = len(example)\n",
    "# the frequency of milk\n",
    "f_x = sum(['milk' in i for i in example])\n",
    "# the frequency of bread\n",
    "f_y = sum(['bread' in i for i in example])\n",
    "# the frequency of milk and bread\n",
    "f_x_y = sum([\n",
    "    all(w in i for w in ['milk', 'bread']) \n",
    "    for i in example\n",
    "])\n",
    "# print out the metrics computed above\n",
    "print(\n",
    "    \"N = {}\\n\".format(N) + \n",
    "    \"Freq(x) = {}\\n\".format(f_x) + \n",
    "    \"Freq(y) = {}\\n\".format(f_y) + \n",
    "    \"Freq(x, y) = {}\".format(f_x_y)\n",
    ")"
   ]
  },
  {
   "cell_type": "code",
   "execution_count": 5,
   "metadata": {
    "colab": {
     "base_uri": "https://localhost:8080/",
     "height": 34
    },
    "colab_type": "code",
    "id": "DqCmaTqhf5RF",
    "outputId": "469031d1-ed7e-45c6-d7a6-0209c44b3ce9"
   },
   "outputs": [
    {
     "name": "stdout",
     "output_type": "stream",
     "text": [
      "Support = 0.4\n"
     ]
    }
   ],
   "source": [
    "# support (supp)\n",
    "\n",
    "support = f_x_y / N\n",
    "print(\"Support = {}\".format(round(support, 4)))"
   ]
  },
  {
   "cell_type": "code",
   "execution_count": 6,
   "metadata": {
    "colab": {
     "base_uri": "https://localhost:8080/",
     "height": 34
    },
    "colab_type": "code",
    "id": "1hUYlCc0f5RZ",
    "outputId": "60fc36aa-df6e-4f2f-8744-f2e9ed4039dd"
   },
   "outputs": [
    {
     "name": "stdout",
     "output_type": "stream",
     "text": [
      "Confidence = 0.5714\n"
     ]
    }
   ],
   "source": [
    "# confidence: x -> y\n",
    "\n",
    "confidence = support / (f_x / N)\n",
    "print(\"Confidence = {}\".format(round(confidence, 4)))"
   ]
  },
  {
   "cell_type": "code",
   "execution_count": 7,
   "metadata": {
    "colab": {
     "base_uri": "https://localhost:8080/",
     "height": 34
    },
    "colab_type": "code",
    "id": "PPNr72sGf5R6",
    "outputId": "b2d6c5dd-afe7-4af1-bb17-de423e497267"
   },
   "outputs": [
    {
     "name": "stdout",
     "output_type": "stream",
     "text": [
      "Lift = 1.1429\n"
     ]
    }
   ],
   "source": [
    "# lift: x -> y\n",
    "\n",
    "lift = confidence / (f_y / N)\n",
    "print(\"Lift = {}\".format(round(lift, 4)))"
   ]
  },
  {
   "cell_type": "code",
   "execution_count": 8,
   "metadata": {
    "colab": {
     "base_uri": "https://localhost:8080/",
     "height": 34
    },
    "colab_type": "code",
    "id": "YyEi8lKBf5SB",
    "outputId": "25f54324-96f2-4ec1-db72-acf261f2cfc2"
   },
   "outputs": [
    {
     "name": "stdout",
     "output_type": "stream",
     "text": [
      "Leverage = 0.05\n"
     ]
    }
   ],
   "source": [
    "# leverage: x -> y\n",
    "\n",
    "leverage = support - ((f_x / N) * (f_y / N))\n",
    "print(\"Leverage = {}\".format(round(leverage, 4)))"
   ]
  },
  {
   "cell_type": "code",
   "execution_count": 9,
   "metadata": {
    "colab": {
     "base_uri": "https://localhost:8080/",
     "height": 34
    },
    "colab_type": "code",
    "id": "qE5ft71gf5SJ",
    "outputId": "dfdcc58c-7c7e-40fc-9886-aa6b6efebd55"
   },
   "outputs": [
    {
     "name": "stdout",
     "output_type": "stream",
     "text": [
      "Conviction = 1.1667\n"
     ]
    }
   ],
   "source": [
    "# conviction: x -> y\n",
    "\n",
    "conviction = (1 - (f_y / N)) / (1 - confidence)\n",
    "print(\"Conviction = {}\".format(round(conviction, 4)))"
   ]
  },
  {
   "cell_type": "markdown",
   "metadata": {
    "colab_type": "text",
    "id": "83FIxuA5f5SS"
   },
   "source": [
    "#### Exercise 8.03: Data Loading"
   ]
  },
  {
   "cell_type": "code",
   "execution_count": 0,
   "metadata": {
    "colab": {},
    "colab_type": "code",
    "id": "X3EuKRoKf5SU"
   },
   "outputs": [],
   "source": [
    "online = pandas.read_excel(\n",
    "    io=\"./Online Retail.xlsx\", \n",
    "    sheet_name=\"Online Retail\", \n",
    "    header=0\n",
    ")"
   ]
  },
  {
   "cell_type": "code",
   "execution_count": 13,
   "metadata": {
    "colab": {
     "base_uri": "https://localhost:8080/",
     "height": 359
    },
    "colab_type": "code",
    "id": "Np-8F3Vyf5Sc",
    "outputId": "8082c199-40ec-4d5a-84b7-f1454e47e8c9"
   },
   "outputs": [
    {
     "data": {
      "text/html": [
       "<div>\n",
       "<style scoped>\n",
       "    .dataframe tbody tr th:only-of-type {\n",
       "        vertical-align: middle;\n",
       "    }\n",
       "\n",
       "    .dataframe tbody tr th {\n",
       "        vertical-align: top;\n",
       "    }\n",
       "\n",
       "    .dataframe thead th {\n",
       "        text-align: right;\n",
       "    }\n",
       "</style>\n",
       "<table border=\"1\" class=\"dataframe\">\n",
       "  <thead>\n",
       "    <tr style=\"text-align: right;\">\n",
       "      <th></th>\n",
       "      <th>InvoiceNo</th>\n",
       "      <th>StockCode</th>\n",
       "      <th>Description</th>\n",
       "      <th>Quantity</th>\n",
       "      <th>InvoiceDate</th>\n",
       "      <th>UnitPrice</th>\n",
       "      <th>CustomerID</th>\n",
       "      <th>Country</th>\n",
       "    </tr>\n",
       "  </thead>\n",
       "  <tbody>\n",
       "    <tr>\n",
       "      <th>0</th>\n",
       "      <td>536365</td>\n",
       "      <td>85123A</td>\n",
       "      <td>WHITE HANGING HEART T-LIGHT HOLDER</td>\n",
       "      <td>6</td>\n",
       "      <td>2010-12-01 08:26:00</td>\n",
       "      <td>2.55</td>\n",
       "      <td>17850.0</td>\n",
       "      <td>United Kingdom</td>\n",
       "    </tr>\n",
       "    <tr>\n",
       "      <th>1</th>\n",
       "      <td>536365</td>\n",
       "      <td>71053</td>\n",
       "      <td>WHITE METAL LANTERN</td>\n",
       "      <td>6</td>\n",
       "      <td>2010-12-01 08:26:00</td>\n",
       "      <td>3.39</td>\n",
       "      <td>17850.0</td>\n",
       "      <td>United Kingdom</td>\n",
       "    </tr>\n",
       "    <tr>\n",
       "      <th>2</th>\n",
       "      <td>536365</td>\n",
       "      <td>84406B</td>\n",
       "      <td>CREAM CUPID HEARTS COAT HANGER</td>\n",
       "      <td>8</td>\n",
       "      <td>2010-12-01 08:26:00</td>\n",
       "      <td>2.75</td>\n",
       "      <td>17850.0</td>\n",
       "      <td>United Kingdom</td>\n",
       "    </tr>\n",
       "    <tr>\n",
       "      <th>3</th>\n",
       "      <td>536365</td>\n",
       "      <td>84029G</td>\n",
       "      <td>KNITTED UNION FLAG HOT WATER BOTTLE</td>\n",
       "      <td>6</td>\n",
       "      <td>2010-12-01 08:26:00</td>\n",
       "      <td>3.39</td>\n",
       "      <td>17850.0</td>\n",
       "      <td>United Kingdom</td>\n",
       "    </tr>\n",
       "    <tr>\n",
       "      <th>4</th>\n",
       "      <td>536365</td>\n",
       "      <td>84029E</td>\n",
       "      <td>RED WOOLLY HOTTIE WHITE HEART.</td>\n",
       "      <td>6</td>\n",
       "      <td>2010-12-01 08:26:00</td>\n",
       "      <td>3.39</td>\n",
       "      <td>17850.0</td>\n",
       "      <td>United Kingdom</td>\n",
       "    </tr>\n",
       "    <tr>\n",
       "      <th>5</th>\n",
       "      <td>536365</td>\n",
       "      <td>22752</td>\n",
       "      <td>SET 7 BABUSHKA NESTING BOXES</td>\n",
       "      <td>2</td>\n",
       "      <td>2010-12-01 08:26:00</td>\n",
       "      <td>7.65</td>\n",
       "      <td>17850.0</td>\n",
       "      <td>United Kingdom</td>\n",
       "    </tr>\n",
       "    <tr>\n",
       "      <th>6</th>\n",
       "      <td>536365</td>\n",
       "      <td>21730</td>\n",
       "      <td>GLASS STAR FROSTED T-LIGHT HOLDER</td>\n",
       "      <td>6</td>\n",
       "      <td>2010-12-01 08:26:00</td>\n",
       "      <td>4.25</td>\n",
       "      <td>17850.0</td>\n",
       "      <td>United Kingdom</td>\n",
       "    </tr>\n",
       "    <tr>\n",
       "      <th>7</th>\n",
       "      <td>536366</td>\n",
       "      <td>22633</td>\n",
       "      <td>HAND WARMER UNION JACK</td>\n",
       "      <td>6</td>\n",
       "      <td>2010-12-01 08:28:00</td>\n",
       "      <td>1.85</td>\n",
       "      <td>17850.0</td>\n",
       "      <td>United Kingdom</td>\n",
       "    </tr>\n",
       "    <tr>\n",
       "      <th>8</th>\n",
       "      <td>536366</td>\n",
       "      <td>22632</td>\n",
       "      <td>HAND WARMER RED POLKA DOT</td>\n",
       "      <td>6</td>\n",
       "      <td>2010-12-01 08:28:00</td>\n",
       "      <td>1.85</td>\n",
       "      <td>17850.0</td>\n",
       "      <td>United Kingdom</td>\n",
       "    </tr>\n",
       "    <tr>\n",
       "      <th>9</th>\n",
       "      <td>536367</td>\n",
       "      <td>84879</td>\n",
       "      <td>ASSORTED COLOUR BIRD ORNAMENT</td>\n",
       "      <td>32</td>\n",
       "      <td>2010-12-01 08:34:00</td>\n",
       "      <td>1.69</td>\n",
       "      <td>13047.0</td>\n",
       "      <td>United Kingdom</td>\n",
       "    </tr>\n",
       "  </tbody>\n",
       "</table>\n",
       "</div>"
      ],
      "text/plain": [
       "  InvoiceNo StockCode  ... CustomerID         Country\n",
       "0    536365    85123A  ...    17850.0  United Kingdom\n",
       "1    536365     71053  ...    17850.0  United Kingdom\n",
       "2    536365    84406B  ...    17850.0  United Kingdom\n",
       "3    536365    84029G  ...    17850.0  United Kingdom\n",
       "4    536365    84029E  ...    17850.0  United Kingdom\n",
       "5    536365     22752  ...    17850.0  United Kingdom\n",
       "6    536365     21730  ...    17850.0  United Kingdom\n",
       "7    536366     22633  ...    17850.0  United Kingdom\n",
       "8    536366     22632  ...    17850.0  United Kingdom\n",
       "9    536367     84879  ...    13047.0  United Kingdom\n",
       "\n",
       "[10 rows x 8 columns]"
      ]
     },
     "execution_count": 13,
     "metadata": {
      "tags": []
     },
     "output_type": "execute_result"
    }
   ],
   "source": [
    "online.head(10)"
   ]
  },
  {
   "cell_type": "code",
   "execution_count": 14,
   "metadata": {
    "colab": {
     "base_uri": "https://localhost:8080/",
     "height": 170
    },
    "colab_type": "code",
    "id": "vRV-SDQqf5Sj",
    "outputId": "41a7ffdb-4357-49a8-b187-adece691a48d"
   },
   "outputs": [
    {
     "data": {
      "text/plain": [
       "InvoiceNo              object\n",
       "StockCode              object\n",
       "Description            object\n",
       "Quantity                int64\n",
       "InvoiceDate    datetime64[ns]\n",
       "UnitPrice             float64\n",
       "CustomerID            float64\n",
       "Country                object\n",
       "dtype: object"
      ]
     },
     "execution_count": 14,
     "metadata": {
      "tags": []
     },
     "output_type": "execute_result"
    }
   ],
   "source": [
    "online.dtypes"
   ]
  },
  {
   "cell_type": "code",
   "execution_count": 15,
   "metadata": {
    "colab": {
     "base_uri": "https://localhost:8080/",
     "height": 68
    },
    "colab_type": "code",
    "id": "gcvjFxLIf5Sw",
    "outputId": "53f6c2ef-13bb-4900-b89d-c63e39475725"
   },
   "outputs": [
    {
     "name": "stdout",
     "output_type": "stream",
     "text": [
      "Data dimension (row count, col count): (541909, 8)\n",
      "Count of unique invoice numbers: 25900\n",
      "Count of unique customer ids: 4372\n"
     ]
    }
   ],
   "source": [
    "print(\"Data dimension (row count, col count): {dim}\".format(dim=online.shape))\n",
    "print(\"Count of unique invoice numbers: {cnt}\".format(cnt=online.InvoiceNo.nunique()))\n",
    "print(\"Count of unique customer ids: {cnt}\".format(cnt=online.CustomerID.nunique()))"
   ]
  },
  {
   "cell_type": "markdown",
   "metadata": {
    "colab_type": "text",
    "id": "CMtjTyrUf5S-"
   },
   "source": [
    "#### Exercise 8.04: Data Cleaning and Formatting"
   ]
  },
  {
   "cell_type": "code",
   "execution_count": 0,
   "metadata": {
    "colab": {},
    "colab_type": "code",
    "id": "VWOs4yoKf5TB"
   },
   "outputs": [],
   "source": [
    "# create new column called IsCPresent\n",
    "online['IsCPresent'] = (\n",
    "# looking for C in InvoiceNo column\n",
    "    online['InvoiceNo']\n",
    "# convert column to string type for the apply function below\n",
    "    .astype(str)\n",
    "# set element to 1 if C present otherwise 0, this will helpful for step 2\n",
    "    .apply(lambda x: 1 if x.find('C') != -1 else 0)\n",
    ")"
   ]
  },
  {
   "cell_type": "code",
   "execution_count": 0,
   "metadata": {
    "colab": {},
    "colab_type": "code",
    "id": "sHbaTS8af5TK"
   },
   "outputs": [],
   "source": [
    "online1 = (\n",
    "    online\n",
    "    # filter out non-positive quantity values\n",
    "    .loc[online[\"Quantity\"] > 0]\n",
    "    # remove InvoiceNos starting with C\n",
    "    .loc[online['IsCPresent'] != 1]\n",
    "    # column filtering\n",
    "    .loc[:, [\"InvoiceNo\", \"Description\"]]\n",
    "    # dropping all rows with at least one missing value\n",
    "    .dropna()\n",
    ")"
   ]
  },
  {
   "cell_type": "code",
   "execution_count": 18,
   "metadata": {
    "colab": {
     "base_uri": "https://localhost:8080/",
     "height": 359
    },
    "colab_type": "code",
    "id": "583aPQJXf5TT",
    "outputId": "352756fd-9c02-4bea-975d-bf89b9b7f961"
   },
   "outputs": [
    {
     "data": {
      "text/html": [
       "<div>\n",
       "<style scoped>\n",
       "    .dataframe tbody tr th:only-of-type {\n",
       "        vertical-align: middle;\n",
       "    }\n",
       "\n",
       "    .dataframe tbody tr th {\n",
       "        vertical-align: top;\n",
       "    }\n",
       "\n",
       "    .dataframe thead th {\n",
       "        text-align: right;\n",
       "    }\n",
       "</style>\n",
       "<table border=\"1\" class=\"dataframe\">\n",
       "  <thead>\n",
       "    <tr style=\"text-align: right;\">\n",
       "      <th></th>\n",
       "      <th>InvoiceNo</th>\n",
       "      <th>Description</th>\n",
       "    </tr>\n",
       "  </thead>\n",
       "  <tbody>\n",
       "    <tr>\n",
       "      <th>0</th>\n",
       "      <td>536365</td>\n",
       "      <td>WHITE HANGING HEART T-LIGHT HOLDER</td>\n",
       "    </tr>\n",
       "    <tr>\n",
       "      <th>1</th>\n",
       "      <td>536365</td>\n",
       "      <td>WHITE METAL LANTERN</td>\n",
       "    </tr>\n",
       "    <tr>\n",
       "      <th>2</th>\n",
       "      <td>536365</td>\n",
       "      <td>CREAM CUPID HEARTS COAT HANGER</td>\n",
       "    </tr>\n",
       "    <tr>\n",
       "      <th>3</th>\n",
       "      <td>536365</td>\n",
       "      <td>KNITTED UNION FLAG HOT WATER BOTTLE</td>\n",
       "    </tr>\n",
       "    <tr>\n",
       "      <th>4</th>\n",
       "      <td>536365</td>\n",
       "      <td>RED WOOLLY HOTTIE WHITE HEART.</td>\n",
       "    </tr>\n",
       "    <tr>\n",
       "      <th>5</th>\n",
       "      <td>536365</td>\n",
       "      <td>SET 7 BABUSHKA NESTING BOXES</td>\n",
       "    </tr>\n",
       "    <tr>\n",
       "      <th>6</th>\n",
       "      <td>536365</td>\n",
       "      <td>GLASS STAR FROSTED T-LIGHT HOLDER</td>\n",
       "    </tr>\n",
       "    <tr>\n",
       "      <th>7</th>\n",
       "      <td>536366</td>\n",
       "      <td>HAND WARMER UNION JACK</td>\n",
       "    </tr>\n",
       "    <tr>\n",
       "      <th>8</th>\n",
       "      <td>536366</td>\n",
       "      <td>HAND WARMER RED POLKA DOT</td>\n",
       "    </tr>\n",
       "    <tr>\n",
       "      <th>9</th>\n",
       "      <td>536367</td>\n",
       "      <td>ASSORTED COLOUR BIRD ORNAMENT</td>\n",
       "    </tr>\n",
       "  </tbody>\n",
       "</table>\n",
       "</div>"
      ],
      "text/plain": [
       "  InvoiceNo                          Description\n",
       "0    536365   WHITE HANGING HEART T-LIGHT HOLDER\n",
       "1    536365                  WHITE METAL LANTERN\n",
       "2    536365       CREAM CUPID HEARTS COAT HANGER\n",
       "3    536365  KNITTED UNION FLAG HOT WATER BOTTLE\n",
       "4    536365       RED WOOLLY HOTTIE WHITE HEART.\n",
       "5    536365         SET 7 BABUSHKA NESTING BOXES\n",
       "6    536365    GLASS STAR FROSTED T-LIGHT HOLDER\n",
       "7    536366               HAND WARMER UNION JACK\n",
       "8    536366            HAND WARMER RED POLKA DOT\n",
       "9    536367        ASSORTED COLOUR BIRD ORNAMENT"
      ]
     },
     "execution_count": 18,
     "metadata": {
      "tags": []
     },
     "output_type": "execute_result"
    }
   ],
   "source": [
    "online1.head(10)"
   ]
  },
  {
   "cell_type": "code",
   "execution_count": 19,
   "metadata": {
    "colab": {
     "base_uri": "https://localhost:8080/",
     "height": 51
    },
    "colab_type": "code",
    "id": "TMu5T1mHf5TZ",
    "outputId": "08dbf241-5107-4dcb-fa2b-31e677c93dd6"
   },
   "outputs": [
    {
     "name": "stdout",
     "output_type": "stream",
     "text": [
      "Data dimension (row count, col count): (530693, 2)\n",
      "Count of unique invoice numbers: 20136\n"
     ]
    }
   ],
   "source": [
    "print(\"Data dimension (row count, col count): {dim}\".format(dim=online1.shape))\n",
    "print(\"Count of unique invoice numbers: {cnt}\".format(cnt=online1.InvoiceNo.nunique()))"
   ]
  },
  {
   "cell_type": "code",
   "execution_count": 20,
   "metadata": {
    "colab": {
     "base_uri": "https://localhost:8080/",
     "height": 34
    },
    "colab_type": "code",
    "id": "_7-2yDpXf5Th",
    "outputId": "49027f3e-b7b9-42e0-898c-57fea96ab3b8"
   },
   "outputs": [
    {
     "name": "stdout",
     "output_type": "stream",
     "text": [
      "Length of list of invoice numbers: 20136\n"
     ]
    }
   ],
   "source": [
    "# extract unique invoice numbers as list\n",
    "invoice_no_list = online1.InvoiceNo.tolist()\n",
    "invoice_no_list = list(set(invoice_no_list))\n",
    "print(\"Length of list of invoice numbers: {ln}\".format(ln=len(invoice_no_list)))"
   ]
  },
  {
   "cell_type": "code",
   "execution_count": 21,
   "metadata": {
    "colab": {
     "base_uri": "https://localhost:8080/",
     "height": 34
    },
    "colab_type": "code",
    "id": "voKBMeFuf5To",
    "outputId": "465b403a-a09c-4f56-d587-20a31d818014"
   },
   "outputs": [
    {
     "name": "stdout",
     "output_type": "stream",
     "text": [
      "Length of subset list of invoice numbers: 5000\n"
     ]
    }
   ],
   "source": [
    "# take subset of invoice number for exercises\n",
    "subset_invoice_no_list = invoice_no_list[0:5000]\n",
    "print(\"Length of subset list of invoice numbers: {ln}\".format(ln=len(subset_invoice_no_list)))"
   ]
  },
  {
   "cell_type": "code",
   "execution_count": 0,
   "metadata": {
    "colab": {},
    "colab_type": "code",
    "id": "JHrfPpAzf5Tw"
   },
   "outputs": [],
   "source": [
    "# filter data set down to based on\n",
    "# subset of invoice number list\n",
    "online1 = online1.loc[online1[\"InvoiceNo\"].isin(subset_invoice_no_list)]"
   ]
  },
  {
   "cell_type": "code",
   "execution_count": 23,
   "metadata": {
    "colab": {
     "base_uri": "https://localhost:8080/",
     "height": 359
    },
    "colab_type": "code",
    "id": "OPbiPimqf5T3",
    "outputId": "c6183dfd-e3ba-42a5-a6a8-18012433ba23"
   },
   "outputs": [
    {
     "data": {
      "text/html": [
       "<div>\n",
       "<style scoped>\n",
       "    .dataframe tbody tr th:only-of-type {\n",
       "        vertical-align: middle;\n",
       "    }\n",
       "\n",
       "    .dataframe tbody tr th {\n",
       "        vertical-align: top;\n",
       "    }\n",
       "\n",
       "    .dataframe thead th {\n",
       "        text-align: right;\n",
       "    }\n",
       "</style>\n",
       "<table border=\"1\" class=\"dataframe\">\n",
       "  <thead>\n",
       "    <tr style=\"text-align: right;\">\n",
       "      <th></th>\n",
       "      <th>InvoiceNo</th>\n",
       "      <th>Description</th>\n",
       "    </tr>\n",
       "  </thead>\n",
       "  <tbody>\n",
       "    <tr>\n",
       "      <th>229435</th>\n",
       "      <td>557056</td>\n",
       "      <td>SET OF 4 KNICK KNACK TINS DOILEY</td>\n",
       "    </tr>\n",
       "    <tr>\n",
       "      <th>229436</th>\n",
       "      <td>557057</td>\n",
       "      <td>RED POLKADOT BEAKER</td>\n",
       "    </tr>\n",
       "    <tr>\n",
       "      <th>229437</th>\n",
       "      <td>557057</td>\n",
       "      <td>BLUE POLKADOT BEAKER</td>\n",
       "    </tr>\n",
       "    <tr>\n",
       "      <th>229438</th>\n",
       "      <td>557057</td>\n",
       "      <td>DAIRY MAID TOASTRACK</td>\n",
       "    </tr>\n",
       "    <tr>\n",
       "      <th>229439</th>\n",
       "      <td>557057</td>\n",
       "      <td>BLUE EGG  SPOON</td>\n",
       "    </tr>\n",
       "    <tr>\n",
       "      <th>229440</th>\n",
       "      <td>557057</td>\n",
       "      <td>RED  EGG  SPOON</td>\n",
       "    </tr>\n",
       "    <tr>\n",
       "      <th>229441</th>\n",
       "      <td>557057</td>\n",
       "      <td>MODERN FLORAL STATIONERY SET</td>\n",
       "    </tr>\n",
       "    <tr>\n",
       "      <th>229442</th>\n",
       "      <td>557057</td>\n",
       "      <td>FLORAL FOLK STATIONERY SET</td>\n",
       "    </tr>\n",
       "    <tr>\n",
       "      <th>229443</th>\n",
       "      <td>557057</td>\n",
       "      <td>CERAMIC BOWL WITH LOVE HEART DESIGN</td>\n",
       "    </tr>\n",
       "    <tr>\n",
       "      <th>229444</th>\n",
       "      <td>557057</td>\n",
       "      <td>WOOD STAMP SET THANK YOU</td>\n",
       "    </tr>\n",
       "  </tbody>\n",
       "</table>\n",
       "</div>"
      ],
      "text/plain": [
       "       InvoiceNo                          Description\n",
       "229435    557056    SET OF 4 KNICK KNACK TINS DOILEY \n",
       "229436    557057                 RED POLKADOT BEAKER \n",
       "229437    557057                BLUE POLKADOT BEAKER \n",
       "229438    557057                 DAIRY MAID TOASTRACK\n",
       "229439    557057                      BLUE EGG  SPOON\n",
       "229440    557057                      RED  EGG  SPOON\n",
       "229441    557057         MODERN FLORAL STATIONERY SET\n",
       "229442    557057           FLORAL FOLK STATIONERY SET\n",
       "229443    557057  CERAMIC BOWL WITH LOVE HEART DESIGN\n",
       "229444    557057             WOOD STAMP SET THANK YOU"
      ]
     },
     "execution_count": 23,
     "metadata": {
      "tags": []
     },
     "output_type": "execute_result"
    }
   ],
   "source": [
    "online1.head(10)"
   ]
  },
  {
   "cell_type": "code",
   "execution_count": 24,
   "metadata": {
    "colab": {
     "base_uri": "https://localhost:8080/",
     "height": 51
    },
    "colab_type": "code",
    "id": "UBaP-HUqf5T9",
    "outputId": "1bccd28d-51e9-4e00-ae14-c17bf24c9185"
   },
   "outputs": [
    {
     "name": "stdout",
     "output_type": "stream",
     "text": [
      "Data dimension (row count, col count): (129774, 2)\n",
      "Count of unique invoice numbers: 5000\n"
     ]
    }
   ],
   "source": [
    "print(\"Data dimension (row count, col count): {dim}\".format(dim=online1.shape))\n",
    "print(\"Count of unique invoice numbers: {cnt}\".format(cnt=online1.InvoiceNo.nunique()))"
   ]
  },
  {
   "cell_type": "code",
   "execution_count": 25,
   "metadata": {
    "colab": {
     "base_uri": "https://localhost:8080/",
     "height": 54
    },
    "colab_type": "code",
    "id": "gvXo--fgf5UD",
    "outputId": "a4dff520-be59-45a9-8721-9115ce7bf592"
   },
   "outputs": [
    {
     "name": "stdout",
     "output_type": "stream",
     "text": [
      "[['RED POLKADOT BEAKER ', 'BLUE POLKADOT BEAKER ', 'DAIRY MAID TOASTRACK', 'BLUE EGG  SPOON', 'RED  EGG  SPOON', 'MODERN FLORAL STATIONERY SET', 'FLORAL FOLK STATIONERY SET', 'CERAMIC BOWL WITH LOVE HEART DESIGN', 'WOOD STAMP SET THANK YOU', 'WOOD STAMP SET HAPPY BIRTHDAY', 'PENS ASSORTED SPACEBALL', 'PENS ASSORTED FUNNY FACE', 'PENS ASSORTED FUNKY JEWELED ', 'SCOTTIE DOGS BABY BIB', 'CHARLIE AND LOLA TABLE TINS', 'CHARLIE & LOLA WASTEPAPER BIN FLORA', 'CHARLIE & LOLA WASTEPAPER BIN BLUE', 'CHARLIE AND LOLA FIGURES TINS', 'TV DINNER TRAY DOLLY GIRL', 'SET/20 RED RETROSPOT PAPER NAPKINS ', 'MINT KITCHEN SCALES', 'RED KITCHEN SCALES', '36 FOIL HEART CAKE CASES', '36 FOIL STAR CAKE CASES ', 'ILLUSTRATED CAT BOWL ', 'POTTING SHED TEA MUG', 'CERAMIC STRAWBERRY DESIGN MUG', 'RED RETROSPOT SHOPPER BAG', 'BUTTON BOX ', 'MINI CAKE STAND  HANGING STRAWBERY', 'LUNCH BAG DOILEY PATTERN ', 'JUMBO BAG STRAWBERRY', 'STRAWBERRY SHOPPER BAG', 'SUKI  SHOULDER BAG', 'JUMBO BAG ALPHABET', 'SKULL SHOULDER BAG', 'LUNCH BAG  BLACK SKULL.', 'TRADITIONAL WOODEN CATCH CUP GAME ', '10 COLOUR SPACEBOY PEN', 'JUMBO BAG SPACEBOY DESIGN', 'LUNCH BAG SPACEBOY DESIGN ', \"CHILDREN'S APRON DOLLY GIRL \", 'LUNCH BAG DOLLY GIRL DESIGN', 'TEATIME ROUND PENCIL SHARPENER ', 'SILVER HEARTS TABLE DECORATION', 'PARISIENNE KEY CABINET ', 'PARISIENNE JEWELLERY DRAWER ', 'BUNDLE OF 3 SCHOOL EXERCISE BOOKS  ', 'JUMBO BAG DOILEY PATTERNS', 'DOILEY STORAGE TIN', 'SET OF 4 KNICK KNACK TINS POPPIES', 'SET OF 4 KNICK KNACK TINS DOILEY ', 'SET OF 3 REGENCY CAKE TINS', 'SET OF 3 WOODEN HEART DECORATIONS', 'SPACEBOY CHILDRENS BOWL', 'DOLLY GIRL CHILDRENS CUP', 'DOLLY GIRL CHILDRENS BOWL', 'SPACE BOY CHILDRENS CUP', 'GARDENERS KNEELING PAD CUP OF TEA ', 'GARDENERS KNEELING PAD KEEP CALM ', 'CARTOON  PENCIL SHARPENERS', 'POPART RECT PENCIL SHARPENER ASST', 'PIECE OF CAMO STATIONERY SET', 'POPART WOODEN PENCILS ASST', 'ORIGAMI VANILLA INCENSE/CANDLE SET ', 'ORIGAMI JASMINE INCENSE/CANDLE SET', 'FRENCH FLORAL CUSHION COVER ', 'FRENCH LATTICE CUSHION COVER '], ['SET OF TEA COFFEE SUGAR TINS PANTRY', 'SET OF 3 CAKE TINS PANTRY DESIGN '], ['JUMBO BAG PINK VINTAGE PAISLEY', 'JUMBO  BAG BAROQUE BLACK WHITE', 'RIBBON REEL STRIPES DESIGN ', 'RIBBON REEL LACE DESIGN ', 'RIBBON REEL POLKADOTS ', 'TRAVEL CARD WALLET TRANSPORT', 'TRAVEL CARD WALLET FLOWER MEADOW', 'TRAVEL CARD WALLET VINTAGE LEAF', 'TRAVEL CARD WALLET VINTAGE TICKET', 'VINTAGE  2 METER FOLDING RULER', 'IVORY WICKER HEART LARGE', 'BUNDLE OF 3 ALPHABET EXERCISE BOOKS', 'BUNDLE OF 3 RETRO NOTE BOOKS', '20 DOLLY PEGS RETROSPOT', 'CLOTHES PEGS RETROSPOT PACK 24 ', 'VICTORIAN  METAL POSTCARD SPRING', 'ROLL WRAP VINTAGE CHRISTMAS', 'ROLL WRAP VINTAGE SPOT ', 'ENAMEL MEASURING JUG CREAM', 'JUMBO BAG VINTAGE CHRISTMAS ', \"JUMBO BAG 50'S CHRISTMAS \", 'SET OF 4 KNICK KNACK TINS DOILY ', 'SET OF 4 KNICK KNACK TINS POPPIES', 'IVORY WICKER HEART LARGE', 'JINGLE BELL HEART ANTIQUE GOLD', 'SET OF 4 NAPKIN CHARMS CUTLERY', 'SET OF 4 NAPKIN CHARMS HEARTS', 'SET OF 4 KNICK KNACK TINS LEAF', 'MADRAS NOTEBOOK MEDIUM', 'SET OF 3 WOODEN HEART DECORATIONS', 'FAMILY ALBUM WHITE PICTURE FRAME', 'REX CASH+CARRY JUMBO SHOPPER'], ['COFFEE MUG PEARS  DESIGN', 'TRAVEL CARD WALLET VINTAGE TICKET', 'AIRLINE BAG VINTAGE JET SET RED', 'AIRLINE BAG VINTAGE JET SET WHITE', 'GREY HEART HOT WATER BOTTLE', 'LOVE HOT WATER BOTTLE', 'TRAVEL CARD WALLET I LOVE LONDON', 'KNITTED UNION FLAG HOT WATER BOTTLE', 'HOT WATER BOTTLE I AM SO POORLY', 'AIRLINE BAG VINTAGE WORLD CHAMPION ', 'AIRLINE BAG VINTAGE TOKYO 78', 'HOT WATER BOTTLE TEA AND SYMPATHY', 'BLUE PAISLEY POCKET BOOK', 'ABSTRACT CIRCLES POCKET BOOK', 'HAND WARMER RED RETROSPOT', 'PLASTERS IN TIN WOODLAND ANIMALS', 'PLASTERS IN TIN VINTAGE PAISLEY ', 'HAND WARMER SCOTTY DOG DESIGN', 'HAND WARMER BIRD DESIGN', 'PLASTERS IN TIN STRONGMAN', 'PLASTERS IN TIN CIRCUS PARADE ']]\n"
     ]
    }
   ],
   "source": [
    "invoice_item_list = []\n",
    "for num in list(set(online1.InvoiceNo.tolist())):\n",
    "    # filter data set down to one invoice number\n",
    "    tmp_df = online1.loc[online1['InvoiceNo'] == num]\n",
    "    # extract item descriptions and convert to list\n",
    "    tmp_items = tmp_df.Description.tolist()\n",
    "    # append list invoice_item_list\n",
    "    invoice_item_list.append(tmp_items)\n",
    "    \n",
    "print(invoice_item_list[1:5])"
   ]
  },
  {
   "cell_type": "markdown",
   "metadata": {
    "colab_type": "text",
    "id": "vn63DJR4f5UI"
   },
   "source": [
    "#### Exercise 8.05: Data Encoding"
   ]
  },
  {
   "cell_type": "code",
   "execution_count": 26,
   "metadata": {
    "colab": {
     "base_uri": "https://localhost:8080/",
     "height": 136
    },
    "colab_type": "code",
    "id": "YFELanOIf5UM",
    "outputId": "28c080ad-fc08-40ce-aac9-a7417cb1ef1f"
   },
   "outputs": [
    {
     "name": "stdout",
     "output_type": "stream",
     "text": [
      "[[False False False ... False False False]\n",
      " [False False False ... False False False]\n",
      " [False False False ... False False False]\n",
      " ...\n",
      " [False False False ... False False False]\n",
      " [False False False ... False False False]\n",
      " [False False False ... False False False]]\n"
     ]
    }
   ],
   "source": [
    "online_encoder = mlxtend.preprocessing.TransactionEncoder()\n",
    "online_encoder_array = online_encoder.fit_transform(invoice_item_list)\n",
    "print(online_encoder_array)"
   ]
  },
  {
   "cell_type": "code",
   "execution_count": 27,
   "metadata": {
    "colab": {
     "base_uri": "https://localhost:8080/",
     "height": 376
    },
    "colab_type": "code",
    "id": "eHjXS-Y-f5UW",
    "outputId": "82428cc4-67e8-4e23-c4ec-88571a8e7d0b"
   },
   "outputs": [
    {
     "data": {
      "text/html": [
       "<div>\n",
       "<style scoped>\n",
       "    .dataframe tbody tr th:only-of-type {\n",
       "        vertical-align: middle;\n",
       "    }\n",
       "\n",
       "    .dataframe tbody tr th {\n",
       "        vertical-align: top;\n",
       "    }\n",
       "\n",
       "    .dataframe thead th {\n",
       "        text-align: right;\n",
       "    }\n",
       "</style>\n",
       "<table border=\"1\" class=\"dataframe\">\n",
       "  <thead>\n",
       "    <tr style=\"text-align: right;\">\n",
       "      <th></th>\n",
       "      <th>4 PURPLE FLOCK DINNER CANDLES</th>\n",
       "      <th>50'S CHRISTMAS GIFT BAG LARGE</th>\n",
       "      <th>DOLLY GIRL BEAKER</th>\n",
       "      <th>I LOVE LONDON MINI BACKPACK</th>\n",
       "      <th>NINE DRAWER OFFICE TIDY</th>\n",
       "      <th>OVAL WALL MIRROR DIAMANTE</th>\n",
       "      <th>RED SPOT GIFT BAG LARGE</th>\n",
       "      <th>SET 2 TEA TOWELS I LOVE LONDON</th>\n",
       "    </tr>\n",
       "  </thead>\n",
       "  <tbody>\n",
       "    <tr>\n",
       "      <th>4970</th>\n",
       "      <td>False</td>\n",
       "      <td>False</td>\n",
       "      <td>False</td>\n",
       "      <td>False</td>\n",
       "      <td>False</td>\n",
       "      <td>False</td>\n",
       "      <td>False</td>\n",
       "      <td>False</td>\n",
       "    </tr>\n",
       "    <tr>\n",
       "      <th>4971</th>\n",
       "      <td>False</td>\n",
       "      <td>False</td>\n",
       "      <td>True</td>\n",
       "      <td>False</td>\n",
       "      <td>False</td>\n",
       "      <td>False</td>\n",
       "      <td>False</td>\n",
       "      <td>False</td>\n",
       "    </tr>\n",
       "    <tr>\n",
       "      <th>4972</th>\n",
       "      <td>False</td>\n",
       "      <td>False</td>\n",
       "      <td>False</td>\n",
       "      <td>False</td>\n",
       "      <td>False</td>\n",
       "      <td>False</td>\n",
       "      <td>False</td>\n",
       "      <td>False</td>\n",
       "    </tr>\n",
       "    <tr>\n",
       "      <th>4973</th>\n",
       "      <td>False</td>\n",
       "      <td>False</td>\n",
       "      <td>False</td>\n",
       "      <td>False</td>\n",
       "      <td>False</td>\n",
       "      <td>False</td>\n",
       "      <td>False</td>\n",
       "      <td>False</td>\n",
       "    </tr>\n",
       "    <tr>\n",
       "      <th>4974</th>\n",
       "      <td>False</td>\n",
       "      <td>False</td>\n",
       "      <td>False</td>\n",
       "      <td>False</td>\n",
       "      <td>False</td>\n",
       "      <td>False</td>\n",
       "      <td>False</td>\n",
       "      <td>False</td>\n",
       "    </tr>\n",
       "    <tr>\n",
       "      <th>4975</th>\n",
       "      <td>False</td>\n",
       "      <td>False</td>\n",
       "      <td>False</td>\n",
       "      <td>False</td>\n",
       "      <td>False</td>\n",
       "      <td>False</td>\n",
       "      <td>False</td>\n",
       "      <td>False</td>\n",
       "    </tr>\n",
       "    <tr>\n",
       "      <th>4976</th>\n",
       "      <td>False</td>\n",
       "      <td>False</td>\n",
       "      <td>False</td>\n",
       "      <td>False</td>\n",
       "      <td>False</td>\n",
       "      <td>False</td>\n",
       "      <td>False</td>\n",
       "      <td>False</td>\n",
       "    </tr>\n",
       "    <tr>\n",
       "      <th>4977</th>\n",
       "      <td>False</td>\n",
       "      <td>False</td>\n",
       "      <td>False</td>\n",
       "      <td>False</td>\n",
       "      <td>False</td>\n",
       "      <td>False</td>\n",
       "      <td>False</td>\n",
       "      <td>False</td>\n",
       "    </tr>\n",
       "    <tr>\n",
       "      <th>4978</th>\n",
       "      <td>False</td>\n",
       "      <td>False</td>\n",
       "      <td>False</td>\n",
       "      <td>False</td>\n",
       "      <td>False</td>\n",
       "      <td>False</td>\n",
       "      <td>False</td>\n",
       "      <td>False</td>\n",
       "    </tr>\n",
       "    <tr>\n",
       "      <th>4979</th>\n",
       "      <td>False</td>\n",
       "      <td>False</td>\n",
       "      <td>False</td>\n",
       "      <td>False</td>\n",
       "      <td>False</td>\n",
       "      <td>False</td>\n",
       "      <td>False</td>\n",
       "      <td>False</td>\n",
       "    </tr>\n",
       "  </tbody>\n",
       "</table>\n",
       "</div>"
      ],
      "text/plain": [
       "       4 PURPLE FLOCK DINNER CANDLES  ...   SET 2 TEA TOWELS I LOVE LONDON \n",
       "4970                           False  ...                             False\n",
       "4971                           False  ...                             False\n",
       "4972                           False  ...                             False\n",
       "4973                           False  ...                             False\n",
       "4974                           False  ...                             False\n",
       "4975                           False  ...                             False\n",
       "4976                           False  ...                             False\n",
       "4977                           False  ...                             False\n",
       "4978                           False  ...                             False\n",
       "4979                           False  ...                             False\n",
       "\n",
       "[10 rows x 8 columns]"
      ]
     },
     "execution_count": 27,
     "metadata": {
      "tags": []
     },
     "output_type": "execute_result"
    }
   ],
   "source": [
    "online_encoder_df = pandas.DataFrame(\n",
    "    online_encoder_array, \n",
    "    columns=online_encoder.columns_\n",
    ")\n",
    "\n",
    "# this is a very big table, so for more \n",
    "# easy viewing only a subset is printed\n",
    "online_encoder_df.loc[\n",
    "    4970:4979, \n",
    "    online_encoder_df.columns.tolist()[0:8]\n",
    "]"
   ]
  },
  {
   "cell_type": "code",
   "execution_count": 28,
   "metadata": {
    "colab": {
     "base_uri": "https://localhost:8080/",
     "height": 34
    },
    "colab_type": "code",
    "id": "8m78q5tKf5Uc",
    "outputId": "b63b24ba-cfa2-4dfa-cf6f-4907ed73fbf6"
   },
   "outputs": [
    {
     "name": "stdout",
     "output_type": "stream",
     "text": [
      "Data dimension (row count, col count): (5000, 3334)\n"
     ]
    }
   ],
   "source": [
    "print(\"Data dimension (row count, col count): {dim}\".format(dim=online_encoder_df.shape))"
   ]
  },
  {
   "cell_type": "markdown",
   "metadata": {
    "colab_type": "text",
    "id": "0a-pXy-Df5Uj"
   },
   "source": [
    "#### Exercise 8.06: Apriori Algorithm"
   ]
  },
  {
   "cell_type": "code",
   "execution_count": 29,
   "metadata": {
    "colab": {
     "base_uri": "https://localhost:8080/",
     "height": 49
    },
    "colab_type": "code",
    "id": "KykyiljXf5Um",
    "outputId": "d64c8b98-7b41-44ab-cff0-0d68ba0916cb"
   },
   "outputs": [
    {
     "data": {
      "text/html": [
       "<div>\n",
       "<style scoped>\n",
       "    .dataframe tbody tr th:only-of-type {\n",
       "        vertical-align: middle;\n",
       "    }\n",
       "\n",
       "    .dataframe tbody tr th {\n",
       "        vertical-align: top;\n",
       "    }\n",
       "\n",
       "    .dataframe thead th {\n",
       "        text-align: right;\n",
       "    }\n",
       "</style>\n",
       "<table border=\"1\" class=\"dataframe\">\n",
       "  <thead>\n",
       "    <tr style=\"text-align: right;\">\n",
       "      <th></th>\n",
       "      <th>support</th>\n",
       "      <th>itemsets</th>\n",
       "    </tr>\n",
       "  </thead>\n",
       "  <tbody>\n",
       "  </tbody>\n",
       "</table>\n",
       "</div>"
      ],
      "text/plain": [
       "Empty DataFrame\n",
       "Columns: [support, itemsets]\n",
       "Index: []"
      ]
     },
     "execution_count": 29,
     "metadata": {
      "tags": []
     },
     "output_type": "execute_result"
    }
   ],
   "source": [
    "# default minimum support = 0.5\n",
    "# does not use colnames (item names)\n",
    "\n",
    "mod = mlxtend.frequent_patterns.apriori(online_encoder_df)\n",
    "mod"
   ]
  },
  {
   "cell_type": "code",
   "execution_count": 30,
   "metadata": {
    "colab": {
     "base_uri": "https://localhost:8080/",
     "height": 266
    },
    "colab_type": "code",
    "id": "q9HszqxRf5Uu",
    "outputId": "28122b0e-41f6-4031-d451-56e887c193fa"
   },
   "outputs": [
    {
     "data": {
      "text/html": [
       "<div>\n",
       "<style scoped>\n",
       "    .dataframe tbody tr th:only-of-type {\n",
       "        vertical-align: middle;\n",
       "    }\n",
       "\n",
       "    .dataframe tbody tr th {\n",
       "        vertical-align: top;\n",
       "    }\n",
       "\n",
       "    .dataframe thead th {\n",
       "        text-align: right;\n",
       "    }\n",
       "</style>\n",
       "<table border=\"1\" class=\"dataframe\">\n",
       "  <thead>\n",
       "    <tr style=\"text-align: right;\">\n",
       "      <th></th>\n",
       "      <th>support</th>\n",
       "      <th>itemsets</th>\n",
       "    </tr>\n",
       "  </thead>\n",
       "  <tbody>\n",
       "    <tr>\n",
       "      <th>0</th>\n",
       "      <td>0.0168</td>\n",
       "      <td>(2)</td>\n",
       "    </tr>\n",
       "    <tr>\n",
       "      <th>1</th>\n",
       "      <td>0.0150</td>\n",
       "      <td>(10)</td>\n",
       "    </tr>\n",
       "    <tr>\n",
       "      <th>2</th>\n",
       "      <td>0.0116</td>\n",
       "      <td>(15)</td>\n",
       "    </tr>\n",
       "    <tr>\n",
       "      <th>3</th>\n",
       "      <td>0.0144</td>\n",
       "      <td>(18)</td>\n",
       "    </tr>\n",
       "    <tr>\n",
       "      <th>4</th>\n",
       "      <td>0.0210</td>\n",
       "      <td>(19)</td>\n",
       "    </tr>\n",
       "    <tr>\n",
       "      <th>5</th>\n",
       "      <td>0.0144</td>\n",
       "      <td>(20)</td>\n",
       "    </tr>\n",
       "    <tr>\n",
       "      <th>6</th>\n",
       "      <td>0.0138</td>\n",
       "      <td>(21)</td>\n",
       "    </tr>\n",
       "  </tbody>\n",
       "</table>\n",
       "</div>"
      ],
      "text/plain": [
       "   support itemsets\n",
       "0   0.0168      (2)\n",
       "1   0.0150     (10)\n",
       "2   0.0116     (15)\n",
       "3   0.0144     (18)\n",
       "4   0.0210     (19)\n",
       "5   0.0144     (20)\n",
       "6   0.0138     (21)"
      ]
     },
     "execution_count": 30,
     "metadata": {
      "tags": []
     },
     "output_type": "execute_result"
    }
   ],
   "source": [
    "mod_minsupport = mlxtend.frequent_patterns.apriori(\n",
    "    online_encoder_df,\n",
    "    min_support=0.01\n",
    ")\n",
    "mod_minsupport.loc[0:6]"
   ]
  },
  {
   "cell_type": "code",
   "execution_count": 31,
   "metadata": {
    "colab": {
     "base_uri": "https://localhost:8080/",
     "height": 266
    },
    "colab_type": "code",
    "id": "GrYAJwlZf5U2",
    "outputId": "d8743786-47f3-4f24-8d02-696fc5fe719d"
   },
   "outputs": [
    {
     "data": {
      "text/html": [
       "<div>\n",
       "<style scoped>\n",
       "    .dataframe tbody tr th:only-of-type {\n",
       "        vertical-align: middle;\n",
       "    }\n",
       "\n",
       "    .dataframe tbody tr th {\n",
       "        vertical-align: top;\n",
       "    }\n",
       "\n",
       "    .dataframe thead th {\n",
       "        text-align: right;\n",
       "    }\n",
       "</style>\n",
       "<table border=\"1\" class=\"dataframe\">\n",
       "  <thead>\n",
       "    <tr style=\"text-align: right;\">\n",
       "      <th></th>\n",
       "      <th>support</th>\n",
       "      <th>itemsets</th>\n",
       "    </tr>\n",
       "  </thead>\n",
       "  <tbody>\n",
       "    <tr>\n",
       "      <th>0</th>\n",
       "      <td>0.0168</td>\n",
       "      <td>( DOLLY GIRL BEAKER)</td>\n",
       "    </tr>\n",
       "    <tr>\n",
       "      <th>1</th>\n",
       "      <td>0.0150</td>\n",
       "      <td>(10 COLOUR SPACEBOY PEN)</td>\n",
       "    </tr>\n",
       "    <tr>\n",
       "      <th>2</th>\n",
       "      <td>0.0116</td>\n",
       "      <td>(12 MESSAGE CARDS WITH ENVELOPES)</td>\n",
       "    </tr>\n",
       "    <tr>\n",
       "      <th>3</th>\n",
       "      <td>0.0144</td>\n",
       "      <td>(12 PENCILS SMALL TUBE SKULL)</td>\n",
       "    </tr>\n",
       "    <tr>\n",
       "      <th>4</th>\n",
       "      <td>0.0210</td>\n",
       "      <td>(12 PENCILS TALL TUBE POSY)</td>\n",
       "    </tr>\n",
       "    <tr>\n",
       "      <th>5</th>\n",
       "      <td>0.0144</td>\n",
       "      <td>(12 PENCILS TALL TUBE RED RETROSPOT)</td>\n",
       "    </tr>\n",
       "    <tr>\n",
       "      <th>6</th>\n",
       "      <td>0.0138</td>\n",
       "      <td>(12 PENCILS TALL TUBE SKULLS)</td>\n",
       "    </tr>\n",
       "  </tbody>\n",
       "</table>\n",
       "</div>"
      ],
      "text/plain": [
       "   support                              itemsets\n",
       "0   0.0168                  ( DOLLY GIRL BEAKER)\n",
       "1   0.0150              (10 COLOUR SPACEBOY PEN)\n",
       "2   0.0116     (12 MESSAGE CARDS WITH ENVELOPES)\n",
       "3   0.0144         (12 PENCILS SMALL TUBE SKULL)\n",
       "4   0.0210           (12 PENCILS TALL TUBE POSY)\n",
       "5   0.0144  (12 PENCILS TALL TUBE RED RETROSPOT)\n",
       "6   0.0138         (12 PENCILS TALL TUBE SKULLS)"
      ]
     },
     "execution_count": 31,
     "metadata": {
      "tags": []
     },
     "output_type": "execute_result"
    }
   ],
   "source": [
    "# add colnames for easier interpretability\n",
    "\n",
    "mod_colnames_minsupport = mlxtend.frequent_patterns.apriori(\n",
    "    online_encoder_df, \n",
    "    min_support=0.01,\n",
    "    use_colnames=True\n",
    ")\n",
    "mod_colnames_minsupport.loc[0:6]"
   ]
  },
  {
   "cell_type": "code",
   "execution_count": 32,
   "metadata": {
    "colab": {
     "base_uri": "https://localhost:8080/",
     "height": 266
    },
    "colab_type": "code",
    "id": "6Im6JOSpf5U8",
    "outputId": "69b2a640-52fa-4f2c-90e5-5d5521753d24"
   },
   "outputs": [
    {
     "data": {
      "text/html": [
       "<div>\n",
       "<style scoped>\n",
       "    .dataframe tbody tr th:only-of-type {\n",
       "        vertical-align: middle;\n",
       "    }\n",
       "\n",
       "    .dataframe tbody tr th {\n",
       "        vertical-align: top;\n",
       "    }\n",
       "\n",
       "    .dataframe thead th {\n",
       "        text-align: right;\n",
       "    }\n",
       "</style>\n",
       "<table border=\"1\" class=\"dataframe\">\n",
       "  <thead>\n",
       "    <tr style=\"text-align: right;\">\n",
       "      <th></th>\n",
       "      <th>support</th>\n",
       "      <th>itemsets</th>\n",
       "      <th>length</th>\n",
       "    </tr>\n",
       "  </thead>\n",
       "  <tbody>\n",
       "    <tr>\n",
       "      <th>0</th>\n",
       "      <td>0.0168</td>\n",
       "      <td>( DOLLY GIRL BEAKER)</td>\n",
       "      <td>1</td>\n",
       "    </tr>\n",
       "    <tr>\n",
       "      <th>1</th>\n",
       "      <td>0.0150</td>\n",
       "      <td>(10 COLOUR SPACEBOY PEN)</td>\n",
       "      <td>1</td>\n",
       "    </tr>\n",
       "    <tr>\n",
       "      <th>2</th>\n",
       "      <td>0.0116</td>\n",
       "      <td>(12 MESSAGE CARDS WITH ENVELOPES)</td>\n",
       "      <td>1</td>\n",
       "    </tr>\n",
       "    <tr>\n",
       "      <th>3</th>\n",
       "      <td>0.0144</td>\n",
       "      <td>(12 PENCILS SMALL TUBE SKULL)</td>\n",
       "      <td>1</td>\n",
       "    </tr>\n",
       "    <tr>\n",
       "      <th>4</th>\n",
       "      <td>0.0210</td>\n",
       "      <td>(12 PENCILS TALL TUBE POSY)</td>\n",
       "      <td>1</td>\n",
       "    </tr>\n",
       "    <tr>\n",
       "      <th>5</th>\n",
       "      <td>0.0144</td>\n",
       "      <td>(12 PENCILS TALL TUBE RED RETROSPOT)</td>\n",
       "      <td>1</td>\n",
       "    </tr>\n",
       "    <tr>\n",
       "      <th>6</th>\n",
       "      <td>0.0138</td>\n",
       "      <td>(12 PENCILS TALL TUBE SKULLS)</td>\n",
       "      <td>1</td>\n",
       "    </tr>\n",
       "  </tbody>\n",
       "</table>\n",
       "</div>"
      ],
      "text/plain": [
       "   support                              itemsets  length\n",
       "0   0.0168                  ( DOLLY GIRL BEAKER)       1\n",
       "1   0.0150              (10 COLOUR SPACEBOY PEN)       1\n",
       "2   0.0116     (12 MESSAGE CARDS WITH ENVELOPES)       1\n",
       "3   0.0144         (12 PENCILS SMALL TUBE SKULL)       1\n",
       "4   0.0210           (12 PENCILS TALL TUBE POSY)       1\n",
       "5   0.0144  (12 PENCILS TALL TUBE RED RETROSPOT)       1\n",
       "6   0.0138         (12 PENCILS TALL TUBE SKULLS)       1"
      ]
     },
     "execution_count": 32,
     "metadata": {
      "tags": []
     },
     "output_type": "execute_result"
    }
   ],
   "source": [
    "mod_colnames_minsupport['length'] = (\n",
    "    mod_colnames_minsupport['itemsets'].apply(lambda x: len(x))\n",
    ")\n",
    "\n",
    "mod_colnames_minsupport.loc[0:6]"
   ]
  },
  {
   "cell_type": "code",
   "execution_count": 33,
   "metadata": {
    "colab": {
     "base_uri": "https://localhost:8080/",
     "height": 80
    },
    "colab_type": "code",
    "id": "Z3EeXNl4f5VE",
    "outputId": "aac55195-710a-44ce-e967-3edba9f927c0"
   },
   "outputs": [
    {
     "data": {
      "text/html": [
       "<div>\n",
       "<style scoped>\n",
       "    .dataframe tbody tr th:only-of-type {\n",
       "        vertical-align: middle;\n",
       "    }\n",
       "\n",
       "    .dataframe tbody tr th {\n",
       "        vertical-align: top;\n",
       "    }\n",
       "\n",
       "    .dataframe thead th {\n",
       "        text-align: right;\n",
       "    }\n",
       "</style>\n",
       "<table border=\"1\" class=\"dataframe\">\n",
       "  <thead>\n",
       "    <tr style=\"text-align: right;\">\n",
       "      <th></th>\n",
       "      <th>support</th>\n",
       "      <th>itemsets</th>\n",
       "      <th>length</th>\n",
       "    </tr>\n",
       "  </thead>\n",
       "  <tbody>\n",
       "    <tr>\n",
       "      <th>1</th>\n",
       "      <td>0.015</td>\n",
       "      <td>(10 COLOUR SPACEBOY PEN)</td>\n",
       "      <td>1</td>\n",
       "    </tr>\n",
       "  </tbody>\n",
       "</table>\n",
       "</div>"
      ],
      "text/plain": [
       "   support                  itemsets  length\n",
       "1    0.015  (10 COLOUR SPACEBOY PEN)       1"
      ]
     },
     "execution_count": 33,
     "metadata": {
      "tags": []
     },
     "output_type": "execute_result"
    }
   ],
   "source": [
    "mod_colnames_minsupport[\n",
    "    mod_colnames_minsupport['itemsets'] == frozenset(\n",
    "        {'10 COLOUR SPACEBOY PEN'}\n",
    "    )\n",
    "]"
   ]
  },
  {
   "cell_type": "code",
   "execution_count": 34,
   "metadata": {
    "colab": {
     "base_uri": "https://localhost:8080/",
     "height": 1000
    },
    "colab_type": "code",
    "id": "Ksj9KdwZf5VM",
    "outputId": "745ca973-43df-42fa-ac25-d4c23f5f355e"
   },
   "outputs": [
    {
     "data": {
      "text/html": [
       "<div>\n",
       "<style scoped>\n",
       "    .dataframe tbody tr th:only-of-type {\n",
       "        vertical-align: middle;\n",
       "    }\n",
       "\n",
       "    .dataframe tbody tr th {\n",
       "        vertical-align: top;\n",
       "    }\n",
       "\n",
       "    .dataframe thead th {\n",
       "        text-align: right;\n",
       "    }\n",
       "</style>\n",
       "<table border=\"1\" class=\"dataframe\">\n",
       "  <thead>\n",
       "    <tr style=\"text-align: right;\">\n",
       "      <th></th>\n",
       "      <th>support</th>\n",
       "      <th>itemsets</th>\n",
       "      <th>length</th>\n",
       "    </tr>\n",
       "  </thead>\n",
       "  <tbody>\n",
       "    <tr>\n",
       "      <th>837</th>\n",
       "      <td>0.0202</td>\n",
       "      <td>(ALARM CLOCK BAKELIKE IVORY, ALARM CLOCK BAKEL...</td>\n",
       "      <td>2</td>\n",
       "    </tr>\n",
       "    <tr>\n",
       "      <th>956</th>\n",
       "      <td>0.0202</td>\n",
       "      <td>(CHARLOTTE BAG APPLES DESIGN, LUNCH BAG APPLE ...</td>\n",
       "      <td>2</td>\n",
       "    </tr>\n",
       "    <tr>\n",
       "      <th>994</th>\n",
       "      <td>0.0200</td>\n",
       "      <td>(CHARLOTTE BAG PINK POLKADOT, LUNCH BAG PINK P...</td>\n",
       "      <td>2</td>\n",
       "    </tr>\n",
       "    <tr>\n",
       "      <th>1026</th>\n",
       "      <td>0.0206</td>\n",
       "      <td>(CHARLOTTE BAG SUKI DESIGN, LUNCH BAG  BLACK S...</td>\n",
       "      <td>2</td>\n",
       "    </tr>\n",
       "    <tr>\n",
       "      <th>1032</th>\n",
       "      <td>0.0206</td>\n",
       "      <td>(CHARLOTTE BAG SUKI DESIGN, LUNCH BAG RED RETR...</td>\n",
       "      <td>2</td>\n",
       "    </tr>\n",
       "    <tr>\n",
       "      <th>1131</th>\n",
       "      <td>0.0200</td>\n",
       "      <td>(JUMBO SHOPPER VINTAGE RED PAISLEY, DOTCOM POS...</td>\n",
       "      <td>2</td>\n",
       "    </tr>\n",
       "    <tr>\n",
       "      <th>1298</th>\n",
       "      <td>0.0208</td>\n",
       "      <td>(HEART OF WICKER LARGE, HEART OF WICKER SMALL)</td>\n",
       "      <td>2</td>\n",
       "    </tr>\n",
       "    <tr>\n",
       "      <th>1305</th>\n",
       "      <td>0.0200</td>\n",
       "      <td>(SMALL WHITE HEART OF WICKER, HEART OF WICKER ...</td>\n",
       "      <td>2</td>\n",
       "    </tr>\n",
       "    <tr>\n",
       "      <th>1316</th>\n",
       "      <td>0.0204</td>\n",
       "      <td>(JAM MAKING SET WITH JARS, JAM MAKING SET PRIN...</td>\n",
       "      <td>2</td>\n",
       "    </tr>\n",
       "    <tr>\n",
       "      <th>1349</th>\n",
       "      <td>0.0208</td>\n",
       "      <td>(JAM MAKING SET PRINTED, SET OF 3 REGENCY CAKE...</td>\n",
       "      <td>2</td>\n",
       "    </tr>\n",
       "    <tr>\n",
       "      <th>1440</th>\n",
       "      <td>0.0200</td>\n",
       "      <td>(JUMBO BAG ALPHABET, LUNCH BAG ALPHABET DESIGN)</td>\n",
       "      <td>2</td>\n",
       "    </tr>\n",
       "    <tr>\n",
       "      <th>1464</th>\n",
       "      <td>0.0206</td>\n",
       "      <td>(JUMBO BAG APPLES, JUMBO BAG DOILEY PATTERNS)</td>\n",
       "      <td>2</td>\n",
       "    </tr>\n",
       "    <tr>\n",
       "      <th>1471</th>\n",
       "      <td>0.0202</td>\n",
       "      <td>(JUMBO BAG APPLES, JUMBO BAG SCANDINAVIAN BLUE...</td>\n",
       "      <td>2</td>\n",
       "    </tr>\n",
       "    <tr>\n",
       "      <th>1472</th>\n",
       "      <td>0.0202</td>\n",
       "      <td>(JUMBO BAG APPLES, JUMBO BAG SPACEBOY DESIGN)</td>\n",
       "      <td>2</td>\n",
       "    </tr>\n",
       "    <tr>\n",
       "      <th>1479</th>\n",
       "      <td>0.0204</td>\n",
       "      <td>(JUMBO BAG APPLES, JUMBO STORAGE BAG SKULLS)</td>\n",
       "      <td>2</td>\n",
       "    </tr>\n",
       "    <tr>\n",
       "      <th>1575</th>\n",
       "      <td>0.0200</td>\n",
       "      <td>(JUMBO BAG OWLS, JUMBO BAG PINK POLKADOT)</td>\n",
       "      <td>2</td>\n",
       "    </tr>\n",
       "    <tr>\n",
       "      <th>1583</th>\n",
       "      <td>0.0208</td>\n",
       "      <td>(JUMBO BAG WOODLAND ANIMALS, JUMBO BAG OWLS)</td>\n",
       "      <td>2</td>\n",
       "    </tr>\n",
       "    <tr>\n",
       "      <th>1644</th>\n",
       "      <td>0.0200</td>\n",
       "      <td>(JUMBO BAG SPACEBOY DESIGN, JUMBO BAG PINK POL...</td>\n",
       "      <td>2</td>\n",
       "    </tr>\n",
       "    <tr>\n",
       "      <th>1711</th>\n",
       "      <td>0.0206</td>\n",
       "      <td>(LUNCH BAG  BLACK SKULL., JUMBO BAG RED RETROS...</td>\n",
       "      <td>2</td>\n",
       "    </tr>\n",
       "    <tr>\n",
       "      <th>1729</th>\n",
       "      <td>0.0202</td>\n",
       "      <td>(PARTY BUNTING, JUMBO BAG RED RETROSPOT)</td>\n",
       "      <td>2</td>\n",
       "    </tr>\n",
       "    <tr>\n",
       "      <th>1823</th>\n",
       "      <td>0.0202</td>\n",
       "      <td>(JUMBO BAG VINTAGE DOILY , JUMBO BAG VINTAGE L...</td>\n",
       "      <td>2</td>\n",
       "    </tr>\n",
       "    <tr>\n",
       "      <th>1853</th>\n",
       "      <td>0.0206</td>\n",
       "      <td>(LUNCH BAG VINTAGE LEAF DESIGN, JUMBO BAG VINT...</td>\n",
       "      <td>2</td>\n",
       "    </tr>\n",
       "    <tr>\n",
       "      <th>2040</th>\n",
       "      <td>0.0202</td>\n",
       "      <td>(LUNCH BAG VINTAGE DOILY , LUNCH BAG APPLE DES...</td>\n",
       "      <td>2</td>\n",
       "    </tr>\n",
       "    <tr>\n",
       "      <th>2047</th>\n",
       "      <td>0.0202</td>\n",
       "      <td>(LUNCH BAG APPLE DESIGN, PARTY BUNTING)</td>\n",
       "      <td>2</td>\n",
       "    </tr>\n",
       "    <tr>\n",
       "      <th>2113</th>\n",
       "      <td>0.0204</td>\n",
       "      <td>(LUNCH BAG DOLLY GIRL DESIGN, LUNCH BAG WOODLAND)</td>\n",
       "      <td>2</td>\n",
       "    </tr>\n",
       "    <tr>\n",
       "      <th>2130</th>\n",
       "      <td>0.0206</td>\n",
       "      <td>(LUNCH BAG PINK POLKADOT, RED RETROSPOT CHARLO...</td>\n",
       "      <td>2</td>\n",
       "    </tr>\n",
       "    <tr>\n",
       "      <th>2221</th>\n",
       "      <td>0.0202</td>\n",
       "      <td>(LUNCH BAG SUKI DESIGN , WOODLAND CHARLOTTE BAG)</td>\n",
       "      <td>2</td>\n",
       "    </tr>\n",
       "    <tr>\n",
       "      <th>2422</th>\n",
       "      <td>0.0202</td>\n",
       "      <td>(RED HANGING HEART T-LIGHT HOLDER, WHITE HANGI...</td>\n",
       "      <td>2</td>\n",
       "    </tr>\n",
       "    <tr>\n",
       "      <th>2527</th>\n",
       "      <td>0.0208</td>\n",
       "      <td>(SPOTTY BUNTING, SET OF 3 CAKE TINS PANTRY DES...</td>\n",
       "      <td>2</td>\n",
       "    </tr>\n",
       "    <tr>\n",
       "      <th>2564</th>\n",
       "      <td>0.0206</td>\n",
       "      <td>(SET OF 6 SNACK LOAF BAKING CASES, SET OF 6 TE...</td>\n",
       "      <td>2</td>\n",
       "    </tr>\n",
       "    <tr>\n",
       "      <th>2591</th>\n",
       "      <td>0.0200</td>\n",
       "      <td>(SET/6 RED SPOTTY PAPER PLATES, SET/6 RED SPOT...</td>\n",
       "      <td>2</td>\n",
       "    </tr>\n",
       "    <tr>\n",
       "      <th>2603</th>\n",
       "      <td>0.0204</td>\n",
       "      <td>(SPOTTY BUNTING, WHITE HANGING HEART T-LIGHT H...</td>\n",
       "      <td>2</td>\n",
       "    </tr>\n",
       "  </tbody>\n",
       "</table>\n",
       "</div>"
      ],
      "text/plain": [
       "      support                                           itemsets  length\n",
       "837    0.0202  (ALARM CLOCK BAKELIKE IVORY, ALARM CLOCK BAKEL...       2\n",
       "956    0.0202  (CHARLOTTE BAG APPLES DESIGN, LUNCH BAG APPLE ...       2\n",
       "994    0.0200  (CHARLOTTE BAG PINK POLKADOT, LUNCH BAG PINK P...       2\n",
       "1026   0.0206  (CHARLOTTE BAG SUKI DESIGN, LUNCH BAG  BLACK S...       2\n",
       "1032   0.0206  (CHARLOTTE BAG SUKI DESIGN, LUNCH BAG RED RETR...       2\n",
       "1131   0.0200  (JUMBO SHOPPER VINTAGE RED PAISLEY, DOTCOM POS...       2\n",
       "1298   0.0208     (HEART OF WICKER LARGE, HEART OF WICKER SMALL)       2\n",
       "1305   0.0200  (SMALL WHITE HEART OF WICKER, HEART OF WICKER ...       2\n",
       "1316   0.0204  (JAM MAKING SET WITH JARS, JAM MAKING SET PRIN...       2\n",
       "1349   0.0208  (JAM MAKING SET PRINTED, SET OF 3 REGENCY CAKE...       2\n",
       "1440   0.0200    (JUMBO BAG ALPHABET, LUNCH BAG ALPHABET DESIGN)       2\n",
       "1464   0.0206      (JUMBO BAG APPLES, JUMBO BAG DOILEY PATTERNS)       2\n",
       "1471   0.0202  (JUMBO BAG APPLES, JUMBO BAG SCANDINAVIAN BLUE...       2\n",
       "1472   0.0202      (JUMBO BAG APPLES, JUMBO BAG SPACEBOY DESIGN)       2\n",
       "1479   0.0204       (JUMBO BAG APPLES, JUMBO STORAGE BAG SKULLS)       2\n",
       "1575   0.0200          (JUMBO BAG OWLS, JUMBO BAG PINK POLKADOT)       2\n",
       "1583   0.0208       (JUMBO BAG WOODLAND ANIMALS, JUMBO BAG OWLS)       2\n",
       "1644   0.0200  (JUMBO BAG SPACEBOY DESIGN, JUMBO BAG PINK POL...       2\n",
       "1711   0.0206  (LUNCH BAG  BLACK SKULL., JUMBO BAG RED RETROS...       2\n",
       "1729   0.0202           (PARTY BUNTING, JUMBO BAG RED RETROSPOT)       2\n",
       "1823   0.0202  (JUMBO BAG VINTAGE DOILY , JUMBO BAG VINTAGE L...       2\n",
       "1853   0.0206  (LUNCH BAG VINTAGE LEAF DESIGN, JUMBO BAG VINT...       2\n",
       "2040   0.0202  (LUNCH BAG VINTAGE DOILY , LUNCH BAG APPLE DES...       2\n",
       "2047   0.0202            (LUNCH BAG APPLE DESIGN, PARTY BUNTING)       2\n",
       "2113   0.0204  (LUNCH BAG DOLLY GIRL DESIGN, LUNCH BAG WOODLAND)       2\n",
       "2130   0.0206  (LUNCH BAG PINK POLKADOT, RED RETROSPOT CHARLO...       2\n",
       "2221   0.0202   (LUNCH BAG SUKI DESIGN , WOODLAND CHARLOTTE BAG)       2\n",
       "2422   0.0202  (RED HANGING HEART T-LIGHT HOLDER, WHITE HANGI...       2\n",
       "2527   0.0208  (SPOTTY BUNTING, SET OF 3 CAKE TINS PANTRY DES...       2\n",
       "2564   0.0206  (SET OF 6 SNACK LOAF BAKING CASES, SET OF 6 TE...       2\n",
       "2591   0.0200  (SET/6 RED SPOTTY PAPER PLATES, SET/6 RED SPOT...       2\n",
       "2603   0.0204  (SPOTTY BUNTING, WHITE HANGING HEART T-LIGHT H...       2"
      ]
     },
     "execution_count": 34,
     "metadata": {
      "tags": []
     },
     "output_type": "execute_result"
    }
   ],
   "source": [
    "## ORDER OF ITEMSETS DIFFERS\n",
    "\n",
    "mod_colnames_minsupport[\n",
    "    (mod_colnames_minsupport['length'] == 2) & \n",
    "    (mod_colnames_minsupport['support'] >= 0.02) &\n",
    "    (mod_colnames_minsupport['support'] < 0.021)\n",
    "]"
   ]
  },
  {
   "cell_type": "code",
   "execution_count": 35,
   "metadata": {
    "colab": {
     "base_uri": "https://localhost:8080/",
     "height": 295
    },
    "colab_type": "code",
    "id": "OBPXtIZJf5VQ",
    "outputId": "ab0fa2e6-e70c-46eb-957b-a880fba769e0"
   },
   "outputs": [
    {
     "data": {
      "image/png": "[encoded data removed]",
      "text/plain": [
       "<Figure size 432x288 with 1 Axes>"
      ]
     },
     "metadata": {
      "tags": []
     },
     "output_type": "display_data"
    }
   ],
   "source": [
    "mod_colnames_minsupport.hist(\"support\", grid=False, bins=30)\n",
    "plt.xlabel(\"Support of item\")\n",
    "plt.ylabel(\"Number of items\")\n",
    "plt.title(\"Frequency distribution of Support\")\n",
    "plt.show()"
   ]
  },
  {
   "cell_type": "markdown",
   "metadata": {
    "colab_type": "text",
    "id": "hXPCVbvLf5VU"
   },
   "source": [
    "#### Exercise 8.07: Association Rules"
   ]
  },
  {
   "cell_type": "code",
   "execution_count": 37,
   "metadata": {
    "colab": {
     "base_uri": "https://localhost:8080/",
     "height": 368
    },
    "colab_type": "code",
    "id": "frXsrktaf5VX",
    "outputId": "8f31aa06-56a8-41fa-e107-b8a7d4f8eb8f"
   },
   "outputs": [
    {
     "data": {
      "text/html": [
       "<div>\n",
       "<style scoped>\n",
       "    .dataframe tbody tr th:only-of-type {\n",
       "        vertical-align: middle;\n",
       "    }\n",
       "\n",
       "    .dataframe tbody tr th {\n",
       "        vertical-align: top;\n",
       "    }\n",
       "\n",
       "    .dataframe thead th {\n",
       "        text-align: right;\n",
       "    }\n",
       "</style>\n",
       "<table border=\"1\" class=\"dataframe\">\n",
       "  <thead>\n",
       "    <tr style=\"text-align: right;\">\n",
       "      <th></th>\n",
       "      <th>antecedents</th>\n",
       "      <th>consequents</th>\n",
       "      <th>antecedent support</th>\n",
       "      <th>consequent support</th>\n",
       "      <th>support</th>\n",
       "      <th>confidence</th>\n",
       "      <th>lift</th>\n",
       "      <th>leverage</th>\n",
       "      <th>conviction</th>\n",
       "    </tr>\n",
       "  </thead>\n",
       "  <tbody>\n",
       "    <tr>\n",
       "      <th>0</th>\n",
       "      <td>(SPACEBOY BEAKER)</td>\n",
       "      <td>( DOLLY GIRL BEAKER)</td>\n",
       "      <td>0.0172</td>\n",
       "      <td>0.0168</td>\n",
       "      <td>0.0126</td>\n",
       "      <td>0.732558</td>\n",
       "      <td>43.604651</td>\n",
       "      <td>0.012311</td>\n",
       "      <td>3.676313</td>\n",
       "    </tr>\n",
       "    <tr>\n",
       "      <th>1</th>\n",
       "      <td>( DOLLY GIRL BEAKER)</td>\n",
       "      <td>(SPACEBOY BEAKER)</td>\n",
       "      <td>0.0168</td>\n",
       "      <td>0.0172</td>\n",
       "      <td>0.0126</td>\n",
       "      <td>0.750000</td>\n",
       "      <td>43.604651</td>\n",
       "      <td>0.012311</td>\n",
       "      <td>3.931200</td>\n",
       "    </tr>\n",
       "    <tr>\n",
       "      <th>2</th>\n",
       "      <td>(ALARM CLOCK BAKELIKE CHOCOLATE)</td>\n",
       "      <td>(ALARM CLOCK BAKELIKE GREEN)</td>\n",
       "      <td>0.0208</td>\n",
       "      <td>0.0580</td>\n",
       "      <td>0.0160</td>\n",
       "      <td>0.769231</td>\n",
       "      <td>13.262599</td>\n",
       "      <td>0.014794</td>\n",
       "      <td>4.082000</td>\n",
       "    </tr>\n",
       "    <tr>\n",
       "      <th>3</th>\n",
       "      <td>(ALARM CLOCK BAKELIKE CHOCOLATE)</td>\n",
       "      <td>(ALARM CLOCK BAKELIKE RED )</td>\n",
       "      <td>0.0208</td>\n",
       "      <td>0.0498</td>\n",
       "      <td>0.0142</td>\n",
       "      <td>0.682692</td>\n",
       "      <td>13.708681</td>\n",
       "      <td>0.013164</td>\n",
       "      <td>2.994570</td>\n",
       "    </tr>\n",
       "    <tr>\n",
       "      <th>4</th>\n",
       "      <td>(ALARM CLOCK BAKELIKE IVORY)</td>\n",
       "      <td>(ALARM CLOCK BAKELIKE GREEN)</td>\n",
       "      <td>0.0302</td>\n",
       "      <td>0.0580</td>\n",
       "      <td>0.0202</td>\n",
       "      <td>0.668874</td>\n",
       "      <td>11.532313</td>\n",
       "      <td>0.018448</td>\n",
       "      <td>2.844840</td>\n",
       "    </tr>\n",
       "    <tr>\n",
       "      <th>5</th>\n",
       "      <td>(ALARM CLOCK BAKELIKE ORANGE)</td>\n",
       "      <td>(ALARM CLOCK BAKELIKE GREEN)</td>\n",
       "      <td>0.0282</td>\n",
       "      <td>0.0580</td>\n",
       "      <td>0.0212</td>\n",
       "      <td>0.751773</td>\n",
       "      <td>12.961604</td>\n",
       "      <td>0.019564</td>\n",
       "      <td>3.794914</td>\n",
       "    </tr>\n",
       "    <tr>\n",
       "      <th>6</th>\n",
       "      <td>(ALARM CLOCK BAKELIKE PINK)</td>\n",
       "      <td>(ALARM CLOCK BAKELIKE GREEN)</td>\n",
       "      <td>0.0380</td>\n",
       "      <td>0.0580</td>\n",
       "      <td>0.0254</td>\n",
       "      <td>0.668421</td>\n",
       "      <td>11.524501</td>\n",
       "      <td>0.023196</td>\n",
       "      <td>2.840952</td>\n",
       "    </tr>\n",
       "  </tbody>\n",
       "</table>\n",
       "</div>"
      ],
      "text/plain": [
       "                        antecedents  ... conviction\n",
       "0                 (SPACEBOY BEAKER)  ...   3.676313\n",
       "1              ( DOLLY GIRL BEAKER)  ...   3.931200\n",
       "2  (ALARM CLOCK BAKELIKE CHOCOLATE)  ...   4.082000\n",
       "3  (ALARM CLOCK BAKELIKE CHOCOLATE)  ...   2.994570\n",
       "4      (ALARM CLOCK BAKELIKE IVORY)  ...   2.844840\n",
       "5     (ALARM CLOCK BAKELIKE ORANGE)  ...   3.794914\n",
       "6       (ALARM CLOCK BAKELIKE PINK)  ...   2.840952\n",
       "\n",
       "[7 rows x 9 columns]"
      ]
     },
     "execution_count": 37,
     "metadata": {
      "tags": []
     },
     "output_type": "execute_result"
    }
   ],
   "source": [
    "## ROW ORDER SLIGHTLY DIFFERENT\n",
    "\n",
    "rules = mlxtend.frequent_patterns.association_rules(\n",
    "    mod_colnames_minsupport, \n",
    "    metric=\"confidence\",\n",
    "    min_threshold=0.6, \n",
    "    support_only=False\n",
    ")\n",
    "\n",
    "rules.loc[0:6]"
   ]
  },
  {
   "cell_type": "code",
   "execution_count": 38,
   "metadata": {
    "colab": {
     "base_uri": "https://localhost:8080/",
     "height": 34
    },
    "colab_type": "code",
    "id": "grY0vp4lf5Ve",
    "outputId": "98958b8f-7395-4fc5-e682-516d520bdcee"
   },
   "outputs": [
    {
     "name": "stdout",
     "output_type": "stream",
     "text": [
      "Number of Associations: 5070\n"
     ]
    }
   ],
   "source": [
    "print(\"Number of Associations: {}\".format(rules.shape[0]))"
   ]
  },
  {
   "cell_type": "code",
   "execution_count": 39,
   "metadata": {
    "colab": {
     "base_uri": "https://localhost:8080/",
     "height": 402
    },
    "colab_type": "code",
    "id": "EZwCkWt3f5Vm",
    "outputId": "7827163a-baae-4748-d1c9-c0e2e697c827"
   },
   "outputs": [
    {
     "data": {
      "text/html": [
       "<div>\n",
       "<style scoped>\n",
       "    .dataframe tbody tr th:only-of-type {\n",
       "        vertical-align: middle;\n",
       "    }\n",
       "\n",
       "    .dataframe tbody tr th {\n",
       "        vertical-align: top;\n",
       "    }\n",
       "\n",
       "    .dataframe thead th {\n",
       "        text-align: right;\n",
       "    }\n",
       "</style>\n",
       "<table border=\"1\" class=\"dataframe\">\n",
       "  <thead>\n",
       "    <tr style=\"text-align: right;\">\n",
       "      <th></th>\n",
       "      <th>antecedents</th>\n",
       "      <th>consequents</th>\n",
       "      <th>antecedent support</th>\n",
       "      <th>consequent support</th>\n",
       "      <th>support</th>\n",
       "      <th>confidence</th>\n",
       "      <th>lift</th>\n",
       "      <th>leverage</th>\n",
       "      <th>conviction</th>\n",
       "    </tr>\n",
       "  </thead>\n",
       "  <tbody>\n",
       "    <tr>\n",
       "      <th>0</th>\n",
       "      <td>(POPPY'S PLAYHOUSE BEDROOM , POPPY'S PLAYHOUSE...</td>\n",
       "      <td>(POPPY'S PLAYHOUSE LIVINGROOM )</td>\n",
       "      <td>0.0136</td>\n",
       "      <td>0.0148</td>\n",
       "      <td>0.0102</td>\n",
       "      <td>0.750000</td>\n",
       "      <td>50.675676</td>\n",
       "      <td>0.009999</td>\n",
       "      <td>3.940800</td>\n",
       "    </tr>\n",
       "    <tr>\n",
       "      <th>1</th>\n",
       "      <td>(POPPY'S PLAYHOUSE LIVINGROOM )</td>\n",
       "      <td>(POPPY'S PLAYHOUSE BEDROOM , POPPY'S PLAYHOUSE...</td>\n",
       "      <td>0.0148</td>\n",
       "      <td>0.0136</td>\n",
       "      <td>0.0102</td>\n",
       "      <td>0.689189</td>\n",
       "      <td>50.675676</td>\n",
       "      <td>0.009999</td>\n",
       "      <td>3.173635</td>\n",
       "    </tr>\n",
       "    <tr>\n",
       "      <th>2</th>\n",
       "      <td>(SPACEBOY CHILDRENS CUP, DOLLY GIRL CHILDRENS ...</td>\n",
       "      <td>(DOLLY GIRL CHILDRENS CUP, SPACEBOY CHILDRENS ...</td>\n",
       "      <td>0.0136</td>\n",
       "      <td>0.0140</td>\n",
       "      <td>0.0120</td>\n",
       "      <td>0.882353</td>\n",
       "      <td>63.025210</td>\n",
       "      <td>0.011810</td>\n",
       "      <td>8.381000</td>\n",
       "    </tr>\n",
       "    <tr>\n",
       "      <th>3</th>\n",
       "      <td>(DOLLY GIRL CHILDRENS CUP, SPACEBOY CHILDRENS ...</td>\n",
       "      <td>(SPACEBOY CHILDRENS CUP, DOLLY GIRL CHILDRENS ...</td>\n",
       "      <td>0.0140</td>\n",
       "      <td>0.0136</td>\n",
       "      <td>0.0120</td>\n",
       "      <td>0.857143</td>\n",
       "      <td>63.025210</td>\n",
       "      <td>0.011810</td>\n",
       "      <td>6.904800</td>\n",
       "    </tr>\n",
       "    <tr>\n",
       "      <th>4</th>\n",
       "      <td>(GREEN REGENCY TEACUP AND SAUCER, REGENCY TEA ...</td>\n",
       "      <td>(REGENCY TEA PLATE GREEN , PINK REGENCY TEACUP...</td>\n",
       "      <td>0.0160</td>\n",
       "      <td>0.0138</td>\n",
       "      <td>0.0112</td>\n",
       "      <td>0.700000</td>\n",
       "      <td>50.724638</td>\n",
       "      <td>0.010979</td>\n",
       "      <td>3.287333</td>\n",
       "    </tr>\n",
       "    <tr>\n",
       "      <th>5</th>\n",
       "      <td>(REGENCY TEA PLATE GREEN , PINK REGENCY TEACUP...</td>\n",
       "      <td>(GREEN REGENCY TEACUP AND SAUCER, REGENCY TEA ...</td>\n",
       "      <td>0.0138</td>\n",
       "      <td>0.0160</td>\n",
       "      <td>0.0112</td>\n",
       "      <td>0.811594</td>\n",
       "      <td>50.724638</td>\n",
       "      <td>0.010979</td>\n",
       "      <td>5.222769</td>\n",
       "    </tr>\n",
       "    <tr>\n",
       "      <th>6</th>\n",
       "      <td>(REGENCY TEA PLATE GREEN , ROSES REGENCY TEACU...</td>\n",
       "      <td>(GREEN REGENCY TEACUP AND SAUCER, REGENCY TEA ...</td>\n",
       "      <td>0.0166</td>\n",
       "      <td>0.0124</td>\n",
       "      <td>0.0106</td>\n",
       "      <td>0.638554</td>\n",
       "      <td>51.496308</td>\n",
       "      <td>0.010394</td>\n",
       "      <td>2.732360</td>\n",
       "    </tr>\n",
       "  </tbody>\n",
       "</table>\n",
       "</div>"
      ],
      "text/plain": [
       "                                         antecedents  ... conviction\n",
       "0  (POPPY'S PLAYHOUSE BEDROOM , POPPY'S PLAYHOUSE...  ...   3.940800\n",
       "1                    (POPPY'S PLAYHOUSE LIVINGROOM )  ...   3.173635\n",
       "2  (SPACEBOY CHILDRENS CUP, DOLLY GIRL CHILDRENS ...  ...   8.381000\n",
       "3  (DOLLY GIRL CHILDRENS CUP, SPACEBOY CHILDRENS ...  ...   6.904800\n",
       "4  (GREEN REGENCY TEACUP AND SAUCER, REGENCY TEA ...  ...   3.287333\n",
       "5  (REGENCY TEA PLATE GREEN , PINK REGENCY TEACUP...  ...   5.222769\n",
       "6  (REGENCY TEA PLATE GREEN , ROSES REGENCY TEACU...  ...   2.732360\n",
       "\n",
       "[7 rows x 9 columns]"
      ]
     },
     "execution_count": 39,
     "metadata": {
      "tags": []
     },
     "output_type": "execute_result"
    }
   ],
   "source": [
    "## ORDER OF DF DIFFERENT SLIGHTLY\n",
    "\n",
    "rules2 = mlxtend.frequent_patterns.association_rules(\n",
    "    mod_colnames_minsupport, \n",
    "    metric=\"lift\",\n",
    "    min_threshold=50, \n",
    "    support_only=False\n",
    ")\n",
    "\n",
    "rules2.loc[0:6]"
   ]
  },
  {
   "cell_type": "code",
   "execution_count": 40,
   "metadata": {
    "colab": {
     "base_uri": "https://localhost:8080/",
     "height": 34
    },
    "colab_type": "code",
    "id": "SdSvkG4jf5Vs",
    "outputId": "b9d6675f-8690-4ba5-952f-3e5a599e2900"
   },
   "outputs": [
    {
     "name": "stdout",
     "output_type": "stream",
     "text": [
      "Number of Associations: 26\n"
     ]
    }
   ],
   "source": [
    "print(\"Number of Associations: {}\".format(rules2.shape[0]))"
   ]
  },
  {
   "cell_type": "code",
   "execution_count": 41,
   "metadata": {
    "colab": {
     "base_uri": "https://localhost:8080/",
     "height": 295
    },
    "colab_type": "code",
    "id": "LPkOE9dzf5Vy",
    "outputId": "3caf4d70-ab40-4244-dcef-5e10e4f25508"
   },
   "outputs": [
    {
     "data": {
      "image/png": "[encoded data removed]",
      "text/plain": [
       "<Figure size 432x288 with 1 Axes>"
      ]
     },
     "metadata": {
      "tags": []
     },
     "output_type": "display_data"
    }
   ],
   "source": [
    "rules.plot.scatter(\"support\", \"confidence\", alpha=0.5, marker=\"*\")\n",
    "plt.xlabel(\"Support\")\n",
    "plt.ylabel(\"Confidence\")\n",
    "plt.title(\"Association Rules\")\n",
    "plt.show()"
   ]
  },
  {
   "cell_type": "code",
   "execution_count": 46,
   "metadata": {
    "colab": {
     "base_uri": "https://localhost:8080/",
     "height": 295
    },
    "colab_type": "code",
    "id": "tiqS3o2Of5V8",
    "outputId": "75b8a82a-4c5d-4b32-b4d4-5b9619019ca5"
   },
   "outputs": [
    {
     "data": {
      "image/png": "[encoded data removed]",
      "text/plain": [
       "<Figure size 432x288 with 1 Axes>"
      ]
     },
     "metadata": {
      "tags": []
     },
     "output_type": "display_data"
    }
   ],
   "source": [
    "rules.hist(\"confidence\", grid=False, bins=30)\n",
    "plt.xlabel(\"Confidence of item\")\n",
    "plt.ylabel(\"Number of items\")\n",
    "plt.title(\"Frequency distribution of Confidence\")\n",
    "plt.show() "
   ]
  },
  {
   "cell_type": "code",
   "execution_count": 47,
   "metadata": {
    "colab": {
     "base_uri": "https://localhost:8080/",
     "height": 295
    },
    "colab_type": "code",
    "id": "GfMf2JU8f5WF",
    "outputId": "116cd4cd-6f12-4641-8c66-7e1119b27894"
   },
   "outputs": [
    {
     "data": {
      "image/png": "[encoded data removed]",
      "text/plain": [
       "<Figure size 432x288 with 1 Axes>"
      ]
     },
     "metadata": {
      "tags": []
     },
     "output_type": "display_data"
    }
   ],
   "source": [
    "rules.hist(\"lift\", grid=False, bins=30)\n",
    "plt.xlabel(\"Lift of item\")\n",
    "plt.ylabel(\"Number of items\")\n",
    "plt.title(\"Frequency distribution of Lift\")\n",
    "plt.show() "
   ]
  },
  {
   "cell_type": "code",
   "execution_count": 48,
   "metadata": {
    "colab": {
     "base_uri": "https://localhost:8080/",
     "height": 295
    },
    "colab_type": "code",
    "id": "xumdeHcDf5WQ",
    "outputId": "333a5a9d-a39a-43ba-9c9f-f4efb881985f"
   },
   "outputs": [
    {
     "data": {
      "image/png": "[encoded data removed]",
      "text/plain": [
       "<Figure size 432x288 with 1 Axes>"
      ]
     },
     "metadata": {
      "tags": []
     },
     "output_type": "display_data"
    }
   ],
   "source": [
    "rules.hist(\"leverage\", grid=False, bins=30)\n",
    "plt.xlabel(\"Leverage of item\")\n",
    "plt.ylabel(\"Number of items\")\n",
    "plt.title(\"Frequency distribution of Leverage\")\n",
    "plt.show() "
   ]
  },
  {
   "cell_type": "code",
   "execution_count": 49,
   "metadata": {
    "colab": {
     "base_uri": "https://localhost:8080/",
     "height": 295
    },
    "colab_type": "code",
    "id": "-OMNoQhDf5WV",
    "outputId": "d86cf803-8f45-4c65-f090-3d5ab7b8d620"
   },
   "outputs": [
    {
     "data": {
      "image/png": "[encoded data removed]",
      "text/plain": [
       "<Figure size 432x288 with 1 Axes>"
      ]
     },
     "metadata": {
      "tags": []
     },
     "output_type": "display_data"
    }
   ],
   "source": [
    "plt.hist(rules[numpy.isfinite(rules['conviction'])].conviction.values, bins = 30)\n",
    "plt.xlabel(\"Conviction of item\")\n",
    "plt.ylabel(\"Number of items\")\n",
    "plt.title(\"Frequency distribution of Conviction\")\n",
    "plt.show() "
   ]
  }
 ],
 "metadata": {
  "colab": {
   "name": "Exercise8.01-Exercise8.07.ipynb",
   "provenance": []
  },
  "kernelspec": {
   "display_name": "Python 3",
   "language": "python",
   "name": "python3"
  },
  "language_info": {
   "codemirror_mode": {
    "name": "ipython",
    "version": 3
   },
   "file_extension": ".py",
   "mimetype": "text/x-python",
   "name": "python",
   "nbconvert_exporter": "python",
   "pygments_lexer": "ipython3",
   "version": "3.7.4"
  }
 },
 "nbformat": 4,
 "nbformat_minor": 1
}
