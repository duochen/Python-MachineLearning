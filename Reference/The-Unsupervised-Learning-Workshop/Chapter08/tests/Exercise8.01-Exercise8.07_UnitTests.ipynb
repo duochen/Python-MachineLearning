{
 "cells": [
  {
   "cell_type": "markdown",
   "metadata": {},
   "source": [
    "# CH. 8 - Market Basket Analysis\n",
    "## Exercises"
   ]
  },
  {
   "cell_type": "markdown",
   "metadata": {},
   "source": [
    "#### Exercise 8.01: Simple Transaction Data"
   ]
  },
  {
   "cell_type": "code",
   "execution_count": 1,
   "metadata": {},
   "outputs": [],
   "source": [
    "from collections import OrderedDict\n",
    "import matplotlib.pyplot as plt\n",
    "import mlxtend.frequent_patterns\n",
    "import mlxtend.preprocessing\n",
    "import numpy\n",
    "import pandas"
   ]
  },
  {
   "cell_type": "code",
   "execution_count": 2,
   "metadata": {},
   "outputs": [],
   "source": [
    "example = [\n",
    "    ['milk', 'bread', 'apples', 'cereal', 'jelly', 'cookies', 'salad', 'tomatoes'],\n",
    "    ['beer', 'milk', 'chips', 'salsa', 'grapes', 'wine', 'potatoes', 'eggs', 'carrots'],\n",
    "    ['diapers', 'baby formula', 'milk', 'bread', 'chicken', 'asparagus', 'cookies'],\n",
    "    ['milk', 'cookies', 'chicken', 'asparagus', 'broccoli', 'cereal', 'orange juice'],\n",
    "    ['steak', 'asparagus', 'broccoli', 'chips', 'salsa', 'ketchup', 'potatoes', 'salad'],\n",
    "    ['beer', 'salsa', 'asparagus', 'wine', 'cheese', 'crackers', 'strawberries', 'cookies'],\n",
    "    ['chocolate cake', 'strawberries', 'wine', 'cheese', 'beer', 'milk', 'orange juice'],\n",
    "    ['chicken', 'peas', 'broccoli', 'milk', 'bread', 'eggs', 'potatoes', 'ketchup', 'crackers'],\n",
    "    ['eggs', 'bread', 'cheese', 'turkey', 'salad', 'tomatoes', 'wine', 'steak', 'carrots'],\n",
    "    ['bread', 'milk', 'tomatoes', 'cereal', 'chicken', 'turkey', 'chips', 'salsa', 'diapers']\n",
    "]"
   ]
  },
  {
   "cell_type": "code",
   "execution_count": 3,
   "metadata": {},
   "outputs": [
    {
     "name": "stdout",
     "output_type": "stream",
     "text": [
      "[['milk', 'bread', 'apples', 'cereal', 'jelly', 'cookies', 'salad', 'tomatoes'], ['beer', 'milk', 'chips', 'salsa', 'grapes', 'wine', 'potatoes', 'eggs', 'carrots'], ['diapers', 'baby formula', 'milk', 'bread', 'chicken', 'asparagus', 'cookies'], ['milk', 'cookies', 'chicken', 'asparagus', 'broccoli', 'cereal', 'orange juice'], ['steak', 'asparagus', 'broccoli', 'chips', 'salsa', 'ketchup', 'potatoes', 'salad'], ['beer', 'salsa', 'asparagus', 'wine', 'cheese', 'crackers', 'strawberries', 'cookies'], ['chocolate cake', 'strawberries', 'wine', 'cheese', 'beer', 'milk', 'orange juice'], ['chicken', 'peas', 'broccoli', 'milk', 'bread', 'eggs', 'potatoes', 'ketchup', 'crackers'], ['eggs', 'bread', 'cheese', 'turkey', 'salad', 'tomatoes', 'wine', 'steak', 'carrots'], ['bread', 'milk', 'tomatoes', 'cereal', 'chicken', 'turkey', 'chips', 'salsa', 'diapers']]\n"
     ]
    }
   ],
   "source": [
    "print(example)"
   ]
  },
  {
   "cell_type": "code",
   "execution_count": null,
   "metadata": {},
   "outputs": [],
   "source": [
    "# Exercise 8.01 Unit Test\n",
    "\n",
    "def unittest_exercise_8_01(data):\n",
    "    assert len(data) == 10, \"List length wrong\"\n",
    "    assert sum([len(l) for l in data]) == 81, \"Sublist length wrong\"\n",
    "\n",
    "unittest_exercise_8_01(data=example)"
   ]
  },
  {
   "cell_type": "markdown",
   "metadata": {},
   "source": [
    "#### Exercise 8.02: Computing Metrics"
   ]
  },
  {
   "cell_type": "code",
   "execution_count": 6,
   "metadata": {},
   "outputs": [
    {
     "name": "stdout",
     "output_type": "stream",
     "text": [
      "N = 10\n",
      "Freq(x) = 7\n",
      "Freq(y) = 5\n",
      "Freq(x, y) = 4\n"
     ]
    }
   ],
   "source": [
    "# milk (x) and bread (y)\n",
    "# bought milk => bought bread\n",
    "\n",
    "N = len(example)\n",
    "f_x = sum(['milk' in i for i in example]) # milk\n",
    "f_y = sum(['bread' in i for i in example]) # bread\n",
    "f_x_y = sum([\n",
    "    all(w in i for w in ['milk', 'bread']) \n",
    "    for i in example\n",
    "])\n",
    "\n",
    "print(\n",
    "    \"N = {}\\n\".format(N) + \n",
    "    \"Freq(x) = {}\\n\".format(f_x) + \n",
    "    \"Freq(y) = {}\\n\".format(f_y) + \n",
    "    \"Freq(x, y) = {}\".format(f_x_y)\n",
    ")"
   ]
  },
  {
   "cell_type": "code",
   "execution_count": 7,
   "metadata": {},
   "outputs": [
    {
     "name": "stdout",
     "output_type": "stream",
     "text": [
      "Support = 0.4\n"
     ]
    }
   ],
   "source": [
    "# support (supp)\n",
    "\n",
    "support = f_x_y / N\n",
    "print(\"Support = {}\".format(round(support, 4)))"
   ]
  },
  {
   "cell_type": "code",
   "execution_count": 8,
   "metadata": {},
   "outputs": [
    {
     "name": "stdout",
     "output_type": "stream",
     "text": [
      "Confidence = 0.5714\n"
     ]
    }
   ],
   "source": [
    "# confidence: x -> y\n",
    "\n",
    "confidence = support / (f_x / N)\n",
    "print(\"Confidence = {}\".format(round(confidence, 4)))"
   ]
  },
  {
   "cell_type": "code",
   "execution_count": 9,
   "metadata": {},
   "outputs": [
    {
     "name": "stdout",
     "output_type": "stream",
     "text": [
      "Lift = 1.1429\n"
     ]
    }
   ],
   "source": [
    "# lift: x -> y\n",
    "\n",
    "lift = confidence / (f_y / N)\n",
    "print(\"Lift = {}\".format(round(lift, 4)))"
   ]
  },
  {
   "cell_type": "code",
   "execution_count": 10,
   "metadata": {},
   "outputs": [
    {
     "name": "stdout",
     "output_type": "stream",
     "text": [
      "Leverage = 0.05\n"
     ]
    }
   ],
   "source": [
    "# leverage: x -> y\n",
    "\n",
    "leverage = support - ((f_x / N) * (f_y / N))\n",
    "print(\"Leverage = {}\".format(round(leverage, 4)))"
   ]
  },
  {
   "cell_type": "code",
   "execution_count": 11,
   "metadata": {},
   "outputs": [
    {
     "name": "stdout",
     "output_type": "stream",
     "text": [
      "Conviction = 1.1667\n"
     ]
    }
   ],
   "source": [
    "# conviction: x -> y\n",
    "\n",
    "conviction = (1 - (f_y / N)) / (1 - confidence)\n",
    "print(\"Conviction = {}\".format(round(conviction, 4)))"
   ]
  },
  {
   "cell_type": "code",
   "execution_count": null,
   "metadata": {},
   "outputs": [],
   "source": [
    "# Exercise 8.02 Unit Test\n",
    "\n",
    "def unittest_exercise_8_02(pred_dict):\n",
    "    pred_dict_order = OrderedDict(pred_dict.items())\n",
    "    \n",
    "    actual_dict = {\n",
    "        \"Support\":0.4, \"Confidence\":0.5714, \n",
    "        \"Lift\":1.1429, \"Leverage\":0.05, \n",
    "        \"Conviction\":1.1667\n",
    "    }\n",
    "    actual_dict_order = OrderedDict(actual_dict.items())\n",
    "    \n",
    "    assert pred_dict_order == actual_dict_order, \"Wrong metric values\"\n",
    "\n",
    "pred_dict = {\n",
    "    \"Support\":round(support,4), \"Confidence\":round(confidence,4), \n",
    "    \"Lift\":round(lift,4), \"Leverage\":round(leverage,4), \n",
    "    \"Conviction\":round(conviction,4)\n",
    "}\n",
    "unittest_exercise_8_02(pred_dict=pred_dict)"
   ]
  },
  {
   "cell_type": "markdown",
   "metadata": {},
   "source": [
    "#### Exercise 8.03: Data Loading"
   ]
  },
  {
   "cell_type": "code",
   "execution_count": 22,
   "metadata": {},
   "outputs": [],
   "source": [
    "online = pandas.read_excel(\n",
    "    io=\"~/Desktop/Online Retail.xlsx\", \n",
    "    sheet_name=\"Online Retail\", \n",
    "    header=0\n",
    ")"
   ]
  },
  {
   "cell_type": "code",
   "execution_count": 23,
   "metadata": {},
   "outputs": [
    {
     "data": {
      "text/html": [
       "<div>\n",
       "<style scoped>\n",
       "    .dataframe tbody tr th:only-of-type {\n",
       "        vertical-align: middle;\n",
       "    }\n",
       "\n",
       "    .dataframe tbody tr th {\n",
       "        vertical-align: top;\n",
       "    }\n",
       "\n",
       "    .dataframe thead th {\n",
       "        text-align: right;\n",
       "    }\n",
       "</style>\n",
       "<table border=\"1\" class=\"dataframe\">\n",
       "  <thead>\n",
       "    <tr style=\"text-align: right;\">\n",
       "      <th></th>\n",
       "      <th>InvoiceNo</th>\n",
       "      <th>StockCode</th>\n",
       "      <th>Description</th>\n",
       "      <th>Quantity</th>\n",
       "      <th>InvoiceDate</th>\n",
       "      <th>UnitPrice</th>\n",
       "      <th>CustomerID</th>\n",
       "      <th>Country</th>\n",
       "    </tr>\n",
       "  </thead>\n",
       "  <tbody>\n",
       "    <tr>\n",
       "      <td>0</td>\n",
       "      <td>536365</td>\n",
       "      <td>85123A</td>\n",
       "      <td>WHITE HANGING HEART T-LIGHT HOLDER</td>\n",
       "      <td>6</td>\n",
       "      <td>2010-12-01 08:26:00</td>\n",
       "      <td>2.55</td>\n",
       "      <td>17850.0</td>\n",
       "      <td>United Kingdom</td>\n",
       "    </tr>\n",
       "    <tr>\n",
       "      <td>1</td>\n",
       "      <td>536365</td>\n",
       "      <td>71053</td>\n",
       "      <td>WHITE METAL LANTERN</td>\n",
       "      <td>6</td>\n",
       "      <td>2010-12-01 08:26:00</td>\n",
       "      <td>3.39</td>\n",
       "      <td>17850.0</td>\n",
       "      <td>United Kingdom</td>\n",
       "    </tr>\n",
       "    <tr>\n",
       "      <td>2</td>\n",
       "      <td>536365</td>\n",
       "      <td>84406B</td>\n",
       "      <td>CREAM CUPID HEARTS COAT HANGER</td>\n",
       "      <td>8</td>\n",
       "      <td>2010-12-01 08:26:00</td>\n",
       "      <td>2.75</td>\n",
       "      <td>17850.0</td>\n",
       "      <td>United Kingdom</td>\n",
       "    </tr>\n",
       "    <tr>\n",
       "      <td>3</td>\n",
       "      <td>536365</td>\n",
       "      <td>84029G</td>\n",
       "      <td>KNITTED UNION FLAG HOT WATER BOTTLE</td>\n",
       "      <td>6</td>\n",
       "      <td>2010-12-01 08:26:00</td>\n",
       "      <td>3.39</td>\n",
       "      <td>17850.0</td>\n",
       "      <td>United Kingdom</td>\n",
       "    </tr>\n",
       "    <tr>\n",
       "      <td>4</td>\n",
       "      <td>536365</td>\n",
       "      <td>84029E</td>\n",
       "      <td>RED WOOLLY HOTTIE WHITE HEART.</td>\n",
       "      <td>6</td>\n",
       "      <td>2010-12-01 08:26:00</td>\n",
       "      <td>3.39</td>\n",
       "      <td>17850.0</td>\n",
       "      <td>United Kingdom</td>\n",
       "    </tr>\n",
       "    <tr>\n",
       "      <td>5</td>\n",
       "      <td>536365</td>\n",
       "      <td>22752</td>\n",
       "      <td>SET 7 BABUSHKA NESTING BOXES</td>\n",
       "      <td>2</td>\n",
       "      <td>2010-12-01 08:26:00</td>\n",
       "      <td>7.65</td>\n",
       "      <td>17850.0</td>\n",
       "      <td>United Kingdom</td>\n",
       "    </tr>\n",
       "    <tr>\n",
       "      <td>6</td>\n",
       "      <td>536365</td>\n",
       "      <td>21730</td>\n",
       "      <td>GLASS STAR FROSTED T-LIGHT HOLDER</td>\n",
       "      <td>6</td>\n",
       "      <td>2010-12-01 08:26:00</td>\n",
       "      <td>4.25</td>\n",
       "      <td>17850.0</td>\n",
       "      <td>United Kingdom</td>\n",
       "    </tr>\n",
       "    <tr>\n",
       "      <td>7</td>\n",
       "      <td>536366</td>\n",
       "      <td>22633</td>\n",
       "      <td>HAND WARMER UNION JACK</td>\n",
       "      <td>6</td>\n",
       "      <td>2010-12-01 08:28:00</td>\n",
       "      <td>1.85</td>\n",
       "      <td>17850.0</td>\n",
       "      <td>United Kingdom</td>\n",
       "    </tr>\n",
       "    <tr>\n",
       "      <td>8</td>\n",
       "      <td>536366</td>\n",
       "      <td>22632</td>\n",
       "      <td>HAND WARMER RED POLKA DOT</td>\n",
       "      <td>6</td>\n",
       "      <td>2010-12-01 08:28:00</td>\n",
       "      <td>1.85</td>\n",
       "      <td>17850.0</td>\n",
       "      <td>United Kingdom</td>\n",
       "    </tr>\n",
       "    <tr>\n",
       "      <td>9</td>\n",
       "      <td>536367</td>\n",
       "      <td>84879</td>\n",
       "      <td>ASSORTED COLOUR BIRD ORNAMENT</td>\n",
       "      <td>32</td>\n",
       "      <td>2010-12-01 08:34:00</td>\n",
       "      <td>1.69</td>\n",
       "      <td>13047.0</td>\n",
       "      <td>United Kingdom</td>\n",
       "    </tr>\n",
       "  </tbody>\n",
       "</table>\n",
       "</div>"
      ],
      "text/plain": [
       "  InvoiceNo StockCode                          Description  Quantity  \\\n",
       "0    536365    85123A   WHITE HANGING HEART T-LIGHT HOLDER         6   \n",
       "1    536365     71053                  WHITE METAL LANTERN         6   \n",
       "2    536365    84406B       CREAM CUPID HEARTS COAT HANGER         8   \n",
       "3    536365    84029G  KNITTED UNION FLAG HOT WATER BOTTLE         6   \n",
       "4    536365    84029E       RED WOOLLY HOTTIE WHITE HEART.         6   \n",
       "5    536365     22752         SET 7 BABUSHKA NESTING BOXES         2   \n",
       "6    536365     21730    GLASS STAR FROSTED T-LIGHT HOLDER         6   \n",
       "7    536366     22633               HAND WARMER UNION JACK         6   \n",
       "8    536366     22632            HAND WARMER RED POLKA DOT         6   \n",
       "9    536367     84879        ASSORTED COLOUR BIRD ORNAMENT        32   \n",
       "\n",
       "          InvoiceDate  UnitPrice  CustomerID         Country  \n",
       "0 2010-12-01 08:26:00       2.55     17850.0  United Kingdom  \n",
       "1 2010-12-01 08:26:00       3.39     17850.0  United Kingdom  \n",
       "2 2010-12-01 08:26:00       2.75     17850.0  United Kingdom  \n",
       "3 2010-12-01 08:26:00       3.39     17850.0  United Kingdom  \n",
       "4 2010-12-01 08:26:00       3.39     17850.0  United Kingdom  \n",
       "5 2010-12-01 08:26:00       7.65     17850.0  United Kingdom  \n",
       "6 2010-12-01 08:26:00       4.25     17850.0  United Kingdom  \n",
       "7 2010-12-01 08:28:00       1.85     17850.0  United Kingdom  \n",
       "8 2010-12-01 08:28:00       1.85     17850.0  United Kingdom  \n",
       "9 2010-12-01 08:34:00       1.69     13047.0  United Kingdom  "
      ]
     },
     "execution_count": 23,
     "metadata": {},
     "output_type": "execute_result"
    }
   ],
   "source": [
    "online.head(10)"
   ]
  },
  {
   "cell_type": "code",
   "execution_count": 24,
   "metadata": {},
   "outputs": [
    {
     "data": {
      "text/plain": [
       "InvoiceNo              object\n",
       "StockCode              object\n",
       "Description            object\n",
       "Quantity                int64\n",
       "InvoiceDate    datetime64[ns]\n",
       "UnitPrice             float64\n",
       "CustomerID            float64\n",
       "Country                object\n",
       "dtype: object"
      ]
     },
     "execution_count": 24,
     "metadata": {},
     "output_type": "execute_result"
    }
   ],
   "source": [
    "online.dtypes"
   ]
  },
  {
   "cell_type": "code",
   "execution_count": 25,
   "metadata": {},
   "outputs": [
    {
     "name": "stdout",
     "output_type": "stream",
     "text": [
      "Data dimension (row count, col count): (541909, 8)\n",
      "Count of unique invoice numbers: 25900\n",
      "Count of unique customer ids: 4372\n"
     ]
    }
   ],
   "source": [
    "print(\"Data dimension (row count, col count): {dim}\".format(dim=online.shape))\n",
    "print(\"Count of unique invoice numbers: {cnt}\".format(cnt=online.InvoiceNo.nunique()))\n",
    "print(\"Count of unique customer ids: {cnt}\".format(cnt=online.CustomerID.nunique()))"
   ]
  },
  {
   "cell_type": "code",
   "execution_count": null,
   "metadata": {},
   "outputs": [],
   "source": [
    "# Exercise 8.03 Unit Test\n",
    "\n",
    "def unittest_exercise_8_03(df):\n",
    "    df_shape = df.shape\n",
    "    invoice_nunique = df.InvoiceNo.nunique()\n",
    "    customer_nunique = df.CustomerID.nunique()\n",
    "    assert df_shape == (541909, 8), \"Dimension wrong\"\n",
    "    assert invoice_nunique == 25900, \"N-unique invoice no wrong\"\n",
    "    assert customer_nunique == 4372, \"N-unique customer wrong\"\n",
    "\n",
    "unittest_exercise_8_03(df=online)"
   ]
  },
  {
   "cell_type": "markdown",
   "metadata": {},
   "source": [
    "#### Exercise 8.04: Data Cleaning and Formatting"
   ]
  },
  {
   "cell_type": "code",
   "execution_count": 27,
   "metadata": {},
   "outputs": [],
   "source": [
    "# create new column\n",
    "# indicator of whether InvoiceNo starts with C\n",
    "online['IsCPresent'] = (\n",
    "    online['InvoiceNo']\n",
    "    .astype(str)\n",
    "    .apply(lambda x: 1 if x.find('C') != -1 else 0)\n",
    ")"
   ]
  },
  {
   "cell_type": "code",
   "execution_count": 28,
   "metadata": {},
   "outputs": [],
   "source": [
    "online1 = (\n",
    "    online\n",
    "    # filter out non-positive quantity values\n",
    "    .loc[online[\"Quantity\"] > 0]\n",
    "    # remove InvoiceNos starting with C\n",
    "    .loc[online['IsCPresent'] != 1]\n",
    "    # column filtering\n",
    "    .loc[:, [\"InvoiceNo\", \"Description\"]]\n",
    "    # dropping all rows with at least one missing value\n",
    "    .dropna()\n",
    ")"
   ]
  },
  {
   "cell_type": "code",
   "execution_count": 29,
   "metadata": {},
   "outputs": [
    {
     "data": {
      "text/html": [
       "<div>\n",
       "<style scoped>\n",
       "    .dataframe tbody tr th:only-of-type {\n",
       "        vertical-align: middle;\n",
       "    }\n",
       "\n",
       "    .dataframe tbody tr th {\n",
       "        vertical-align: top;\n",
       "    }\n",
       "\n",
       "    .dataframe thead th {\n",
       "        text-align: right;\n",
       "    }\n",
       "</style>\n",
       "<table border=\"1\" class=\"dataframe\">\n",
       "  <thead>\n",
       "    <tr style=\"text-align: right;\">\n",
       "      <th></th>\n",
       "      <th>InvoiceNo</th>\n",
       "      <th>Description</th>\n",
       "    </tr>\n",
       "  </thead>\n",
       "  <tbody>\n",
       "    <tr>\n",
       "      <td>0</td>\n",
       "      <td>536365</td>\n",
       "      <td>WHITE HANGING HEART T-LIGHT HOLDER</td>\n",
       "    </tr>\n",
       "    <tr>\n",
       "      <td>1</td>\n",
       "      <td>536365</td>\n",
       "      <td>WHITE METAL LANTERN</td>\n",
       "    </tr>\n",
       "    <tr>\n",
       "      <td>2</td>\n",
       "      <td>536365</td>\n",
       "      <td>CREAM CUPID HEARTS COAT HANGER</td>\n",
       "    </tr>\n",
       "    <tr>\n",
       "      <td>3</td>\n",
       "      <td>536365</td>\n",
       "      <td>KNITTED UNION FLAG HOT WATER BOTTLE</td>\n",
       "    </tr>\n",
       "    <tr>\n",
       "      <td>4</td>\n",
       "      <td>536365</td>\n",
       "      <td>RED WOOLLY HOTTIE WHITE HEART.</td>\n",
       "    </tr>\n",
       "    <tr>\n",
       "      <td>5</td>\n",
       "      <td>536365</td>\n",
       "      <td>SET 7 BABUSHKA NESTING BOXES</td>\n",
       "    </tr>\n",
       "    <tr>\n",
       "      <td>6</td>\n",
       "      <td>536365</td>\n",
       "      <td>GLASS STAR FROSTED T-LIGHT HOLDER</td>\n",
       "    </tr>\n",
       "    <tr>\n",
       "      <td>7</td>\n",
       "      <td>536366</td>\n",
       "      <td>HAND WARMER UNION JACK</td>\n",
       "    </tr>\n",
       "    <tr>\n",
       "      <td>8</td>\n",
       "      <td>536366</td>\n",
       "      <td>HAND WARMER RED POLKA DOT</td>\n",
       "    </tr>\n",
       "    <tr>\n",
       "      <td>9</td>\n",
       "      <td>536367</td>\n",
       "      <td>ASSORTED COLOUR BIRD ORNAMENT</td>\n",
       "    </tr>\n",
       "  </tbody>\n",
       "</table>\n",
       "</div>"
      ],
      "text/plain": [
       "  InvoiceNo                          Description\n",
       "0    536365   WHITE HANGING HEART T-LIGHT HOLDER\n",
       "1    536365                  WHITE METAL LANTERN\n",
       "2    536365       CREAM CUPID HEARTS COAT HANGER\n",
       "3    536365  KNITTED UNION FLAG HOT WATER BOTTLE\n",
       "4    536365       RED WOOLLY HOTTIE WHITE HEART.\n",
       "5    536365         SET 7 BABUSHKA NESTING BOXES\n",
       "6    536365    GLASS STAR FROSTED T-LIGHT HOLDER\n",
       "7    536366               HAND WARMER UNION JACK\n",
       "8    536366            HAND WARMER RED POLKA DOT\n",
       "9    536367        ASSORTED COLOUR BIRD ORNAMENT"
      ]
     },
     "execution_count": 29,
     "metadata": {},
     "output_type": "execute_result"
    }
   ],
   "source": [
    "online1.head(10)"
   ]
  },
  {
   "cell_type": "code",
   "execution_count": 30,
   "metadata": {},
   "outputs": [
    {
     "name": "stdout",
     "output_type": "stream",
     "text": [
      "Data dimension (row count, col count): (530693, 2)\n",
      "Count of unique invoice numbers: 20136\n"
     ]
    }
   ],
   "source": [
    "print(\"Data dimension (row count, col count): {dim}\".format(dim=online1.shape))\n",
    "print(\"Count of unique invoice numbers: {cnt}\".format(cnt=online1.InvoiceNo.nunique()))"
   ]
  },
  {
   "cell_type": "code",
   "execution_count": 31,
   "metadata": {},
   "outputs": [
    {
     "name": "stdout",
     "output_type": "stream",
     "text": [
      "Length of list of invoice numbers: 20136\n"
     ]
    }
   ],
   "source": [
    "# extract unique invoice numbers as list\n",
    "invoice_no_list = online1.InvoiceNo.tolist()\n",
    "invoice_no_list = list(set(invoice_no_list))\n",
    "print(\"Length of list of invoice numbers: {ln}\".format(ln=len(invoice_no_list)))"
   ]
  },
  {
   "cell_type": "code",
   "execution_count": 32,
   "metadata": {},
   "outputs": [
    {
     "name": "stdout",
     "output_type": "stream",
     "text": [
      "Length of subset list of invoice numbers: 5000\n"
     ]
    }
   ],
   "source": [
    "# take subset of invoice number for exercises\n",
    "subset_invoice_no_list = invoice_no_list[0:5000]\n",
    "print(\"Length of subset list of invoice numbers: {ln}\".format(ln=len(subset_invoice_no_list)))"
   ]
  },
  {
   "cell_type": "code",
   "execution_count": 33,
   "metadata": {},
   "outputs": [],
   "source": [
    "# filter data set down to based on\n",
    "# subset of invoice number list\n",
    "online1 = online1.loc[online1[\"InvoiceNo\"].isin(subset_invoice_no_list)]"
   ]
  },
  {
   "cell_type": "code",
   "execution_count": 34,
   "metadata": {},
   "outputs": [
    {
     "data": {
      "text/html": [
       "<div>\n",
       "<style scoped>\n",
       "    .dataframe tbody tr th:only-of-type {\n",
       "        vertical-align: middle;\n",
       "    }\n",
       "\n",
       "    .dataframe tbody tr th {\n",
       "        vertical-align: top;\n",
       "    }\n",
       "\n",
       "    .dataframe thead th {\n",
       "        text-align: right;\n",
       "    }\n",
       "</style>\n",
       "<table border=\"1\" class=\"dataframe\">\n",
       "  <thead>\n",
       "    <tr style=\"text-align: right;\">\n",
       "      <th></th>\n",
       "      <th>InvoiceNo</th>\n",
       "      <th>Description</th>\n",
       "    </tr>\n",
       "  </thead>\n",
       "  <tbody>\n",
       "    <tr>\n",
       "      <td>0</td>\n",
       "      <td>536365</td>\n",
       "      <td>WHITE HANGING HEART T-LIGHT HOLDER</td>\n",
       "    </tr>\n",
       "    <tr>\n",
       "      <td>1</td>\n",
       "      <td>536365</td>\n",
       "      <td>WHITE METAL LANTERN</td>\n",
       "    </tr>\n",
       "    <tr>\n",
       "      <td>2</td>\n",
       "      <td>536365</td>\n",
       "      <td>CREAM CUPID HEARTS COAT HANGER</td>\n",
       "    </tr>\n",
       "    <tr>\n",
       "      <td>3</td>\n",
       "      <td>536365</td>\n",
       "      <td>KNITTED UNION FLAG HOT WATER BOTTLE</td>\n",
       "    </tr>\n",
       "    <tr>\n",
       "      <td>4</td>\n",
       "      <td>536365</td>\n",
       "      <td>RED WOOLLY HOTTIE WHITE HEART.</td>\n",
       "    </tr>\n",
       "    <tr>\n",
       "      <td>5</td>\n",
       "      <td>536365</td>\n",
       "      <td>SET 7 BABUSHKA NESTING BOXES</td>\n",
       "    </tr>\n",
       "    <tr>\n",
       "      <td>6</td>\n",
       "      <td>536365</td>\n",
       "      <td>GLASS STAR FROSTED T-LIGHT HOLDER</td>\n",
       "    </tr>\n",
       "    <tr>\n",
       "      <td>7</td>\n",
       "      <td>536366</td>\n",
       "      <td>HAND WARMER UNION JACK</td>\n",
       "    </tr>\n",
       "    <tr>\n",
       "      <td>8</td>\n",
       "      <td>536366</td>\n",
       "      <td>HAND WARMER RED POLKA DOT</td>\n",
       "    </tr>\n",
       "    <tr>\n",
       "      <td>9</td>\n",
       "      <td>536367</td>\n",
       "      <td>ASSORTED COLOUR BIRD ORNAMENT</td>\n",
       "    </tr>\n",
       "  </tbody>\n",
       "</table>\n",
       "</div>"
      ],
      "text/plain": [
       "  InvoiceNo                          Description\n",
       "0    536365   WHITE HANGING HEART T-LIGHT HOLDER\n",
       "1    536365                  WHITE METAL LANTERN\n",
       "2    536365       CREAM CUPID HEARTS COAT HANGER\n",
       "3    536365  KNITTED UNION FLAG HOT WATER BOTTLE\n",
       "4    536365       RED WOOLLY HOTTIE WHITE HEART.\n",
       "5    536365         SET 7 BABUSHKA NESTING BOXES\n",
       "6    536365    GLASS STAR FROSTED T-LIGHT HOLDER\n",
       "7    536366               HAND WARMER UNION JACK\n",
       "8    536366            HAND WARMER RED POLKA DOT\n",
       "9    536367        ASSORTED COLOUR BIRD ORNAMENT"
      ]
     },
     "execution_count": 34,
     "metadata": {},
     "output_type": "execute_result"
    }
   ],
   "source": [
    "online1.head(10)"
   ]
  },
  {
   "cell_type": "code",
   "execution_count": 35,
   "metadata": {},
   "outputs": [
    {
     "name": "stdout",
     "output_type": "stream",
     "text": [
      "Data dimension (row count, col count): (133313, 2)\n",
      "Count of unique invoice numbers: 5000\n"
     ]
    }
   ],
   "source": [
    "## DIFFERENT: ORIGINAL 133315\n",
    "\n",
    "print(\"Data dimension (row count, col count): {dim}\".format(dim=online1.shape))\n",
    "print(\"Count of unique invoice numbers: {cnt}\".format(cnt=online1.InvoiceNo.nunique()))"
   ]
  },
  {
   "cell_type": "code",
   "execution_count": 36,
   "metadata": {},
   "outputs": [
    {
     "name": "stdout",
     "output_type": "stream",
     "text": [
      "[['HAND WARMER UNION JACK', 'HAND WARMER RED POLKA DOT'], ['ASSORTED COLOUR BIRD ORNAMENT', \"POPPY'S PLAYHOUSE BEDROOM \", \"POPPY'S PLAYHOUSE KITCHEN\", 'FELTCRAFT PRINCESS CHARLOTTE DOLL', 'IVORY KNITTED MUG COSY ', 'BOX OF 6 ASSORTED COLOUR TEASPOONS', 'BOX OF VINTAGE JIGSAW BLOCKS ', 'BOX OF VINTAGE ALPHABET BLOCKS', 'HOME BUILDING BLOCK WORD', 'LOVE BUILDING BLOCK WORD', 'RECIPE BOX WITH METAL HEART', 'DOORMAT NEW ENGLAND'], ['JAM MAKING SET WITH JARS', 'RED COAT RACK PARIS FASHION', 'YELLOW COAT RACK PARIS FASHION', 'BLUE COAT RACK PARIS FASHION'], ['BATH BUILDING BLOCK WORD']]\n"
     ]
    }
   ],
   "source": [
    "## DIFFERENT: EDITOR DELETE CORRECT VERSION\n",
    "\n",
    "# turn the data in a list of lists\n",
    "# each sublist contains the items belonging\n",
    "# to each unique invoice number\n",
    "\n",
    "# initiate the outer list of the list of lists\n",
    "invoice_item_list = []\n",
    "for num in list(set(online1.InvoiceNo.tolist())):\n",
    "    # filter data set down to one invoice number\n",
    "    tmp_df = online1.loc[online1['InvoiceNo'] == num]\n",
    "    # extract item descriptions and convert to list\n",
    "    tmp_items = tmp_df.Description.tolist()\n",
    "    # append list invoice_item_list\n",
    "    invoice_item_list.append(tmp_items)\n",
    "    \n",
    "print(invoice_item_list[1:5])"
   ]
  },
  {
   "cell_type": "code",
   "execution_count": null,
   "metadata": {},
   "outputs": [],
   "source": [
    "# Exercise 8.04 Unit Test\n",
    "\n",
    "def unittest_exercise_8_04(data):\n",
    "    assert len(data) == 5000, \"List length wrong\"\n",
    "    assert sum([len(l) for l in data]) == 133313, \"Sublist length wrong\"\n",
    "\n",
    "unittest_exercise_8_04(data=invoice_item_list)"
   ]
  },
  {
   "cell_type": "markdown",
   "metadata": {},
   "source": [
    "#### Exercise 8.05: Data Encoding"
   ]
  },
  {
   "cell_type": "code",
   "execution_count": 39,
   "metadata": {},
   "outputs": [],
   "source": [
    "# do not run\n",
    "# this is included as an example\n",
    "\n",
    "def manual_encoding(ll):\n",
    "    # unlist the list of lists input\n",
    "    # result is one list with all the elements of the sublists\n",
    "    list_dup_unsort_items = [element for sub in ll for element in sub]\n",
    "    # two cleaning steps:\n",
    "    #     1. remove duplicate items, only want one of each item in list\n",
    "    #     2. sort items in alphabetical order\n",
    "    list_nondup_sort_items = sorted(list(set(list_dup_unsort_items)))\n",
    "    \n",
    "    # initialize data frame with all elements having False value\n",
    "    # name the columns the elements of list_dup_unsort_items\n",
    "    manual_df = pandas.DataFrame(False, index=range(len(ll)), columns=list_dup_unsort_items)\n",
    "    \n",
    "    # change False to True if element is in individual transaction list\n",
    "    # each row is represents the contains of an individual transaction\n",
    "    # (sublist from the original list of lists)\n",
    "    for i in range(len(ll)):\n",
    "        for j in ll[i]:\n",
    "            manual_df.loc[i, j] = True\n",
    "    \n",
    "    # return the True/False data frame\n",
    "    return manual_df"
   ]
  },
  {
   "cell_type": "code",
   "execution_count": 40,
   "metadata": {},
   "outputs": [
    {
     "name": "stdout",
     "output_type": "stream",
     "text": [
      "[[False False False ... False False False]\n",
      " [False False False ... False False False]\n",
      " [False False False ... False False False]\n",
      " ...\n",
      " [False False False ... False False False]\n",
      " [False False False ... False False False]\n",
      " [False False False ... False False False]]\n"
     ]
    }
   ],
   "source": [
    "online_encoder = mlxtend.preprocessing.TransactionEncoder()\n",
    "online_encoder_array = online_encoder.fit_transform(invoice_item_list)\n",
    "print(online_encoder_array)"
   ]
  },
  {
   "cell_type": "code",
   "execution_count": 41,
   "metadata": {},
   "outputs": [
    {
     "data": {
      "text/html": [
       "<div>\n",
       "<style scoped>\n",
       "    .dataframe tbody tr th:only-of-type {\n",
       "        vertical-align: middle;\n",
       "    }\n",
       "\n",
       "    .dataframe tbody tr th {\n",
       "        vertical-align: top;\n",
       "    }\n",
       "\n",
       "    .dataframe thead th {\n",
       "        text-align: right;\n",
       "    }\n",
       "</style>\n",
       "<table border=\"1\" class=\"dataframe\">\n",
       "  <thead>\n",
       "    <tr style=\"text-align: right;\">\n",
       "      <th></th>\n",
       "      <th>4 PURPLE FLOCK DINNER CANDLES</th>\n",
       "      <th>OVAL WALL MIRROR DIAMANTE</th>\n",
       "      <th>SET 2 TEA TOWELS I LOVE LONDON</th>\n",
       "      <th>SPACEBOY BABY GIFT SET</th>\n",
       "      <th>*Boombox Ipod Classic</th>\n",
       "      <th>*USB Office Mirror Ball</th>\n",
       "      <th>10 COLOUR SPACEBOY PEN</th>\n",
       "      <th>12 COLOURED PARTY BALLOONS</th>\n",
       "    </tr>\n",
       "  </thead>\n",
       "  <tbody>\n",
       "    <tr>\n",
       "      <td>4970</td>\n",
       "      <td>False</td>\n",
       "      <td>False</td>\n",
       "      <td>False</td>\n",
       "      <td>False</td>\n",
       "      <td>False</td>\n",
       "      <td>False</td>\n",
       "      <td>False</td>\n",
       "      <td>False</td>\n",
       "    </tr>\n",
       "    <tr>\n",
       "      <td>4971</td>\n",
       "      <td>False</td>\n",
       "      <td>False</td>\n",
       "      <td>False</td>\n",
       "      <td>False</td>\n",
       "      <td>False</td>\n",
       "      <td>False</td>\n",
       "      <td>False</td>\n",
       "      <td>False</td>\n",
       "    </tr>\n",
       "    <tr>\n",
       "      <td>4972</td>\n",
       "      <td>False</td>\n",
       "      <td>False</td>\n",
       "      <td>False</td>\n",
       "      <td>False</td>\n",
       "      <td>False</td>\n",
       "      <td>False</td>\n",
       "      <td>False</td>\n",
       "      <td>False</td>\n",
       "    </tr>\n",
       "    <tr>\n",
       "      <td>4973</td>\n",
       "      <td>False</td>\n",
       "      <td>False</td>\n",
       "      <td>False</td>\n",
       "      <td>False</td>\n",
       "      <td>False</td>\n",
       "      <td>False</td>\n",
       "      <td>False</td>\n",
       "      <td>False</td>\n",
       "    </tr>\n",
       "    <tr>\n",
       "      <td>4974</td>\n",
       "      <td>False</td>\n",
       "      <td>False</td>\n",
       "      <td>True</td>\n",
       "      <td>False</td>\n",
       "      <td>False</td>\n",
       "      <td>False</td>\n",
       "      <td>False</td>\n",
       "      <td>False</td>\n",
       "    </tr>\n",
       "    <tr>\n",
       "      <td>4975</td>\n",
       "      <td>False</td>\n",
       "      <td>False</td>\n",
       "      <td>False</td>\n",
       "      <td>False</td>\n",
       "      <td>False</td>\n",
       "      <td>False</td>\n",
       "      <td>False</td>\n",
       "      <td>False</td>\n",
       "    </tr>\n",
       "    <tr>\n",
       "      <td>4976</td>\n",
       "      <td>False</td>\n",
       "      <td>False</td>\n",
       "      <td>False</td>\n",
       "      <td>False</td>\n",
       "      <td>False</td>\n",
       "      <td>False</td>\n",
       "      <td>False</td>\n",
       "      <td>False</td>\n",
       "    </tr>\n",
       "    <tr>\n",
       "      <td>4977</td>\n",
       "      <td>False</td>\n",
       "      <td>False</td>\n",
       "      <td>False</td>\n",
       "      <td>False</td>\n",
       "      <td>False</td>\n",
       "      <td>False</td>\n",
       "      <td>False</td>\n",
       "      <td>False</td>\n",
       "    </tr>\n",
       "    <tr>\n",
       "      <td>4978</td>\n",
       "      <td>False</td>\n",
       "      <td>False</td>\n",
       "      <td>False</td>\n",
       "      <td>False</td>\n",
       "      <td>False</td>\n",
       "      <td>False</td>\n",
       "      <td>False</td>\n",
       "      <td>False</td>\n",
       "    </tr>\n",
       "    <tr>\n",
       "      <td>4979</td>\n",
       "      <td>False</td>\n",
       "      <td>False</td>\n",
       "      <td>False</td>\n",
       "      <td>False</td>\n",
       "      <td>False</td>\n",
       "      <td>False</td>\n",
       "      <td>False</td>\n",
       "      <td>False</td>\n",
       "    </tr>\n",
       "  </tbody>\n",
       "</table>\n",
       "</div>"
      ],
      "text/plain": [
       "       4 PURPLE FLOCK DINNER CANDLES   OVAL WALL MIRROR DIAMANTE   \\\n",
       "4970                           False                        False   \n",
       "4971                           False                        False   \n",
       "4972                           False                        False   \n",
       "4973                           False                        False   \n",
       "4974                           False                        False   \n",
       "4975                           False                        False   \n",
       "4976                           False                        False   \n",
       "4977                           False                        False   \n",
       "4978                           False                        False   \n",
       "4979                           False                        False   \n",
       "\n",
       "       SET 2 TEA TOWELS I LOVE LONDON    SPACEBOY BABY GIFT SET  \\\n",
       "4970                             False                    False   \n",
       "4971                             False                    False   \n",
       "4972                             False                    False   \n",
       "4973                             False                    False   \n",
       "4974                              True                    False   \n",
       "4975                             False                    False   \n",
       "4976                             False                    False   \n",
       "4977                             False                    False   \n",
       "4978                             False                    False   \n",
       "4979                             False                    False   \n",
       "\n",
       "      *Boombox Ipod Classic  *USB Office Mirror Ball  10 COLOUR SPACEBOY PEN  \\\n",
       "4970                  False                    False                   False   \n",
       "4971                  False                    False                   False   \n",
       "4972                  False                    False                   False   \n",
       "4973                  False                    False                   False   \n",
       "4974                  False                    False                   False   \n",
       "4975                  False                    False                   False   \n",
       "4976                  False                    False                   False   \n",
       "4977                  False                    False                   False   \n",
       "4978                  False                    False                   False   \n",
       "4979                  False                    False                   False   \n",
       "\n",
       "      12 COLOURED PARTY BALLOONS  \n",
       "4970                       False  \n",
       "4971                       False  \n",
       "4972                       False  \n",
       "4973                       False  \n",
       "4974                       False  \n",
       "4975                       False  \n",
       "4976                       False  \n",
       "4977                       False  \n",
       "4978                       False  \n",
       "4979                       False  "
      ]
     },
     "execution_count": 41,
     "metadata": {},
     "output_type": "execute_result"
    }
   ],
   "source": [
    "## DIFFERENT: EDITOR DELETED CORRECT VERSION\n",
    "\n",
    "online_encoder_df = pandas.DataFrame(\n",
    "    online_encoder_array, \n",
    "    columns=online_encoder.columns_\n",
    ")\n",
    "\n",
    "# this is a very big table, so for more \n",
    "# easy viewing only a subset is printed\n",
    "online_encoder_df.loc[\n",
    "    4970:4979, \n",
    "    online_encoder_df.columns.tolist()[0:8]\n",
    "]"
   ]
  },
  {
   "cell_type": "code",
   "execution_count": 42,
   "metadata": {},
   "outputs": [
    {
     "name": "stdout",
     "output_type": "stream",
     "text": [
      "Data dimension (row count, col count): (5000, 3136)\n"
     ]
    }
   ],
   "source": [
    "## DIFFERENT: ORIGINAL COL COUNT 3135\n",
    "\n",
    "print(\"Data dimension (row count, col count): {dim}\".format(dim=online_encoder_df.shape))"
   ]
  },
  {
   "cell_type": "code",
   "execution_count": null,
   "metadata": {},
   "outputs": [],
   "source": [
    "# Exercise 8.05 Unit Test\n",
    "\n",
    "def unittest_exercise_8_05(df):\n",
    "    df_shape = df.shape\n",
    "    assert df_shape == (5000, 3136), \"Dimension mismatch\"\n",
    "    \n",
    "    unique_vals = list(set(df.nunique().values.tolist()))[0]\n",
    "    assert unique_vals == 2, \"Too many unique values\"\n",
    "\n",
    "unittest_exercise_8_05(df=online_encoder_df)"
   ]
  },
  {
   "cell_type": "markdown",
   "metadata": {},
   "source": [
    "#### Exercise 8.06: Apriori Algorithm"
   ]
  },
  {
   "cell_type": "code",
   "execution_count": 45,
   "metadata": {},
   "outputs": [
    {
     "data": {
      "text/html": [
       "<div>\n",
       "<style scoped>\n",
       "    .dataframe tbody tr th:only-of-type {\n",
       "        vertical-align: middle;\n",
       "    }\n",
       "\n",
       "    .dataframe tbody tr th {\n",
       "        vertical-align: top;\n",
       "    }\n",
       "\n",
       "    .dataframe thead th {\n",
       "        text-align: right;\n",
       "    }\n",
       "</style>\n",
       "<table border=\"1\" class=\"dataframe\">\n",
       "  <thead>\n",
       "    <tr style=\"text-align: right;\">\n",
       "      <th></th>\n",
       "      <th>support</th>\n",
       "      <th>itemsets</th>\n",
       "    </tr>\n",
       "  </thead>\n",
       "  <tbody>\n",
       "  </tbody>\n",
       "</table>\n",
       "</div>"
      ],
      "text/plain": [
       "Empty DataFrame\n",
       "Columns: [support, itemsets]\n",
       "Index: []"
      ]
     },
     "execution_count": 45,
     "metadata": {},
     "output_type": "execute_result"
    }
   ],
   "source": [
    "# default minimum support = 0.5\n",
    "# does not use colnames (item names)\n",
    "\n",
    "mod = mlxtend.frequent_patterns.apriori(online_encoder_df)\n",
    "mod"
   ]
  },
  {
   "cell_type": "code",
   "execution_count": 46,
   "metadata": {},
   "outputs": [
    {
     "data": {
      "text/html": [
       "<div>\n",
       "<style scoped>\n",
       "    .dataframe tbody tr th:only-of-type {\n",
       "        vertical-align: middle;\n",
       "    }\n",
       "\n",
       "    .dataframe tbody tr th {\n",
       "        vertical-align: top;\n",
       "    }\n",
       "\n",
       "    .dataframe thead th {\n",
       "        text-align: right;\n",
       "    }\n",
       "</style>\n",
       "<table border=\"1\" class=\"dataframe\">\n",
       "  <thead>\n",
       "    <tr style=\"text-align: right;\">\n",
       "      <th></th>\n",
       "      <th>support</th>\n",
       "      <th>itemsets</th>\n",
       "    </tr>\n",
       "  </thead>\n",
       "  <tbody>\n",
       "    <tr>\n",
       "      <td>0</td>\n",
       "      <td>0.0110</td>\n",
       "      <td>(1)</td>\n",
       "    </tr>\n",
       "    <tr>\n",
       "      <td>1</td>\n",
       "      <td>0.0340</td>\n",
       "      <td>(2)</td>\n",
       "    </tr>\n",
       "    <tr>\n",
       "      <td>2</td>\n",
       "      <td>0.0178</td>\n",
       "      <td>(6)</td>\n",
       "    </tr>\n",
       "    <tr>\n",
       "      <td>3</td>\n",
       "      <td>0.0126</td>\n",
       "      <td>(10)</td>\n",
       "    </tr>\n",
       "    <tr>\n",
       "      <td>4</td>\n",
       "      <td>0.0132</td>\n",
       "      <td>(11)</td>\n",
       "    </tr>\n",
       "    <tr>\n",
       "      <td>5</td>\n",
       "      <td>0.0178</td>\n",
       "      <td>(12)</td>\n",
       "    </tr>\n",
       "    <tr>\n",
       "      <td>6</td>\n",
       "      <td>0.0276</td>\n",
       "      <td>(13)</td>\n",
       "    </tr>\n",
       "  </tbody>\n",
       "</table>\n",
       "</div>"
      ],
      "text/plain": [
       "   support itemsets\n",
       "0   0.0110      (1)\n",
       "1   0.0340      (2)\n",
       "2   0.0178      (6)\n",
       "3   0.0126     (10)\n",
       "4   0.0132     (11)\n",
       "5   0.0178     (12)\n",
       "6   0.0276     (13)"
      ]
     },
     "execution_count": 46,
     "metadata": {},
     "output_type": "execute_result"
    }
   ],
   "source": [
    "mod_minsupport = mlxtend.frequent_patterns.apriori(\n",
    "    online_encoder_df,\n",
    "    min_support=0.01\n",
    ")\n",
    "mod_minsupport.loc[0:6]"
   ]
  },
  {
   "cell_type": "code",
   "execution_count": 47,
   "metadata": {},
   "outputs": [
    {
     "data": {
      "text/html": [
       "<div>\n",
       "<style scoped>\n",
       "    .dataframe tbody tr th:only-of-type {\n",
       "        vertical-align: middle;\n",
       "    }\n",
       "\n",
       "    .dataframe tbody tr th {\n",
       "        vertical-align: top;\n",
       "    }\n",
       "\n",
       "    .dataframe thead th {\n",
       "        text-align: right;\n",
       "    }\n",
       "</style>\n",
       "<table border=\"1\" class=\"dataframe\">\n",
       "  <thead>\n",
       "    <tr style=\"text-align: right;\">\n",
       "      <th></th>\n",
       "      <th>support</th>\n",
       "      <th>itemsets</th>\n",
       "    </tr>\n",
       "  </thead>\n",
       "  <tbody>\n",
       "    <tr>\n",
       "      <td>0</td>\n",
       "      <td>0.0110</td>\n",
       "      <td>( OVAL WALL MIRROR DIAMANTE )</td>\n",
       "    </tr>\n",
       "    <tr>\n",
       "      <td>1</td>\n",
       "      <td>0.0340</td>\n",
       "      <td>( SET 2 TEA TOWELS I LOVE LONDON )</td>\n",
       "    </tr>\n",
       "    <tr>\n",
       "      <td>2</td>\n",
       "      <td>0.0178</td>\n",
       "      <td>(10 COLOUR SPACEBOY PEN)</td>\n",
       "    </tr>\n",
       "    <tr>\n",
       "      <td>3</td>\n",
       "      <td>0.0126</td>\n",
       "      <td>(12 IVORY ROSE PEG PLACE SETTINGS)</td>\n",
       "    </tr>\n",
       "    <tr>\n",
       "      <td>4</td>\n",
       "      <td>0.0132</td>\n",
       "      <td>(12 MESSAGE CARDS WITH ENVELOPES)</td>\n",
       "    </tr>\n",
       "    <tr>\n",
       "      <td>5</td>\n",
       "      <td>0.0178</td>\n",
       "      <td>(12 PENCIL SMALL TUBE WOODLAND)</td>\n",
       "    </tr>\n",
       "    <tr>\n",
       "      <td>6</td>\n",
       "      <td>0.0276</td>\n",
       "      <td>(12 PENCILS SMALL TUBE RED RETROSPOT)</td>\n",
       "    </tr>\n",
       "  </tbody>\n",
       "</table>\n",
       "</div>"
      ],
      "text/plain": [
       "   support                               itemsets\n",
       "0   0.0110          ( OVAL WALL MIRROR DIAMANTE )\n",
       "1   0.0340     ( SET 2 TEA TOWELS I LOVE LONDON )\n",
       "2   0.0178               (10 COLOUR SPACEBOY PEN)\n",
       "3   0.0126     (12 IVORY ROSE PEG PLACE SETTINGS)\n",
       "4   0.0132      (12 MESSAGE CARDS WITH ENVELOPES)\n",
       "5   0.0178        (12 PENCIL SMALL TUBE WOODLAND)\n",
       "6   0.0276  (12 PENCILS SMALL TUBE RED RETROSPOT)"
      ]
     },
     "execution_count": 47,
     "metadata": {},
     "output_type": "execute_result"
    }
   ],
   "source": [
    "# add colnames for easier interpretability\n",
    "\n",
    "mod_colnames_minsupport = mlxtend.frequent_patterns.apriori(\n",
    "    online_encoder_df, \n",
    "    min_support=0.01,\n",
    "    use_colnames=True\n",
    ")\n",
    "mod_colnames_minsupport.loc[0:6]"
   ]
  },
  {
   "cell_type": "code",
   "execution_count": 48,
   "metadata": {},
   "outputs": [
    {
     "data": {
      "text/html": [
       "<div>\n",
       "<style scoped>\n",
       "    .dataframe tbody tr th:only-of-type {\n",
       "        vertical-align: middle;\n",
       "    }\n",
       "\n",
       "    .dataframe tbody tr th {\n",
       "        vertical-align: top;\n",
       "    }\n",
       "\n",
       "    .dataframe thead th {\n",
       "        text-align: right;\n",
       "    }\n",
       "</style>\n",
       "<table border=\"1\" class=\"dataframe\">\n",
       "  <thead>\n",
       "    <tr style=\"text-align: right;\">\n",
       "      <th></th>\n",
       "      <th>support</th>\n",
       "      <th>itemsets</th>\n",
       "      <th>length</th>\n",
       "    </tr>\n",
       "  </thead>\n",
       "  <tbody>\n",
       "    <tr>\n",
       "      <td>0</td>\n",
       "      <td>0.0110</td>\n",
       "      <td>( OVAL WALL MIRROR DIAMANTE )</td>\n",
       "      <td>1</td>\n",
       "    </tr>\n",
       "    <tr>\n",
       "      <td>1</td>\n",
       "      <td>0.0340</td>\n",
       "      <td>( SET 2 TEA TOWELS I LOVE LONDON )</td>\n",
       "      <td>1</td>\n",
       "    </tr>\n",
       "    <tr>\n",
       "      <td>2</td>\n",
       "      <td>0.0178</td>\n",
       "      <td>(10 COLOUR SPACEBOY PEN)</td>\n",
       "      <td>1</td>\n",
       "    </tr>\n",
       "    <tr>\n",
       "      <td>3</td>\n",
       "      <td>0.0126</td>\n",
       "      <td>(12 IVORY ROSE PEG PLACE SETTINGS)</td>\n",
       "      <td>1</td>\n",
       "    </tr>\n",
       "    <tr>\n",
       "      <td>4</td>\n",
       "      <td>0.0132</td>\n",
       "      <td>(12 MESSAGE CARDS WITH ENVELOPES)</td>\n",
       "      <td>1</td>\n",
       "    </tr>\n",
       "    <tr>\n",
       "      <td>5</td>\n",
       "      <td>0.0178</td>\n",
       "      <td>(12 PENCIL SMALL TUBE WOODLAND)</td>\n",
       "      <td>1</td>\n",
       "    </tr>\n",
       "    <tr>\n",
       "      <td>6</td>\n",
       "      <td>0.0276</td>\n",
       "      <td>(12 PENCILS SMALL TUBE RED RETROSPOT)</td>\n",
       "      <td>1</td>\n",
       "    </tr>\n",
       "  </tbody>\n",
       "</table>\n",
       "</div>"
      ],
      "text/plain": [
       "   support                               itemsets  length\n",
       "0   0.0110          ( OVAL WALL MIRROR DIAMANTE )       1\n",
       "1   0.0340     ( SET 2 TEA TOWELS I LOVE LONDON )       1\n",
       "2   0.0178               (10 COLOUR SPACEBOY PEN)       1\n",
       "3   0.0126     (12 IVORY ROSE PEG PLACE SETTINGS)       1\n",
       "4   0.0132      (12 MESSAGE CARDS WITH ENVELOPES)       1\n",
       "5   0.0178        (12 PENCIL SMALL TUBE WOODLAND)       1\n",
       "6   0.0276  (12 PENCILS SMALL TUBE RED RETROSPOT)       1"
      ]
     },
     "execution_count": 48,
     "metadata": {},
     "output_type": "execute_result"
    }
   ],
   "source": [
    "mod_colnames_minsupport['length'] = (\n",
    "    mod_colnames_minsupport['itemsets'].apply(lambda x: len(x))\n",
    ")\n",
    "\n",
    "mod_colnames_minsupport.loc[0:6]"
   ]
  },
  {
   "cell_type": "code",
   "execution_count": 49,
   "metadata": {},
   "outputs": [
    {
     "data": {
      "text/html": [
       "<div>\n",
       "<style scoped>\n",
       "    .dataframe tbody tr th:only-of-type {\n",
       "        vertical-align: middle;\n",
       "    }\n",
       "\n",
       "    .dataframe tbody tr th {\n",
       "        vertical-align: top;\n",
       "    }\n",
       "\n",
       "    .dataframe thead th {\n",
       "        text-align: right;\n",
       "    }\n",
       "</style>\n",
       "<table border=\"1\" class=\"dataframe\">\n",
       "  <thead>\n",
       "    <tr style=\"text-align: right;\">\n",
       "      <th></th>\n",
       "      <th>support</th>\n",
       "      <th>itemsets</th>\n",
       "      <th>length</th>\n",
       "    </tr>\n",
       "  </thead>\n",
       "  <tbody>\n",
       "    <tr>\n",
       "      <td>1000</td>\n",
       "      <td>0.012</td>\n",
       "      <td>(ANTIQUE SILVER TEA GLASS ETCHED, REGENCY CAKE...</td>\n",
       "      <td>2</td>\n",
       "    </tr>\n",
       "  </tbody>\n",
       "</table>\n",
       "</div>"
      ],
      "text/plain": [
       "      support                                           itemsets  length\n",
       "1000    0.012  (ANTIQUE SILVER TEA GLASS ETCHED, REGENCY CAKE...       2"
      ]
     },
     "execution_count": 49,
     "metadata": {},
     "output_type": "execute_result"
    }
   ],
   "source": [
    "mod_colnames_minsupport[\n",
    "    mod_colnames_minsupport['itemsets'] == frozenset(\n",
    "        {'ANTIQUE SILVER TEA GLASS ETCHED', 'REGENCY CAKESTAND 3 TIER'}\n",
    "    )\n",
    "]"
   ]
  },
  {
   "cell_type": "code",
   "execution_count": 50,
   "metadata": {},
   "outputs": [
    {
     "data": {
      "text/html": [
       "<div>\n",
       "<style scoped>\n",
       "    .dataframe tbody tr th:only-of-type {\n",
       "        vertical-align: middle;\n",
       "    }\n",
       "\n",
       "    .dataframe tbody tr th {\n",
       "        vertical-align: top;\n",
       "    }\n",
       "\n",
       "    .dataframe thead th {\n",
       "        text-align: right;\n",
       "    }\n",
       "</style>\n",
       "<table border=\"1\" class=\"dataframe\">\n",
       "  <thead>\n",
       "    <tr style=\"text-align: right;\">\n",
       "      <th></th>\n",
       "      <th>support</th>\n",
       "      <th>itemsets</th>\n",
       "      <th>length</th>\n",
       "    </tr>\n",
       "  </thead>\n",
       "  <tbody>\n",
       "    <tr>\n",
       "      <td>889</td>\n",
       "      <td>0.0200</td>\n",
       "      <td>(6 RIBBONS RUSTIC CHARM, REGENCY CAKESTAND 3 T...</td>\n",
       "      <td>2</td>\n",
       "    </tr>\n",
       "    <tr>\n",
       "      <td>950</td>\n",
       "      <td>0.0208</td>\n",
       "      <td>(ALARM CLOCK BAKELIKE GREEN, ALARM CLOCK BAKEL...</td>\n",
       "      <td>2</td>\n",
       "    </tr>\n",
       "    <tr>\n",
       "      <td>1309</td>\n",
       "      <td>0.0200</td>\n",
       "      <td>(DOTCOM POSTAGE, LUNCH BAG RED RETROSPOT)</td>\n",
       "      <td>2</td>\n",
       "    </tr>\n",
       "    <tr>\n",
       "      <td>1516</td>\n",
       "      <td>0.0208</td>\n",
       "      <td>(HANGING HEART ZINC T-LIGHT HOLDER, SINGLE HEA...</td>\n",
       "      <td>2</td>\n",
       "    </tr>\n",
       "    <tr>\n",
       "      <td>1565</td>\n",
       "      <td>0.0206</td>\n",
       "      <td>(HEART OF WICKER SMALL, JUMBO BAG RED RETROSPOT)</td>\n",
       "      <td>2</td>\n",
       "    </tr>\n",
       "    <tr>\n",
       "      <td>1640</td>\n",
       "      <td>0.0204</td>\n",
       "      <td>(HOME BUILDING BLOCK WORD, WHITE HANGING HEART...</td>\n",
       "      <td>2</td>\n",
       "    </tr>\n",
       "    <tr>\n",
       "      <td>1753</td>\n",
       "      <td>0.0206</td>\n",
       "      <td>(REGENCY CAKESTAND 3 TIER, JAM MAKING SET WITH...</td>\n",
       "      <td>2</td>\n",
       "    </tr>\n",
       "    <tr>\n",
       "      <td>1792</td>\n",
       "      <td>0.0206</td>\n",
       "      <td>(JUMBO BAG OWLS, JUMBO BAG PINK POLKADOT)</td>\n",
       "      <td>2</td>\n",
       "    </tr>\n",
       "    <tr>\n",
       "      <td>1879</td>\n",
       "      <td>0.0208</td>\n",
       "      <td>(JUMBO BAG RED RETROSPOT, RED RETROSPOT CHARLO...</td>\n",
       "      <td>2</td>\n",
       "    </tr>\n",
       "    <tr>\n",
       "      <td>1944</td>\n",
       "      <td>0.0204</td>\n",
       "      <td>(JUMBO STORAGE BAG SUKI, JUMBO BAG WOODLAND AN...</td>\n",
       "      <td>2</td>\n",
       "    </tr>\n",
       "    <tr>\n",
       "      <td>2046</td>\n",
       "      <td>0.0206</td>\n",
       "      <td>(LUNCH BAG CARS BLUE, LUNCH BAG RED RETROSPOT)</td>\n",
       "      <td>2</td>\n",
       "    </tr>\n",
       "    <tr>\n",
       "      <td>2071</td>\n",
       "      <td>0.0208</td>\n",
       "      <td>(LUNCH BAG RED RETROSPOT, LUNCH BAG WOODLAND)</td>\n",
       "      <td>2</td>\n",
       "    </tr>\n",
       "    <tr>\n",
       "      <td>2092</td>\n",
       "      <td>0.0202</td>\n",
       "      <td>(LUNCH BAG RED RETROSPOT, SMALL POPCORN HOLDER)</td>\n",
       "      <td>2</td>\n",
       "    </tr>\n",
       "    <tr>\n",
       "      <td>2210</td>\n",
       "      <td>0.0206</td>\n",
       "      <td>(SET/20 RED RETROSPOT PAPER NAPKINS , PACK OF ...</td>\n",
       "      <td>2</td>\n",
       "    </tr>\n",
       "    <tr>\n",
       "      <td>2309</td>\n",
       "      <td>0.0208</td>\n",
       "      <td>(RECIPE BOX PANTRY YELLOW DESIGN, SET OF 6 SPI...</td>\n",
       "      <td>2</td>\n",
       "    </tr>\n",
       "    <tr>\n",
       "      <td>2355</td>\n",
       "      <td>0.0200</td>\n",
       "      <td>(STRAWBERRY CHARLOTTE BAG, RED RETROSPOT CHARL...</td>\n",
       "      <td>2</td>\n",
       "    </tr>\n",
       "    <tr>\n",
       "      <td>2408</td>\n",
       "      <td>0.0208</td>\n",
       "      <td>(SCOTTIE DOG HOT WATER BOTTLE, RETROSPOT HEART...</td>\n",
       "      <td>2</td>\n",
       "    </tr>\n",
       "    <tr>\n",
       "      <td>2517</td>\n",
       "      <td>0.0208</td>\n",
       "      <td>(VICTORIAN GLASS HANGING T-LIGHT, WHITE HANGIN...</td>\n",
       "      <td>2</td>\n",
       "    </tr>\n",
       "  </tbody>\n",
       "</table>\n",
       "</div>"
      ],
      "text/plain": [
       "      support                                           itemsets  length\n",
       "889    0.0200  (6 RIBBONS RUSTIC CHARM, REGENCY CAKESTAND 3 T...       2\n",
       "950    0.0208  (ALARM CLOCK BAKELIKE GREEN, ALARM CLOCK BAKEL...       2\n",
       "1309   0.0200          (DOTCOM POSTAGE, LUNCH BAG RED RETROSPOT)       2\n",
       "1516   0.0208  (HANGING HEART ZINC T-LIGHT HOLDER, SINGLE HEA...       2\n",
       "1565   0.0206   (HEART OF WICKER SMALL, JUMBO BAG RED RETROSPOT)       2\n",
       "1640   0.0204  (HOME BUILDING BLOCK WORD, WHITE HANGING HEART...       2\n",
       "1753   0.0206  (REGENCY CAKESTAND 3 TIER, JAM MAKING SET WITH...       2\n",
       "1792   0.0206          (JUMBO BAG OWLS, JUMBO BAG PINK POLKADOT)       2\n",
       "1879   0.0208  (JUMBO BAG RED RETROSPOT, RED RETROSPOT CHARLO...       2\n",
       "1944   0.0204  (JUMBO STORAGE BAG SUKI, JUMBO BAG WOODLAND AN...       2\n",
       "2046   0.0206     (LUNCH BAG CARS BLUE, LUNCH BAG RED RETROSPOT)       2\n",
       "2071   0.0208      (LUNCH BAG RED RETROSPOT, LUNCH BAG WOODLAND)       2\n",
       "2092   0.0202    (LUNCH BAG RED RETROSPOT, SMALL POPCORN HOLDER)       2\n",
       "2210   0.0206  (SET/20 RED RETROSPOT PAPER NAPKINS , PACK OF ...       2\n",
       "2309   0.0208  (RECIPE BOX PANTRY YELLOW DESIGN, SET OF 6 SPI...       2\n",
       "2355   0.0200  (STRAWBERRY CHARLOTTE BAG, RED RETROSPOT CHARL...       2\n",
       "2408   0.0208  (SCOTTIE DOG HOT WATER BOTTLE, RETROSPOT HEART...       2\n",
       "2517   0.0208  (VICTORIAN GLASS HANGING T-LIGHT, WHITE HANGIN...       2"
      ]
     },
     "execution_count": 50,
     "metadata": {},
     "output_type": "execute_result"
    }
   ],
   "source": [
    "## ORDER OF ITEMSETS DIFFERS\n",
    "\n",
    "mod_colnames_minsupport[\n",
    "    (mod_colnames_minsupport['length'] == 2) & \n",
    "    (mod_colnames_minsupport['support'] >= 0.02) &\n",
    "    (mod_colnames_minsupport['support'] < 0.021)\n",
    "]"
   ]
  },
  {
   "cell_type": "code",
   "execution_count": 51,
   "metadata": {},
   "outputs": [
    {
     "data": {
      "text/plain": [
       "Text(0.5, 1.0, 'Support')"
      ]
     },
     "execution_count": 51,
     "metadata": {},
     "output_type": "execute_result"
    },
    {
     "data": {
      "image/png": "[encoded data removed]",
      "text/plain": [
       "<Figure size 432x288 with 1 Axes>"
      ]
     },
     "metadata": {
      "needs_background": "light"
     },
     "output_type": "display_data"
    }
   ],
   "source": [
    "mod_colnames_minsupport.hist(\"support\", grid=False, bins=30)\n",
    "plt.title(\"Support\")"
   ]
  },
  {
   "cell_type": "code",
   "execution_count": null,
   "metadata": {},
   "outputs": [],
   "source": [
    "# Exercise 8.06 Unit Test\n",
    "\n",
    "def unittest_exercise_8_06(df):\n",
    "    df_shape = df.shape\n",
    "    assert df_shape == (2976, 3), \"Dimension mismatch\"\n",
    "    \n",
    "    df_filt_shape = df[(df['length'] == 2) \n",
    "                       & (df['support'] >= 0.02) \n",
    "                       & (df['support'] < 0.021)].shape\n",
    "    assert df_filt_shape == (18, 3), \"Filtered dimension mismatch\"\n",
    "\n",
    "unittest_exercise_8_06(df=mod_colnames_minsupport)"
   ]
  },
  {
   "cell_type": "markdown",
   "metadata": {},
   "source": [
    "#### Exercise 8.07: Association Rules"
   ]
  },
  {
   "cell_type": "code",
   "execution_count": 54,
   "metadata": {},
   "outputs": [
    {
     "data": {
      "text/html": [
       "<div>\n",
       "<style scoped>\n",
       "    .dataframe tbody tr th:only-of-type {\n",
       "        vertical-align: middle;\n",
       "    }\n",
       "\n",
       "    .dataframe tbody tr th {\n",
       "        vertical-align: top;\n",
       "    }\n",
       "\n",
       "    .dataframe thead th {\n",
       "        text-align: right;\n",
       "    }\n",
       "</style>\n",
       "<table border=\"1\" class=\"dataframe\">\n",
       "  <thead>\n",
       "    <tr style=\"text-align: right;\">\n",
       "      <th></th>\n",
       "      <th>antecedents</th>\n",
       "      <th>consequents</th>\n",
       "      <th>antecedent support</th>\n",
       "      <th>consequent support</th>\n",
       "      <th>support</th>\n",
       "      <th>confidence</th>\n",
       "      <th>lift</th>\n",
       "      <th>leverage</th>\n",
       "      <th>conviction</th>\n",
       "    </tr>\n",
       "  </thead>\n",
       "  <tbody>\n",
       "    <tr>\n",
       "      <td>0</td>\n",
       "      <td>(12 PENCILS SMALL TUBE SKULL)</td>\n",
       "      <td>(12 PENCILS SMALL TUBE RED RETROSPOT)</td>\n",
       "      <td>0.0222</td>\n",
       "      <td>0.0276</td>\n",
       "      <td>0.0152</td>\n",
       "      <td>0.684685</td>\n",
       "      <td>24.807416</td>\n",
       "      <td>0.014587</td>\n",
       "      <td>3.083897</td>\n",
       "    </tr>\n",
       "    <tr>\n",
       "      <td>1</td>\n",
       "      <td>(ALARM CLOCK BAKELIKE CHOCOLATE)</td>\n",
       "      <td>(ALARM CLOCK BAKELIKE GREEN)</td>\n",
       "      <td>0.0208</td>\n",
       "      <td>0.0546</td>\n",
       "      <td>0.0140</td>\n",
       "      <td>0.673077</td>\n",
       "      <td>12.327416</td>\n",
       "      <td>0.012864</td>\n",
       "      <td>2.891812</td>\n",
       "    </tr>\n",
       "    <tr>\n",
       "      <td>2</td>\n",
       "      <td>(ALARM CLOCK BAKELIKE CHOCOLATE)</td>\n",
       "      <td>(ALARM CLOCK BAKELIKE RED )</td>\n",
       "      <td>0.0208</td>\n",
       "      <td>0.0520</td>\n",
       "      <td>0.0140</td>\n",
       "      <td>0.673077</td>\n",
       "      <td>12.943787</td>\n",
       "      <td>0.012918</td>\n",
       "      <td>2.899765</td>\n",
       "    </tr>\n",
       "    <tr>\n",
       "      <td>3</td>\n",
       "      <td>(ALARM CLOCK BAKELIKE IVORY)</td>\n",
       "      <td>(ALARM CLOCK BAKELIKE GREEN)</td>\n",
       "      <td>0.0268</td>\n",
       "      <td>0.0546</td>\n",
       "      <td>0.0164</td>\n",
       "      <td>0.611940</td>\n",
       "      <td>11.207698</td>\n",
       "      <td>0.014937</td>\n",
       "      <td>2.436223</td>\n",
       "    </tr>\n",
       "    <tr>\n",
       "      <td>4</td>\n",
       "      <td>(ALARM CLOCK BAKELIKE ORANGE)</td>\n",
       "      <td>(ALARM CLOCK BAKELIKE GREEN)</td>\n",
       "      <td>0.0278</td>\n",
       "      <td>0.0546</td>\n",
       "      <td>0.0208</td>\n",
       "      <td>0.748201</td>\n",
       "      <td>13.703323</td>\n",
       "      <td>0.019282</td>\n",
       "      <td>3.754589</td>\n",
       "    </tr>\n",
       "    <tr>\n",
       "      <td>5</td>\n",
       "      <td>(ALARM CLOCK BAKELIKE GREEN)</td>\n",
       "      <td>(ALARM CLOCK BAKELIKE RED )</td>\n",
       "      <td>0.0546</td>\n",
       "      <td>0.0520</td>\n",
       "      <td>0.0358</td>\n",
       "      <td>0.655678</td>\n",
       "      <td>12.609186</td>\n",
       "      <td>0.032961</td>\n",
       "      <td>2.753234</td>\n",
       "    </tr>\n",
       "    <tr>\n",
       "      <td>6</td>\n",
       "      <td>(ALARM CLOCK BAKELIKE RED )</td>\n",
       "      <td>(ALARM CLOCK BAKELIKE GREEN)</td>\n",
       "      <td>0.0520</td>\n",
       "      <td>0.0546</td>\n",
       "      <td>0.0358</td>\n",
       "      <td>0.688462</td>\n",
       "      <td>12.609186</td>\n",
       "      <td>0.032961</td>\n",
       "      <td>3.034617</td>\n",
       "    </tr>\n",
       "  </tbody>\n",
       "</table>\n",
       "</div>"
      ],
      "text/plain": [
       "                        antecedents                            consequents  \\\n",
       "0     (12 PENCILS SMALL TUBE SKULL)  (12 PENCILS SMALL TUBE RED RETROSPOT)   \n",
       "1  (ALARM CLOCK BAKELIKE CHOCOLATE)           (ALARM CLOCK BAKELIKE GREEN)   \n",
       "2  (ALARM CLOCK BAKELIKE CHOCOLATE)            (ALARM CLOCK BAKELIKE RED )   \n",
       "3      (ALARM CLOCK BAKELIKE IVORY)           (ALARM CLOCK BAKELIKE GREEN)   \n",
       "4     (ALARM CLOCK BAKELIKE ORANGE)           (ALARM CLOCK BAKELIKE GREEN)   \n",
       "5      (ALARM CLOCK BAKELIKE GREEN)            (ALARM CLOCK BAKELIKE RED )   \n",
       "6       (ALARM CLOCK BAKELIKE RED )           (ALARM CLOCK BAKELIKE GREEN)   \n",
       "\n",
       "   antecedent support  consequent support  support  confidence       lift  \\\n",
       "0              0.0222              0.0276   0.0152    0.684685  24.807416   \n",
       "1              0.0208              0.0546   0.0140    0.673077  12.327416   \n",
       "2              0.0208              0.0520   0.0140    0.673077  12.943787   \n",
       "3              0.0268              0.0546   0.0164    0.611940  11.207698   \n",
       "4              0.0278              0.0546   0.0208    0.748201  13.703323   \n",
       "5              0.0546              0.0520   0.0358    0.655678  12.609186   \n",
       "6              0.0520              0.0546   0.0358    0.688462  12.609186   \n",
       "\n",
       "   leverage  conviction  \n",
       "0  0.014587    3.083897  \n",
       "1  0.012864    2.891812  \n",
       "2  0.012918    2.899765  \n",
       "3  0.014937    2.436223  \n",
       "4  0.019282    3.754589  \n",
       "5  0.032961    2.753234  \n",
       "6  0.032961    3.034617  "
      ]
     },
     "execution_count": 54,
     "metadata": {},
     "output_type": "execute_result"
    }
   ],
   "source": [
    "## ROW ORDER SLIGHTLY DIFFERENT\n",
    "\n",
    "rules = mlxtend.frequent_patterns.association_rules(\n",
    "    mod_colnames_minsupport, \n",
    "    metric=\"confidence\",\n",
    "    min_threshold=0.6, \n",
    "    support_only=False\n",
    ")\n",
    "\n",
    "rules.loc[0:6]"
   ]
  },
  {
   "cell_type": "code",
   "execution_count": 55,
   "metadata": {},
   "outputs": [
    {
     "name": "stdout",
     "output_type": "stream",
     "text": [
      "Number of Associations: 1064\n"
     ]
    }
   ],
   "source": [
    "print(\"Number of Associations: {}\".format(rules.shape[0]))"
   ]
  },
  {
   "cell_type": "code",
   "execution_count": 56,
   "metadata": {},
   "outputs": [
    {
     "data": {
      "text/html": [
       "<div>\n",
       "<style scoped>\n",
       "    .dataframe tbody tr th:only-of-type {\n",
       "        vertical-align: middle;\n",
       "    }\n",
       "\n",
       "    .dataframe tbody tr th {\n",
       "        vertical-align: top;\n",
       "    }\n",
       "\n",
       "    .dataframe thead th {\n",
       "        text-align: right;\n",
       "    }\n",
       "</style>\n",
       "<table border=\"1\" class=\"dataframe\">\n",
       "  <thead>\n",
       "    <tr style=\"text-align: right;\">\n",
       "      <th></th>\n",
       "      <th>antecedents</th>\n",
       "      <th>consequents</th>\n",
       "      <th>antecedent support</th>\n",
       "      <th>consequent support</th>\n",
       "      <th>support</th>\n",
       "      <th>confidence</th>\n",
       "      <th>lift</th>\n",
       "      <th>leverage</th>\n",
       "      <th>conviction</th>\n",
       "    </tr>\n",
       "  </thead>\n",
       "  <tbody>\n",
       "    <tr>\n",
       "      <td>0</td>\n",
       "      <td>(BEADED CRYSTAL HEART PINK ON STICK)</td>\n",
       "      <td>(BEADED CRYSTAL HEART GREEN ON STICK)</td>\n",
       "      <td>0.0156</td>\n",
       "      <td>0.0126</td>\n",
       "      <td>0.0108</td>\n",
       "      <td>0.692308</td>\n",
       "      <td>54.945055</td>\n",
       "      <td>0.010603</td>\n",
       "      <td>3.209050</td>\n",
       "    </tr>\n",
       "    <tr>\n",
       "      <td>1</td>\n",
       "      <td>(BEADED CRYSTAL HEART GREEN ON STICK)</td>\n",
       "      <td>(BEADED CRYSTAL HEART PINK ON STICK)</td>\n",
       "      <td>0.0126</td>\n",
       "      <td>0.0156</td>\n",
       "      <td>0.0108</td>\n",
       "      <td>0.857143</td>\n",
       "      <td>54.945055</td>\n",
       "      <td>0.010603</td>\n",
       "      <td>6.890800</td>\n",
       "    </tr>\n",
       "    <tr>\n",
       "      <td>2</td>\n",
       "      <td>(CHRISTMAS TREE DECORATION WITH BELL)</td>\n",
       "      <td>(CHRISTMAS TREE HEART DECORATION)</td>\n",
       "      <td>0.0140</td>\n",
       "      <td>0.0140</td>\n",
       "      <td>0.0120</td>\n",
       "      <td>0.857143</td>\n",
       "      <td>61.224490</td>\n",
       "      <td>0.011804</td>\n",
       "      <td>6.902000</td>\n",
       "    </tr>\n",
       "    <tr>\n",
       "      <td>3</td>\n",
       "      <td>(CHRISTMAS TREE HEART DECORATION)</td>\n",
       "      <td>(CHRISTMAS TREE DECORATION WITH BELL)</td>\n",
       "      <td>0.0140</td>\n",
       "      <td>0.0140</td>\n",
       "      <td>0.0120</td>\n",
       "      <td>0.857143</td>\n",
       "      <td>61.224490</td>\n",
       "      <td>0.011804</td>\n",
       "      <td>6.902000</td>\n",
       "    </tr>\n",
       "    <tr>\n",
       "      <td>4</td>\n",
       "      <td>(CHRISTMAS TREE DECORATION WITH BELL)</td>\n",
       "      <td>(CHRISTMAS TREE STAR DECORATION)</td>\n",
       "      <td>0.0140</td>\n",
       "      <td>0.0140</td>\n",
       "      <td>0.0120</td>\n",
       "      <td>0.857143</td>\n",
       "      <td>61.224490</td>\n",
       "      <td>0.011804</td>\n",
       "      <td>6.902000</td>\n",
       "    </tr>\n",
       "    <tr>\n",
       "      <td>5</td>\n",
       "      <td>(CHRISTMAS TREE STAR DECORATION)</td>\n",
       "      <td>(CHRISTMAS TREE DECORATION WITH BELL)</td>\n",
       "      <td>0.0140</td>\n",
       "      <td>0.0140</td>\n",
       "      <td>0.0120</td>\n",
       "      <td>0.857143</td>\n",
       "      <td>61.224490</td>\n",
       "      <td>0.011804</td>\n",
       "      <td>6.902000</td>\n",
       "    </tr>\n",
       "    <tr>\n",
       "      <td>6</td>\n",
       "      <td>(CHRISTMAS TREE HEART DECORATION)</td>\n",
       "      <td>(CHRISTMAS TREE STAR DECORATION)</td>\n",
       "      <td>0.0140</td>\n",
       "      <td>0.0140</td>\n",
       "      <td>0.0122</td>\n",
       "      <td>0.871429</td>\n",
       "      <td>62.244898</td>\n",
       "      <td>0.012004</td>\n",
       "      <td>7.668889</td>\n",
       "    </tr>\n",
       "  </tbody>\n",
       "</table>\n",
       "</div>"
      ],
      "text/plain": [
       "                             antecedents  \\\n",
       "0   (BEADED CRYSTAL HEART PINK ON STICK)   \n",
       "1  (BEADED CRYSTAL HEART GREEN ON STICK)   \n",
       "2  (CHRISTMAS TREE DECORATION WITH BELL)   \n",
       "3      (CHRISTMAS TREE HEART DECORATION)   \n",
       "4  (CHRISTMAS TREE DECORATION WITH BELL)   \n",
       "5       (CHRISTMAS TREE STAR DECORATION)   \n",
       "6      (CHRISTMAS TREE HEART DECORATION)   \n",
       "\n",
       "                             consequents  antecedent support  \\\n",
       "0  (BEADED CRYSTAL HEART GREEN ON STICK)              0.0156   \n",
       "1   (BEADED CRYSTAL HEART PINK ON STICK)              0.0126   \n",
       "2      (CHRISTMAS TREE HEART DECORATION)              0.0140   \n",
       "3  (CHRISTMAS TREE DECORATION WITH BELL)              0.0140   \n",
       "4       (CHRISTMAS TREE STAR DECORATION)              0.0140   \n",
       "5  (CHRISTMAS TREE DECORATION WITH BELL)              0.0140   \n",
       "6       (CHRISTMAS TREE STAR DECORATION)              0.0140   \n",
       "\n",
       "   consequent support  support  confidence       lift  leverage  conviction  \n",
       "0              0.0126   0.0108    0.692308  54.945055  0.010603    3.209050  \n",
       "1              0.0156   0.0108    0.857143  54.945055  0.010603    6.890800  \n",
       "2              0.0140   0.0120    0.857143  61.224490  0.011804    6.902000  \n",
       "3              0.0140   0.0120    0.857143  61.224490  0.011804    6.902000  \n",
       "4              0.0140   0.0120    0.857143  61.224490  0.011804    6.902000  \n",
       "5              0.0140   0.0120    0.857143  61.224490  0.011804    6.902000  \n",
       "6              0.0140   0.0122    0.871429  62.244898  0.012004    7.668889  "
      ]
     },
     "execution_count": 56,
     "metadata": {},
     "output_type": "execute_result"
    }
   ],
   "source": [
    "## ORDER OF DF DIFFERENT SLIGHTLY\n",
    "\n",
    "rules2 = mlxtend.frequent_patterns.association_rules(\n",
    "    mod_colnames_minsupport, \n",
    "    metric=\"lift\",\n",
    "    min_threshold=50, \n",
    "    support_only=False\n",
    ")\n",
    "\n",
    "rules2.loc[0:6]"
   ]
  },
  {
   "cell_type": "code",
   "execution_count": 57,
   "metadata": {},
   "outputs": [
    {
     "name": "stdout",
     "output_type": "stream",
     "text": [
      "Number of Associations: 170\n"
     ]
    }
   ],
   "source": [
    "print(\"Number of Associations: {}\".format(rules2.shape[0]))"
   ]
  },
  {
   "cell_type": "code",
   "execution_count": 58,
   "metadata": {},
   "outputs": [
    {
     "data": {
      "image/png": "[encoded data removed]",
      "text/plain": [
       "<Figure size 432x288 with 1 Axes>"
      ]
     },
     "metadata": {
      "needs_background": "light"
     },
     "output_type": "display_data"
    }
   ],
   "source": [
    "rules.plot.scatter(\"support\", \"confidence\", alpha=0.5, marker=\"*\")\n",
    "plt.xlabel(\"Support\")\n",
    "plt.ylabel(\"Confidence\")\n",
    "plt.title(\"Association Rules\")\n",
    "plt.show()"
   ]
  },
  {
   "cell_type": "code",
   "execution_count": 59,
   "metadata": {},
   "outputs": [
    {
     "data": {
      "text/plain": [
       "Text(0.5, 1.0, 'Confidence')"
      ]
     },
     "execution_count": 59,
     "metadata": {},
     "output_type": "execute_result"
    },
    {
     "data": {
      "image/png": "[encoded data removed]",
      "text/plain": [
       "<Figure size 432x288 with 1 Axes>"
      ]
     },
     "metadata": {
      "needs_background": "light"
     },
     "output_type": "display_data"
    }
   ],
   "source": [
    "rules.hist(\"confidence\", grid=False, bins=30)\n",
    "plt.title(\"Confidence\")"
   ]
  },
  {
   "cell_type": "code",
   "execution_count": 60,
   "metadata": {},
   "outputs": [
    {
     "data": {
      "text/plain": [
       "Text(0.5, 1.0, 'Lift')"
      ]
     },
     "execution_count": 60,
     "metadata": {},
     "output_type": "execute_result"
    },
    {
     "data": {
      "image/png": "[encoded data removed]",
      "text/plain": [
       "<Figure size 432x288 with 1 Axes>"
      ]
     },
     "metadata": {
      "needs_background": "light"
     },
     "output_type": "display_data"
    }
   ],
   "source": [
    "rules.hist(\"lift\", grid=False, bins=30)\n",
    "plt.title(\"Lift\")"
   ]
  },
  {
   "cell_type": "code",
   "execution_count": 61,
   "metadata": {},
   "outputs": [
    {
     "data": {
      "text/plain": [
       "Text(0.5, 1.0, 'Leverage')"
      ]
     },
     "execution_count": 61,
     "metadata": {},
     "output_type": "execute_result"
    },
    {
     "data": {
      "image/png": "[encoded data removed]",
      "text/plain": [
       "<Figure size 432x288 with 1 Axes>"
      ]
     },
     "metadata": {
      "needs_background": "light"
     },
     "output_type": "display_data"
    }
   ],
   "source": [
    "rules.hist(\"leverage\", grid=False, bins=30)\n",
    "plt.title(\"Leverage\")"
   ]
  },
  {
   "cell_type": "code",
   "execution_count": 62,
   "metadata": {},
   "outputs": [
    {
     "data": {
      "text/plain": [
       "Text(0.5, 1.0, 'Conviction')"
      ]
     },
     "execution_count": 62,
     "metadata": {},
     "output_type": "execute_result"
    },
    {
     "data": {
      "image/png": "[encoded data removed]",
      "text/plain": [
       "<Figure size 432x288 with 1 Axes>"
      ]
     },
     "metadata": {
      "needs_background": "light"
     },
     "output_type": "display_data"
    }
   ],
   "source": [
    "plt.hist(rules[numpy.isfinite(rules['conviction'])].conviction.values, bins = 30)\n",
    "plt.title(\"Conviction\")"
   ]
  },
  {
   "cell_type": "code",
   "execution_count": null,
   "metadata": {},
   "outputs": [],
   "source": [
    "# Exercise 8.07 Unit Test\n",
    "\n",
    "def unittest_exercise_8_07(df1, df2):\n",
    "    dfs = {\"df1\":[df1, 1064, (2.15, 74.51)], \n",
    "           \"df2\":[df2, 170, (2.35, 57.18)]}\n",
    "    \n",
    "    for k,v in dfs.items():\n",
    "        \n",
    "        df_shape = v[0].shape[0]\n",
    "        assert df_shape == v[1], \"Dimension mismatch\"\n",
    "    \n",
    "        vals = v[0][numpy.isfinite(v[0]['conviction'])].conviction.values\n",
    "        vmin = round(numpy.min(vals), 2)\n",
    "        vmax = round(numpy.max(vals), 2)\n",
    "        assert (vmin, vmax) == v[2], \"Conviction incorrect\"\n",
    "\n",
    "unittest_exercise_8_07(df1=rules, df2=rules2)"
   ]
  },
  {
   "cell_type": "code",
   "execution_count": null,
   "metadata": {},
   "outputs": [],
   "source": []
  }
 ],
 "metadata": {
  "kernelspec": {
   "display_name": "Python 3",
   "language": "python",
   "name": "python3"
  },
  "language_info": {
   "codemirror_mode": {
    "name": "ipython",
    "version": 3
   },
   "file_extension": ".py",
   "mimetype": "text/x-python",
   "name": "python",
   "nbconvert_exporter": "python",
   "pygments_lexer": "ipython3",
   "version": "3.7.4"
  }
 },
 "nbformat": 4,
 "nbformat_minor": 2
}
