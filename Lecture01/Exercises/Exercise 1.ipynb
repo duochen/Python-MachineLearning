{
 "cells": [
  {
   "cell_type": "markdown",
   "id": "8c8e6f28",
   "metadata": {},
   "source": [
    "# Exercise 1: Loading a Sample Dataset and Creating the Features and Target Matrices"
   ]
  },
  {
   "cell_type": "code",
   "execution_count": 1,
   "id": "fd8553b1",
   "metadata": {},
   "outputs": [],
   "source": [
    "# Load the tips dataset using seaborn library\n",
    "import seaborn as sns\n",
    "tips = sns.load_dataset('tips')"
   ]
  },
  {
   "cell_type": "code",
   "execution_count": null,
   "id": "3ddf2591",
   "metadata": {},
   "outputs": [],
   "source": [
    "# Create a variable X to store the features. Use the drop() function to include all\n",
    "# of the features but the target, which in this case is named tip. Then print out\n",
    "# the top 10 instances of the variable\n",
    "X = tips.drop"
   ]
  }
 ],
 "metadata": {
  "kernelspec": {
   "display_name": "Python 3 (ipykernel)",
   "language": "python",
   "name": "python3"
  },
  "language_info": {
   "codemirror_mode": {
    "name": "ipython",
    "version": 3
   },
   "file_extension": ".py",
   "mimetype": "text/x-python",
   "name": "python",
   "nbconvert_exporter": "python",
   "pygments_lexer": "ipython3",
   "version": "3.9.7"
  }
 },
 "nbformat": 4,
 "nbformat_minor": 5
}
