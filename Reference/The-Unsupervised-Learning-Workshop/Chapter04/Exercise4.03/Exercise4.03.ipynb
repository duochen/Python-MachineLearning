{
 "cells": [
  {
   "cell_type": "code",
   "execution_count": 1,
   "metadata": {},
   "outputs": [],
   "source": [
    "import pandas as pd\n",
    "import numpy as np\n",
    "import matplotlib.pyplot as plt"
   ]
  },
  {
   "cell_type": "code",
   "execution_count": 2,
   "metadata": {},
   "outputs": [
    {
     "data": {
      "text/html": [
       "<div>\n",
       "<style scoped>\n",
       "    .dataframe tbody tr th:only-of-type {\n",
       "        vertical-align: middle;\n",
       "    }\n",
       "\n",
       "    .dataframe tbody tr th {\n",
       "        vertical-align: top;\n",
       "    }\n",
       "\n",
       "    .dataframe thead th {\n",
       "        text-align: right;\n",
       "    }\n",
       "</style>\n",
       "<table border=\"1\" class=\"dataframe\">\n",
       "  <thead>\n",
       "    <tr style=\"text-align: right;\">\n",
       "      <th></th>\n",
       "      <th>A</th>\n",
       "      <th>P</th>\n",
       "      <th>C</th>\n",
       "      <th>LK</th>\n",
       "      <th>WK</th>\n",
       "      <th>A_Coef</th>\n",
       "      <th>LKG</th>\n",
       "      <th>target</th>\n",
       "    </tr>\n",
       "  </thead>\n",
       "  <tbody>\n",
       "    <tr>\n",
       "      <th>0</th>\n",
       "      <td>15.26</td>\n",
       "      <td>14.84</td>\n",
       "      <td>0.8710</td>\n",
       "      <td>5.763</td>\n",
       "      <td>3.312</td>\n",
       "      <td>2.221</td>\n",
       "      <td>5.220</td>\n",
       "      <td>0</td>\n",
       "    </tr>\n",
       "    <tr>\n",
       "      <th>1</th>\n",
       "      <td>14.88</td>\n",
       "      <td>14.57</td>\n",
       "      <td>0.8811</td>\n",
       "      <td>5.554</td>\n",
       "      <td>3.333</td>\n",
       "      <td>1.018</td>\n",
       "      <td>4.956</td>\n",
       "      <td>0</td>\n",
       "    </tr>\n",
       "    <tr>\n",
       "      <th>2</th>\n",
       "      <td>14.29</td>\n",
       "      <td>14.09</td>\n",
       "      <td>0.9050</td>\n",
       "      <td>5.291</td>\n",
       "      <td>3.337</td>\n",
       "      <td>2.699</td>\n",
       "      <td>4.825</td>\n",
       "      <td>0</td>\n",
       "    </tr>\n",
       "    <tr>\n",
       "      <th>3</th>\n",
       "      <td>13.84</td>\n",
       "      <td>13.94</td>\n",
       "      <td>0.8955</td>\n",
       "      <td>5.324</td>\n",
       "      <td>3.379</td>\n",
       "      <td>2.259</td>\n",
       "      <td>4.805</td>\n",
       "      <td>0</td>\n",
       "    </tr>\n",
       "    <tr>\n",
       "      <th>4</th>\n",
       "      <td>16.14</td>\n",
       "      <td>14.99</td>\n",
       "      <td>0.9034</td>\n",
       "      <td>5.658</td>\n",
       "      <td>3.562</td>\n",
       "      <td>1.355</td>\n",
       "      <td>5.175</td>\n",
       "      <td>0</td>\n",
       "    </tr>\n",
       "  </tbody>\n",
       "</table>\n",
       "</div>"
      ],
      "text/plain": [
       "       A      P       C     LK     WK  A_Coef    LKG  target\n",
       "0  15.26  14.84  0.8710  5.763  3.312   2.221  5.220       0\n",
       "1  14.88  14.57  0.8811  5.554  3.333   1.018  4.956       0\n",
       "2  14.29  14.09  0.9050  5.291  3.337   2.699  4.825       0\n",
       "3  13.84  13.94  0.8955  5.324  3.379   2.259  4.805       0\n",
       "4  16.14  14.99  0.9034  5.658  3.562   1.355  5.175       0"
      ]
     },
     "execution_count": 2,
     "metadata": {},
     "output_type": "execute_result"
    }
   ],
   "source": [
    "df = pd.read_csv('../Seed_Data.csv')\n",
    "df.head()"
   ]
  },
  {
   "cell_type": "code",
   "execution_count": 3,
   "metadata": {},
   "outputs": [
    {
     "data": {
      "text/html": [
       "<div>\n",
       "<style scoped>\n",
       "    .dataframe tbody tr th:only-of-type {\n",
       "        vertical-align: middle;\n",
       "    }\n",
       "\n",
       "    .dataframe tbody tr th {\n",
       "        vertical-align: top;\n",
       "    }\n",
       "\n",
       "    .dataframe thead th {\n",
       "        text-align: right;\n",
       "    }\n",
       "</style>\n",
       "<table border=\"1\" class=\"dataframe\">\n",
       "  <thead>\n",
       "    <tr style=\"text-align: right;\">\n",
       "      <th></th>\n",
       "      <th>A</th>\n",
       "      <th>LK</th>\n",
       "    </tr>\n",
       "  </thead>\n",
       "  <tbody>\n",
       "    <tr>\n",
       "      <th>0</th>\n",
       "      <td>15.26</td>\n",
       "      <td>5.763</td>\n",
       "    </tr>\n",
       "    <tr>\n",
       "      <th>1</th>\n",
       "      <td>14.88</td>\n",
       "      <td>5.554</td>\n",
       "    </tr>\n",
       "    <tr>\n",
       "      <th>2</th>\n",
       "      <td>14.29</td>\n",
       "      <td>5.291</td>\n",
       "    </tr>\n",
       "    <tr>\n",
       "      <th>3</th>\n",
       "      <td>13.84</td>\n",
       "      <td>5.324</td>\n",
       "    </tr>\n",
       "    <tr>\n",
       "      <th>4</th>\n",
       "      <td>16.14</td>\n",
       "      <td>5.658</td>\n",
       "    </tr>\n",
       "  </tbody>\n",
       "</table>\n",
       "</div>"
      ],
      "text/plain": [
       "       A     LK\n",
       "0  15.26  5.763\n",
       "1  14.88  5.554\n",
       "2  14.29  5.291\n",
       "3  13.84  5.324\n",
       "4  16.14  5.658"
      ]
     },
     "execution_count": 3,
     "metadata": {},
     "output_type": "execute_result"
    }
   ],
   "source": [
    "df = df[['A', 'LK']]\n",
    "df.head()"
   ]
  },
  {
   "cell_type": "code",
   "execution_count": 4,
   "metadata": {},
   "outputs": [
    {
     "data": {
      "text/plain": [
       "array([[8.46635078, 1.22470367],\n",
       "       [1.22470367, 0.19630525]])"
      ]
     },
     "execution_count": 4,
     "metadata": {},
     "output_type": "execute_result"
    }
   ],
   "source": [
    "data = np.cov(df.values.T)\n",
    "# The transpose is required to ensure the covariance matrix is \n",
    "#based on features, not samples data\n",
    "data"
   ]
  },
  {
   "cell_type": "code",
   "execution_count": 5,
   "metadata": {},
   "outputs": [],
   "source": [
    "eigenvectors, eigenvalues, _ = np.linalg.svd(data, full_matrices=False)"
   ]
  },
  {
   "cell_type": "code",
   "execution_count": 6,
   "metadata": {},
   "outputs": [
    {
     "data": {
      "text/plain": [
       "array([8.64390408, 0.01875194])"
      ]
     },
     "execution_count": 6,
     "metadata": {},
     "output_type": "execute_result"
    }
   ],
   "source": [
    "eigenvalues"
   ]
  },
  {
   "cell_type": "code",
   "execution_count": 7,
   "metadata": {},
   "outputs": [
    {
     "data": {
      "text/plain": [
       "array([[-0.98965371, -0.14347657],\n",
       "       [-0.14347657,  0.98965371]])"
      ]
     },
     "execution_count": 7,
     "metadata": {},
     "output_type": "execute_result"
    }
   ],
   "source": [
    "eigenvectors"
   ]
  },
  {
   "cell_type": "code",
   "execution_count": 8,
   "metadata": {},
   "outputs": [
    {
     "data": {
      "text/plain": [
       "array([0.99783531, 1.        ])"
      ]
     },
     "execution_count": 8,
     "metadata": {},
     "output_type": "execute_result"
    }
   ],
   "source": [
    "eigenvalues = np.cumsum(eigenvalues)\n",
    "eigenvalues /= eigenvalues.max()\n",
    "eigenvalues"
   ]
  },
  {
   "cell_type": "code",
   "execution_count": 9,
   "metadata": {},
   "outputs": [
    {
     "data": {
      "text/plain": [
       "array([-0.98965371, -0.14347657])"
      ]
     },
     "execution_count": 9,
     "metadata": {},
     "output_type": "execute_result"
    }
   ],
   "source": [
    "P = eigenvectors[0]\n",
    "P"
   ]
  },
  {
   "cell_type": "code",
   "execution_count": 10,
   "metadata": {},
   "outputs": [
    {
     "data": {
      "text/plain": [
       "array([-15.92897116, -15.52291615, -14.90128612, -14.46067667,\n",
       "       -16.78480139, -15.00398523, -15.33617323, -14.74165693,\n",
       "       -17.32640496, -17.11412321, -15.92194081, -14.66506721,\n",
       "       -14.52665917, -14.42353632, -14.3843806 , -15.20679083,\n",
       "       -14.57971203, -16.32066179, -15.29470516, -13.33820381,\n",
       "       -14.82528704, -14.75600459, -16.52175236, -12.68660391,\n",
       "       -15.68528813, -16.85939248, -13.65934747, -13.38224443,\n",
       "       -14.75901759, -14.10225923, -13.8063641 , -16.15573066,\n",
       "       -14.7644764 , -14.59708943, -15.71382658, -16.77232562,\n",
       "       -16.86828468, -17.74004081, -15.45837846, -14.9065981 ,\n",
       "       -14.167224  , -14.12806828, -13.76102551, -16.18284438,\n",
       "       -15.75412342, -14.42855131, -16.01904099, -15.63407368,\n",
       "       -15.43255602, -15.52091417, -15.08201975, -16.43082168,\n",
       "       -15.16005093, -14.97143278, -15.19347093, -15.69259874,\n",
       "       -15.08344448, -15.53811128, -16.03323847, -12.72490211,\n",
       "       -12.02037609, -11.81713337, -12.96040699, -13.85727821,\n",
       "       -13.40274819, -13.48406594, -14.99940736, -14.66980863,\n",
       "       -15.0203449 , -13.37478699, -18.33585844, -17.52634103,\n",
       "       -17.93912605, -19.7952373 , -17.50927401, -17.44687843,\n",
       "       -18.01084426, -21.43966079, -19.66874785, -17.78220953,\n",
       "       -17.20190076, -19.38803782, -20.89275528, -20.28347762,\n",
       "       -20.22151582, -18.96665424, -19.55757359, -19.72325556,\n",
       "       -21.90393717, -21.58939344, -20.83625897, -19.45144108,\n",
       "       -19.51527142, -19.26383061, -19.12645702, -17.57626083,\n",
       "       -20.01999816, -19.70890791, -18.88174957, -19.41859833,\n",
       "       -17.06061649, -18.64894733, -20.13573356, -19.89536052,\n",
       "       -19.6503795 , -19.5013475 , -19.53764038, -18.31318914,\n",
       "       -20.69140118, -19.24088774, -19.13532245, -20.08382181,\n",
       "       -19.8191912 , -19.83999195, -21.69467513, -19.78334548,\n",
       "       -19.63201116, -19.84787982, -19.58798727, -20.75435728,\n",
       "       -20.93664573, -18.82164292, -16.82941257, -19.09730785,\n",
       "       -16.59402774, -19.43279247, -19.35879202, -18.6518202 ,\n",
       "       -20.88588179, -18.19929551, -18.96850939, -19.6255614 ,\n",
       "       -16.06509027, -16.83142458, -16.22773247, -16.00669531,\n",
       "       -18.06205201, -16.25828964, -16.27535331, -16.90457421,\n",
       "       -13.71987785, -13.97719116, -13.97517579, -12.84309   ,\n",
       "       -12.46014141, -11.85143096, -12.05437669, -13.116466  ,\n",
       "       -13.34136699, -11.44122851, -12.46272064, -12.66123198,\n",
       "       -12.90907584, -11.81327623, -11.98495745, -11.82747707,\n",
       "       -11.94766024, -12.77841218, -12.4095176 , -12.13212092,\n",
       "       -13.19234837, -12.66323731, -12.68101836, -13.18531467,\n",
       "       -11.74370348, -12.70725784, -13.07444409, -12.80150522,\n",
       "       -11.97520439, -11.8540035 , -11.66999668, -12.17184385,\n",
       "       -11.88340616, -12.01894802, -11.47521907, -11.40291692,\n",
       "       -11.88757033, -11.36706786, -12.10443328, -12.85227585,\n",
       "       -12.02224463, -13.08232861, -12.81569601, -12.2623441 ,\n",
       "       -13.54504014, -12.20986179, -12.46444905, -11.52713082,\n",
       "       -11.84396349, -11.18332456, -11.54089788, -11.88383659,\n",
       "       -12.48351136, -11.45126183, -12.73594981, -13.40790665,\n",
       "       -13.40719262, -13.99496552, -13.26563813, -13.35583804,\n",
       "       -13.00071721, -13.25399979, -11.78300268, -13.31224124,\n",
       "       -12.98866853, -12.80091793, -11.85128079, -13.81467236,\n",
       "       -12.45999124, -12.92498835])"
      ]
     },
     "execution_count": 10,
     "metadata": {},
     "output_type": "execute_result"
    }
   ],
   "source": [
    "x_t_p = P.dot(df.values.T)\n",
    "x_t_p"
   ]
  },
  {
   "cell_type": "code",
   "execution_count": 11,
   "metadata": {},
   "outputs": [
    {
     "data": {
      "image/png": "[encoded data removed]",
      "text/plain": [
       "<Figure size 720x504 with 1 Axes>"
      ]
     },
     "metadata": {
      "needs_background": "light"
     },
     "output_type": "display_data"
    }
   ],
   "source": [
    "plt.figure(figsize=(10, 7))\n",
    "plt.plot(x_t_p)\n",
    "plt.title('Principal Component of Selected Seeds Dataset')\n",
    "plt.xlabel('Sample')\n",
    "plt.ylabel('Component Value')\n",
    "plt.show()"
   ]
  },
  {
   "cell_type": "code",
   "execution_count": null,
   "metadata": {},
   "outputs": [],
   "source": []
  }
 ],
 "metadata": {
  "kernelspec": {
   "display_name": "Python 3",
   "language": "python",
   "name": "python3"
  },
  "language_info": {
   "codemirror_mode": {
    "name": "ipython",
    "version": 3
   },
   "file_extension": ".py",
   "mimetype": "text/x-python",
   "name": "python",
   "nbconvert_exporter": "python",
   "pygments_lexer": "ipython3",
   "version": "3.7.4"
  }
 },
 "nbformat": 4,
 "nbformat_minor": 2
}
