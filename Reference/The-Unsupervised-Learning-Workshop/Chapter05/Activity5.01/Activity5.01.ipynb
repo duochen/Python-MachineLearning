{
 "cells": [
  {
   "cell_type": "code",
   "execution_count": 1,
   "metadata": {},
   "outputs": [
    {
     "name": "stderr",
     "output_type": "stream",
     "text": [
      "Using TensorFlow backend.\n"
     ]
    }
   ],
   "source": [
    "import pickle\n",
    "import numpy as np\n",
    "import matplotlib.pyplot as plt\n",
    "from keras.models import Sequential\n",
    "from keras.layers import Dense\n",
    "\n",
    "import tensorflow.python.util.deprecation as deprecation\n",
    "deprecation._PRINT_DEPRECATION_WARNINGS = False"
   ]
  },
  {
   "cell_type": "code",
   "execution_count": 2,
   "metadata": {},
   "outputs": [],
   "source": [
    "with open('mnist.pkl', 'rb') as f:\n",
    "    data = pickle.load(f)\n",
    "    \n",
    "images = data['images']\n",
    "labels = data['labels']"
   ]
  },
  {
   "cell_type": "code",
   "execution_count": 3,
   "metadata": {},
   "outputs": [
    {
     "data": {
      "image/png": "[encoded data removed]",
      "text/plain": [
       "<Figure size 720x504 with 10 Axes>"
      ]
     },
     "metadata": {
      "needs_background": "light"
     },
     "output_type": "display_data"
    }
   ],
   "source": [
    "plt.figure(figsize=(10, 7))\n",
    "for i in range(10):\n",
    "    plt.subplot(2, 5, i + 1)\n",
    "    plt.imshow(images[i], cmap='gray')\n",
    "    plt.title(labels[i])\n",
    "    plt.axis('off')"
   ]
  },
  {
   "cell_type": "code",
   "execution_count": 4,
   "metadata": {},
   "outputs": [
    {
     "data": {
      "text/plain": [
       "array([[0., 0., 0., ..., 0., 0., 0.],\n",
       "       [1., 0., 0., ..., 0., 0., 0.],\n",
       "       [0., 0., 0., ..., 0., 0., 0.],\n",
       "       ...,\n",
       "       [0., 0., 0., ..., 0., 0., 0.],\n",
       "       [0., 0., 0., ..., 0., 0., 1.],\n",
       "       [0., 0., 0., ..., 1., 0., 0.]])"
      ]
     },
     "execution_count": 4,
     "metadata": {},
     "output_type": "execute_result"
    }
   ],
   "source": [
    "one_hot_labels = np.zeros((images.shape[0], 10))\n",
    "\n",
    "for idx, label in enumerate(labels):\n",
    "    one_hot_labels[idx, label] = 1\n",
    "    \n",
    "one_hot_labels"
   ]
  },
  {
   "cell_type": "code",
   "execution_count": 5,
   "metadata": {},
   "outputs": [],
   "source": [
    "images = images.reshape((-1, 28 ** 2))\n",
    "images = images / 255."
   ]
  },
  {
   "cell_type": "code",
   "execution_count": 6,
   "metadata": {},
   "outputs": [],
   "source": [
    "model = Sequential([\n",
    "    Dense(600, input_shape=(784,), activation='relu'),\n",
    "    Dense(10, activation='softmax'),\n",
    "])"
   ]
  },
  {
   "cell_type": "code",
   "execution_count": 7,
   "metadata": {},
   "outputs": [],
   "source": [
    "model.compile(loss='categorical_crossentropy',\n",
    "              optimizer='sgd',\n",
    "              metrics=['accuracy'])"
   ]
  },
  {
   "cell_type": "code",
   "execution_count": 8,
   "metadata": {
    "scrolled": true
   },
   "outputs": [
    {
     "name": "stdout",
     "output_type": "stream",
     "text": [
      "Epoch 1/20\n",
      "10000/10000 [==============================] - 7s 664us/step - loss: 1.2631 - acc: 0.7271 0s - loss: 1.3144 - acc:\n",
      "Epoch 2/20\n",
      "10000/10000 [==============================] - 4s 404us/step - loss: 0.6060 - acc: 0.8654\n",
      "Epoch 3/20\n",
      "10000/10000 [==============================] - 4s 383us/step - loss: 0.4670 - acc: 0.8858\n",
      "Epoch 4/20\n",
      "10000/10000 [==============================] - 4s 385us/step - loss: 0.4052 - acc: 0.8974\n",
      "Epoch 5/20\n",
      "10000/10000 [==============================] - 4s 399us/step - loss: 0.3676 - acc: 0.9054\n",
      "Epoch 6/20\n",
      "10000/10000 [==============================] - 4s 406us/step - loss: 0.3411 - acc: 0.9107\n",
      "Epoch 7/20\n",
      "10000/10000 [==============================] - 4s 374us/step - loss: 0.3218 - acc: 0.9160\n",
      "Epoch 8/20\n",
      "10000/10000 [==============================] - 4s 394us/step - loss: 0.3058 - acc: 0.9200 1s - loss: 0.3\n",
      "Epoch 9/20\n",
      "10000/10000 [==============================] - 4s 361us/step - loss: 0.2926 - acc: 0.9215\n",
      "Epoch 10/20\n",
      "10000/10000 [==============================] - 4s 377us/step - loss: 0.2804 - acc: 0.9258\n",
      "Epoch 11/20\n",
      "10000/10000 [==============================] - 3s 349us/step - loss: 0.2705 - acc: 0.9284\n",
      "Epoch 12/20\n",
      "10000/10000 [==============================] - 4s 354us/step - loss: 0.2618 - acc: 0.9310\n",
      "Epoch 13/20\n",
      "10000/10000 [==============================] - 4s 351us/step - loss: 0.2532 - acc: 0.9322\n",
      "Epoch 14/20\n",
      "10000/10000 [==============================] - 3s 335us/step - loss: 0.2457 - acc: 0.9342\n",
      "Epoch 15/20\n",
      "10000/10000 [==============================] - 3s 334us/step - loss: 0.2385 - acc: 0.9359\n",
      "Epoch 16/20\n",
      "10000/10000 [==============================] - 4s 359us/step - loss: 0.2315 - acc: 0.9388 1s - loss:\n",
      "Epoch 17/20\n",
      "10000/10000 [==============================] - 3s 345us/step - loss: 0.2257 - acc: 0.9388\n",
      "Epoch 18/20\n",
      "10000/10000 [==============================] - 4s 359us/step - loss: 0.2195 - acc: 0.9407\n",
      "Epoch 19/20\n",
      "10000/10000 [==============================] - 4s 373us/step - loss: 0.2141 - acc: 0.9431\n",
      "Epoch 20/20\n",
      "10000/10000 [==============================] - 3s 347us/step - loss: 0.2087 - acc: 0.9429\n"
     ]
    },
    {
     "data": {
      "text/plain": [
       "<keras.callbacks.History at 0x19abd2fbd08>"
      ]
     },
     "execution_count": 8,
     "metadata": {},
     "output_type": "execute_result"
    }
   ],
   "source": [
    "model.fit(images, one_hot_labels, epochs=20)"
   ]
  },
  {
   "cell_type": "markdown",
   "metadata": {},
   "source": [
    "15 epochs are required to achieve at least 95% classification accuracy on the training set."
   ]
  }
 ],
 "metadata": {
  "kernelspec": {
   "display_name": "Python 3",
   "language": "python",
   "name": "python3"
  },
  "language_info": {
   "codemirror_mode": {
    "name": "ipython",
    "version": 3
   },
   "file_extension": ".py",
   "mimetype": "text/x-python",
   "name": "python",
   "nbconvert_exporter": "python",
   "pygments_lexer": "ipython3",
   "version": "3.7.4"
  }
 },
 "nbformat": 4,
 "nbformat_minor": 2
}
