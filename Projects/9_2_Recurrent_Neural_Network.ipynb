{
 "cells": [
  {
   "cell_type": "markdown",
   "id": "774d6e2b",
   "metadata": {},
   "source": [
    "### From the book \"Python Machine Learning for Beginners\" by AI Publishing"
   ]
  },
  {
   "cell_type": "markdown",
   "id": "789189c0",
   "metadata": {},
   "source": [
    "#### 9.2 Recurrent Neural Networks (RNN)"
   ]
  },
  {
   "cell_type": "markdown",
   "id": "55f4c4a8",
   "metadata": {},
   "source": [
    "9.2.1 What Is an RNN and LSTM?"
   ]
  },
  {
   "cell_type": "markdown",
   "id": "3239d486",
   "metadata": {},
   "source": [
    "What Is an RNN?"
   ]
  },
  {
   "cell_type": "code",
   "execution_count": 31,
   "id": "cd0c7e62",
   "metadata": {},
   "outputs": [],
   "source": [
    "# A recurrent neural network is a type of neural network that is used to process data that \n",
    "# is sequential in nature, e.g., stock price data, text sentences, or sales of items.\n",
    "# Sequential data is a type of data where the value of data at time step T depends upon the values \n",
    "# of data at timesteps less than T. For instance, sound waves, text sentences, stock market prices, etc. \n",
    "# In the stock market price prediction problem, the value of the opening price of a stock \n",
    "# at a given data depends upon the opening stock price of the previous days.\n",
    "\n",
    "# In a recurrent neural network, at each time step, the previous output of the neuron is also \n",
    "# multiplied by the current input via a weight vector. "
   ]
  },
  {
   "cell_type": "markdown",
   "id": "96152c44",
   "metadata": {},
   "source": [
    "Problems with RNN"
   ]
  },
  {
   "cell_type": "code",
   "execution_count": 32,
   "id": "c78fb8ca",
   "metadata": {},
   "outputs": [],
   "source": [
    "# A problem with the recurrent neural network is that while it can capture a shorter sequence, \n",
    "# it tends to forget longer sequences.\n",
    "\n",
    "# To solve this problem, a special type of recurrent neural network, i.e., Long Short-Term Memory (LSTM) \n",
    "# has been developed."
   ]
  },
  {
   "cell_type": "markdown",
   "id": "3a62d95e",
   "metadata": {},
   "source": [
    "What Is an LSTM?"
   ]
  },
  {
   "cell_type": "code",
   "execution_count": 33,
   "id": "9d379256",
   "metadata": {},
   "outputs": [],
   "source": [
    "# LSTM is a type of RNN which is capable of remembering longer sequences,and hence, \n",
    "# it is one of the most commonly used RNN for sequence tasks.\n",
    "# In LSTM, instead of a single unit in the recurrent cell, there are four interacting units, \n",
    "# i.e., a forget gate, an input gate, an update gate, and an output gate."
   ]
  },
  {
   "cell_type": "markdown",
   "id": "f49a9fba",
   "metadata": {},
   "source": [
    "9.3 Predicting Future Stock Prices via LSTM in Keras"
   ]
  },
  {
   "cell_type": "markdown",
   "id": "3e5c7422",
   "metadata": {},
   "source": [
    "9.3.1 Training the Stock Prediction Model"
   ]
  },
  {
   "cell_type": "code",
   "execution_count": 34,
   "id": "eb7cad2b",
   "metadata": {},
   "outputs": [
    {
     "name": "stdout",
     "output_type": "stream",
     "text": [
      "Requirement already satisfied: tensorflow in c:\\python310\\lib\\site-packages (2.8.0)\n",
      "Requirement already satisfied: libclang>=9.0.1 in c:\\python310\\lib\\site-packages (from tensorflow) (14.0.1)\n",
      "Requirement already satisfied: tf-estimator-nightly==2.8.0.dev2021122109 in c:\\python310\\lib\\site-packages (from tensorflow) (2.8.0.dev2021122109)\n",
      "Requirement already satisfied: google-pasta>=0.1.1 in c:\\python310\\lib\\site-packages (from tensorflow) (0.2.0)\n",
      "Requirement already satisfied: wrapt>=1.11.0 in c:\\python310\\lib\\site-packages (from tensorflow) (1.14.0)\n",
      "Requirement already satisfied: six>=1.12.0 in c:\\python310\\lib\\site-packages (from tensorflow) (1.16.0)\n",
      "Requirement already satisfied: protobuf>=3.9.2 in c:\\python310\\lib\\site-packages (from tensorflow) (3.20.1)\n",
      "Requirement already satisfied: tensorflow-io-gcs-filesystem>=0.23.1 in c:\\python310\\lib\\site-packages (from tensorflow) (0.25.0)\n",
      "Requirement already satisfied: h5py>=2.9.0 in c:\\python310\\lib\\site-packages (from tensorflow) (3.6.0)\n",
      "Requirement already satisfied: flatbuffers>=1.12 in c:\\python310\\lib\\site-packages (from tensorflow) (2.0)\n",
      "Requirement already satisfied: opt-einsum>=2.3.2 in c:\\python310\\lib\\site-packages (from tensorflow) (3.3.0)\n",
      "Requirement already satisfied: absl-py>=0.4.0 in c:\\python310\\lib\\site-packages (from tensorflow) (1.0.0)\n",
      "Requirement already satisfied: numpy>=1.20 in c:\\python310\\lib\\site-packages (from tensorflow) (1.22.3)\n",
      "Requirement already satisfied: typing-extensions>=3.6.6 in c:\\python310\\lib\\site-packages (from tensorflow) (4.2.0)\n",
      "Requirement already satisfied: termcolor>=1.1.0 in c:\\python310\\lib\\site-packages (from tensorflow) (1.1.0)\n",
      "Requirement already satisfied: keras-preprocessing>=1.1.1 in c:\\python310\\lib\\site-packages (from tensorflow) (1.1.2)\n",
      "Requirement already satisfied: astunparse>=1.6.0 in c:\\python310\\lib\\site-packages (from tensorflow) (1.6.3)\n",
      "Requirement already satisfied: gast>=0.2.1 in c:\\python310\\lib\\site-packages (from tensorflow) (0.5.3)\n",
      "Requirement already satisfied: keras<2.9,>=2.8.0rc0 in c:\\python310\\lib\\site-packages (from tensorflow) (2.8.0)\n",
      "Requirement already satisfied: setuptools in c:\\python310\\lib\\site-packages (from tensorflow) (58.1.0)\n",
      "Requirement already satisfied: grpcio<2.0,>=1.24.3 in c:\\python310\\lib\\site-packages (from tensorflow) (1.44.0)\n",
      "Requirement already satisfied: tensorboard<2.9,>=2.8 in c:\\python310\\lib\\site-packages (from tensorflow) (2.8.0)\n",
      "Requirement already satisfied: wheel<1.0,>=0.23.0 in c:\\python310\\lib\\site-packages (from astunparse>=1.6.0->tensorflow) (0.37.1)\n",
      "Requirement already satisfied: werkzeug>=0.11.15 in c:\\python310\\lib\\site-packages (from tensorboard<2.9,>=2.8->tensorflow) (2.1.2)\n",
      "Requirement already satisfied: google-auth-oauthlib<0.5,>=0.4.1 in c:\\python310\\lib\\site-packages (from tensorboard<2.9,>=2.8->tensorflow) (0.4.6)\n",
      "Requirement already satisfied: requests<3,>=2.21.0 in c:\\python310\\lib\\site-packages (from tensorboard<2.9,>=2.8->tensorflow) (2.27.1)\n",
      "Requirement already satisfied: tensorboard-plugin-wit>=1.6.0 in c:\\python310\\lib\\site-packages (from tensorboard<2.9,>=2.8->tensorflow) (1.8.1)\n",
      "Requirement already satisfied: markdown>=2.6.8 in c:\\python310\\lib\\site-packages (from tensorboard<2.9,>=2.8->tensorflow) (3.3.6)\n",
      "Requirement already satisfied: tensorboard-data-server<0.7.0,>=0.6.0 in c:\\python310\\lib\\site-packages (from tensorboard<2.9,>=2.8->tensorflow) (0.6.1)\n",
      "Requirement already satisfied: google-auth<3,>=1.6.3 in c:\\python310\\lib\\site-packages (from tensorboard<2.9,>=2.8->tensorflow) (2.6.6)\n",
      "Requirement already satisfied: rsa<5,>=3.1.4 in c:\\python310\\lib\\site-packages (from google-auth<3,>=1.6.3->tensorboard<2.9,>=2.8->tensorflow) (4.8)\n",
      "Requirement already satisfied: pyasn1-modules>=0.2.1 in c:\\python310\\lib\\site-packages (from google-auth<3,>=1.6.3->tensorboard<2.9,>=2.8->tensorflow) (0.2.8)\n",
      "Requirement already satisfied: cachetools<6.0,>=2.0.0 in c:\\python310\\lib\\site-packages (from google-auth<3,>=1.6.3->tensorboard<2.9,>=2.8->tensorflow) (5.0.0)\n",
      "Requirement already satisfied: requests-oauthlib>=0.7.0 in c:\\python310\\lib\\site-packages (from google-auth-oauthlib<0.5,>=0.4.1->tensorboard<2.9,>=2.8->tensorflow) (1.3.1)\n",
      "Requirement already satisfied: charset-normalizer~=2.0.0 in c:\\python310\\lib\\site-packages (from requests<3,>=2.21.0->tensorboard<2.9,>=2.8->tensorflow) (2.0.12)\n",
      "Requirement already satisfied: urllib3<1.27,>=1.21.1 in c:\\python310\\lib\\site-packages (from requests<3,>=2.21.0->tensorboard<2.9,>=2.8->tensorflow) (1.26.9)\n",
      "Requirement already satisfied: idna<4,>=2.5 in c:\\python310\\lib\\site-packages (from requests<3,>=2.21.0->tensorboard<2.9,>=2.8->tensorflow) (3.3)\n",
      "Requirement already satisfied: certifi>=2017.4.17 in c:\\python310\\lib\\site-packages (from requests<3,>=2.21.0->tensorboard<2.9,>=2.8->tensorflow) (2021.10.8)\n",
      "Requirement already satisfied: pyasn1<0.5.0,>=0.4.6 in c:\\python310\\lib\\site-packages (from pyasn1-modules>=0.2.1->google-auth<3,>=1.6.3->tensorboard<2.9,>=2.8->tensorflow) (0.4.8)\n",
      "Requirement already satisfied: oauthlib>=3.0.0 in c:\\python310\\lib\\site-packages (from requests-oauthlib>=0.7.0->google-auth-oauthlib<0.5,>=0.4.1->tensorboard<2.9,>=2.8->tensorflow) (3.2.0)\n",
      "Note: you may need to restart the kernel to use updated packages.\n"
     ]
    }
   ],
   "source": [
    "pip install --upgrade tensorflow"
   ]
  },
  {
   "cell_type": "code",
   "execution_count": 35,
   "id": "a5ce415e",
   "metadata": {},
   "outputs": [],
   "source": [
    "# Importing libraries\n",
    "import pandas as pd\n",
    "import numpy as np\n",
    "\n",
    "# Importing dataset\n",
    "url = \"https://raw.githubusercontent.com/duochen/Python-MachineLearning/master/Reference/PythonMachineLearningforBeginners/Data/fb_train.csv\"\n",
    "fb_complete_data = pd.read_csv(url)"
   ]
  },
  {
   "cell_type": "code",
   "execution_count": 36,
   "id": "ee683baa",
   "metadata": {},
   "outputs": [
    {
     "data": {
      "text/html": [
       "<div>\n",
       "<style scoped>\n",
       "    .dataframe tbody tr th:only-of-type {\n",
       "        vertical-align: middle;\n",
       "    }\n",
       "\n",
       "    .dataframe tbody tr th {\n",
       "        vertical-align: top;\n",
       "    }\n",
       "\n",
       "    .dataframe thead th {\n",
       "        text-align: right;\n",
       "    }\n",
       "</style>\n",
       "<table border=\"1\" class=\"dataframe\">\n",
       "  <thead>\n",
       "    <tr style=\"text-align: right;\">\n",
       "      <th></th>\n",
       "      <th>Date</th>\n",
       "      <th>Open</th>\n",
       "      <th>High</th>\n",
       "      <th>Low</th>\n",
       "      <th>Close</th>\n",
       "      <th>Adj Close</th>\n",
       "      <th>Volume</th>\n",
       "    </tr>\n",
       "  </thead>\n",
       "  <tbody>\n",
       "    <tr>\n",
       "      <th>0</th>\n",
       "      <td>2015-01-02</td>\n",
       "      <td>78.580002</td>\n",
       "      <td>78.930000</td>\n",
       "      <td>77.699997</td>\n",
       "      <td>78.449997</td>\n",
       "      <td>78.449997</td>\n",
       "      <td>18177500</td>\n",
       "    </tr>\n",
       "    <tr>\n",
       "      <th>1</th>\n",
       "      <td>2015-01-05</td>\n",
       "      <td>77.980003</td>\n",
       "      <td>79.250000</td>\n",
       "      <td>76.860001</td>\n",
       "      <td>77.190002</td>\n",
       "      <td>77.190002</td>\n",
       "      <td>26452200</td>\n",
       "    </tr>\n",
       "    <tr>\n",
       "      <th>2</th>\n",
       "      <td>2015-01-06</td>\n",
       "      <td>77.230003</td>\n",
       "      <td>77.589996</td>\n",
       "      <td>75.360001</td>\n",
       "      <td>76.150002</td>\n",
       "      <td>76.150002</td>\n",
       "      <td>27399300</td>\n",
       "    </tr>\n",
       "    <tr>\n",
       "      <th>3</th>\n",
       "      <td>2015-01-07</td>\n",
       "      <td>76.760002</td>\n",
       "      <td>77.360001</td>\n",
       "      <td>75.820000</td>\n",
       "      <td>76.150002</td>\n",
       "      <td>76.150002</td>\n",
       "      <td>22045300</td>\n",
       "    </tr>\n",
       "    <tr>\n",
       "      <th>4</th>\n",
       "      <td>2015-01-08</td>\n",
       "      <td>76.739998</td>\n",
       "      <td>78.230003</td>\n",
       "      <td>76.080002</td>\n",
       "      <td>78.180000</td>\n",
       "      <td>78.180000</td>\n",
       "      <td>23961000</td>\n",
       "    </tr>\n",
       "  </tbody>\n",
       "</table>\n",
       "</div>"
      ],
      "text/plain": [
       "         Date       Open       High        Low      Close  Adj Close    Volume\n",
       "0  2015-01-02  78.580002  78.930000  77.699997  78.449997  78.449997  18177500\n",
       "1  2015-01-05  77.980003  79.250000  76.860001  77.190002  77.190002  26452200\n",
       "2  2015-01-06  77.230003  77.589996  75.360001  76.150002  76.150002  27399300\n",
       "3  2015-01-07  76.760002  77.360001  75.820000  76.150002  76.150002  22045300\n",
       "4  2015-01-08  76.739998  78.230003  76.080002  78.180000  78.180000  23961000"
      ]
     },
     "execution_count": 36,
     "metadata": {},
     "output_type": "execute_result"
    }
   ],
   "source": [
    "# Print dataset header\n",
    "fb_complete_data.head()"
   ]
  },
  {
   "cell_type": "code",
   "execution_count": 37,
   "id": "8f42f160",
   "metadata": {},
   "outputs": [],
   "source": [
    "# We are only interested in the Open column. Therefore, we will select the Open column from the dataset.\n",
    "# Filtering Open column\n",
    "fb_training_processed = fb_complete_data[['Open']].values"
   ]
  },
  {
   "cell_type": "code",
   "execution_count": 38,
   "id": "0bac97df",
   "metadata": {},
   "outputs": [],
   "source": [
    "# Scaling features\n",
    "from sklearn.preprocessing import MinMaxScaler\n",
    "\n",
    "scaler = MinMaxScaler(feature_range=(0,1))\n",
    "fb_training_scaled = scaler.fit_transform(fb_training_processed)"
   ]
  },
  {
   "cell_type": "code",
   "execution_count": 39,
   "id": "e7b205bc",
   "metadata": {},
   "outputs": [
    {
     "data": {
      "text/plain": [
       "1257"
      ]
     },
     "execution_count": 39,
     "metadata": {},
     "output_type": "execute_result"
    }
   ],
   "source": [
    "# Check the total length of teh dataset\n",
    "len(fb_training_scaled)"
   ]
  },
  {
   "cell_type": "code",
   "execution_count": 40,
   "id": "d9ff0dc0",
   "metadata": {},
   "outputs": [],
   "source": [
    "# Before we proceed further, we need to divide our data into features and labels. Our feature set \n",
    "# will consist of 60 timesteps of 1 feature. The feature set basically consists of the opening stock \n",
    "# price of the past 60 days, while the label set will consist of the opening stock price of 61st day. \n",
    "# Based on the opening stock prices of the previous days, we will be predicted the opening stock price\n",
    "# for the next day.\n",
    "# Training features contain data of last 60 days\n",
    "# Training labels contain data of 61st day\n",
    "fb_training_features = []\n",
    "fb_training_labels = []\n",
    "for i in range(60, len(fb_training_scaled)):\n",
    "    fb_training_features.append(fb_training_scaled[i-60:i, 0])\n",
    "    fb_training_labels.append(fb_training_scaled[i, 0])"
   ]
  },
  {
   "cell_type": "code",
   "execution_count": 41,
   "id": "9b77ad2e",
   "metadata": {},
   "outputs": [],
   "source": [
    "# We need to convert our data into Numpy array before we can use as input with Keras.\n",
    "X_train = np.array(fb_training_features)\n",
    "y_train = np.array(fb_training_labels)"
   ]
  },
  {
   "cell_type": "code",
   "execution_count": 42,
   "id": "483a69cc",
   "metadata": {},
   "outputs": [
    {
     "name": "stdout",
     "output_type": "stream",
     "text": [
      "(1197, 60)\n",
      "(1197,)\n"
     ]
    }
   ],
   "source": [
    "# Print the shape of our dataset\n",
    "print(X_train.shape)\n",
    "print(y_train.shape)"
   ]
  },
  {
   "cell_type": "code",
   "execution_count": 43,
   "id": "e50d66ed",
   "metadata": {},
   "outputs": [],
   "source": [
    "# We need to reshape our input features into 3-dimensional format.\n",
    "X_train = np.reshape(X_train, (X_train.shape[0], X_train.shape[1], 1))"
   ]
  },
  {
   "cell_type": "code",
   "execution_count": 44,
   "id": "7549f1c7",
   "metadata": {},
   "outputs": [],
   "source": [
    "# Creates our LSTM model. We have 4 LSTM layers with 100 nodes each. Each LSTM layer is followed \n",
    "# by a dropout layer to avoid overfitting. The final dense has one node since the output is \n",
    "# a single value.\n",
    "import numpy as np\n",
    "import matplotlib.pyplot as plt\n",
    "from tensorflow.keras.layers import Input, Activation, Dense, Flatten, Dropout, Flatten, LSTM\n",
    "from tensorflow.keras.models import Model"
   ]
  },
  {
   "cell_type": "code",
   "execution_count": 45,
   "id": "a02aa555",
   "metadata": {},
   "outputs": [],
   "source": [
    "# Defining the LSTM network\n",
    "input_layer = Input(shape = (X_train.shape[1], 1))\n",
    "lstm1 = LSTM(100, activation='relu', return_sequences=True)(input_layer)\n",
    "do1 = Dropout(0.2)(lstm1)\n",
    "lstm2 = LSTM(100, activation='relu', return_sequences=True)(do1)\n",
    "do2 = Dropout(0.2)(lstm2)\n",
    "lstm3 = LSTM(100, activation='relu', return_sequences=True)(do2)\n",
    "do3 = Dropout(0.2)(lstm3)\n",
    "lstm4 = LSTM(100, activation='relu')(do3)\n",
    "do4 = Dropout(0.2)(lstm4)\n",
    "\n",
    "output_layer = Dense(1)(do4)\n",
    "model = Model(input_layer, output_layer)\n",
    "model.compile(optimizer='adam', loss='mse')"
   ]
  },
  {
   "cell_type": "code",
   "execution_count": 46,
   "id": "168a1d25",
   "metadata": {},
   "outputs": [
    {
     "name": "stdout",
     "output_type": "stream",
     "text": [
      "(1197, 60, 1)\n",
      "(1197,)\n",
      "(1197, 1)\n"
     ]
    }
   ],
   "source": [
    "# Next, we need to convert the output y into a column vector.\n",
    "print(X_train.shape)\n",
    "print(y_train.shape)\n",
    "y_train = y_train.reshape(-1, 1)\n",
    "print(y_train.shape)"
   ]
  },
  {
   "cell_type": "code",
   "execution_count": 47,
   "id": "d86eedfb",
   "metadata": {},
   "outputs": [
    {
     "name": "stdout",
     "output_type": "stream",
     "text": [
      "Epoch 1/100\n",
      "38/38 [==============================] - 9s 141ms/step - loss: 0.0639\n",
      "Epoch 2/100\n",
      "38/38 [==============================] - 6s 146ms/step - loss: 0.0079\n",
      "Epoch 3/100\n",
      "38/38 [==============================] - 5s 144ms/step - loss: 0.0067\n",
      "Epoch 4/100\n",
      "38/38 [==============================] - 5s 139ms/step - loss: 0.0068\n",
      "Epoch 5/100\n",
      "38/38 [==============================] - 5s 138ms/step - loss: 0.0061\n",
      "Epoch 6/100\n",
      "38/38 [==============================] - 6s 149ms/step - loss: 0.0064\n",
      "Epoch 7/100\n",
      "38/38 [==============================] - 6s 158ms/step - loss: 0.0052\n",
      "Epoch 8/100\n",
      "38/38 [==============================] - 6s 151ms/step - loss: 0.0052\n",
      "Epoch 9/100\n",
      "38/38 [==============================] - 6s 148ms/step - loss: 0.0055\n",
      "Epoch 10/100\n",
      "38/38 [==============================] - 6s 150ms/step - loss: 0.0056\n",
      "Epoch 11/100\n",
      "38/38 [==============================] - 6s 150ms/step - loss: 0.0051\n",
      "Epoch 12/100\n",
      "38/38 [==============================] - 6s 149ms/step - loss: 0.0045\n",
      "Epoch 13/100\n",
      "38/38 [==============================] - 6s 149ms/step - loss: 0.0045\n",
      "Epoch 14/100\n",
      "38/38 [==============================] - 6s 149ms/step - loss: 0.0047\n",
      "Epoch 15/100\n",
      "38/38 [==============================] - 6s 150ms/step - loss: 0.0048\n",
      "Epoch 16/100\n",
      "38/38 [==============================] - 6s 148ms/step - loss: 0.0042\n",
      "Epoch 17/100\n",
      "38/38 [==============================] - 6s 149ms/step - loss: 0.0046\n",
      "Epoch 18/100\n",
      "38/38 [==============================] - 6s 147ms/step - loss: 0.0046\n",
      "Epoch 19/100\n",
      "38/38 [==============================] - 6s 148ms/step - loss: 0.0044\n",
      "Epoch 20/100\n",
      "38/38 [==============================] - 6s 148ms/step - loss: 0.0042\n",
      "Epoch 21/100\n",
      "38/38 [==============================] - 6s 147ms/step - loss: 0.0040\n",
      "Epoch 22/100\n",
      "38/38 [==============================] - 6s 149ms/step - loss: 0.0043\n",
      "Epoch 23/100\n",
      "38/38 [==============================] - 6s 149ms/step - loss: 0.0040\n",
      "Epoch 24/100\n",
      "38/38 [==============================] - 6s 148ms/step - loss: 0.0038\n",
      "Epoch 25/100\n",
      "38/38 [==============================] - 6s 154ms/step - loss: 0.0037\n",
      "Epoch 26/100\n",
      "38/38 [==============================] - 6s 148ms/step - loss: 0.0037\n",
      "Epoch 27/100\n",
      "38/38 [==============================] - 6s 147ms/step - loss: 0.0043\n",
      "Epoch 28/100\n",
      "38/38 [==============================] - 6s 147ms/step - loss: 0.0039\n",
      "Epoch 29/100\n",
      "38/38 [==============================] - 6s 147ms/step - loss: 0.0033\n",
      "Epoch 30/100\n",
      "38/38 [==============================] - 6s 148ms/step - loss: 0.0034\n",
      "Epoch 31/100\n",
      "38/38 [==============================] - 6s 148ms/step - loss: 0.0035\n",
      "Epoch 32/100\n",
      "38/38 [==============================] - 6s 149ms/step - loss: 0.0032\n",
      "Epoch 33/100\n",
      "38/38 [==============================] - 6s 149ms/step - loss: 0.0036\n",
      "Epoch 34/100\n",
      "38/38 [==============================] - 6s 149ms/step - loss: 0.0034\n",
      "Epoch 35/100\n",
      "38/38 [==============================] - 6s 149ms/step - loss: 0.0035\n",
      "Epoch 36/100\n",
      "38/38 [==============================] - 6s 149ms/step - loss: 0.0037\n",
      "Epoch 37/100\n",
      "38/38 [==============================] - 6s 151ms/step - loss: 0.0034\n",
      "Epoch 38/100\n",
      "38/38 [==============================] - 6s 149ms/step - loss: 0.0031\n",
      "Epoch 39/100\n",
      "38/38 [==============================] - 6s 151ms/step - loss: 0.0031\n",
      "Epoch 40/100\n",
      "38/38 [==============================] - 6s 148ms/step - loss: 0.0033\n",
      "Epoch 41/100\n",
      "38/38 [==============================] - 6s 148ms/step - loss: 0.0033\n",
      "Epoch 42/100\n",
      "38/38 [==============================] - 6s 147ms/step - loss: 0.0031\n",
      "Epoch 43/100\n",
      "38/38 [==============================] - 6s 148ms/step - loss: 0.0030\n",
      "Epoch 44/100\n",
      "38/38 [==============================] - 6s 148ms/step - loss: 0.0031\n",
      "Epoch 45/100\n",
      "38/38 [==============================] - 6s 148ms/step - loss: 0.0031\n",
      "Epoch 46/100\n",
      "38/38 [==============================] - 6s 150ms/step - loss: 0.0033\n",
      "Epoch 47/100\n",
      "38/38 [==============================] - 6s 148ms/step - loss: 0.0029\n",
      "Epoch 48/100\n",
      "38/38 [==============================] - 6s 151ms/step - loss: 0.0030\n",
      "Epoch 49/100\n",
      "38/38 [==============================] - 6s 148ms/step - loss: 0.0030\n",
      "Epoch 50/100\n",
      "38/38 [==============================] - 6s 150ms/step - loss: 0.0027\n",
      "Epoch 51/100\n",
      "38/38 [==============================] - 6s 148ms/step - loss: 0.0032\n",
      "Epoch 52/100\n",
      "38/38 [==============================] - 6s 149ms/step - loss: 0.0032\n",
      "Epoch 53/100\n",
      "38/38 [==============================] - 6s 150ms/step - loss: 0.0029\n",
      "Epoch 54/100\n",
      "38/38 [==============================] - 6s 156ms/step - loss: 0.0028\n",
      "Epoch 55/100\n",
      "38/38 [==============================] - 6s 157ms/step - loss: 0.0025\n",
      "Epoch 56/100\n",
      "38/38 [==============================] - 6s 152ms/step - loss: 0.0026\n",
      "Epoch 57/100\n",
      "38/38 [==============================] - 6s 156ms/step - loss: 0.0025\n",
      "Epoch 58/100\n",
      "38/38 [==============================] - 6s 148ms/step - loss: 0.0026\n",
      "Epoch 59/100\n",
      "38/38 [==============================] - 6s 148ms/step - loss: 0.0025\n",
      "Epoch 60/100\n",
      "38/38 [==============================] - 6s 151ms/step - loss: 0.0026\n",
      "Epoch 61/100\n",
      "38/38 [==============================] - 6s 149ms/step - loss: 0.0025\n",
      "Epoch 62/100\n",
      "38/38 [==============================] - 6s 148ms/step - loss: 0.0025\n",
      "Epoch 63/100\n",
      "38/38 [==============================] - 6s 148ms/step - loss: 0.0023\n",
      "Epoch 64/100\n",
      "38/38 [==============================] - 6s 147ms/step - loss: 0.0022\n",
      "Epoch 65/100\n",
      "38/38 [==============================] - 6s 148ms/step - loss: 0.0023\n",
      "Epoch 66/100\n",
      "38/38 [==============================] - 6s 147ms/step - loss: 0.0023\n",
      "Epoch 67/100\n",
      "38/38 [==============================] - 6s 151ms/step - loss: 0.0025\n",
      "Epoch 68/100\n",
      "38/38 [==============================] - 6s 149ms/step - loss: 0.0020\n",
      "Epoch 69/100\n",
      "38/38 [==============================] - 6s 149ms/step - loss: 0.0022\n",
      "Epoch 70/100\n",
      "38/38 [==============================] - 6s 149ms/step - loss: 0.0025\n",
      "Epoch 71/100\n",
      "38/38 [==============================] - 6s 150ms/step - loss: 0.0023\n",
      "Epoch 72/100\n",
      "38/38 [==============================] - 6s 151ms/step - loss: 0.0020\n",
      "Epoch 73/100\n",
      "38/38 [==============================] - 6s 149ms/step - loss: 0.0021\n",
      "Epoch 74/100\n",
      "38/38 [==============================] - 6s 149ms/step - loss: 0.0022\n",
      "Epoch 75/100\n",
      "38/38 [==============================] - 6s 148ms/step - loss: 0.0022\n",
      "Epoch 76/100\n",
      "38/38 [==============================] - 6s 148ms/step - loss: 0.0020\n",
      "Epoch 77/100\n",
      "38/38 [==============================] - 6s 147ms/step - loss: 0.0020\n",
      "Epoch 78/100\n",
      "38/38 [==============================] - 6s 149ms/step - loss: 0.0020\n",
      "Epoch 79/100\n",
      "38/38 [==============================] - 6s 149ms/step - loss: 0.0019\n",
      "Epoch 80/100\n",
      "38/38 [==============================] - 6s 157ms/step - loss: 0.0022\n",
      "Epoch 81/100\n",
      "38/38 [==============================] - 6s 151ms/step - loss: 0.0022\n",
      "Epoch 82/100\n",
      "38/38 [==============================] - 6s 148ms/step - loss: 0.0023\n",
      "Epoch 83/100\n",
      "38/38 [==============================] - 6s 150ms/step - loss: 0.0020\n",
      "Epoch 84/100\n",
      "38/38 [==============================] - 6s 149ms/step - loss: 0.0019\n",
      "Epoch 85/100\n",
      "38/38 [==============================] - 6s 148ms/step - loss: 0.0022\n",
      "Epoch 86/100\n",
      "38/38 [==============================] - 6s 148ms/step - loss: 0.0020\n",
      "Epoch 87/100\n",
      "38/38 [==============================] - 6s 149ms/step - loss: 0.0019\n",
      "Epoch 88/100\n",
      "38/38 [==============================] - 6s 150ms/step - loss: 0.0020\n",
      "Epoch 89/100\n",
      "38/38 [==============================] - 6s 149ms/step - loss: 0.0020\n",
      "Epoch 90/100\n",
      "38/38 [==============================] - 6s 150ms/step - loss: 0.0018\n",
      "Epoch 91/100\n",
      "38/38 [==============================] - 6s 148ms/step - loss: 0.0020\n",
      "Epoch 92/100\n",
      "38/38 [==============================] - 6s 150ms/step - loss: 0.0020\n",
      "Epoch 93/100\n",
      "38/38 [==============================] - 6s 149ms/step - loss: 0.0016\n",
      "Epoch 94/100\n",
      "38/38 [==============================] - 6s 151ms/step - loss: 0.0017\n",
      "Epoch 95/100\n",
      "38/38 [==============================] - 6s 151ms/step - loss: 0.0019\n",
      "Epoch 96/100\n",
      "38/38 [==============================] - 6s 150ms/step - loss: 0.0021\n",
      "Epoch 97/100\n",
      "38/38 [==============================] - 6s 149ms/step - loss: 0.0019\n",
      "Epoch 98/100\n",
      "38/38 [==============================] - 6s 149ms/step - loss: 0.0019\n",
      "Epoch 99/100\n",
      "38/38 [==============================] - 6s 150ms/step - loss: 0.0021\n",
      "Epoch 100/100\n",
      "38/38 [==============================] - 6s 148ms/step - loss: 0.0018\n"
     ]
    }
   ],
   "source": [
    "# Trains our stock price prediction model on the training set.\n",
    "model_history = model.fit(X_train, y_train, epochs=100, verbose=1, batch_size=32)"
   ]
  },
  {
   "cell_type": "code",
   "execution_count": 48,
   "id": "87b109f4",
   "metadata": {},
   "outputs": [],
   "source": [
    "# Our model has been trained. Next, we will test our stock prediction model on the test data."
   ]
  },
  {
   "cell_type": "markdown",
   "id": "3413a26b",
   "metadata": {},
   "source": [
    "9.3.2 Testing the Stock Prediction Model"
   ]
  },
  {
   "cell_type": "code",
   "execution_count": 50,
   "id": "2ad89993",
   "metadata": {},
   "outputs": [],
   "source": [
    "# The test data should also be converted into the right shape to test our stock prediction model. \n",
    "# We will do that later. Let’s first import the data and then remove all the columns from the test data\n",
    "# except the Open column.\n",
    "url = \"https://raw.githubusercontent.com/duochen/Python-MachineLearning/master/Reference/PythonMachineLearningforBeginners/Data/fb_test.csv\"\n",
    "fb_testing_complete_data = pd.read_csv(url)\n",
    "fb_testing_processed = fb_testing_complete_data[['Open']].values"
   ]
  },
  {
   "cell_type": "code",
   "execution_count": 51,
   "id": "5eb42a91",
   "metadata": {},
   "outputs": [],
   "source": [
    "# Let’s concatenate the training and test sets. We do this to predict the first value in the test set.\n",
    "# The input will be the data from the past 60 days, which is basically the data from the last 60 days \n",
    "# in the training set.\n",
    "fb_all_data = pd.concat((fb_complete_data['Open'], fb_testing_complete_data['Open']), axis=0)"
   ]
  },
  {
   "cell_type": "code",
   "execution_count": 52,
   "id": "32589884",
   "metadata": {},
   "outputs": [
    {
     "name": "stdout",
     "output_type": "stream",
     "text": [
      "(80,)\n"
     ]
    }
   ],
   "source": [
    "# Create our final input feature set\n",
    "test_inputs = fb_all_data[len(fb_all_data) - len(fb_testing_complete_data) - 60:].values\n",
    "print(test_inputs.shape)"
   ]
  },
  {
   "cell_type": "code",
   "execution_count": 53,
   "id": "64072a30",
   "metadata": {},
   "outputs": [
    {
     "name": "stdout",
     "output_type": "stream",
     "text": [
      "(80, 1)\n"
     ]
    }
   ],
   "source": [
    "# We need to scale our data and convert it into a column vector.\n",
    "test_inputs = test_inputs.reshape(-1, 1)\n",
    "test_inputs = scaler.transform(test_inputs)\n",
    "print(test_inputs.shape)"
   ]
  },
  {
   "cell_type": "code",
   "execution_count": 54,
   "id": "3c354a05",
   "metadata": {},
   "outputs": [],
   "source": [
    "# As we did with the training data, we need to divide our input data intofeatures and labels.\n",
    "fb_test_features = []\n",
    "for i in range(60, 80):\n",
    "    fb_test_features.append(test_inputs[i-60:i, 0])"
   ]
  },
  {
   "cell_type": "code",
   "execution_count": 55,
   "id": "e3ae3272",
   "metadata": {},
   "outputs": [
    {
     "name": "stdout",
     "output_type": "stream",
     "text": [
      "(20, 60)\n"
     ]
    }
   ],
   "source": [
    "# Print our feature set\n",
    "X_test = np.array(fb_test_features)\n",
    "print(X_test.shape)"
   ]
  },
  {
   "cell_type": "code",
   "execution_count": 56,
   "id": "ff3853cf",
   "metadata": {},
   "outputs": [
    {
     "name": "stdout",
     "output_type": "stream",
     "text": [
      "(20, 60, 1)\n"
     ]
    }
   ],
   "source": [
    "# Our feature set is currently 2-dimensional. But the LSTM algorithm in Keras accepts only data \n",
    "# in 3-dimensional. The following script converts our input features into a 3-dimensional shape.\n",
    "X_test = np.reshape(X_test, (X_test.shape[0], X_test.shape[1], 1))\n",
    "print(X_test.shape)"
   ]
  },
  {
   "cell_type": "code",
   "execution_count": 57,
   "id": "c464e93f",
   "metadata": {},
   "outputs": [],
   "source": [
    "# Making predications on test data\n",
    "y_pred = model.predict(X_test)"
   ]
  },
  {
   "cell_type": "code",
   "execution_count": 58,
   "id": "1116b3de",
   "metadata": {},
   "outputs": [],
   "source": [
    "# Since we scaled our input feature, we need to apply the inverse_transform() method of the \n",
    "# scaler object on the predicted output to get the original output values.\n",
    "y_pred = scaler.inverse_transform(y_pred)"
   ]
  },
  {
   "cell_type": "code",
   "execution_count": 60,
   "id": "67c815c3",
   "metadata": {},
   "outputs": [
    {
     "data": {
      "image/png": "[encoded data removed]",
      "text/plain": [
       "<Figure size 576x432 with 1 Axes>"
      ]
     },
     "metadata": {
      "needs_background": "light"
     },
     "output_type": "display_data"
    }
   ],
   "source": [
    "# Finally, to compare the predicted output with the actual stock price values\n",
    "plt.figure(figsize=(8,6))\n",
    "plt.plot(fb_testing_processed, color='red', label='Actual Facebook Stock Price')\n",
    "plt.plot(y_pred, color='green', label='Predicted Facebook Stock Price')\n",
    "plt.title('Facebook Stock Prices')\n",
    "plt.xlabel('Date')\n",
    "plt.ylabel('Stock Price')\n",
    "plt.legend()\n",
    "plt.show()"
   ]
  },
  {
   "cell_type": "code",
   "execution_count": 61,
   "id": "bf83a1d9",
   "metadata": {},
   "outputs": [],
   "source": [
    "# The output shows that our algorithm has been able to partially capture the trend of the future \n",
    "# opening stock prices for Facebook data."
   ]
  },
  {
   "cell_type": "code",
   "execution_count": null,
   "id": "df474118",
   "metadata": {},
   "outputs": [],
   "source": []
  }
 ],
 "metadata": {
  "kernelspec": {
   "display_name": "Python 3 (ipykernel)",
   "language": "python",
   "name": "python3"
  },
  "language_info": {
   "codemirror_mode": {
    "name": "ipython",
    "version": 3
   },
   "file_extension": ".py",
   "mimetype": "text/x-python",
   "name": "python",
   "nbconvert_exporter": "python",
   "pygments_lexer": "ipython3",
   "version": "3.10.4"
  }
 },
 "nbformat": 4,
 "nbformat_minor": 5
}
