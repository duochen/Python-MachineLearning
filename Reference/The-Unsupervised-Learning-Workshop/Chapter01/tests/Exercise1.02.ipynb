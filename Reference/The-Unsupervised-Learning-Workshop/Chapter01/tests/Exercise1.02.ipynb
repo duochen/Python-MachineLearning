{
 "cells": [
  {
   "cell_type": "markdown",
   "metadata": {},
   "source": [
    "# Chapter 1: Introduction to Clustering\n",
    "\n",
    "## Exercise 1.02"
   ]
  },
  {
   "cell_type": "code",
   "execution_count": 11,
   "metadata": {},
   "outputs": [],
   "source": [
    "import math\n",
    "import numpy as np\n",
    "\n",
    "def dist(a, b):\n",
    "    return math.sqrt(math.pow(a[0]-b[0],2) + math.pow(a[1]-b[1],2))"
   ]
  },
  {
   "cell_type": "code",
   "execution_count": 12,
   "metadata": {},
   "outputs": [],
   "source": [
    "centroids = [ (2, 5), (8, 3), (4,5) ]\n",
    "x = (0, 8)"
   ]
  },
  {
   "cell_type": "code",
   "execution_count": 13,
   "metadata": {},
   "outputs": [
    {
     "name": "stdout",
     "output_type": "stream",
     "text": [
      "Euclidean Distance between x (0, 8) and centroid (2, 5) is 3.605551275463989\n",
      "Euclidean Distance between x (0, 8) and centroid (8, 3) is 9.433981132056603\n",
      "Euclidean Distance between x (0, 8) and centroid (4, 5) is 5.0\n"
     ]
    }
   ],
   "source": [
    "# Calculating Euclidean Distance between x and centroid\n",
    "centroid_distances =[]\n",
    "for centroid in centroids:\n",
    "    print(\"Euclidean Distance between x {} and centroid {} is {}\".format(x ,centroid, dist(x,centroid)))\n",
    "    centroid_distances.append(dist(x,centroid))"
   ]
  },
  {
   "cell_type": "code",
   "execution_count": 14,
   "metadata": {},
   "outputs": [],
   "source": [
    "### Calculating Euclidean Distance between x and centroid"
   ]
  },
  {
   "cell_type": "code",
   "execution_count": 15,
   "metadata": {},
   "outputs": [],
   "source": [
    "import unittest\n",
    "\n",
    "class TestEuclideanDistance(unittest.TestCase):\n",
    "    \"\"\"unittest for dist function\"\"\"\n",
    "    centroids = [ (2, 5), (8, 3), (4,5) ]\n",
    "    x = (0, 8)\n",
    "    def test_e_distance_between_x_centroid(self):\n",
    "        self.centroids=centroids\n",
    "        self.assertAlmostEqual(dist(x,centroids[0]),3.605551275463989)\n",
    "        self.assertAlmostEqual(dist(x,centroids[1]),9.433981132056603)\n",
    "        self.assertAlmostEqual(dist(x,centroids[2]),5.0)"
   ]
  },
  {
   "cell_type": "code",
   "execution_count": 16,
   "metadata": {},
   "outputs": [
    {
     "name": "stderr",
     "output_type": "stream",
     "text": [
      "test_e_distance_between_x_centroid (__main__.TestEuclideanDistance) ... ok\n",
      "\n",
      "----------------------------------------------------------------------\n",
      "Ran 1 test in 0.002s\n",
      "\n",
      "OK\n"
     ]
    },
    {
     "data": {
      "text/plain": [
       "<unittest.runner.TextTestResult run=1 errors=0 failures=0>"
      ]
     },
     "execution_count": 16,
     "metadata": {},
     "output_type": "execute_result"
    }
   ],
   "source": [
    "suite = unittest.TestLoader().loadTestsFromTestCase(TestEuclideanDistance)\n",
    "unittest.TextTestRunner(verbosity=2).run(suite)"
   ]
  },
  {
   "cell_type": "code",
   "execution_count": null,
   "metadata": {},
   "outputs": [],
   "source": []
  }
 ],
 "metadata": {
  "kernelspec": {
   "display_name": "Python 3",
   "language": "python",
   "name": "python3"
  },
  "language_info": {
   "codemirror_mode": {
    "name": "ipython",
    "version": 3
   },
   "file_extension": ".py",
   "mimetype": "text/x-python",
   "name": "python",
   "nbconvert_exporter": "python",
   "pygments_lexer": "ipython3",
   "version": "3.6.8"
  }
 },
 "nbformat": 4,
 "nbformat_minor": 2
}
