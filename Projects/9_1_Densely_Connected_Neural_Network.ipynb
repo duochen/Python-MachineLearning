{
 "cells": [
  {
   "cell_type": "markdown",
   "id": "774d6e2b",
   "metadata": {},
   "source": [
    "### From the book \"Python Machine Learning for Beginners\" by AI Publishing"
   ]
  },
  {
   "cell_type": "markdown",
   "id": "7e64fec4",
   "metadata": {},
   "source": [
    "#### 9.1 Densely Connected Neural Network (DNN)"
   ]
  },
  {
   "cell_type": "markdown",
   "id": "6032f2fb",
   "metadata": {},
   "source": [
    "9.1.2 Backpropagation"
   ]
  },
  {
   "cell_type": "markdown",
   "id": "0ebfd91f",
   "metadata": {},
   "source": [
    "9.1.2 Implementing a Densely Connected Neural Network"
   ]
  },
  {
   "cell_type": "code",
   "execution_count": 2,
   "id": "09df40fa",
   "metadata": {},
   "outputs": [],
   "source": [
    "# In this section, you will see how to implement a densely connected neural network with TensorFlow, \n",
    "# which predicts whether or not a banknote is genuine or not, based on certain features such as \n",
    "# variance, skewness, curtosis, and entropy of several banknote images. \n",
    "# The following script upgrades the existing TensorFlow version. I always recommend doing this."
   ]
  },
  {
   "cell_type": "code",
   "execution_count": 3,
   "id": "fce75749",
   "metadata": {},
   "outputs": [
    {
     "name": "stdout",
     "output_type": "stream",
     "text": [
      "Requirement already satisfied: tensorflow in c:\\python310\\lib\\site-packages (2.8.0)\n",
      "Requirement already satisfied: protobuf>=3.9.2 in c:\\python310\\lib\\site-packages (from tensorflow) (3.20.1)\n",
      "Requirement already satisfied: termcolor>=1.1.0 in c:\\python310\\lib\\site-packages (from tensorflow) (1.1.0)\n",
      "Requirement already satisfied: gast>=0.2.1 in c:\\python310\\lib\\site-packages (from tensorflow) (0.5.3)\n",
      "Requirement already satisfied: tensorflow-io-gcs-filesystem>=0.23.1 in c:\\python310\\lib\\site-packages (from tensorflow) (0.25.0)\n",
      "Requirement already satisfied: h5py>=2.9.0 in c:\\python310\\lib\\site-packages (from tensorflow) (3.6.0)\n",
      "Requirement already satisfied: grpcio<2.0,>=1.24.3 in c:\\python310\\lib\\site-packages (from tensorflow) (1.44.0)\n",
      "Requirement already satisfied: astunparse>=1.6.0 in c:\\python310\\lib\\site-packages (from tensorflow) (1.6.3)\n",
      "Requirement already satisfied: numpy>=1.20 in c:\\python310\\lib\\site-packages (from tensorflow) (1.22.3)\n",
      "Requirement already satisfied: six>=1.12.0 in c:\\python310\\lib\\site-packages (from tensorflow) (1.16.0)\n",
      "Requirement already satisfied: flatbuffers>=1.12 in c:\\python310\\lib\\site-packages (from tensorflow) (2.0)\n",
      "Requirement already satisfied: google-pasta>=0.1.1 in c:\\python310\\lib\\site-packages (from tensorflow) (0.2.0)\n",
      "Requirement already satisfied: opt-einsum>=2.3.2 in c:\\python310\\lib\\site-packages (from tensorflow) (3.3.0)\n",
      "Requirement already satisfied: keras<2.9,>=2.8.0rc0 in c:\\python310\\lib\\site-packages (from tensorflow) (2.8.0)\n",
      "Requirement already satisfied: tensorboard<2.9,>=2.8 in c:\\python310\\lib\\site-packages (from tensorflow) (2.8.0)\n",
      "Requirement already satisfied: setuptools in c:\\python310\\lib\\site-packages (from tensorflow) (58.1.0)\n",
      "Requirement already satisfied: tf-estimator-nightly==2.8.0.dev2021122109 in c:\\python310\\lib\\site-packages (from tensorflow) (2.8.0.dev2021122109)\n",
      "Requirement already satisfied: libclang>=9.0.1 in c:\\python310\\lib\\site-packages (from tensorflow) (14.0.1)\n",
      "Requirement already satisfied: wrapt>=1.11.0 in c:\\python310\\lib\\site-packages (from tensorflow) (1.14.0)\n",
      "Requirement already satisfied: typing-extensions>=3.6.6 in c:\\python310\\lib\\site-packages (from tensorflow) (4.2.0)\n",
      "Requirement already satisfied: absl-py>=0.4.0 in c:\\python310\\lib\\site-packages (from tensorflow) (1.0.0)\n",
      "Requirement already satisfied: keras-preprocessing>=1.1.1 in c:\\python310\\lib\\site-packages (from tensorflow) (1.1.2)\n",
      "Requirement already satisfied: wheel<1.0,>=0.23.0 in c:\\python310\\lib\\site-packages (from astunparse>=1.6.0->tensorflow) (0.37.1)\n",
      "Requirement already satisfied: tensorboard-data-server<0.7.0,>=0.6.0 in c:\\python310\\lib\\site-packages (from tensorboard<2.9,>=2.8->tensorflow) (0.6.1)\n",
      "Requirement already satisfied: markdown>=2.6.8 in c:\\python310\\lib\\site-packages (from tensorboard<2.9,>=2.8->tensorflow) (3.3.6)\n",
      "Requirement already satisfied: google-auth-oauthlib<0.5,>=0.4.1 in c:\\python310\\lib\\site-packages (from tensorboard<2.9,>=2.8->tensorflow) (0.4.6)\n",
      "Requirement already satisfied: google-auth<3,>=1.6.3 in c:\\python310\\lib\\site-packages (from tensorboard<2.9,>=2.8->tensorflow) (2.6.6)\n",
      "Requirement already satisfied: requests<3,>=2.21.0 in c:\\python310\\lib\\site-packages (from tensorboard<2.9,>=2.8->tensorflow) (2.27.1)\n",
      "Requirement already satisfied: tensorboard-plugin-wit>=1.6.0 in c:\\python310\\lib\\site-packages (from tensorboard<2.9,>=2.8->tensorflow) (1.8.1)\n",
      "Requirement already satisfied: werkzeug>=0.11.15 in c:\\python310\\lib\\site-packages (from tensorboard<2.9,>=2.8->tensorflow) (2.1.2)\n",
      "Requirement already satisfied: cachetools<6.0,>=2.0.0 in c:\\python310\\lib\\site-packages (from google-auth<3,>=1.6.3->tensorboard<2.9,>=2.8->tensorflow) (5.0.0)\n",
      "Requirement already satisfied: pyasn1-modules>=0.2.1 in c:\\python310\\lib\\site-packages (from google-auth<3,>=1.6.3->tensorboard<2.9,>=2.8->tensorflow) (0.2.8)\n",
      "Requirement already satisfied: rsa<5,>=3.1.4 in c:\\python310\\lib\\site-packages (from google-auth<3,>=1.6.3->tensorboard<2.9,>=2.8->tensorflow) (4.8)\n",
      "Requirement already satisfied: requests-oauthlib>=0.7.0 in c:\\python310\\lib\\site-packages (from google-auth-oauthlib<0.5,>=0.4.1->tensorboard<2.9,>=2.8->tensorflow) (1.3.1)\n",
      "Requirement already satisfied: certifi>=2017.4.17 in c:\\python310\\lib\\site-packages (from requests<3,>=2.21.0->tensorboard<2.9,>=2.8->tensorflow) (2021.10.8)\n",
      "Requirement already satisfied: idna<4,>=2.5 in c:\\python310\\lib\\site-packages (from requests<3,>=2.21.0->tensorboard<2.9,>=2.8->tensorflow) (3.3)\n",
      "Requirement already satisfied: charset-normalizer~=2.0.0 in c:\\python310\\lib\\site-packages (from requests<3,>=2.21.0->tensorboard<2.9,>=2.8->tensorflow) (2.0.12)\n",
      "Requirement already satisfied: urllib3<1.27,>=1.21.1 in c:\\python310\\lib\\site-packages (from requests<3,>=2.21.0->tensorboard<2.9,>=2.8->tensorflow) (1.26.9)\n",
      "Requirement already satisfied: pyasn1<0.5.0,>=0.4.6 in c:\\python310\\lib\\site-packages (from pyasn1-modules>=0.2.1->google-auth<3,>=1.6.3->tensorboard<2.9,>=2.8->tensorflow) (0.4.8)\n",
      "Requirement already satisfied: oauthlib>=3.0.0 in c:\\python310\\lib\\site-packages (from requests-oauthlib>=0.7.0->google-auth-oauthlib<0.5,>=0.4.1->tensorboard<2.9,>=2.8->tensorflow) (3.2.0)\n",
      "Note: you may need to restart the kernel to use updated packages.\n"
     ]
    }
   ],
   "source": [
    "pip install --upgrade tensorflow"
   ]
  },
  {
   "cell_type": "code",
   "execution_count": 4,
   "id": "26dfe546",
   "metadata": {},
   "outputs": [
    {
     "name": "stdout",
     "output_type": "stream",
     "text": [
      "2.8.0\n"
     ]
    }
   ],
   "source": [
    "# Check the TensorFlow version\n",
    "import tensorflow as tf\n",
    "print(tf.__version__)"
   ]
  },
  {
   "cell_type": "markdown",
   "id": "a8e81bea",
   "metadata": {},
   "source": [
    "Importing Required Libraries"
   ]
  },
  {
   "cell_type": "code",
   "execution_count": 5,
   "id": "dc73de0c",
   "metadata": {},
   "outputs": [],
   "source": [
    "# Importing the required libraries\n",
    "import seaborn as sns\n",
    "import pandas as pd\n",
    "import numpy as np\n",
    "from tensorflow.keras.layers import Dense, Dropout, Activation\n",
    "from tensorflow.keras.models import Model, Sequential\n",
    "from tensorflow.keras.optimizers import Adam"
   ]
  },
  {
   "cell_type": "markdown",
   "id": "59c8a666",
   "metadata": {},
   "source": [
    "Importing the Dataset"
   ]
  },
  {
   "cell_type": "code",
   "execution_count": 6,
   "id": "42e1fed6",
   "metadata": {},
   "outputs": [
    {
     "data": {
      "text/html": [
       "<div>\n",
       "<style scoped>\n",
       "    .dataframe tbody tr th:only-of-type {\n",
       "        vertical-align: middle;\n",
       "    }\n",
       "\n",
       "    .dataframe tbody tr th {\n",
       "        vertical-align: top;\n",
       "    }\n",
       "\n",
       "    .dataframe thead th {\n",
       "        text-align: right;\n",
       "    }\n",
       "</style>\n",
       "<table border=\"1\" class=\"dataframe\">\n",
       "  <thead>\n",
       "    <tr style=\"text-align: right;\">\n",
       "      <th></th>\n",
       "      <th>variance</th>\n",
       "      <th>skewness</th>\n",
       "      <th>curtosis</th>\n",
       "      <th>entropy</th>\n",
       "      <th>class</th>\n",
       "    </tr>\n",
       "  </thead>\n",
       "  <tbody>\n",
       "    <tr>\n",
       "      <th>0</th>\n",
       "      <td>3.62160</td>\n",
       "      <td>8.6661</td>\n",
       "      <td>-2.8073</td>\n",
       "      <td>-0.44699</td>\n",
       "      <td>0</td>\n",
       "    </tr>\n",
       "    <tr>\n",
       "      <th>1</th>\n",
       "      <td>4.54590</td>\n",
       "      <td>8.1674</td>\n",
       "      <td>-2.4586</td>\n",
       "      <td>-1.46210</td>\n",
       "      <td>0</td>\n",
       "    </tr>\n",
       "    <tr>\n",
       "      <th>2</th>\n",
       "      <td>3.86600</td>\n",
       "      <td>-2.6383</td>\n",
       "      <td>1.9242</td>\n",
       "      <td>0.10645</td>\n",
       "      <td>0</td>\n",
       "    </tr>\n",
       "    <tr>\n",
       "      <th>3</th>\n",
       "      <td>3.45660</td>\n",
       "      <td>9.5228</td>\n",
       "      <td>-4.0112</td>\n",
       "      <td>-3.59440</td>\n",
       "      <td>0</td>\n",
       "    </tr>\n",
       "    <tr>\n",
       "      <th>4</th>\n",
       "      <td>0.32924</td>\n",
       "      <td>-4.4552</td>\n",
       "      <td>4.5718</td>\n",
       "      <td>-0.98880</td>\n",
       "      <td>0</td>\n",
       "    </tr>\n",
       "  </tbody>\n",
       "</table>\n",
       "</div>"
      ],
      "text/plain": [
       "   variance  skewness  curtosis  entropy  class\n",
       "0   3.62160    8.6661   -2.8073 -0.44699      0\n",
       "1   4.54590    8.1674   -2.4586 -1.46210      0\n",
       "2   3.86600   -2.6383    1.9242  0.10645      0\n",
       "3   3.45660    9.5228   -4.0112 -3.59440      0\n",
       "4   0.32924   -4.4552    4.5718 -0.98880      0"
      ]
     },
     "execution_count": 6,
     "metadata": {},
     "output_type": "execute_result"
    }
   ],
   "source": [
    "# Reading the data from CSV file\n",
    "url = \"https://raw.githubusercontent.com/duochen/Python-MachineLearning/master/Reference/PythonMachineLearningforBeginners/Data/banknote.csv\"\n",
    "banknote_data = pd.read_csv(url)\n",
    "\n",
    "# Print the first five rows of the dataset\n",
    "banknote_data.head()"
   ]
  },
  {
   "cell_type": "code",
   "execution_count": 7,
   "id": "57f54075",
   "metadata": {},
   "outputs": [
    {
     "data": {
      "text/plain": [
       "(1372, 5)"
      ]
     },
     "execution_count": 7,
     "metadata": {},
     "output_type": "execute_result"
    }
   ],
   "source": [
    "# Print the shape of our dataset\n",
    "banknote_data.shape"
   ]
  },
  {
   "cell_type": "code",
   "execution_count": 8,
   "id": "a8b1983e",
   "metadata": {},
   "outputs": [],
   "source": [
    "# The output shows that our dataset has 1372 rows and 5 columns"
   ]
  },
  {
   "cell_type": "code",
   "execution_count": 9,
   "id": "e9f20c63",
   "metadata": {},
   "outputs": [
    {
     "data": {
      "text/plain": [
       "<AxesSubplot:xlabel='class', ylabel='count'>"
      ]
     },
     "execution_count": 9,
     "metadata": {},
     "output_type": "execute_result"
    },
    {
     "data": {
      "image/png": "[encoded data removed]",
      "text/plain": [
       "<Figure size 432x288 with 1 Axes>"
      ]
     },
     "metadata": {
      "needs_background": "light"
     },
     "output_type": "display_data"
    }
   ],
   "source": [
    "# Let’s plot a count plot to see the distribution of data with respect to \n",
    "# the values in the class that we want to predict.\n",
    "sns.countplot(x='class', data=banknote_data)"
   ]
  },
  {
   "cell_type": "code",
   "execution_count": 10,
   "id": "4dc239a4",
   "metadata": {},
   "outputs": [],
   "source": [
    "# The output shows that the number of fake notes (represented by 1) is slightly less than the number \n",
    "# of original banknotes."
   ]
  },
  {
   "cell_type": "code",
   "execution_count": 11,
   "id": "589759fa",
   "metadata": {},
   "outputs": [
    {
     "name": "stdout",
     "output_type": "stream",
     "text": [
      "(1372, 4)\n",
      "(1372, 1)\n"
     ]
    }
   ],
   "source": [
    "# The task is to predict the values for the “class” column, based on the values in the first four \n",
    "# columns. Let’s divide our data into features and target labels\n",
    "X = banknote_data.drop(['class'], axis=1).values\n",
    "y = banknote_data[['class']].values\n",
    "\n",
    "print(X.shape)\n",
    "print(y.shape)"
   ]
  },
  {
   "cell_type": "code",
   "execution_count": 12,
   "id": "173a6d70",
   "metadata": {},
   "outputs": [],
   "source": [
    "# The variable X contains our feature set while the variable y contains class labels."
   ]
  },
  {
   "cell_type": "markdown",
   "id": "0b1a3ac4",
   "metadata": {},
   "source": [
    "Dividing Data into Training and Test Sets"
   ]
  },
  {
   "cell_type": "code",
   "execution_count": 13,
   "id": "d18d1b80",
   "metadata": {},
   "outputs": [],
   "source": [
    "# We will divide the total data into an 80 percent training set and a 20 percent test set.\n",
    "from sklearn.model_selection import train_test_split\n",
    "\n",
    "X_train, X_test, y_train, y_test = train_test_split(X, y, test_size=0.20, random_state=42)"
   ]
  },
  {
   "cell_type": "code",
   "execution_count": 14,
   "id": "e4654ede",
   "metadata": {},
   "outputs": [],
   "source": [
    "# Before training the model, it is always a good practice to scale your data.\n",
    "from sklearn.preprocessing import StandardScaler\n",
    "\n",
    "sc = StandardScaler()\n",
    "X_train = sc.fit_transform(X_train)\n",
    "X_test = sc.transform(X_test)"
   ]
  },
  {
   "cell_type": "markdown",
   "id": "a6c80ea5",
   "metadata": {},
   "source": [
    "Creating a Neural Network"
   ]
  },
  {
   "cell_type": "code",
   "execution_count": 15,
   "id": "2d14cbdb",
   "metadata": {},
   "outputs": [],
   "source": [
    "# To create a neural network, you can use the Sequentialclass from the tensorflow.keras.models module.\n",
    "# To add layers to your model, you simply need to call the add method and pass your layer to it. \n",
    "# To create a dense layer, you can use the Dense class.\n",
    "\n",
    "def create_model(learning_rate, dropout_rate):\n",
    "    # Create sequential model\n",
    "    model = Sequential()\n",
    "    # Add dense layers\n",
    "    model.add(Dense(12, input_dim=X_train.shape[1], activation='relu'))\n",
    "    model.add(Dropout(dropout_rate))\n",
    "    model.add(Dense(6, activation='relu'))\n",
    "    model.add(Dropout(dropout_rate))\n",
    "    model.add(Dense(1, activation='relu'))\n",
    "    model.add(Dropout(dropout_rate))\n",
    "    # Compile the model\n",
    "    adam = Adam(learning_rate=learning_rate)\n",
    "    model.compile(loss='binary_crossentropy', optimizer=adam, metrics=['accuracy'])\n",
    "    return model"
   ]
  },
  {
   "cell_type": "code",
   "execution_count": 16,
   "id": "b0ba1325",
   "metadata": {},
   "outputs": [],
   "source": [
    "# Next, we need to define the default dropout rate, learning rate batch size,and the number of epochs.\n",
    "# The number of epochs refers to the number of times the whole dataset is used for training, \n",
    "# and the batch size refers to the number of records, after which the weights are updated.\n",
    "dropout_rate = 0.1\n",
    "epochs = 20\n",
    "batch_size = 4\n",
    "learn_rate = 0.001"
   ]
  },
  {
   "cell_type": "code",
   "execution_count": 17,
   "id": "1c11aae6",
   "metadata": {},
   "outputs": [],
   "source": [
    "# Create our model\n",
    "model = create_model(learn_rate, dropout_rate)"
   ]
  },
  {
   "cell_type": "code",
   "execution_count": 18,
   "id": "183174a0",
   "metadata": {},
   "outputs": [],
   "source": [
    "# pip install pydot"
   ]
  },
  {
   "cell_type": "code",
   "execution_count": 19,
   "id": "d36ce85d",
   "metadata": {},
   "outputs": [],
   "source": [
    "# download graphviz from https://graphviz.org/download/ and run installer and add it to the path"
   ]
  },
  {
   "cell_type": "code",
   "execution_count": 20,
   "id": "011cff6c",
   "metadata": {},
   "outputs": [
    {
     "data": {
      "image/png": "[encoded data removed]",
      "text/plain": [
       "<IPython.core.display.Image object>"
      ]
     },
     "execution_count": 20,
     "metadata": {},
     "output_type": "execute_result"
    }
   ],
   "source": [
    "# See your model architecture via the plot_model() method of thetensorflow.keras.utils module.\n",
    "from tensorflow.keras.utils import plot_model\n",
    "\n",
    "plot_model(model, to_file='model_plot1.png', show_shapes=True, show_layer_names=True)"
   ]
  },
  {
   "cell_type": "code",
   "execution_count": null,
   "id": "96b4508c",
   "metadata": {},
   "outputs": [],
   "source": [
    "# From the above output, you can see that the input layer contains four nodes, \n",
    "# the input to the first dense layers is 4, while the output is 12.\n",
    "# Similarly, the input to the second dense layer is 12, while the output is 6.\n",
    "# Finally, in the last dense layer, the input is 6 nodes, while the output is 1 since\n",
    "# we are making a binary classification. Also, you can see a dropout layer after each dense layer."
   ]
  },
  {
   "cell_type": "code",
   "execution_count": 21,
   "id": "316dea39",
   "metadata": {},
   "outputs": [
    {
     "name": "stdout",
     "output_type": "stream",
     "text": [
      "Epoch 1/20\n",
      "220/220 [==============================] - 1s 3ms/step - loss: 2.1235 - accuracy: 0.6819 - val_loss: 0.3046 - val_accuracy: 0.9136\n",
      "Epoch 2/20\n",
      "220/220 [==============================] - 1s 2ms/step - loss: 0.9750 - accuracy: 0.8529 - val_loss: 0.1292 - val_accuracy: 0.9591\n",
      "Epoch 3/20\n",
      "220/220 [==============================] - 1s 3ms/step - loss: 0.8725 - accuracy: 0.8848 - val_loss: 0.0886 - val_accuracy: 0.9682\n",
      "Epoch 4/20\n",
      "220/220 [==============================] - 1s 3ms/step - loss: 0.7348 - accuracy: 0.9076 - val_loss: 0.0699 - val_accuracy: 0.9818\n",
      "Epoch 5/20\n",
      "220/220 [==============================] - 1s 2ms/step - loss: 0.8685 - accuracy: 0.8928 - val_loss: 0.0490 - val_accuracy: 0.9909\n",
      "Epoch 6/20\n",
      "220/220 [==============================] - 0s 2ms/step - loss: 0.8195 - accuracy: 0.9156 - val_loss: 0.0490 - val_accuracy: 0.9864\n",
      "Epoch 7/20\n",
      "220/220 [==============================] - 1s 2ms/step - loss: 0.9810 - accuracy: 0.9145 - val_loss: 0.0327 - val_accuracy: 1.0000\n",
      "Epoch 8/20\n",
      "220/220 [==============================] - 1s 2ms/step - loss: 0.8609 - accuracy: 0.9190 - val_loss: 0.0229 - val_accuracy: 1.0000\n",
      "Epoch 9/20\n",
      "220/220 [==============================] - 0s 2ms/step - loss: 0.6181 - accuracy: 0.9407 - val_loss: 0.0175 - val_accuracy: 1.0000\n",
      "Epoch 10/20\n",
      "220/220 [==============================] - 1s 2ms/step - loss: 0.7150 - accuracy: 0.9361 - val_loss: 0.0127 - val_accuracy: 1.0000\n",
      "Epoch 11/20\n",
      "220/220 [==============================] - 1s 2ms/step - loss: 0.6151 - accuracy: 0.9487 - val_loss: 0.0112 - val_accuracy: 1.0000\n",
      "Epoch 12/20\n",
      "220/220 [==============================] - 0s 2ms/step - loss: 0.6379 - accuracy: 0.9498 - val_loss: 0.0116 - val_accuracy: 1.0000\n",
      "Epoch 13/20\n",
      "220/220 [==============================] - 1s 2ms/step - loss: 0.7183 - accuracy: 0.9418 - val_loss: 0.0093 - val_accuracy: 1.0000\n",
      "Epoch 14/20\n",
      "220/220 [==============================] - 1s 2ms/step - loss: 0.8598 - accuracy: 0.9339 - val_loss: 0.0080 - val_accuracy: 1.0000\n",
      "Epoch 15/20\n",
      "220/220 [==============================] - 0s 2ms/step - loss: 0.8675 - accuracy: 0.9327 - val_loss: 0.0130 - val_accuracy: 0.9955\n",
      "Epoch 16/20\n",
      "220/220 [==============================] - 0s 2ms/step - loss: 0.7149 - accuracy: 0.9453 - val_loss: 0.0082 - val_accuracy: 0.9955\n",
      "Epoch 17/20\n",
      "220/220 [==============================] - 0s 2ms/step - loss: 0.5893 - accuracy: 0.9532 - val_loss: 0.0060 - val_accuracy: 0.9955\n",
      "Epoch 18/20\n",
      "220/220 [==============================] - 0s 2ms/step - loss: 0.6528 - accuracy: 0.9521 - val_loss: 0.0042 - val_accuracy: 1.0000\n",
      "Epoch 19/20\n",
      "220/220 [==============================] - 0s 2ms/step - loss: 0.7113 - accuracy: 0.9441 - val_loss: 0.0038 - val_accuracy: 1.0000\n",
      "Epoch 20/20\n",
      "220/220 [==============================] - 0s 2ms/step - loss: 0.5799 - accuracy: 0.9578 - val_loss: 0.0027 - val_accuracy: 1.0000\n"
     ]
    }
   ],
   "source": [
    "# To train the model, you need to call the fit method on the model object. The fit method takes \n",
    "# the training features and classes as parameters, along with the batch size, the number of epochs, \n",
    "# and the validation split. The validation split refers to the split in the training data \n",
    "# during training.\n",
    "model_history = model.fit(X_train, y_train, batch_size=batch_size, epochs=epochs, validation_split=0.2, verbose=1)"
   ]
  },
  {
   "cell_type": "code",
   "execution_count": 22,
   "id": "e4130c8e",
   "metadata": {},
   "outputs": [],
   "source": [
    "# Our neural network is now trained. The “val_accuracy” of 1.0 in the last epoch shows that on the \n",
    "# training set, our neural network is making predictions with 100 percent accuracy."
   ]
  },
  {
   "cell_type": "markdown",
   "id": "dde6a7a2",
   "metadata": {},
   "source": [
    "Evaluating the Neural Network Performance"
   ]
  },
  {
   "cell_type": "code",
   "execution_count": 23,
   "id": "954065e0",
   "metadata": {},
   "outputs": [
    {
     "name": "stdout",
     "output_type": "stream",
     "text": [
      "9/9 [==============================] - 0s 2ms/step - loss: 0.0044 - accuracy: 1.0000\n",
      "Test Score:  0.004383441526442766\n",
      "Test Accuracy:  1.0\n"
     ]
    }
   ],
   "source": [
    "# We can now evaluate its performance by making predictions on the test set.\n",
    "# To make predictions on the test set, you have to pass the set to the evaluate() method of the model.\n",
    "accuracies = model.evaluate(X_test, y_test, verbose=1)\n",
    "print('Test Score: ', accuracies[0])\n",
    "print('Test Accuracy: ', accuracies[1])"
   ]
  },
  {
   "cell_type": "code",
   "execution_count": 24,
   "id": "5873ca8d",
   "metadata": {},
   "outputs": [],
   "source": [
    "# The output shows an accuracy of 100 percent on the test set. \n",
    "# The loss value of 0.00438 is shown. Remember, lower the loss, higher the accuracy."
   ]
  },
  {
   "cell_type": "code",
   "execution_count": 26,
   "id": "baaaf79b",
   "metadata": {},
   "outputs": [
    {
     "data": {
      "text/plain": [
       "<matplotlib.legend.Legend at 0x20e59a11a50>"
      ]
     },
     "execution_count": 26,
     "metadata": {},
     "output_type": "execute_result"
    },
    {
     "data": {
      "image/png": "[encoded data removed]",
      "text/plain": [
       "<Figure size 432x288 with 1 Axes>"
      ]
     },
     "metadata": {
      "needs_background": "light"
     },
     "output_type": "display_data"
    }
   ],
   "source": [
    "# Let’s now plot the accuracy on the training and test sets to see if our model is over fitting or not.\n",
    "import matplotlib.pyplot as plt\n",
    "\n",
    "plt.plot(model_history.history['accuracy'], label='accuracy')\n",
    "plt.plot(model_history.history['val_accuracy'], label='val_accuracy')\n",
    "plt.legend(['train', 'test'])"
   ]
  },
  {
   "cell_type": "code",
   "execution_count": 27,
   "id": "128e5200",
   "metadata": {},
   "outputs": [],
   "source": [
    "# The above curve meets near 1 and then becomes stable which shows that our model is not overfitting."
   ]
  },
  {
   "cell_type": "code",
   "execution_count": 28,
   "id": "1d1ff267",
   "metadata": {},
   "outputs": [
    {
     "data": {
      "text/plain": [
       "<matplotlib.legend.Legend at 0x20e59a5bfd0>"
      ]
     },
     "execution_count": 28,
     "metadata": {},
     "output_type": "execute_result"
    },
    {
     "data": {
      "image/png": "[encoded data removed]",
      "text/plain": [
       "<Figure size 432x288 with 1 Axes>"
      ]
     },
     "metadata": {
      "needs_background": "light"
     },
     "output_type": "display_data"
    }
   ],
   "source": [
    "# Print the loss values for test and training sets\n",
    "plt.plot(model_history.history['loss'],label='loss')\n",
    "plt.plot(model_history.history['val_loss'],label='val_loss')\n",
    "plt.legend(['train', 'test'])"
   ]
  },
  {
   "cell_type": "code",
   "execution_count": 29,
   "id": "2611461d",
   "metadata": {},
   "outputs": [],
   "source": [
    "# And this is it. You have successfully trained a neural network for classification."
   ]
  },
  {
   "cell_type": "code",
   "execution_count": 61,
   "id": "bf83a1d9",
   "metadata": {},
   "outputs": [],
   "source": [
    "# The output shows that our algorithm has been able to partially capture the trend of the future \n",
    "# opening stock prices for Facebook data."
   ]
  },
  {
   "cell_type": "code",
   "execution_count": null,
   "id": "df474118",
   "metadata": {},
   "outputs": [],
   "source": []
  }
 ],
 "metadata": {
  "kernelspec": {
   "display_name": "Python 3 (ipykernel)",
   "language": "python",
   "name": "python3"
  },
  "language_info": {
   "codemirror_mode": {
    "name": "ipython",
    "version": 3
   },
   "file_extension": ".py",
   "mimetype": "text/x-python",
   "name": "python",
   "nbconvert_exporter": "python",
   "pygments_lexer": "ipython3",
   "version": "3.10.4"
  }
 },
 "nbformat": 4,
 "nbformat_minor": 5
}
