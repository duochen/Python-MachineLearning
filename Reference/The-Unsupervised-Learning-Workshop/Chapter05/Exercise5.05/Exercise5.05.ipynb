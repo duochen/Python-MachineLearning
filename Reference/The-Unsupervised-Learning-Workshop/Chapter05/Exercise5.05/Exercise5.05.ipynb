{
 "cells": [
  {
   "cell_type": "code",
   "execution_count": 1,
   "metadata": {},
   "outputs": [
    {
     "name": "stderr",
     "output_type": "stream",
     "text": [
      "Using TensorFlow backend.\n"
     ]
    }
   ],
   "source": [
    "import pickle\n",
    "import numpy as np\n",
    "import matplotlib.pyplot as plt\n",
    "from keras.models import Model\n",
    "from keras.layers import Input, Dense\n",
    "\n",
    "import tensorflow.python.util.deprecation as deprecation\n",
    "deprecation._PRINT_DEPRECATION_WARNINGS = False"
   ]
  },
  {
   "cell_type": "code",
   "execution_count": 2,
   "metadata": {},
   "outputs": [],
   "source": [
    "with open('data_batch_1', 'rb') as f:\n",
    "    batch_1 = pickle.load(f, encoding='bytes')"
   ]
  },
  {
   "cell_type": "code",
   "execution_count": 3,
   "metadata": {},
   "outputs": [],
   "source": [
    "images = np.zeros((10000, 32, 32, 3), dtype='uint8')\n",
    "\n",
    "for idx, img in enumerate(batch_1[b'data']):\n",
    "    images[idx, :, :, 0] = img[:1024].reshape((32, 32)) # Red\n",
    "    images[idx, :, :, 1] = img[1024:2048].reshape((32, 32)) # Green\n",
    "    images[idx, :, :, 2] = img[2048:].reshape((32, 32)) # Blue"
   ]
  },
  {
   "cell_type": "code",
   "execution_count": 4,
   "metadata": {},
   "outputs": [
    {
     "data": {
      "text/plain": [
       "array([[0.24052288, 0.1751634 , 0.18431373, ..., 0.70588235, 0.46143791,\n",
       "        0.3751634 ],\n",
       "       [0.67712418, 0.52156863, 0.39738562, ..., 0.54248366, 0.54771242,\n",
       "        0.54901961],\n",
       "       [1.        , 0.99215686, 0.99215686, ..., 0.32156863, 0.32287582,\n",
       "        0.32679739],\n",
       "       ...,\n",
       "       [0.25098039, 0.21437908, 0.27843137, ..., 0.28888889, 0.29673203,\n",
       "        0.29934641],\n",
       "       [0.99346405, 0.99477124, 0.85620915, ..., 0.8379085 , 1.        ,\n",
       "        0.99738562],\n",
       "       [0.1620915 , 0.16078431, 0.15816993, ..., 0.64705882, 0.64705882,\n",
       "        0.64836601]])"
      ]
     },
     "execution_count": 4,
     "metadata": {},
     "output_type": "execute_result"
    }
   ],
   "source": [
    "images = images.mean(axis=-1)\n",
    "images = images / 255.0\n",
    "images = images.reshape((-1, 32 ** 2))\n",
    "images"
   ]
  },
  {
   "cell_type": "code",
   "execution_count": 5,
   "metadata": {},
   "outputs": [],
   "source": [
    "input_layer = Input(shape=(1024,))"
   ]
  },
  {
   "cell_type": "code",
   "execution_count": 6,
   "metadata": {},
   "outputs": [],
   "source": [
    "encoding_stage = Dense(256, activation='relu')(input_layer)"
   ]
  },
  {
   "cell_type": "code",
   "execution_count": 7,
   "metadata": {},
   "outputs": [],
   "source": [
    "decoding_stage = Dense(1024, activation='sigmoid')(encoding_stage)"
   ]
  },
  {
   "cell_type": "code",
   "execution_count": 8,
   "metadata": {},
   "outputs": [],
   "source": [
    "autoencoder = Model(input_layer, decoding_stage)"
   ]
  },
  {
   "cell_type": "code",
   "execution_count": 9,
   "metadata": {},
   "outputs": [],
   "source": [
    "autoencoder.compile(loss='binary_crossentropy',\n",
    "              optimizer='adadelta')"
   ]
  },
  {
   "cell_type": "code",
   "execution_count": 10,
   "metadata": {},
   "outputs": [
    {
     "name": "stdout",
     "output_type": "stream",
     "text": [
      "Epoch 1/100\n",
      "10000/10000 [==============================] - 18s 2ms/step - loss: 0.6857\n",
      "Epoch 2/100\n",
      "10000/10000 [==============================] - 15s 2ms/step - loss: 0.6642\n",
      "Epoch 3/100\n",
      "10000/10000 [==============================] - 15s 2ms/step - loss: 0.6519\n",
      "Epoch 4/100\n",
      "10000/10000 [==============================] - 15s 1ms/step - loss: 0.6454\n",
      "Epoch 5/100\n",
      "10000/10000 [==============================] - 15s 1ms/step - loss: 0.6391\n",
      "Epoch 6/100\n",
      "10000/10000 [==============================] - 15s 2ms/step - loss: 0.6336\n",
      "Epoch 7/100\n",
      "10000/10000 [==============================] - 15s 2ms/step - loss: 0.6291\n",
      "Epoch 8/100\n",
      "10000/10000 [==============================] - 16s 2ms/step - loss: 0.6250\n",
      "Epoch 9/100\n",
      "10000/10000 [==============================] - 15s 2ms/step - loss: 0.6211\n",
      "Epoch 10/100\n",
      "10000/10000 [==============================] - 15s 2ms/step - loss: 0.6170\n",
      "Epoch 11/100\n",
      "10000/10000 [==============================] - 15s 2ms/step - loss: 0.6129\n",
      "Epoch 12/100\n",
      "10000/10000 [==============================] - 15s 2ms/step - loss: 0.6093\n",
      "Epoch 13/100\n",
      "10000/10000 [==============================] - 15s 2ms/step - loss: 0.6080\n",
      "Epoch 14/100\n",
      "10000/10000 [==============================] - 15s 1ms/step - loss: 0.6064\n",
      "Epoch 15/100\n",
      "10000/10000 [==============================] - 15s 2ms/step - loss: 0.6058\n",
      "Epoch 16/100\n",
      "10000/10000 [==============================] - 15s 2ms/step - loss: 0.6042\n",
      "Epoch 17/100\n",
      "10000/10000 [==============================] - 15s 1ms/step - loss: 0.6024: 1s - ETA: 0s - loss: 0.\n",
      "Epoch 18/100\n",
      "10000/10000 [==============================] - 15s 1ms/step - loss: 0.6010\n",
      "Epoch 19/100\n",
      "10000/10000 [==============================] - 15s 2ms/step - loss: 0.6000\n",
      "Epoch 20/100\n",
      "10000/10000 [==============================] - 15s 2ms/step - loss: 0.5996\n",
      "Epoch 21/100\n",
      "10000/10000 [==============================] - 15s 1ms/step - loss: 0.5976\n",
      "Epoch 22/100\n",
      "10000/10000 [==============================] - 15s 2ms/step - loss: 0.5973\n",
      "Epoch 23/100\n",
      "10000/10000 [==============================] - 15s 2ms/step - loss: 0.5953\n",
      "Epoch 24/100\n",
      "10000/10000 [==============================] - 15s 2ms/step - loss: 0.5956\n",
      "Epoch 25/100\n",
      "10000/10000 [==============================] - 15s 1ms/step - loss: 0.5944\n",
      "Epoch 26/100\n",
      "10000/10000 [==============================] - 15s 2ms/step - loss: 0.5936\n",
      "Epoch 27/100\n",
      "10000/10000 [==============================] - 15s 1ms/step - loss: 0.5933: 0s - lo\n",
      "Epoch 28/100\n",
      "10000/10000 [==============================] - 15s 1ms/step - loss: 0.5925\n",
      "Epoch 29/100\n",
      "10000/10000 [==============================] - 15s 1ms/step - loss: 0.5912\n",
      "Epoch 30/100\n",
      "10000/10000 [==============================] - 15s 1ms/step - loss: 0.5910\n",
      "Epoch 31/100\n",
      "10000/10000 [==============================] - 15s 2ms/step - loss: 0.5908\n",
      "Epoch 32/100\n",
      "10000/10000 [==============================] - 15s 2ms/step - loss: 0.5905\n",
      "Epoch 33/100\n",
      "10000/10000 [==============================] - 15s 2ms/step - loss: 0.5896\n",
      "Epoch 34/100\n",
      "10000/10000 [==============================] - 15s 2ms/step - loss: 0.5887\n",
      "Epoch 35/100\n",
      "10000/10000 [==============================] - 15s 2ms/step - loss: 0.5888\n",
      "Epoch 36/100\n",
      "10000/10000 [==============================] - 15s 2ms/step - loss: 0.5881\n",
      "Epoch 37/100\n",
      "10000/10000 [==============================] - 15s 2ms/step - loss: 0.5881: 1\n",
      "Epoch 38/100\n",
      "10000/10000 [==============================] - 15s 2ms/step - loss: 0.5870\n",
      "Epoch 39/100\n",
      "10000/10000 [==============================] - 16s 2ms/step - loss: 0.5872\n",
      "Epoch 40/100\n",
      "10000/10000 [==============================] - 15s 2ms/step - loss: 0.5866\n",
      "Epoch 41/100\n",
      "10000/10000 [==============================] - 15s 1ms/step - loss: 0.5865\n",
      "Epoch 42/100\n",
      "10000/10000 [==============================] - 9s 876us/step - loss: 0.5858\n",
      "Epoch 43/100\n",
      "10000/10000 [==============================] - 9s 877us/step - loss: 0.5855\n",
      "Epoch 44/100\n",
      "10000/10000 [==============================] - 8s 833us/step - loss: 0.5857\n",
      "Epoch 45/100\n",
      "10000/10000 [==============================] - 9s 885us/step - loss: 0.5851\n",
      "Epoch 46/100\n",
      "10000/10000 [==============================] - 8s 828us/step - loss: 0.5848\n",
      "Epoch 47/100\n",
      "10000/10000 [==============================] - 8s 795us/step - loss: 0.5847\n",
      "Epoch 48/100\n",
      "10000/10000 [==============================] - 9s 912us/step - loss: 0.5846\n",
      "Epoch 49/100\n",
      "10000/10000 [==============================] - 9s 881us/step - loss: 0.5841\n",
      "Epoch 50/100\n",
      "10000/10000 [==============================] - 9s 879us/step - loss: 0.5842\n",
      "Epoch 51/100\n",
      "10000/10000 [==============================] - 9s 878us/step - loss: 0.5833 0s - loss: 0.58\n",
      "Epoch 52/100\n",
      "10000/10000 [==============================] - 9s 866us/step - loss: 0.5831\n",
      "Epoch 53/100\n",
      "10000/10000 [==============================] - 9s 854us/step - loss: 0.5837\n",
      "Epoch 54/100\n",
      "10000/10000 [==============================] - 8s 844us/step - loss: 0.5832 0s - - ETA: 0s - loss: 0.58\n",
      "Epoch 55/100\n",
      "10000/10000 [==============================] - 8s 834us/step - loss: 0.5823\n",
      "Epoch 56/100\n",
      "10000/10000 [==============================] - 8s 837us/step - loss: 0.5828\n",
      "Epoch 57/100\n",
      "10000/10000 [==============================] - 8s 832us/step - loss: 0.5825\n",
      "Epoch 58/100\n",
      "10000/10000 [==============================] - 8s 846us/step - loss: 0.5823\n",
      "Epoch 59/100\n",
      "10000/10000 [==============================] - 8s 828us/step - loss: 0.5819 0s - loss\n",
      "Epoch 60/100\n",
      "10000/10000 [==============================] - 9s 859us/step - loss: 0.5822 0s - loss: 0.58\n",
      "Epoch 61/100\n",
      "10000/10000 [==============================] - 9s 854us/step - loss: 0.5815\n",
      "Epoch 62/100\n",
      "10000/10000 [==============================] - 8s 831us/step - loss: 0.5818\n",
      "Epoch 63/100\n",
      "10000/10000 [==============================] - 8s 841us/step - loss: 0.5815\n",
      "Epoch 64/100\n",
      "10000/10000 [==============================] - 9s 868us/step - loss: 0.5812 0s - loss: 0.58\n",
      "Epoch 65/100\n",
      "10000/10000 [==============================] - 9s 857us/step - loss: 0.5812\n",
      "Epoch 66/100\n",
      "10000/10000 [==============================] - 9s 858us/step - loss: 0.5807\n",
      "Epoch 67/100\n",
      "10000/10000 [==============================] - 8s 849us/step - loss: 0.5808\n",
      "Epoch 68/100\n",
      "10000/10000 [==============================] - 9s 867us/step - loss: 0.5805 0s - los\n",
      "Epoch 69/100\n",
      "10000/10000 [==============================] - 9s 851us/step - loss: 0.5806\n",
      "Epoch 70/100\n",
      "10000/10000 [==============================] - 9s 862us/step - loss: 0.5803\n",
      "Epoch 71/100\n",
      "10000/10000 [==============================] - 9s 872us/step - loss: 0.5801\n",
      "Epoch 72/100\n",
      "10000/10000 [==============================] - 9s 879us/step - loss: 0.5800 0s - loss: 0.579 - ETA: 0s -\n",
      "Epoch 73/100\n",
      "10000/10000 [==============================] - 9s 872us/step - loss: 0.5804\n",
      "Epoch 74/100\n",
      "10000/10000 [==============================] - 9s 950us/step - loss: 0.5804\n",
      "Epoch 75/100\n",
      "10000/10000 [==============================] - 9s 878us/step - loss: 0.5798\n",
      "Epoch 76/100\n",
      "10000/10000 [==============================] - 9s 858us/step - loss: 0.5797 0s - loss: 0.57\n",
      "Epoch 77/100\n",
      "10000/10000 [==============================] - 9s 877us/step - loss: 0.5797\n",
      "Epoch 78/100\n",
      "10000/10000 [==============================] - 9s 868us/step - loss: 0.5797\n",
      "Epoch 79/100\n",
      "10000/10000 [==============================] - 9s 857us/step - loss: 0.5793\n",
      "Epoch 80/100\n",
      "10000/10000 [==============================] - 8s 842us/step - loss: 0.5791\n",
      "Epoch 81/100\n",
      "10000/10000 [==============================] - 8s 849us/step - loss: 0.5792\n",
      "Epoch 82/100\n",
      "10000/10000 [==============================] - 9s 857us/step - loss: 0.5791\n",
      "Epoch 83/100\n",
      "10000/10000 [==============================] - 9s 858us/step - loss: 0.5788\n",
      "Epoch 84/100\n",
      "10000/10000 [==============================] - 9s 851us/step - loss: 0.5788 1s - l - ETA\n",
      "Epoch 85/100\n",
      "10000/10000 [==============================] - 9s 851us/step - loss: 0.5789\n",
      "Epoch 86/100\n",
      "10000/10000 [==============================] - 8s 847us/step - loss: 0.5787\n",
      "Epoch 87/100\n",
      "10000/10000 [==============================] - 9s 901us/step - loss: 0.5787 ETA: 1s - los\n",
      "Epoch 88/100\n",
      "10000/10000 [==============================] - 9s 867us/step - loss: 0.5784\n",
      "Epoch 89/100\n",
      "10000/10000 [==============================] - 8s 839us/step - loss: 0.5784\n",
      "Epoch 90/100\n",
      "10000/10000 [==============================] - 9s 852us/step - loss: 0.5782\n",
      "Epoch 91/100\n"
     ]
    },
    {
     "name": "stdout",
     "output_type": "stream",
     "text": [
      "10000/10000 [==============================] - 9s 867us/step - loss: 0.5783\n",
      "Epoch 92/100\n",
      "10000/10000 [==============================] - 9s 925us/step - loss: 0.5782\n",
      "Epoch 93/100\n",
      "10000/10000 [==============================] - 9s 916us/step - loss: 0.5782\n",
      "Epoch 94/100\n",
      "10000/10000 [==============================] - 10s 961us/step - loss: 0.5780\n",
      "Epoch 95/100\n",
      "10000/10000 [==============================] - 10s 1ms/step - loss: 0.5778: 1\n",
      "Epoch 96/100\n",
      "10000/10000 [==============================] - 9s 894us/step - loss: 0.5777\n",
      "Epoch 97/100\n",
      "10000/10000 [==============================] - 9s 933us/step - loss: 0.5778\n",
      "Epoch 98/100\n",
      "10000/10000 [==============================] - 9s 904us/step - loss: 0.5776 0s\n",
      "Epoch 99/100\n",
      "10000/10000 [==============================] - 9s 860us/step - loss: 0.5776\n",
      "Epoch 100/100\n",
      "10000/10000 [==============================] - 10s 952us/step - loss: 0.5774\n"
     ]
    },
    {
     "data": {
      "text/plain": [
       "<keras.callbacks.History at 0x2c8993af888>"
      ]
     },
     "execution_count": 10,
     "metadata": {},
     "output_type": "execute_result"
    }
   ],
   "source": [
    "autoencoder.fit(images, images, epochs=100)"
   ]
  },
  {
   "cell_type": "code",
   "execution_count": 11,
   "metadata": {},
   "outputs": [],
   "source": [
    "encoder_output = Model(input_layer, encoding_stage).predict(images[:5])"
   ]
  },
  {
   "cell_type": "code",
   "execution_count": 12,
   "metadata": {},
   "outputs": [],
   "source": [
    "encoder_output = encoder_output.reshape((-1, 16, 16)) * 255"
   ]
  },
  {
   "cell_type": "code",
   "execution_count": 13,
   "metadata": {},
   "outputs": [],
   "source": [
    "decoder_output = autoencoder.predict(images[:5])"
   ]
  },
  {
   "cell_type": "code",
   "execution_count": 14,
   "metadata": {},
   "outputs": [],
   "source": [
    "decoder_output = decoder_output.reshape((-1, 32,32)) * 255"
   ]
  },
  {
   "cell_type": "code",
   "execution_count": 15,
   "metadata": {},
   "outputs": [],
   "source": [
    "images = images.reshape((-1, 32, 32))"
   ]
  },
  {
   "cell_type": "code",
   "execution_count": 16,
   "metadata": {},
   "outputs": [
    {
     "data": {
      "image/png": "[encoded data removed]",
      "text/plain": [
       "<Figure size 720x504 with 15 Axes>"
      ]
     },
     "metadata": {
      "needs_background": "light"
     },
     "output_type": "display_data"
    }
   ],
   "source": [
    "plt.figure(figsize=(10, 7))\n",
    "for i in range(5):\n",
    "    # Plot the original image\n",
    "    plt.subplot(3, 5, i + 1)\n",
    "    plt.imshow(images[i], cmap='gray')\n",
    "    plt.axis('off')\n",
    "    \n",
    "    # Plot the encoder output\n",
    "    plt.subplot(3, 5, i + 6)\n",
    "    plt.imshow(encoder_output[i], cmap='gray')\n",
    "    plt.axis('off')   \n",
    "    \n",
    "    # Plot the decoder output\n",
    "    plt.subplot(3, 5, i + 11)\n",
    "    plt.imshow(decoder_output[i], cmap='gray')\n",
    "    plt.axis('off')        "
   ]
  }
 ],
 "metadata": {
  "kernelspec": {
   "display_name": "Python 3",
   "language": "python",
   "name": "python3"
  },
  "language_info": {
   "codemirror_mode": {
    "name": "ipython",
    "version": 3
   },
   "file_extension": ".py",
   "mimetype": "text/x-python",
   "name": "python",
   "nbconvert_exporter": "python",
   "pygments_lexer": "ipython3",
   "version": "3.7.4"
  }
 },
 "nbformat": 4,
 "nbformat_minor": 2
}
