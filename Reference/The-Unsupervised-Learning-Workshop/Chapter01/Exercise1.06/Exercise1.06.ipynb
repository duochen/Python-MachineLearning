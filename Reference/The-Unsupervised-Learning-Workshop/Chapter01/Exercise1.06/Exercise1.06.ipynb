{
 "cells": [
  {
   "cell_type": "code",
   "execution_count": 7,
   "metadata": {},
   "outputs": [],
   "source": [
    "import pandas as pd\n",
    "import numpy as np\n",
    "import matplotlib.pyplot as plt\n",
    "from sklearn.metrics import silhouette_score\n",
    "from scipy.spatial.distance import cdist\n",
    "\n",
    "np.random.seed(0)\n",
    "\n",
    "seeds = pd.read_csv('Seed_Data.csv')"
   ]
  },
  {
   "cell_type": "code",
   "execution_count": 2,
   "metadata": {},
   "outputs": [],
   "source": [
    "X = seeds[['A','P','C','LK','WK','A_Coef','LKG']]"
   ]
  },
  {
   "cell_type": "code",
   "execution_count": 3,
   "metadata": {},
   "outputs": [],
   "source": [
    "def k_means(X, K):\n",
    "#Keep track of history so you can see K-Means in action\n",
    "    centroids_history = []\n",
    "    labels_history = []\n",
    "    rand_index = np.random.choice(X.shape[0], K)  \n",
    "    centroids = X[rand_index]\n",
    "    centroids_history.append(centroids)\n",
    "    while True:\n",
    "# Euclidean distances are calculated for each point relative to centroids, #and then np.argmin returns\n",
    "# the index location of the minimal distance - which cluster a point is #assigned to\n",
    "        labels = np.argmin(cdist(X, centroids), axis=1)\n",
    "        labels_history.append(labels)\n",
    "#Take mean of points within clusters to find new centroids:\n",
    "        new_centroids = np.array([X[labels == i].mean(axis=0)\n",
    "                                for i in range(K)])\n",
    "        centroids_history.append(new_centroids)\n",
    "        \n",
    "# If old centroids and new centroids no longer change, K-Means is complete and end. Otherwise continue\n",
    "        if np.all(centroids == new_centroids):\n",
    "            break\n",
    "        centroids = new_centroids\n",
    "    \n",
    "    return centroids, labels, centroids_history, labels_history"
   ]
  },
  {
   "cell_type": "code",
   "execution_count": 4,
   "metadata": {},
   "outputs": [],
   "source": [
    "X_mat = X.values"
   ]
  },
  {
   "cell_type": "code",
   "execution_count": 5,
   "metadata": {},
   "outputs": [],
   "source": [
    "centroids, labels, centroids_history, labels_history = k_means(X_mat, 3)"
   ]
  },
  {
   "cell_type": "code",
   "execution_count": 6,
   "metadata": {},
   "outputs": [
    {
     "data": {
      "text/plain": [
       "0.5875704550892767"
      ]
     },
     "execution_count": 6,
     "metadata": {},
     "output_type": "execute_result"
    }
   ],
   "source": [
    "silhouette_score(X[['A','LK']], labels)"
   ]
  }
 ],
 "metadata": {
  "kernelspec": {
   "display_name": "Python 3",
   "language": "python",
   "name": "python3"
  },
  "language_info": {
   "codemirror_mode": {
    "name": "ipython",
    "version": 3
   },
   "file_extension": ".py",
   "mimetype": "text/x-python",
   "name": "python",
   "nbconvert_exporter": "python",
   "pygments_lexer": "ipython3",
   "version": "3.7.4"
  }
 },
 "nbformat": 4,
 "nbformat_minor": 2
}
