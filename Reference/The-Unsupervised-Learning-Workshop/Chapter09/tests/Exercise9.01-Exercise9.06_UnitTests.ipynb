{
 "cells": [
  {
   "cell_type": "markdown",
   "metadata": {},
   "source": [
    "# CH. 9 - Hotspot Analysis\n",
    "## Exercises"
   ]
  },
  {
   "cell_type": "markdown",
   "metadata": {},
   "source": [
    "#### Exercise 9.01: Effect of Bandwidth Value"
   ]
  },
  {
   "cell_type": "code",
   "execution_count": null,
   "metadata": {},
   "outputs": [],
   "source": [
    "get_ipython().run_line_magic('matplotlib', 'inline')\n",
    "\n",
    "import matplotlib.pyplot as plt\n",
    "import mpl_toolkits.basemap\n",
    "import numpy\n",
    "import pandas\n",
    "import scipy.stats\n",
    "import seaborn\n",
    "import sklearn.model_selection\n",
    "import sklearn.neighbors\n",
    "\n",
    "seaborn.set()"
   ]
  },
  {
   "cell_type": "code",
   "execution_count": null,
   "metadata": {},
   "outputs": [],
   "source": [
    "# generate x vector for plotting\n",
    "# the range of the density being estimated\n",
    "\n",
    "x_vec = numpy.linspace(-30, 30, 10000)[:, numpy.newaxis]"
   ]
  },
  {
   "cell_type": "code",
   "execution_count": null,
   "metadata": {},
   "outputs": [],
   "source": [
    "# generate random sample\n",
    "# mixture of three normal distributions\n",
    "\n",
    "numpy.random.seed(42)\n",
    "\n",
    "vals = numpy.concatenate((\n",
    "    numpy.random.normal(loc=1, scale=2.5, size=500), \n",
    "    numpy.random.normal(loc=10, scale=4, size=500), \n",
    "    numpy.random.normal(loc=-12, scale=5, size=500)\n",
    "))[:, numpy.newaxis]\n",
    "\n",
    "true_density = (\n",
    "    (1 / 3) * scipy.stats.norm(1, 2.5).pdf(x_vec[:, 0]) + \n",
    "    (1 / 3) * scipy.stats.norm(10, 4).pdf(x_vec[:, 0]) +\n",
    "    (1 / 3) * scipy.stats.norm(-12, 5).pdf(x_vec[:, 0])\n",
    ")"
   ]
  },
  {
   "cell_type": "code",
   "execution_count": null,
   "metadata": {},
   "outputs": [],
   "source": [
    "# for plotting:\n",
    "# (row of plot, column of plot, bandwidth value)\n",
    "\n",
    "position_bandwidth_vec = [\n",
    "    (0, 0, 0.1), (0, 1, 0.4), (0, 2, 0.7), \n",
    "    (1, 0, 1.0), (1, 1, 1.3), (1, 2, 1.6), \n",
    "    (2, 0, 1.9), (2, 1, 2.5), (2, 2, 5.0)\n",
    "]"
   ]
  },
  {
   "cell_type": "code",
   "execution_count": null,
   "metadata": {},
   "outputs": [],
   "source": [
    "# effect of bandwidth value plot\n",
    "\n",
    "fig, ax = plt.subplots(3, 3, sharex=True, sharey=True, figsize=(12, 9))\n",
    "fig.suptitle('The Effect of the Bandwidth Value', fontsize=16)\n",
    "\n",
    "for r, c, b in position_bandwidth_vec:\n",
    "    kde = sklearn.neighbors.KernelDensity(bandwidth=b).fit(vals)\n",
    "    log_density = kde.score_samples(x_vec)\n",
    "\n",
    "    ax[r, c].hist(vals, bins=50, density=True, alpha=0.5)\n",
    "    ax[r, c].plot(x_vec[:, 0], numpy.exp(log_density), '-', linewidth=2)\n",
    "    ax[r, c].set_title('Bandwidth = {}'.format(b))\n",
    "plt.show()"
   ]
  },
  {
   "cell_type": "code",
   "execution_count": null,
   "metadata": {},
   "outputs": [],
   "source": [
    "# Exercise 9.01 Unit Test\n",
    "\n",
    "def unittest_exercise_9_01(v1, v2, v3, v4):\n",
    "    assert len(v1) == 10000, \"X_vec length wrong\"\n",
    "    assert int(round(sum(v2)[0])) == -157, \"Sum of sampled values wrong\"\n",
    "    assert len(v3) == 10000, \"True density length wrong\"\n",
    "    assert len(v4) == 9, \"Plot dimensions incorrect\"\n",
    "\n",
    "unittest_exercise_9_01(v1=x_vec, v2=vals, v3=true_density, v4=position_bandwidth_vec)"
   ]
  },
  {
   "cell_type": "markdown",
   "metadata": {},
   "source": [
    "#### Exercise 9.02: Select Optimal Bandwidth Using Grid Search"
   ]
  },
  {
   "cell_type": "code",
   "execution_count": null,
   "metadata": {},
   "outputs": [],
   "source": [
    "# creating bandwidth vector\n",
    "# to be used in grid search\n",
    "\n",
    "bandwidths = 10 ** numpy.linspace(-1, 1, 100)"
   ]
  },
  {
   "cell_type": "code",
   "execution_count": null,
   "metadata": {},
   "outputs": [],
   "source": [
    "# maximize the score\n",
    "# score = pseudo-log-likelihood\n",
    "\n",
    "# for time do 10-fold cv instead of leave-one-out\n",
    "\n",
    "grid = sklearn.model_selection.GridSearchCV(\n",
    "    estimator=sklearn.neighbors.KernelDensity(),\n",
    "    param_grid={\"bandwidth\": bandwidths},\n",
    "    cv=10 \n",
    ")\n",
    "grid.fit(vals)"
   ]
  },
  {
   "cell_type": "code",
   "execution_count": null,
   "metadata": {},
   "outputs": [],
   "source": [
    "# optimal bandwidth value\n",
    "\n",
    "best_bandwidth = grid.best_params_[\"bandwidth\"]\n",
    "\n",
    "print(\n",
    "    \"Best Bandwidth Value: {}\"\n",
    "    .format(best_bandwidth)\n",
    ")"
   ]
  },
  {
   "cell_type": "code",
   "execution_count": null,
   "metadata": {},
   "outputs": [],
   "source": [
    "# histogram of random sample\n",
    "# 1. true density\n",
    "# 2. estimated density with optimal bandwidth\n",
    "\n",
    "fig, ax = plt.subplots(figsize=(14, 10))\n",
    "\n",
    "ax.hist(vals, bins=50, density=True, alpha=0.5, label='Sampled Values')\n",
    "ax.fill(x_vec[:, 0], true_density, fc='black', alpha=0.3, label='True Distribution')\n",
    "\n",
    "log_density = numpy.exp(grid.best_estimator_.score_samples(x_vec))\n",
    "ax.plot(x_vec[:, 0], log_density, '-', linewidth=2, label='Kernel = Gaussian')\n",
    "\n",
    "ax.legend(loc='upper right')\n",
    "plt.show()"
   ]
  },
  {
   "cell_type": "code",
   "execution_count": null,
   "metadata": {},
   "outputs": [],
   "source": [
    "# Exercise 9.02 Unit Test\n",
    "\n",
    "def unittest_exercise_9_02(env, terms):\n",
    "    for t in terms:\n",
    "        filt = [i for i in terms if i == t]\n",
    "        assert len(filt) == 1, \"Object (\" + t + \") not in environment\"\n",
    "\n",
    "unittest_exercise_9_02(env=dir(), terms=['grid', 'best_bandwidth'])"
   ]
  },
  {
   "cell_type": "markdown",
   "metadata": {},
   "source": [
    "#### Exercise 9.03: Effect of Kernel Choice"
   ]
  },
  {
   "cell_type": "code",
   "execution_count": null,
   "metadata": {},
   "outputs": [],
   "source": [
    "# for plotting:\n",
    "# (row of plot, column of plot, kernel function)\n",
    "\n",
    "position_kernel_vec = [\n",
    "    (0, 0, 'gaussian'), (0, 1, 'tophat'), \n",
    "    (1, 0, 'epanechnikov'), (1, 1, 'exponential'), \n",
    "    (2, 0, 'linear'), (2, 1, 'cosine'), \n",
    "]"
   ]
  },
  {
   "cell_type": "code",
   "execution_count": null,
   "metadata": {},
   "outputs": [],
   "source": [
    "# effect of kernel function plot\n",
    "\n",
    "fig, ax = plt.subplots(3, 2, sharex=True, sharey=True, figsize=(12, 9))\n",
    "fig.suptitle('The Effect of Different Kernels', fontsize=16)\n",
    "\n",
    "for r, c, k in position_kernel_vec:\n",
    "    kde = sklearn.neighbors.KernelDensity(\n",
    "        kernel=k, \n",
    "        bandwidth=best_bandwidth\n",
    "    ).fit(vals)\n",
    "    log_density = kde.score_samples(x_vec)\n",
    "\n",
    "    ax[r, c].hist(vals, bins=50, density=True, alpha=0.5)\n",
    "    ax[r, c].plot(x_vec[:, 0], numpy.exp(log_density), '-', linewidth=2)\n",
    "    ax[r, c].set_title('Kernel = {}'.format(k.capitalize()))\n",
    "plt.show()"
   ]
  },
  {
   "cell_type": "code",
   "execution_count": null,
   "metadata": {},
   "outputs": [],
   "source": [
    "# Exercise 9.03 Unit Test\n",
    "\n",
    "def unittest_exercise_9_03(v):\n",
    "    assert len(v) == 6, \"Plot not correct\"\n",
    "    assert list(set([isinstance(i, tuple) for i in v]))[0], \"Data format incorrect\"\n",
    "\n",
    "unittest_exercise_9_03(v=position_kernel_vec)"
   ]
  },
  {
   "cell_type": "markdown",
   "metadata": {},
   "source": [
    "#### Exercise 9.04: Each Point as a Distribution"
   ]
  },
  {
   "cell_type": "code",
   "execution_count": null,
   "metadata": {},
   "outputs": [],
   "source": [
    "# function to evaluate the\n",
    "# gaussian distribution\n",
    "\n",
    "def eval_gaussian(x, m, b):\n",
    "    numerator = numpy.exp(\n",
    "        -numpy.power(x - m, 2) / (2 * numpy.power(b, 2))\n",
    "    )\n",
    "    denominator = b * numpy.sqrt(2 * numpy.pi)\n",
    "    return numerator / denominator"
   ]
  },
  {
   "cell_type": "code",
   "execution_count": null,
   "metadata": {},
   "outputs": [],
   "source": [
    "# plotting one point\n",
    "\n",
    "m = numpy.array([5.1])\n",
    "b_vec = [0.1, 0.35, 0.8]\n",
    "\n",
    "x_vec = numpy.linspace(1, 10, 100)[:, None]\n",
    "\n",
    "figOne, ax = plt.subplots(2, 3, sharex=True, sharey=True, figsize=(15, 10))\n",
    "\n",
    "for i, b in enumerate(b_vec):\n",
    "    ax[0, i].hist(m[:], bins=1, fc='#AAAAFF', density=True)\n",
    "    ax[0, i].set_title(\"Histogram: Normed\")\n",
    "\n",
    "    evaluation = eval_gaussian(x_vec, m=m[0], b=b)\n",
    "    \n",
    "    ax[1, i].fill(x_vec, evaluation, '-k', fc='#AAAAFF')\n",
    "    ax[1, i].set_title(\"Gaussian Dist: b={}\".format(b))\n",
    "plt.show()"
   ]
  },
  {
   "cell_type": "code",
   "execution_count": null,
   "metadata": {},
   "outputs": [],
   "source": [
    "# plotting sixteen points\n",
    "\n",
    "m = numpy.random.normal(4.7, 0.88, 16)\n",
    "n = len(m)\n",
    "\n",
    "b_vec = [0.1, 0.35, 1.1]\n",
    "\n",
    "x_vec = numpy.linspace(-1, 11, 100)[:, None]\n",
    "\n",
    "figMulti, ax = plt.subplots(2, 3, sharex=True, sharey=True, figsize=(15, 10))\n",
    "\n",
    "for i, b in enumerate(b_vec):\n",
    "    ax[0, i].hist(m[:], bins=n, fc='#AAAAFF', density=True)\n",
    "    ax[0, i].set_title(\"Histogram: Normed\")\n",
    "        \n",
    "    sum_evaluation = numpy.zeros(len(x_vec))\n",
    "    \n",
    "    for j in range(n):\n",
    "        evaluation = eval_gaussian(x_vec, m=m[j], b=b) / n\n",
    "        sum_evaluation += evaluation[:, 0]\n",
    "        \n",
    "        ax[1, i].plot(x_vec, evaluation, '-k', linestyle=\"dashed\")\n",
    "\n",
    "    ax[1, i].fill(x_vec, sum_evaluation, '-k', fc='#AAAAFF')\n",
    "    ax[1, i].set_title(\"Gaussian Dist: b={}\".format(b))\n",
    "plt.show()"
   ]
  },
  {
   "cell_type": "code",
   "execution_count": null,
   "metadata": {},
   "outputs": [],
   "source": [
    "# Exercise 9.04 Unit Test\n",
    "\n",
    "def unittest_exercise_9_04(env, names):\n",
    "    plt_list = [i for i in env if i in names]\n",
    "    assert len(plt_list) == 2, \"Number of plots wrong\"\n",
    "\n",
    "unittest_exercise_9_04(env=dir(), names=['figOne', 'figMulti'])"
   ]
  },
  {
   "cell_type": "markdown",
   "metadata": {},
   "source": [
    "#### Exercise 9.05: Loading Data and Modeling with Seaborn"
   ]
  },
  {
   "cell_type": "code",
   "execution_count": null,
   "metadata": {},
   "outputs": [],
   "source": [
    "# turn housing data into pandas dataframe\n",
    "\n",
    "df = pandas.read_csv('./california_housing.csv', header=0)"
   ]
  },
  {
   "cell_type": "code",
   "execution_count": null,
   "metadata": {},
   "outputs": [],
   "source": [
    "df.head()"
   ]
  },
  {
   "cell_type": "code",
   "execution_count": null,
   "metadata": {},
   "outputs": [],
   "source": [
    "# median house age in block is less than or equal to 15 years\n",
    "\n",
    "dfLess15 = df[df['HouseAge'] <= 15.0]\n",
    "dfLess15 = dfLess15[['Latitude', 'Longitude']]"
   ]
  },
  {
   "cell_type": "code",
   "execution_count": null,
   "metadata": {},
   "outputs": [],
   "source": [
    "dfLess15.head()"
   ]
  },
  {
   "cell_type": "code",
   "execution_count": null,
   "metadata": {},
   "outputs": [],
   "source": [
    "seaborn.jointplot(\"Longitude\", \"Latitude\", dfLess15, kind=\"kde\")"
   ]
  },
  {
   "cell_type": "code",
   "execution_count": null,
   "metadata": {},
   "outputs": [],
   "source": [
    "# median house age in block is more than 40 years\n",
    "\n",
    "dfMore40 = df[df['HouseAge'] > 40.0]\n",
    "dfMore40 = dfMore40[['Latitude', 'Longitude']]"
   ]
  },
  {
   "cell_type": "code",
   "execution_count": null,
   "metadata": {},
   "outputs": [],
   "source": [
    "dfMore40.head()"
   ]
  },
  {
   "cell_type": "code",
   "execution_count": null,
   "metadata": {},
   "outputs": [],
   "source": [
    "seaborn.jointplot(\"Longitude\", \"Latitude\", dfMore40, kind=\"kde\")"
   ]
  },
  {
   "cell_type": "code",
   "execution_count": null,
   "metadata": {},
   "outputs": [],
   "source": [
    "# perform filter\n",
    "# plot non-location data\n",
    "\n",
    "dfLess5 = df[df['HouseAge'] <= 5]\n",
    "\n",
    "x_vals = dfLess5.Population.values\n",
    "y_vals = dfLess5.MedInc.values"
   ]
  },
  {
   "cell_type": "code",
   "execution_count": null,
   "metadata": {},
   "outputs": [],
   "source": [
    "fig = plt.figure(figsize=(10, 10))\n",
    "plt.scatter(x_vals, y_vals, c='black')\n",
    "plt.xlabel('Population', fontsize=18)\n",
    "plt.ylabel('Median Income', fontsize=16)"
   ]
  },
  {
   "cell_type": "code",
   "execution_count": null,
   "metadata": {},
   "outputs": [],
   "source": [
    "# run and visualize kernel density estimation\n",
    "# on non-location data\n",
    "\n",
    "fig = plt.figure(figsize=(10, 10))\n",
    "ax = seaborn.kdeplot(\n",
    "    x_vals, \n",
    "    y_vals,\n",
    "    kernel='gau',\n",
    "    cmap='Blues', \n",
    "    shade=True, \n",
    "    shade_lowest=False\n",
    ")\n",
    "plt.scatter(x_vals, y_vals, c='black', alpha=0.1)\n",
    "plt.xlabel('Population', fontsize=18)\n",
    "plt.ylabel('Median Income', fontsize=18)\n",
    "plt.title('Density Estimation With Scatterplot Overlay', size=18)"
   ]
  },
  {
   "cell_type": "code",
   "execution_count": null,
   "metadata": {},
   "outputs": [],
   "source": [
    "# Exercise 9.05 Unit Test\n",
    "\n",
    "def unittest_exercise_9_05(df1, df2, df3):\n",
    "    assert df1.shape == (20640, 8), \"Df1 dimensions incorrect\"\n",
    "    assert df2.shape == (3287, 2), \"Df2 dimensions incorrect\"\n",
    "    assert df3.shape == (3878, 2), \"Df3 dimensions incorrect\"\n",
    "\n",
    "unittest_exercise_9_05(df1=df, df2=dfLess15, df3=dfMore40)"
   ]
  },
  {
   "cell_type": "markdown",
   "metadata": {},
   "source": [
    "#### Exercise 9.06: Sklearn and Base Maps"
   ]
  },
  {
   "cell_type": "code",
   "execution_count": null,
   "metadata": {},
   "outputs": [],
   "source": [
    "# set up the data grid for the contour plot\n",
    "\n",
    "xgrid15 = numpy.sort(list(dfLess15['Longitude']))\n",
    "ygrid15 = numpy.sort(list(dfLess15['Latitude']))\n",
    "x15, y15 = numpy.meshgrid(xgrid15, ygrid15)\n",
    "print(\"X Grid Component:\\n{}\\n\".format(x15))\n",
    "print(\"Y Grid Component:\\n{}\\n\".format(y15))"
   ]
  },
  {
   "cell_type": "code",
   "execution_count": null,
   "metadata": {},
   "outputs": [],
   "source": [
    "# combine x and y grids into pairs\n",
    "# this is like the x_vec above\n",
    "\n",
    "xy15 = numpy.vstack([y15.ravel(), x15.ravel()]).T"
   ]
  },
  {
   "cell_type": "code",
   "execution_count": null,
   "metadata": {},
   "outputs": [],
   "source": [
    "# run kernel density estimation\n",
    "\n",
    "kde15 = sklearn.neighbors.KernelDensity(\n",
    "    bandwidth=0.05, \n",
    "    metric='minkowski',\n",
    "    kernel='gaussian', \n",
    "    algorithm='ball_tree'\n",
    ")\n",
    "kde15.fit(dfLess15.values)"
   ]
  },
  {
   "cell_type": "code",
   "execution_count": null,
   "metadata": {},
   "outputs": [],
   "source": [
    "# fit the trained model on the xy grid\n",
    "\n",
    "log_density = kde15.score_samples(xy15)\n",
    "density = numpy.exp(log_density)\n",
    "density = density.reshape(x15.shape)\n",
    "print(\"Shape of Density Values:\\n{}\\n\".format(density.shape))"
   ]
  },
  {
   "cell_type": "code",
   "execution_count": null,
   "metadata": {},
   "outputs": [],
   "source": [
    "# visualize the results\n",
    "\n",
    "fig15 = plt.figure(figsize=(10, 10))\n",
    "fig15.suptitle(\n",
    "    \"\"\"\n",
    "    Density Estimation:\n",
    "    Location of Housing Blocks\n",
    "    Where the Median Home Age <= 15 Years\n",
    "    \"\"\", \n",
    "    fontsize=16\n",
    ")\n",
    "\n",
    "the_map = mpl_toolkits.basemap.Basemap(\n",
    "    projection='cyl',\n",
    "    llcrnrlat=y15.min(), urcrnrlat=y15.max(),\n",
    "    llcrnrlon=x15.min(),urcrnrlon=x15.max(),\n",
    "    resolution='c'\n",
    ")\n",
    "\n",
    "the_map.drawcoastlines(linewidth=1)\n",
    "the_map.drawcountries(linewidth=1)\n",
    "the_map.drawstates(linewidth=1)\n",
    "\n",
    "levels = numpy.linspace(0, density.max(), 25)\n",
    "plt.contourf(x15, y15, density, levels=levels, cmap=plt.cm.Reds)\n",
    "\n",
    "plt.show()"
   ]
  },
  {
   "cell_type": "code",
   "execution_count": null,
   "metadata": {},
   "outputs": [],
   "source": [
    "# set up the data grid for the contour plot\n",
    "\n",
    "xgrid40 = numpy.sort(list(dfMore40['Longitude']))\n",
    "ygrid40 = numpy.sort(list(dfMore40['Latitude']))\n",
    "x40, y40 = numpy.meshgrid(xgrid40, ygrid40)\n",
    "print(\"X Grid Component:\\n{}\\n\".format(x40))\n",
    "print(\"Y Grid Component:\\n{}\\n\".format(y40))"
   ]
  },
  {
   "cell_type": "code",
   "execution_count": null,
   "metadata": {},
   "outputs": [],
   "source": [
    "# combine x and y grids into pairs\n",
    "# this is like the x_vec above\n",
    "\n",
    "xy40 = numpy.vstack([y40.ravel(), x40.ravel()]).T"
   ]
  },
  {
   "cell_type": "code",
   "execution_count": null,
   "metadata": {},
   "outputs": [],
   "source": [
    "# run kernel density estimation\n",
    "\n",
    "kde40 = sklearn.neighbors.KernelDensity(\n",
    "    bandwidth=0.05, \n",
    "    metric='minkowski',\n",
    "    kernel='gaussian', \n",
    "    algorithm='ball_tree'\n",
    ")\n",
    "kde40.fit(dfMore40.values)"
   ]
  },
  {
   "cell_type": "code",
   "execution_count": null,
   "metadata": {},
   "outputs": [],
   "source": [
    "# fit the trained model on the xy grid\n",
    "\n",
    "log_density = kde40.score_samples(xy40)\n",
    "density = numpy.exp(log_density)\n",
    "density = density.reshape(x40.shape)\n",
    "print(\"Shape of Density Values:\\n{}\\n\".format(density.shape))"
   ]
  },
  {
   "cell_type": "code",
   "execution_count": null,
   "metadata": {},
   "outputs": [],
   "source": [
    "# visualize the results\n",
    "\n",
    "fig40 = plt.figure(figsize=(10, 10))\n",
    "fig40.suptitle(\n",
    "    \"\"\"\n",
    "    Density Estimation:\n",
    "    Location of Housing Blocks\n",
    "    Where the Median Home Age > 40 Years\n",
    "    \"\"\", \n",
    "    fontsize=16\n",
    ")\n",
    "\n",
    "the_map = mpl_toolkits.basemap.Basemap(\n",
    "    projection='cyl',\n",
    "    llcrnrlat=y40.min(), urcrnrlat=y40.max(),\n",
    "    llcrnrlon=x40.min(),urcrnrlon=x40.max(),\n",
    "    resolution='c'\n",
    ")\n",
    "\n",
    "the_map.drawcoastlines(linewidth=1)\n",
    "the_map.drawcountries(linewidth=1)\n",
    "the_map.drawstates(linewidth=1)\n",
    "\n",
    "levels = numpy.linspace(0, density.max(), 25)\n",
    "plt.contourf(x40, y40, density, levels=levels, cmap=plt.cm.Reds)\n",
    "\n",
    "plt.show()"
   ]
  },
  {
   "cell_type": "code",
   "execution_count": null,
   "metadata": {},
   "outputs": [],
   "source": [
    "# Exercise 9.06 Unit Test\n",
    "\n",
    "def unittest_exercise_9_06(env, names):\n",
    "    plt_list = [i for i in env if i in names]\n",
    "    assert len(plt_list) == 4, \"Number of objects wrong\"\n",
    "\n",
    "unittest_exercise_9_06(env=dir(), names=['kde15', 'fig15', 'kde40', 'fig40'])"
   ]
  },
  {
   "cell_type": "code",
   "execution_count": null,
   "metadata": {},
   "outputs": [],
   "source": []
  }
 ],
 "metadata": {
  "kernelspec": {
   "display_name": "Python 3",
   "language": "python",
   "name": "python3"
  },
  "language_info": {
   "codemirror_mode": {
    "name": "ipython",
    "version": 3
   },
   "file_extension": ".py",
   "mimetype": "text/x-python",
   "name": "python",
   "nbconvert_exporter": "python",
   "pygments_lexer": "ipython3",
   "version": "3.7.4"
  }
 },
 "nbformat": 4,
 "nbformat_minor": 2
}
