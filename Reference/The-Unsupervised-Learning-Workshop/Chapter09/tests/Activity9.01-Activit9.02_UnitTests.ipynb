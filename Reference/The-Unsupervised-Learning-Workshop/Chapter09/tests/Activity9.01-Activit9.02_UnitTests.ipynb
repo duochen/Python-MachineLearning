{
 "cells": [
  {
   "cell_type": "markdown",
   "metadata": {},
   "source": [
    "# CH. 9 - Hotspot Analysis\n",
    "## Activities"
   ]
  },
  {
   "cell_type": "markdown",
   "metadata": {},
   "source": [
    "#### Activity 9.01: One Dimensional Density Estimation"
   ]
  },
  {
   "cell_type": "code",
   "execution_count": null,
   "metadata": {},
   "outputs": [],
   "source": [
    "get_ipython().run_line_magic('matplotlib', 'inline')\n",
    "\n",
    "import matplotlib.pyplot as plt\n",
    "import numpy\n",
    "import pandas\n",
    "import seaborn\n",
    "import sklearn.model_selection\n",
    "import sklearn.neighbors\n",
    "\n",
    "seaborn.set()"
   ]
  },
  {
   "cell_type": "code",
   "execution_count": null,
   "metadata": {},
   "outputs": [],
   "source": [
    "# randomly generate values\n",
    "# for which we will estimate a density\n",
    "\n",
    "rand = numpy.random.RandomState(100)\n",
    "vals = rand.randn(1000)  # standard normal\n",
    "vals[375:] += 3.5"
   ]
  },
  {
   "cell_type": "code",
   "execution_count": null,
   "metadata": {},
   "outputs": [],
   "source": [
    "# plot the randomly generated values\n",
    "# as a histogram\n",
    "\n",
    "fig, ax = plt.subplots(figsize=(14, 10))\n",
    "ax.hist(vals, bins=50, density=True, label='Sampled Values')\n",
    "ax.plot(vals, -0.005 - 0.01 * numpy.random.random(len(vals)), '+k', label='Individual Points')\n",
    "ax.legend(loc='upper right')\n",
    "plt.show()"
   ]
  },
  {
   "cell_type": "code",
   "execution_count": null,
   "metadata": {},
   "outputs": [],
   "source": [
    "# grid search\n",
    "# optimal bandwidth value\n",
    "\n",
    "bandwidths = 10 ** numpy.linspace(-1, 1, 100)\n",
    "\n",
    "grid = sklearn.model_selection.GridSearchCV(\n",
    "    estimator=sklearn.neighbors.KernelDensity(kernel=\"gaussian\"),\n",
    "    param_grid={\"bandwidth\": bandwidths},\n",
    "    cv=10\n",
    ")\n",
    "grid.fit(vals[:, None])"
   ]
  },
  {
   "cell_type": "code",
   "execution_count": null,
   "metadata": {},
   "outputs": [],
   "source": [
    "# extract the optimal bandwidth value\n",
    "\n",
    "best_bandwidth = grid.best_params_[\"bandwidth\"]\n",
    "\n",
    "print(\n",
    "    \"Best Bandwidth Value: {}\"\n",
    "    .format(best_bandwidth)\n",
    ")"
   ]
  },
  {
   "cell_type": "code",
   "execution_count": null,
   "metadata": {},
   "outputs": [],
   "source": [
    "# replot the histogram\n",
    "# with the optimal estimated density overlayed\n",
    "\n",
    "fig, ax = plt.subplots(figsize=(14, 10))\n",
    "\n",
    "ax.hist(vals, bins=50, density=True, alpha=0.75, label='Sampled Values')\n",
    "\n",
    "x_vec = numpy.linspace(-4, 8, 10000)[:, numpy.newaxis]\n",
    "log_density = numpy.exp(grid.best_estimator_.score_samples(x_vec))\n",
    "ax.plot(x_vec[:, 0], log_density, '-', linewidth=4, label='Kernel = Gaussian')\n",
    "\n",
    "ax.legend(loc='upper right')\n",
    "plt.show()"
   ]
  },
  {
   "cell_type": "code",
   "execution_count": null,
   "metadata": {},
   "outputs": [],
   "source": [
    "# Activity 9.01 Unit Test\n",
    "\n",
    "def unittest_activity_9_01(d, b):\n",
    "    assert int(round(numpy.sum(d))) == 2171, \"Vals vector sum incorrect\"\n",
    "    assert round(b, 1) == 0.4, \"Wrong bandwidth\"\n",
    "\n",
    "unittest_activity_9_01(d=vals, b=best_bandwidth)"
   ]
  },
  {
   "cell_type": "markdown",
   "metadata": {},
   "source": [
    "#### Activity 9.02: London Crime"
   ]
  },
  {
   "cell_type": "code",
   "execution_count": null,
   "metadata": {},
   "outputs": [],
   "source": [
    "# define base path\n",
    "\n",
    "base_path = \"./metro-jul18-dec18/{yr_mon}/{yr_mon}-metropolitan-street.csv\"\n",
    "print(base_path)"
   ]
  },
  {
   "cell_type": "code",
   "execution_count": null,
   "metadata": {},
   "outputs": [],
   "source": [
    "# create the six file tags\n",
    "# used to load in the data\n",
    "\n",
    "yearmon_list = [\n",
    "    \"2018-0\" + str(i) if i <= 9 else \"2018-\" + str(i) \n",
    "    for i in range(7, 13)\n",
    "]\n",
    "\n",
    "print(yearmon_list)"
   ]
  },
  {
   "cell_type": "code",
   "execution_count": null,
   "metadata": {},
   "outputs": [],
   "source": [
    "# load the data\n",
    "# print some basic information about the data\n",
    "\n",
    "data_yearmon_list = []\n",
    "\n",
    "for idx, i in enumerate(yearmon_list):\n",
    "    df = pandas.read_csv(\n",
    "        base_path.format(yr_mon=i), \n",
    "        header=0\n",
    "    )\n",
    "    \n",
    "    data_yearmon_list.append(df)\n",
    "    \n",
    "    if idx == 0:\n",
    "        print(\"Month: {}\".format(i))\n",
    "        print(\"Dimensions: {}\".format(df.shape))\n",
    "        print(\"Head:\\n{}\\n\".format(df.head(2)))"
   ]
  },
  {
   "cell_type": "code",
   "execution_count": null,
   "metadata": {},
   "outputs": [],
   "source": [
    "london = pandas.concat(data_yearmon_list)"
   ]
  },
  {
   "cell_type": "code",
   "execution_count": null,
   "metadata": {},
   "outputs": [],
   "source": [
    "# perform diagnostics on the\n",
    "# full concatenated data set\n",
    "\n",
    "print(\n",
    "    \"Dimensions - Full Data:\\n{}\\n\"\n",
    "    .format(london.shape)\n",
    ")\n",
    "print(\n",
    "    \"Unique Months - Full Data:\\n{}\\n\"\n",
    "    .format(london[\"Month\"].unique())\n",
    ")\n",
    "print(\n",
    "    \"Number of Unique Crime Types - Full Data:\\n{}\\n\"\n",
    "    .format(london[\"Crime type\"].nunique())\n",
    ")\n",
    "print(\n",
    "    \"Unique Crime Types - Full Data:\\n{}\\n\"\n",
    "    .format(london[\"Crime type\"].unique())\n",
    ")\n",
    "print(\n",
    "    \"Count Occurrences Of Each Unique Crime Type - Full Type:\\n{}\\n\"\n",
    "    .format(london[\"Crime type\"].value_counts())\n",
    ")"
   ]
  },
  {
   "cell_type": "code",
   "execution_count": null,
   "metadata": {},
   "outputs": [],
   "source": [
    "# filter the data down\n",
    "\n",
    "london_subset = london[[\"Month\", \"Longitude\", \"Latitude\", \"Crime type\"]]\n",
    "london_subset.head(5)"
   ]
  },
  {
   "cell_type": "code",
   "execution_count": null,
   "metadata": {},
   "outputs": [],
   "source": [
    "# plotting bicycle theft\n",
    "# for three randomly selected months\n",
    "\n",
    "crime_bicycle_jul = london_subset[\n",
    "    (london_subset[\"Crime type\"] == \"Bicycle theft\") & \n",
    "    (london_subset[\"Month\"] == \"2018-07\")\n",
    "]\n",
    "\n",
    "seaborn.jointplot(\"Longitude\", \"Latitude\", crime_bicycle_jul, kind=\"kde\")"
   ]
  },
  {
   "cell_type": "code",
   "execution_count": null,
   "metadata": {},
   "outputs": [],
   "source": [
    "crime_bicycle_sept = london_subset[\n",
    "    (london_subset[\"Crime type\"] == \"Bicycle theft\") & \n",
    "    (london_subset[\"Month\"] == \"2018-09\")\n",
    "]\n",
    "\n",
    "seaborn.jointplot(\"Longitude\", \"Latitude\", crime_bicycle_sept, kind=\"kde\")"
   ]
  },
  {
   "cell_type": "code",
   "execution_count": null,
   "metadata": {},
   "outputs": [],
   "source": [
    "crime_bicycle_dec = london_subset[\n",
    "    (london_subset[\"Crime type\"] == \"Bicycle theft\") & \n",
    "    (london_subset[\"Month\"] == \"2018-12\")\n",
    "]\n",
    "\n",
    "seaborn.jointplot(\"Longitude\", \"Latitude\", crime_bicycle_dec, kind=\"kde\")"
   ]
  },
  {
   "cell_type": "code",
   "execution_count": null,
   "metadata": {},
   "outputs": [],
   "source": [
    "# plotting shoplifting\n",
    "# for three randomly selected months\n",
    "\n",
    "crime_shoplift_aug = london_subset[\n",
    "    (london_subset[\"Crime type\"] == \"Shoplifting\") & \n",
    "    (london_subset[\"Month\"] == \"2018-08\")\n",
    "]\n",
    "\n",
    "seaborn.jointplot(\"Longitude\", \"Latitude\", crime_shoplift_aug, kind=\"kde\")"
   ]
  },
  {
   "cell_type": "code",
   "execution_count": null,
   "metadata": {},
   "outputs": [],
   "source": [
    "crime_shoplift_oct = london_subset[\n",
    "    (london_subset[\"Crime type\"] == \"Shoplifting\") & \n",
    "    (london_subset[\"Month\"] == \"2018-10\")\n",
    "]\n",
    "\n",
    "seaborn.jointplot(\"Longitude\", \"Latitude\", crime_shoplift_oct, kind=\"kde\")"
   ]
  },
  {
   "cell_type": "code",
   "execution_count": null,
   "metadata": {},
   "outputs": [],
   "source": [
    "crime_shoplift_nov = london_subset[\n",
    "    (london_subset[\"Crime type\"] == \"Shoplifting\") & \n",
    "    (london_subset[\"Month\"] == \"2018-11\")\n",
    "]\n",
    "\n",
    "seaborn.jointplot(\"Longitude\", \"Latitude\", crime_shoplift_nov, kind=\"kde\")"
   ]
  },
  {
   "cell_type": "code",
   "execution_count": null,
   "metadata": {},
   "outputs": [],
   "source": [
    "# plotting burglary\n",
    "# for three randomly selected months\n",
    "\n",
    "crime_burglary_jul = london_subset[\n",
    "    (london_subset[\"Crime type\"] == \"Burglary\") & \n",
    "    (london_subset[\"Month\"] == \"2018-07\")\n",
    "]\n",
    "\n",
    "seaborn.jointplot(\"Longitude\", \"Latitude\", crime_burglary_jul, kind=\"kde\")"
   ]
  },
  {
   "cell_type": "code",
   "execution_count": null,
   "metadata": {},
   "outputs": [],
   "source": [
    "crime_burglary_oct = london_subset[\n",
    "    (london_subset[\"Crime type\"] == \"Burglary\") & \n",
    "    (london_subset[\"Month\"] == \"2018-10\")\n",
    "]\n",
    "\n",
    "seaborn.jointplot(\"Longitude\", \"Latitude\", crime_burglary_oct, kind=\"kde\")"
   ]
  },
  {
   "cell_type": "code",
   "execution_count": null,
   "metadata": {},
   "outputs": [],
   "source": [
    "crime_burglary_dec = london_subset[\n",
    "    (london_subset[\"Crime type\"] == \"Burglary\") & \n",
    "    (london_subset[\"Month\"] == \"2018-12\")\n",
    "]\n",
    "\n",
    "seaborn.jointplot(\"Longitude\", \"Latitude\", crime_burglary_dec, kind=\"kde\")"
   ]
  },
  {
   "cell_type": "code",
   "execution_count": null,
   "metadata": {},
   "outputs": [],
   "source": [
    "# Activity 9.02 Unit Test\n",
    "\n",
    "def unittest_activity_9_02(data, env, tag):\n",
    "    assert data.shape == (546032, 12), \"London data frame dimensions wrong\"\n",
    "    tag_length = int(len([i for i in env if i.startswith(tag)]))\n",
    "    assert tag_length == 9, \"Filtered data frame count incorrect\"\n",
    "\n",
    "unittest_activity_9_02(data=london, env=dir(), tag='crime')"
   ]
  },
  {
   "cell_type": "code",
   "execution_count": null,
   "metadata": {},
   "outputs": [],
   "source": []
  }
 ],
 "metadata": {
  "kernelspec": {
   "display_name": "Python 3",
   "language": "python",
   "name": "python3"
  },
  "language_info": {
   "codemirror_mode": {
    "name": "ipython",
    "version": 3
   },
   "file_extension": ".py",
   "mimetype": "text/x-python",
   "name": "python",
   "nbconvert_exporter": "python",
   "pygments_lexer": "ipython3",
   "version": "3.7.4"
  }
 },
 "nbformat": 4,
 "nbformat_minor": 2
}
