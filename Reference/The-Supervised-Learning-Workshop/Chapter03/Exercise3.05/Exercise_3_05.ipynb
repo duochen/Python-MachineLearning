{
 "cells": [
  {
   "cell_type": "code",
   "execution_count": 2,
   "metadata": {
    "colab": {},
    "colab_type": "code",
    "id": "aUcSSVlSOGoA"
   },
   "outputs": [],
   "source": [
    "import pandas as pd\n",
    "import numpy as np\n",
    "import matplotlib.pyplot as plt\n",
    "from sklearn.metrics import r2_score"
   ]
  },
  {
   "cell_type": "code",
   "execution_count": 3,
   "metadata": {},
   "outputs": [],
   "source": [
    "#\n",
    "# model function\n",
    "#\n",
    "def h_x(Beta, X):\n",
    "#\n",
    "# calculate the matrix dot product of X and the Thetas\n",
    "#\n",
    "    return np.dot(Beta, X).flatten()"
   ]
  },
  {
   "cell_type": "code",
   "execution_count": 4,
   "metadata": {},
   "outputs": [],
   "source": [
    "#\n",
    "# cost function\n",
    "#\n",
    "def J_beta(pred, true):\n",
    "#\n",
    "# mean squared error\n",
    "#\n",
    "    return np.mean((pred - true) ** 2)"
   ]
  },
  {
   "cell_type": "code",
   "execution_count": 5,
   "metadata": {},
   "outputs": [],
   "source": [
    "#\n",
    "# update function\n",
    "#\n",
    "def update(pred, true, X, gamma):\n",
    "    return gamma * np.sum((true - pred) * X, axis = 1)"
   ]
  },
  {
   "cell_type": "code",
   "execution_count": 6,
   "metadata": {
    "colab": {},
    "colab_type": "code",
    "id": "kDn9hp3dPX5G"
   },
   "outputs": [],
   "source": [
    "#\n",
    "# load the data\n",
    "#\n",
    "df = pd.read_csv('../Datasets/synth_temp.csv')"
   ]
  },
  {
   "cell_type": "code",
   "execution_count": 7,
   "metadata": {
    "colab": {
     "base_uri": "https://localhost:8080/",
     "height": 204
    },
    "colab_type": "code",
    "id": "hBtKePSxQDOV",
    "outputId": "8b93ebe9-6986-489a-f7c2-56e237b9db88"
   },
   "outputs": [],
   "source": [
    "#\n",
    "# slice 1902 and forward\n",
    "#\n",
    "df = df.loc[df.Year > 1901]"
   ]
  },
  {
   "cell_type": "code",
   "execution_count": 8,
   "metadata": {
    "colab": {
     "base_uri": "https://localhost:8080/",
     "height": 452
    },
    "colab_type": "code",
    "id": "JjrL_hZYQdk9",
    "outputId": "f6d27523-64af-4ced-85e2-2b158dfa97ed"
   },
   "outputs": [],
   "source": [
    "#\n",
    "# roll up by year\n",
    "#\n",
    "df_group_year = df.groupby(['Year']).agg({'RgnAvTemp' : 'mean'})"
   ]
  },
  {
   "cell_type": "code",
   "execution_count": 9,
   "metadata": {
    "colab": {
     "base_uri": "https://localhost:8080/",
     "height": 700
    },
    "colab_type": "code",
    "id": "orClyQArGI8l",
    "outputId": "3d529d43-6e7a-4082-f0e1-58300eee50c5"
   },
   "outputs": [],
   "source": [
    "#\n",
    "# add the Year column so we can use that in a model\n",
    "#\n",
    "df_group_year['Year'] = df_group_year.index\n",
    "df_group_year = df_group_year.rename(columns = {'RgnAvTemp' : 'AvTemp'})"
   ]
  },
  {
   "cell_type": "code",
   "execution_count": 10,
   "metadata": {},
   "outputs": [],
   "source": [
    "#\n",
    "# scale the data and add the X0 series\n",
    "#\n",
    "X_min = df_group_year.Year.min()\n",
    "X_range = df_group_year.Year.max() - df_group_year.Year.min()\n",
    "#\n",
    "Y_min = df_group_year.AvTemp.min()\n",
    "Y_range = df_group_year.AvTemp.max() - df_group_year.AvTemp.min()\n",
    "#\n",
    "scale_X = (df_group_year.Year - X_min) / X_range\n",
    "train_X = pd.DataFrame({'X0' : np.ones(df_group_year.shape[0]), \n",
    "                        'X1' : scale_X}).transpose()\n",
    "#\n",
    "train_Y = (df_group_year.AvTemp - Y_min) / Y_range"
   ]
  },
  {
   "cell_type": "code",
   "execution_count": 11,
   "metadata": {},
   "outputs": [
    {
     "name": "stdout",
     "output_type": "stream",
     "text": [
      "Year  1902      1903      1904      1905      1906\n",
      "X0     1.0  1.000000  1.000000  1.000000  1.000000\n",
      "X1     0.0  0.009259  0.018519  0.027778  0.037037\n",
      "Year\n",
      "1902    0.114676\n",
      "1903    0.058017\n",
      "1904    0.056296\n",
      "1905    0.265110\n",
      "1906    0.115164\n",
      "Name: AvTemp, dtype: float64\n"
     ]
    }
   ],
   "source": [
    "print(train_X.iloc[:, :5])\n",
    "print(train_Y[:5])"
   ]
  },
  {
   "cell_type": "code",
   "execution_count": 12,
   "metadata": {},
   "outputs": [
    {
     "name": "stdout",
     "output_type": "stream",
     "text": [
      "initial Beta\n",
      " [[ 0.04967142 -0.01382643]]\n"
     ]
    }
   ],
   "source": [
    "#\n",
    "# initialize Beta and the learning rate gamma\n",
    "#\n",
    "np.random.seed(42)\n",
    "Beta = np.random.randn(2).reshape((1, 2)) * 0.1\n",
    "print('initial Beta\\n', Beta)\n",
    "gamma = 0.0005\n",
    "max_epochs = 100"
   ]
  },
  {
   "cell_type": "code",
   "execution_count": 13,
   "metadata": {},
   "outputs": [
    {
     "name": "stdout",
     "output_type": "stream",
     "text": [
      "Initial cost J(Beta) = 0.18849128813354338\n"
     ]
    }
   ],
   "source": [
    "y_pred = h_x(Beta, train_X)\n",
    "print('Initial cost J(Beta) = ' + str(J_beta(y_pred, train_Y)))"
   ]
  },
  {
   "cell_type": "code",
   "execution_count": 14,
   "metadata": {},
   "outputs": [
    {
     "name": "stdout",
     "output_type": "stream",
     "text": [
      "New cost J(Beta) = 0.171 at epoch 0\n",
      "New cost J(Beta) = 0.083 at epoch 10\n",
      "New cost J(Beta) = 0.06 at epoch 20\n",
      "New cost J(Beta) = 0.052 at epoch 30\n",
      "New cost J(Beta) = 0.048 at epoch 40\n",
      "New cost J(Beta) = 0.046 at epoch 50\n",
      "New cost J(Beta) = 0.043 at epoch 60\n",
      "New cost J(Beta) = 0.041 at epoch 70\n",
      "New cost J(Beta) = 0.039 at epoch 80\n",
      "New cost J(Beta) = 0.037 at epoch 90\n"
     ]
    }
   ],
   "source": [
    "epochs = []\n",
    "costs = []\n",
    "for epoch in range(max_epochs):\n",
    "    Beta += update(y_pred, train_Y, train_X, gamma)\n",
    "    y_pred = h_x(Beta, train_X)\n",
    "    cost = J_beta(y_pred, train_Y)\n",
    "    if epoch % 10 == 0:\n",
    "        print('New cost J(Beta) = ' + str(round(cost, 3)) + \n",
    "              ' at epoch ' + str(epoch))\n",
    "    epochs.append(epoch)\n",
    "    costs.append(cost)"
   ]
  },
  {
   "cell_type": "code",
   "execution_count": 15,
   "metadata": {},
   "outputs": [
    {
     "data": {
      "image/png": "[encoded data removed]",
      "text/plain": [
       "<Figure size 720x504 with 1 Axes>"
      ]
     },
     "metadata": {
      "needs_background": "light"
     },
     "output_type": "display_data"
    }
   ],
   "source": [
    "#\n",
    "# plot training history\n",
    "#\n",
    "fig = plt.figure(figsize=(10, 7))\n",
    "ax = fig.add_axes([1, 1, 1, 1])\n",
    "#\n",
    "ax.plot(epochs, costs)\n",
    "ax.tick_params(labelsize = 14)\n",
    "ax.set_ylabel('Cost Function J(' + r'$\\beta$' + ')',\n",
    "               fontsize = 18)\n",
    "ax.set_xlabel('Epoch', fontsize = 18)\n",
    "plt.show()"
   ]
  },
  {
   "cell_type": "code",
   "execution_count": 16,
   "metadata": {
    "colab": {
     "base_uri": "https://localhost:8080/",
     "height": 68
    },
    "colab_type": "code",
    "id": "xfk9mnWCPudD",
    "outputId": "e6d6b9fb-4fb6-41ee-a0d9-0fb37ad3668f"
   },
   "outputs": [
    {
     "name": "stdout",
     "output_type": "stream",
     "text": [
      "r squared =  0.5488427996385263\n"
     ]
    }
   ],
   "source": [
    "#\n",
    "# calcualte the r squared value\n",
    "#\n",
    "r2 = r2_score(train_Y, y_pred)\n",
    "print('r squared = ', r2)"
   ]
  },
  {
   "cell_type": "code",
   "execution_count": 17,
   "metadata": {
    "colab": {},
    "colab_type": "code",
    "id": "23ISdFd3QOyk"
   },
   "outputs": [],
   "source": [
    "#\n",
    "# generate predictions for visualization\n",
    "#\n",
    "pred_X = train_X\n",
    "#\n",
    "# make predictions\n",
    "#\n",
    "pred_Y = h_x(Beta, pred_X)\n",
    "#\n",
    "# scale predictions back to real values\n",
    "#\n",
    "pred_Y = (pred_Y * Y_range) + Y_min\n",
    "#\n",
    "# replace the X with the original values\n",
    "#\n",
    "pred_X = df_group_year['Year']"
   ]
  },
  {
   "cell_type": "code",
   "execution_count": 18,
   "metadata": {},
   "outputs": [],
   "source": [
    "#\n",
    "# scale the coefficients back to real values\n",
    "#\n",
    "Beta0 = (Y_min + \n",
    "         Y_range * Beta[0, 0] - \n",
    "         Y_range * Beta[0, 1] * X_min / X_range)\n",
    "Beta1 = Y_range * Beta[0, 1] / X_range"
   ]
  },
  {
   "cell_type": "code",
   "execution_count": 19,
   "metadata": {
    "colab": {
     "base_uri": "https://localhost:8080/",
     "height": 608
    },
    "colab_type": "code",
    "id": "x8g_7JnVLogz",
    "outputId": "2bfc38dc-ef95-4ad6-ae0f-9ce8b77ff6d4"
   },
   "outputs": [
    {
     "data": {
      "image/png": "[encoded data removed]",
      "text/plain": [
       "<Figure size 720x504 with 1 Axes>"
      ]
     },
     "metadata": {
      "needs_background": "light"
     },
     "output_type": "display_data"
    }
   ],
   "source": [
    "fig = plt.figure(figsize=(10, 7))\n",
    "ax = fig.add_axes([1, 1, 1, 1])\n",
    "#\n",
    "# Raw data\n",
    "#\n",
    "raw_plot_data = df\n",
    "ax.scatter(raw_plot_data.Year, \n",
    "           raw_plot_data.RgnAvTemp, \n",
    "           label = 'Raw Data', \n",
    "           c = 'red',\n",
    "           s = 1.5)\n",
    "#\n",
    "# Annual averages\n",
    "#\n",
    "ax.scatter(df_group_year.Year, \n",
    "           df_group_year.AvTemp, \n",
    "           label = 'Annual average', \n",
    "           c = 'k',\n",
    "           s = 10)\n",
    "#\n",
    "# linear fit\n",
    "#\n",
    "ax.plot(pred_X, pred_Y, \n",
    "        c = \"blue\",\n",
    "        linestyle = '-.',\n",
    "        linewidth = 4,\n",
    "        label = 'linear fit')\n",
    "#\n",
    "# put the model on the plot\n",
    "#\n",
    "ax.text(1902, 20,\n",
    "        'Temp = ' + \n",
    "        str(round(Beta0, 2)) +\n",
    "        ' + ' +\n",
    "        str(round(Beta1, 4)) +\n",
    "        ' * Year',\n",
    "        fontsize = 16,\n",
    "        backgroundcolor = 'white')\n",
    "#\n",
    "ax.set_title('Mean Air Temperature Measurements',\n",
    "             fontsize = 16)\n",
    "#\n",
    "# make the ticks include the first and last years\n",
    "#\n",
    "tick_years = [1902] + list(range(1910, 2011, 10))\n",
    "ax.set_xlabel('Year', \n",
    "              fontsize = 14)\n",
    "ax.set_ylabel('Temperature ($^\\circ$C)', \n",
    "              fontsize = 14)\n",
    "ax.set_ylim(15, 21)\n",
    "ax.set_xticks(tick_years)\n",
    "ax.tick_params(labelsize = 12)\n",
    "ax.legend(fontsize = 12)\n",
    "plt.show()"
   ]
  },
  {
   "cell_type": "code",
   "execution_count": null,
   "metadata": {},
   "outputs": [],
   "source": []
  }
 ],
 "metadata": {
  "colab": {
   "collapsed_sections": [],
   "name": "Exercise 2.02.ipynb",
   "provenance": []
  },
  "kernelspec": {
   "display_name": "Python 3",
   "language": "python",
   "name": "python3"
  },
  "language_info": {
   "codemirror_mode": {
    "name": "ipython",
    "version": 3
   },
   "file_extension": ".py",
   "mimetype": "text/x-python",
   "name": "python",
   "nbconvert_exporter": "python",
   "pygments_lexer": "ipython3",
   "version": "3.7.6"
  }
 },
 "nbformat": 4,
 "nbformat_minor": 1
}
