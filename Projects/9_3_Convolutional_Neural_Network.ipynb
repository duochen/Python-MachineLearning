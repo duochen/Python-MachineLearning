{
 "cells": [
  {
   "cell_type": "markdown",
   "id": "5eae98ce",
   "metadata": {},
   "source": [
    "### From the book \"Python Machine Learning for Beginners\" by AI Publishing"
   ]
  },
  {
   "cell_type": "markdown",
   "id": "a371d10c",
   "metadata": {},
   "source": [
    "#### 9.4 Convolutional Neural Network (CNN)"
   ]
  },
  {
   "cell_type": "code",
   "execution_count": null,
   "id": "f55d32df",
   "metadata": {},
   "outputs": [],
   "source": [
    "# A convolutional neural network is a type of neural network that is used to \n",
    "# classify spatial data, for instance, images, sequences, etc. \n",
    "# In an image,each pixel is somehow related to some other pictures. \n",
    "# Looking at a single pixel, you cannot guess the image. Rather you have to \n",
    "# look at the complete picture to guess the image. A CNN does exactly that. \n",
    "# Using a kernel or feature detects, it detects features within an image. \n",
    "# A combination of these images then forms the complete image, which can \n",
    "# then be classified usinga densely connected neural network. "
   ]
  }
 ],
 "metadata": {
  "kernelspec": {
   "display_name": "Python 3 (ipykernel)",
   "language": "python",
   "name": "python3"
  },
  "language_info": {
   "codemirror_mode": {
    "name": "ipython",
    "version": 3
   },
   "file_extension": ".py",
   "mimetype": "text/x-python",
   "name": "python",
   "nbconvert_exporter": "python",
   "pygments_lexer": "ipython3",
   "version": "3.10.4"
  }
 },
 "nbformat": 4,
 "nbformat_minor": 5
}
