{
 "cells": [
  {
   "cell_type": "code",
   "execution_count": 1,
   "id": "94950932",
   "metadata": {},
   "outputs": [],
   "source": [
    "# Exercise 1.02: Creating Scalars, Vectors, Matrices, and Tensors in Tensorflow"
   ]
  },
  {
   "cell_type": "code",
   "execution_count": 2,
   "id": "ba474f84",
   "metadata": {},
   "outputs": [],
   "source": [
    "import tensorflow as tf"
   ]
  },
  {
   "cell_type": "code",
   "execution_count": 3,
   "id": "32d9b4d1",
   "metadata": {},
   "outputs": [
    {
     "data": {
      "text/plain": [
       "<tf.Variable 'Variable:0' shape=() dtype=int32, numpy=4113>"
      ]
     },
     "execution_count": 3,
     "metadata": {},
     "output_type": "execute_result"
    }
   ],
   "source": [
    "int_variable = tf.Variable(4113, tf.int16)\n",
    "int_variable"
   ]
  },
  {
   "cell_type": "code",
   "execution_count": 4,
   "id": "a5f2057a",
   "metadata": {},
   "outputs": [
    {
     "data": {
      "text/plain": [
       "<tf.Tensor: shape=(), dtype=int32, numpy=0>"
      ]
     },
     "execution_count": 4,
     "metadata": {},
     "output_type": "execute_result"
    }
   ],
   "source": [
    "tf.rank(int_variable)"
   ]
  },
  {
   "cell_type": "code",
   "execution_count": 5,
   "id": "52f52679",
   "metadata": {},
   "outputs": [
    {
     "data": {
      "text/plain": [
       "0"
      ]
     },
     "execution_count": 5,
     "metadata": {},
     "output_type": "execute_result"
    }
   ],
   "source": [
    "tf.rank(int_variable).numpy()"
   ]
  },
  {
   "cell_type": "code",
   "execution_count": 6,
   "id": "85c5a91a",
   "metadata": {},
   "outputs": [
    {
     "data": {
      "text/plain": [
       "TensorShape([])"
      ]
     },
     "execution_count": 6,
     "metadata": {},
     "output_type": "execute_result"
    }
   ],
   "source": [
    "int_variable.shape"
   ]
  },
  {
   "cell_type": "code",
   "execution_count": 7,
   "id": "998dd5e3",
   "metadata": {},
   "outputs": [
    {
     "data": {
      "text/plain": [
       "[]"
      ]
     },
     "execution_count": 7,
     "metadata": {},
     "output_type": "execute_result"
    }
   ],
   "source": [
    "int_variable.shape.as_list()"
   ]
  },
  {
   "cell_type": "code",
   "execution_count": 8,
   "id": "d599d0fb",
   "metadata": {},
   "outputs": [
    {
     "data": {
      "text/plain": [
       "<tf.Variable 'Variable:0' shape=(3,) dtype=float32, numpy=array([0.23, 0.42, 0.35], dtype=float32)>"
      ]
     },
     "execution_count": 8,
     "metadata": {},
     "output_type": "execute_result"
    }
   ],
   "source": [
    "vector_variable = tf.Variable([0.23, 0.42, 0.35], tf.float32)\n",
    "vector_variable"
   ]
  },
  {
   "cell_type": "code",
   "execution_count": 10,
   "id": "08243faf",
   "metadata": {},
   "outputs": [
    {
     "data": {
      "text/plain": [
       "1"
      ]
     },
     "execution_count": 10,
     "metadata": {},
     "output_type": "execute_result"
    }
   ],
   "source": [
    "tf.rank(vector_variable).numpy()"
   ]
  },
  {
   "cell_type": "code",
   "execution_count": 11,
   "id": "49474dc9",
   "metadata": {},
   "outputs": [
    {
     "data": {
      "text/plain": [
       "[3]"
      ]
     },
     "execution_count": 11,
     "metadata": {},
     "output_type": "execute_result"
    }
   ],
   "source": [
    "vector_variable.shape.as_list()"
   ]
  },
  {
   "cell_type": "code",
   "execution_count": 12,
   "id": "f89c76ee",
   "metadata": {},
   "outputs": [
    {
     "data": {
      "text/plain": [
       "<tf.Variable 'Variable:0' shape=(2, 3) dtype=int32, numpy=\n",
       "array([[4113, 7511, 6259],\n",
       "       [3870, 6725, 6962]])>"
      ]
     },
     "execution_count": 12,
     "metadata": {},
     "output_type": "execute_result"
    }
   ],
   "source": [
    "matrix_variable = tf.Variable([[4113, 7511, 6259], [ 3870, 6725, 6962]], tf.int32)\n",
    "matrix_variable"
   ]
  },
  {
   "cell_type": "code",
   "execution_count": 13,
   "id": "867d1d51",
   "metadata": {},
   "outputs": [
    {
     "data": {
      "text/plain": [
       "2"
      ]
     },
     "execution_count": 13,
     "metadata": {},
     "output_type": "execute_result"
    }
   ],
   "source": [
    "tf.rank(matrix_variable).numpy()"
   ]
  },
  {
   "cell_type": "code",
   "execution_count": 14,
   "id": "299eb3e7",
   "metadata": {},
   "outputs": [
    {
     "data": {
      "text/plain": [
       "[2, 3]"
      ]
     },
     "execution_count": 14,
     "metadata": {},
     "output_type": "execute_result"
    }
   ],
   "source": [
    "matrix_variable.shape.as_list()"
   ]
  },
  {
   "cell_type": "code",
   "execution_count": 16,
   "id": "1b916784",
   "metadata": {},
   "outputs": [
    {
     "data": {
      "text/plain": [
       "<tf.Variable 'Variable:0' shape=(3, 2, 3) dtype=int32, numpy=\n",
       "array([[[4113, 7511, 6259],\n",
       "        [3870, 6725, 6962]],\n",
       "\n",
       "       [[5102, 7038, 6591],\n",
       "        [3661, 5901, 6235]],\n",
       "\n",
       "       [[ 951, 1208, 1098],\n",
       "        [ 870,  645,  948]]])>"
      ]
     },
     "execution_count": 16,
     "metadata": {},
     "output_type": "execute_result"
    }
   ],
   "source": [
    "tensor_variable = \\\n",
    "tf.Variable([[[4113, 7511,6259],\\\n",
    "              [3870,6725,6962]],\\\n",
    "             [[5102,7038,6591],\\\n",
    "              [3661,5901,6235]],\\\n",
    "             [[951,1208,1098],\\\n",
    "              [870,645,948]]])\n",
    "tensor_variable"
   ]
  },
  {
   "cell_type": "code",
   "execution_count": 17,
   "id": "beb08c09",
   "metadata": {},
   "outputs": [
    {
     "data": {
      "text/plain": [
       "3"
      ]
     },
     "execution_count": 17,
     "metadata": {},
     "output_type": "execute_result"
    }
   ],
   "source": [
    "tf.rank(tensor_variable).numpy()"
   ]
  },
  {
   "cell_type": "code",
   "execution_count": 18,
   "id": "2f9d21bc",
   "metadata": {},
   "outputs": [
    {
     "data": {
      "text/plain": [
       "[3, 2, 3]"
      ]
     },
     "execution_count": 18,
     "metadata": {},
     "output_type": "execute_result"
    }
   ],
   "source": [
    "tensor_variable.shape.as_list()"
   ]
  },
  {
   "cell_type": "code",
   "execution_count": null,
   "id": "a5cdadac",
   "metadata": {},
   "outputs": [],
   "source": []
  }
 ],
 "metadata": {
  "kernelspec": {
   "display_name": "Python 3 (ipykernel)",
   "language": "python",
   "name": "python3"
  },
  "language_info": {
   "codemirror_mode": {
    "name": "ipython",
    "version": 3
   },
   "file_extension": ".py",
   "mimetype": "text/x-python",
   "name": "python",
   "nbconvert_exporter": "python",
   "pygments_lexer": "ipython3",
   "version": "3.9.7"
  }
 },
 "nbformat": 4,
 "nbformat_minor": 5
}
