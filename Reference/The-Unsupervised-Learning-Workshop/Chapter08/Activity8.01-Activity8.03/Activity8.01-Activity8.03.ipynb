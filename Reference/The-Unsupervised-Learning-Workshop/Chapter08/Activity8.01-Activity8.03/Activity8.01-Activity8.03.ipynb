{
  "nbformat": 4,
  "nbformat_minor": 0,
  "metadata": {
    "kernelspec": {
      "display_name": "Python 3",
      "language": "python",
      "name": "python3"
    },
    "language_info": {
      "codemirror_mode": {
        "name": "ipython",
        "version": 3
      },
      "file_extension": ".py",
      "mimetype": "text/x-python",
      "name": "python",
      "nbconvert_exporter": "python",
      "pygments_lexer": "ipython3",
      "version": "3.7.4"
    },
    "colab": {
      "name": "Activity8.01-Activity8.03.ipynb",
      "provenance": []
    }
  },
  "cells": [
    {
      "cell_type": "markdown",
      "metadata": {
        "id": "x36AKxXHKAlK",
        "colab_type": "text"
      },
      "source": [
        "# CH. 8 - Market Basket Analysis\n",
        "## Activities"
      ]
    },
    {
      "cell_type": "markdown",
      "metadata": {
        "id": "Lth9lWkCKAlL",
        "colab_type": "text"
      },
      "source": [
        "#### Activity 8.01: Load and Prep Full Online Retail Data"
      ]
    },
    {
      "cell_type": "code",
      "metadata": {
        "id": "hd1J31Z1KAlN",
        "colab_type": "code",
        "colab": {}
      },
      "source": [
        "import matplotlib.pyplot as plt\n",
        "import mlxtend.frequent_patterns\n",
        "import mlxtend.preprocessing\n",
        "import numpy\n",
        "import pandas"
      ],
      "execution_count": 0,
      "outputs": []
    },
    {
      "cell_type": "code",
      "metadata": {
        "id": "Z3juDYy-KAlQ",
        "colab_type": "code",
        "colab": {}
      },
      "source": [
        "online = pandas.read_excel(\n",
        "    io=\"./Online Retail.xlsx\", \n",
        "    sheet_name=\"Online Retail\", \n",
        "    header=0\n",
        ")"
      ],
      "execution_count": 0,
      "outputs": []
    },
    {
      "cell_type": "code",
      "metadata": {
        "id": "wDIdQURJKAlV",
        "colab_type": "code",
        "colab": {}
      },
      "source": [
        "online['IsCPresent'] = (\n",
        "    online['InvoiceNo']\n",
        "    .astype(str)\n",
        "    .apply(lambda x: 1 if x.find('C') != -1 else 0)\n",
        ")"
      ],
      "execution_count": 0,
      "outputs": []
    },
    {
      "cell_type": "code",
      "metadata": {
        "id": "M1n_NVp9KAlY",
        "colab_type": "code",
        "colab": {}
      },
      "source": [
        "online1 = (\n",
        "    online\n",
        "    .loc[online[\"Quantity\"] > 0]\n",
        "    .loc[online['IsCPresent'] != 1]\n",
        "    .loc[:, [\"InvoiceNo\", \"Description\"]]\n",
        "    .dropna()\n",
        ")"
      ],
      "execution_count": 0,
      "outputs": []
    },
    {
      "cell_type": "code",
      "metadata": {
        "id": "jt0DLSwDKAlb",
        "colab_type": "code",
        "colab": {}
      },
      "source": [
        "invoice_item_list = []\n",
        "for num in list(set(online1.InvoiceNo.tolist())):\n",
        "    tmp_df = online1.loc[online1['InvoiceNo'] == num]\n",
        "    tmp_items = tmp_df.Description.tolist()\n",
        "    invoice_item_list.append(tmp_items)"
      ],
      "execution_count": 0,
      "outputs": []
    },
    {
      "cell_type": "code",
      "metadata": {
        "id": "K5lmMUdkKAle",
        "colab_type": "code",
        "colab": {}
      },
      "source": [
        "online_encoder = mlxtend.preprocessing.TransactionEncoder()\n",
        "online_encoder_array = online_encoder.fit_transform(invoice_item_list)"
      ],
      "execution_count": 0,
      "outputs": []
    },
    {
      "cell_type": "code",
      "metadata": {
        "id": "ucTEHvXNKAlk",
        "colab_type": "code",
        "colab": {}
      },
      "source": [
        "online_encoder_df = pandas.DataFrame(\n",
        "    online_encoder_array, \n",
        "    columns=online_encoder.columns_\n",
        ")"
      ],
      "execution_count": 0,
      "outputs": []
    },
    {
      "cell_type": "code",
      "metadata": {
        "id": "KVydoDUTKAln",
        "colab_type": "code",
        "colab": {
          "base_uri": "https://localhost:8080/",
          "height": 407
        },
        "outputId": "98b3c327-667a-4a6c-dedf-782935f9d586"
      },
      "source": [
        "## COL in different order\n",
        "online_encoder_df.loc[\n",
        "    20125:20135, \n",
        "    online_encoder_df.columns.tolist()[100:110]\n",
        "]"
      ],
      "execution_count": 12,
      "outputs": [
        {
          "output_type": "execute_result",
          "data": {
            "text/html": [
              "<div>\n",
              "<style scoped>\n",
              "    .dataframe tbody tr th:only-of-type {\n",
              "        vertical-align: middle;\n",
              "    }\n",
              "\n",
              "    .dataframe tbody tr th {\n",
              "        vertical-align: top;\n",
              "    }\n",
              "\n",
              "    .dataframe thead th {\n",
              "        text-align: right;\n",
              "    }\n",
              "</style>\n",
              "<table border=\"1\" class=\"dataframe\">\n",
              "  <thead>\n",
              "    <tr style=\"text-align: right;\">\n",
              "      <th></th>\n",
              "      <th>6 CHOCOLATE LOVE HEART T-LIGHTS</th>\n",
              "      <th>6 EGG HOUSE PAINTED WOOD</th>\n",
              "      <th>6 GIFT TAGS 50'S CHRISTMAS</th>\n",
              "      <th>6 GIFT TAGS VINTAGE CHRISTMAS</th>\n",
              "      <th>6 RIBBONS ELEGANT CHRISTMAS</th>\n",
              "      <th>6 RIBBONS EMPIRE</th>\n",
              "      <th>6 RIBBONS RUSTIC CHARM</th>\n",
              "      <th>6 RIBBONS SHIMMERING PINKS</th>\n",
              "      <th>6 ROCKET BALLOONS</th>\n",
              "      <th>60 CAKE CASES DOLLY GIRL DESIGN</th>\n",
              "    </tr>\n",
              "  </thead>\n",
              "  <tbody>\n",
              "    <tr>\n",
              "      <th>20125</th>\n",
              "      <td>False</td>\n",
              "      <td>False</td>\n",
              "      <td>False</td>\n",
              "      <td>False</td>\n",
              "      <td>False</td>\n",
              "      <td>False</td>\n",
              "      <td>False</td>\n",
              "      <td>False</td>\n",
              "      <td>False</td>\n",
              "      <td>False</td>\n",
              "    </tr>\n",
              "    <tr>\n",
              "      <th>20126</th>\n",
              "      <td>False</td>\n",
              "      <td>False</td>\n",
              "      <td>False</td>\n",
              "      <td>False</td>\n",
              "      <td>False</td>\n",
              "      <td>False</td>\n",
              "      <td>False</td>\n",
              "      <td>False</td>\n",
              "      <td>False</td>\n",
              "      <td>False</td>\n",
              "    </tr>\n",
              "    <tr>\n",
              "      <th>20127</th>\n",
              "      <td>False</td>\n",
              "      <td>False</td>\n",
              "      <td>False</td>\n",
              "      <td>False</td>\n",
              "      <td>False</td>\n",
              "      <td>False</td>\n",
              "      <td>False</td>\n",
              "      <td>False</td>\n",
              "      <td>False</td>\n",
              "      <td>False</td>\n",
              "    </tr>\n",
              "    <tr>\n",
              "      <th>20128</th>\n",
              "      <td>False</td>\n",
              "      <td>False</td>\n",
              "      <td>False</td>\n",
              "      <td>False</td>\n",
              "      <td>False</td>\n",
              "      <td>False</td>\n",
              "      <td>False</td>\n",
              "      <td>False</td>\n",
              "      <td>False</td>\n",
              "      <td>False</td>\n",
              "    </tr>\n",
              "    <tr>\n",
              "      <th>20129</th>\n",
              "      <td>False</td>\n",
              "      <td>False</td>\n",
              "      <td>False</td>\n",
              "      <td>False</td>\n",
              "      <td>False</td>\n",
              "      <td>False</td>\n",
              "      <td>False</td>\n",
              "      <td>False</td>\n",
              "      <td>False</td>\n",
              "      <td>False</td>\n",
              "    </tr>\n",
              "    <tr>\n",
              "      <th>20130</th>\n",
              "      <td>False</td>\n",
              "      <td>False</td>\n",
              "      <td>False</td>\n",
              "      <td>False</td>\n",
              "      <td>False</td>\n",
              "      <td>False</td>\n",
              "      <td>False</td>\n",
              "      <td>False</td>\n",
              "      <td>False</td>\n",
              "      <td>False</td>\n",
              "    </tr>\n",
              "    <tr>\n",
              "      <th>20131</th>\n",
              "      <td>False</td>\n",
              "      <td>False</td>\n",
              "      <td>False</td>\n",
              "      <td>False</td>\n",
              "      <td>False</td>\n",
              "      <td>False</td>\n",
              "      <td>False</td>\n",
              "      <td>False</td>\n",
              "      <td>False</td>\n",
              "      <td>False</td>\n",
              "    </tr>\n",
              "    <tr>\n",
              "      <th>20132</th>\n",
              "      <td>False</td>\n",
              "      <td>False</td>\n",
              "      <td>False</td>\n",
              "      <td>False</td>\n",
              "      <td>False</td>\n",
              "      <td>False</td>\n",
              "      <td>False</td>\n",
              "      <td>False</td>\n",
              "      <td>False</td>\n",
              "      <td>False</td>\n",
              "    </tr>\n",
              "    <tr>\n",
              "      <th>20133</th>\n",
              "      <td>False</td>\n",
              "      <td>False</td>\n",
              "      <td>False</td>\n",
              "      <td>False</td>\n",
              "      <td>False</td>\n",
              "      <td>False</td>\n",
              "      <td>False</td>\n",
              "      <td>False</td>\n",
              "      <td>False</td>\n",
              "      <td>False</td>\n",
              "    </tr>\n",
              "    <tr>\n",
              "      <th>20134</th>\n",
              "      <td>False</td>\n",
              "      <td>False</td>\n",
              "      <td>False</td>\n",
              "      <td>False</td>\n",
              "      <td>False</td>\n",
              "      <td>False</td>\n",
              "      <td>False</td>\n",
              "      <td>False</td>\n",
              "      <td>False</td>\n",
              "      <td>False</td>\n",
              "    </tr>\n",
              "    <tr>\n",
              "      <th>20135</th>\n",
              "      <td>False</td>\n",
              "      <td>False</td>\n",
              "      <td>False</td>\n",
              "      <td>False</td>\n",
              "      <td>False</td>\n",
              "      <td>False</td>\n",
              "      <td>False</td>\n",
              "      <td>False</td>\n",
              "      <td>False</td>\n",
              "      <td>False</td>\n",
              "    </tr>\n",
              "  </tbody>\n",
              "</table>\n",
              "</div>"
            ],
            "text/plain": [
              "       6 CHOCOLATE LOVE HEART T-LIGHTS  ...  60 CAKE CASES DOLLY GIRL DESIGN\n",
              "20125                            False  ...                            False\n",
              "20126                            False  ...                            False\n",
              "20127                            False  ...                            False\n",
              "20128                            False  ...                            False\n",
              "20129                            False  ...                            False\n",
              "20130                            False  ...                            False\n",
              "20131                            False  ...                            False\n",
              "20132                            False  ...                            False\n",
              "20133                            False  ...                            False\n",
              "20134                            False  ...                            False\n",
              "20135                            False  ...                            False\n",
              "\n",
              "[11 rows x 10 columns]"
            ]
          },
          "metadata": {
            "tags": []
          },
          "execution_count": 12
        }
      ]
    },
    {
      "cell_type": "markdown",
      "metadata": {
        "id": "JfUkBEFsKAlq",
        "colab_type": "text"
      },
      "source": [
        "#### Activity 8.02: Apriori on the Complete Online Retail Data Set"
      ]
    },
    {
      "cell_type": "code",
      "metadata": {
        "id": "mB_-hUvNKAlr",
        "colab_type": "code",
        "colab": {
          "base_uri": "https://localhost:8080/",
          "height": 266
        },
        "outputId": "7590a9d9-7b1a-4cec-8d93-355f18519535"
      },
      "source": [
        "mod_colnames_minsupport = mlxtend.frequent_patterns.apriori(\n",
        "    online_encoder_df, \n",
        "    min_support=0.01,\n",
        "    use_colnames=True\n",
        ")\n",
        "mod_colnames_minsupport.loc[0:6]"
      ],
      "execution_count": 13,
      "outputs": [
        {
          "output_type": "execute_result",
          "data": {
            "text/html": [
              "<div>\n",
              "<style scoped>\n",
              "    .dataframe tbody tr th:only-of-type {\n",
              "        vertical-align: middle;\n",
              "    }\n",
              "\n",
              "    .dataframe tbody tr th {\n",
              "        vertical-align: top;\n",
              "    }\n",
              "\n",
              "    .dataframe thead th {\n",
              "        text-align: right;\n",
              "    }\n",
              "</style>\n",
              "<table border=\"1\" class=\"dataframe\">\n",
              "  <thead>\n",
              "    <tr style=\"text-align: right;\">\n",
              "      <th></th>\n",
              "      <th>support</th>\n",
              "      <th>itemsets</th>\n",
              "    </tr>\n",
              "  </thead>\n",
              "  <tbody>\n",
              "    <tr>\n",
              "      <th>0</th>\n",
              "      <td>0.013359</td>\n",
              "      <td>( SET 2 TEA TOWELS I LOVE LONDON )</td>\n",
              "    </tr>\n",
              "    <tr>\n",
              "      <th>1</th>\n",
              "      <td>0.015793</td>\n",
              "      <td>(10 COLOUR SPACEBOY PEN)</td>\n",
              "    </tr>\n",
              "    <tr>\n",
              "      <th>2</th>\n",
              "      <td>0.012465</td>\n",
              "      <td>(12 MESSAGE CARDS WITH ENVELOPES)</td>\n",
              "    </tr>\n",
              "    <tr>\n",
              "      <th>3</th>\n",
              "      <td>0.017630</td>\n",
              "      <td>(12 PENCIL SMALL TUBE WOODLAND)</td>\n",
              "    </tr>\n",
              "    <tr>\n",
              "      <th>4</th>\n",
              "      <td>0.017978</td>\n",
              "      <td>(12 PENCILS SMALL TUBE RED RETROSPOT)</td>\n",
              "    </tr>\n",
              "    <tr>\n",
              "      <th>5</th>\n",
              "      <td>0.017630</td>\n",
              "      <td>(12 PENCILS SMALL TUBE SKULL)</td>\n",
              "    </tr>\n",
              "    <tr>\n",
              "      <th>6</th>\n",
              "      <td>0.013309</td>\n",
              "      <td>(12 PENCILS TALL TUBE RED RETROSPOT)</td>\n",
              "    </tr>\n",
              "  </tbody>\n",
              "</table>\n",
              "</div>"
            ],
            "text/plain": [
              "    support                               itemsets\n",
              "0  0.013359     ( SET 2 TEA TOWELS I LOVE LONDON )\n",
              "1  0.015793               (10 COLOUR SPACEBOY PEN)\n",
              "2  0.012465      (12 MESSAGE CARDS WITH ENVELOPES)\n",
              "3  0.017630        (12 PENCIL SMALL TUBE WOODLAND)\n",
              "4  0.017978  (12 PENCILS SMALL TUBE RED RETROSPOT)\n",
              "5  0.017630          (12 PENCILS SMALL TUBE SKULL)\n",
              "6  0.013309   (12 PENCILS TALL TUBE RED RETROSPOT)"
            ]
          },
          "metadata": {
            "tags": []
          },
          "execution_count": 13
        }
      ]
    },
    {
      "cell_type": "code",
      "metadata": {
        "id": "KvuU27O4KAlv",
        "colab_type": "code",
        "colab": {
          "base_uri": "https://localhost:8080/",
          "height": 80
        },
        "outputId": "3934f05d-e9cf-43fe-bf49-abd6bfff1335"
      },
      "source": [
        "mod_colnames_minsupport[\n",
        "    mod_colnames_minsupport['itemsets'] == frozenset(\n",
        "        {'10 COLOUR SPACEBOY PEN'}\n",
        "    )\n",
        "]"
      ],
      "execution_count": 14,
      "outputs": [
        {
          "output_type": "execute_result",
          "data": {
            "text/html": [
              "<div>\n",
              "<style scoped>\n",
              "    .dataframe tbody tr th:only-of-type {\n",
              "        vertical-align: middle;\n",
              "    }\n",
              "\n",
              "    .dataframe tbody tr th {\n",
              "        vertical-align: top;\n",
              "    }\n",
              "\n",
              "    .dataframe thead th {\n",
              "        text-align: right;\n",
              "    }\n",
              "</style>\n",
              "<table border=\"1\" class=\"dataframe\">\n",
              "  <thead>\n",
              "    <tr style=\"text-align: right;\">\n",
              "      <th></th>\n",
              "      <th>support</th>\n",
              "      <th>itemsets</th>\n",
              "    </tr>\n",
              "  </thead>\n",
              "  <tbody>\n",
              "    <tr>\n",
              "      <th>1</th>\n",
              "      <td>0.015793</td>\n",
              "      <td>(10 COLOUR SPACEBOY PEN)</td>\n",
              "    </tr>\n",
              "  </tbody>\n",
              "</table>\n",
              "</div>"
            ],
            "text/plain": [
              "    support                  itemsets\n",
              "1  0.015793  (10 COLOUR SPACEBOY PEN)"
            ]
          },
          "metadata": {
            "tags": []
          },
          "execution_count": 14
        }
      ]
    },
    {
      "cell_type": "code",
      "metadata": {
        "id": "MONK0fJlKAly",
        "colab_type": "code",
        "colab": {}
      },
      "source": [
        "mod_colnames_minsupport['length'] = (\n",
        "    mod_colnames_minsupport['itemsets'].apply(lambda x: len(x))\n",
        ")"
      ],
      "execution_count": 0,
      "outputs": []
    },
    {
      "cell_type": "code",
      "metadata": {
        "id": "kT-V_WhcKAl2",
        "colab_type": "code",
        "colab": {
          "base_uri": "https://localhost:8080/",
          "height": 576
        },
        "outputId": "701deaa4-b3ee-45d5-8d6e-6662b6079881"
      },
      "source": [
        "## item set order different\n",
        "\n",
        "mod_colnames_minsupport[\n",
        "    (mod_colnames_minsupport['length'] == 2) & \n",
        "    (mod_colnames_minsupport['support'] >= 0.02) &\n",
        "    (mod_colnames_minsupport['support'] < 0.021)\n",
        "]"
      ],
      "execution_count": 16,
      "outputs": [
        {
          "output_type": "execute_result",
          "data": {
            "text/html": [
              "<div>\n",
              "<style scoped>\n",
              "    .dataframe tbody tr th:only-of-type {\n",
              "        vertical-align: middle;\n",
              "    }\n",
              "\n",
              "    .dataframe tbody tr th {\n",
              "        vertical-align: top;\n",
              "    }\n",
              "\n",
              "    .dataframe thead th {\n",
              "        text-align: right;\n",
              "    }\n",
              "</style>\n",
              "<table border=\"1\" class=\"dataframe\">\n",
              "  <thead>\n",
              "    <tr style=\"text-align: right;\">\n",
              "      <th></th>\n",
              "      <th>support</th>\n",
              "      <th>itemsets</th>\n",
              "      <th>length</th>\n",
              "    </tr>\n",
              "  </thead>\n",
              "  <tbody>\n",
              "    <tr>\n",
              "      <th>836</th>\n",
              "      <td>0.020759</td>\n",
              "      <td>(ALARM CLOCK BAKELIKE GREEN, ALARM CLOCK BAKEL...</td>\n",
              "      <td>2</td>\n",
              "    </tr>\n",
              "    <tr>\n",
              "      <th>887</th>\n",
              "      <td>0.020362</td>\n",
              "      <td>(CHARLOTTE BAG SUKI DESIGN, CHARLOTTE BAG PINK...</td>\n",
              "      <td>2</td>\n",
              "    </tr>\n",
              "    <tr>\n",
              "      <th>923</th>\n",
              "      <td>0.020610</td>\n",
              "      <td>(CHARLOTTE BAG SUKI DESIGN, STRAWBERRY CHARLOT...</td>\n",
              "      <td>2</td>\n",
              "    </tr>\n",
              "    <tr>\n",
              "      <th>1105</th>\n",
              "      <td>0.020560</td>\n",
              "      <td>(JUMBO BAG PINK POLKADOT, JUMBO  BAG BAROQUE B...</td>\n",
              "      <td>2</td>\n",
              "    </tr>\n",
              "    <tr>\n",
              "      <th>1114</th>\n",
              "      <td>0.020908</td>\n",
              "      <td>(JUMBO SHOPPER VINTAGE RED PAISLEY, JUMBO  BAG...</td>\n",
              "      <td>2</td>\n",
              "    </tr>\n",
              "    <tr>\n",
              "      <th>1116</th>\n",
              "      <td>0.020957</td>\n",
              "      <td>(JUMBO  BAG BAROQUE BLACK WHITE, JUMBO STORAGE...</td>\n",
              "      <td>2</td>\n",
              "    </tr>\n",
              "    <tr>\n",
              "      <th>1129</th>\n",
              "      <td>0.020560</td>\n",
              "      <td>(JUMBO BAG ALPHABET, JUMBO BAG RED RETROSPOT)</td>\n",
              "      <td>2</td>\n",
              "    </tr>\n",
              "    <tr>\n",
              "      <th>1137</th>\n",
              "      <td>0.020163</td>\n",
              "      <td>(JUMBO BAG APPLES, JUMBO BAG PEARS)</td>\n",
              "      <td>2</td>\n",
              "    </tr>\n",
              "    <tr>\n",
              "      <th>1203</th>\n",
              "      <td>0.020709</td>\n",
              "      <td>(JUMBO BAG PINK VINTAGE PAISLEY, JUMBO SHOPPER...</td>\n",
              "      <td>2</td>\n",
              "    </tr>\n",
              "    <tr>\n",
              "      <th>1218</th>\n",
              "      <td>0.020560</td>\n",
              "      <td>(JUMBO BAG RED RETROSPOT, JUMBO STORAGE BAG SK...</td>\n",
              "      <td>2</td>\n",
              "    </tr>\n",
              "    <tr>\n",
              "      <th>1236</th>\n",
              "      <td>0.020610</td>\n",
              "      <td>(JUMBO BAG RED RETROSPOT, RECYCLING BAG RETROS...</td>\n",
              "      <td>2</td>\n",
              "    </tr>\n",
              "    <tr>\n",
              "      <th>1328</th>\n",
              "      <td>0.020610</td>\n",
              "      <td>(LUNCH BAG  BLACK SKULL., LUNCH BAG APPLE DESIGN)</td>\n",
              "      <td>2</td>\n",
              "    </tr>\n",
              "    <tr>\n",
              "      <th>1390</th>\n",
              "      <td>0.020610</td>\n",
              "      <td>(LUNCH BAG SUKI DESIGN , LUNCH BAG PINK POLKADOT)</td>\n",
              "      <td>2</td>\n",
              "    </tr>\n",
              "    <tr>\n",
              "      <th>1458</th>\n",
              "      <td>0.020610</td>\n",
              "      <td>(NATURAL SLATE HEART CHALKBOARD , WHITE HANGIN...</td>\n",
              "      <td>2</td>\n",
              "    </tr>\n",
              "    <tr>\n",
              "      <th>1581</th>\n",
              "      <td>0.020362</td>\n",
              "      <td>(SET OF 3 CAKE TINS PANTRY DESIGN , SET OF 6 S...</td>\n",
              "      <td>2</td>\n",
              "    </tr>\n",
              "    <tr>\n",
              "      <th>1607</th>\n",
              "      <td>0.020163</td>\n",
              "      <td>(WOODLAND CHARLOTTE BAG, STRAWBERRY CHARLOTTE ...</td>\n",
              "      <td>2</td>\n",
              "    </tr>\n",
              "    <tr>\n",
              "      <th>1615</th>\n",
              "      <td>0.020262</td>\n",
              "      <td>(WHITE HANGING HEART T-LIGHT HOLDER, WOODEN PI...</td>\n",
              "      <td>2</td>\n",
              "    </tr>\n",
              "  </tbody>\n",
              "</table>\n",
              "</div>"
            ],
            "text/plain": [
              "       support                                           itemsets  length\n",
              "836   0.020759  (ALARM CLOCK BAKELIKE GREEN, ALARM CLOCK BAKEL...       2\n",
              "887   0.020362  (CHARLOTTE BAG SUKI DESIGN, CHARLOTTE BAG PINK...       2\n",
              "923   0.020610  (CHARLOTTE BAG SUKI DESIGN, STRAWBERRY CHARLOT...       2\n",
              "1105  0.020560  (JUMBO BAG PINK POLKADOT, JUMBO  BAG BAROQUE B...       2\n",
              "1114  0.020908  (JUMBO SHOPPER VINTAGE RED PAISLEY, JUMBO  BAG...       2\n",
              "1116  0.020957  (JUMBO  BAG BAROQUE BLACK WHITE, JUMBO STORAGE...       2\n",
              "1129  0.020560      (JUMBO BAG ALPHABET, JUMBO BAG RED RETROSPOT)       2\n",
              "1137  0.020163                (JUMBO BAG APPLES, JUMBO BAG PEARS)       2\n",
              "1203  0.020709  (JUMBO BAG PINK VINTAGE PAISLEY, JUMBO SHOPPER...       2\n",
              "1218  0.020560  (JUMBO BAG RED RETROSPOT, JUMBO STORAGE BAG SK...       2\n",
              "1236  0.020610  (JUMBO BAG RED RETROSPOT, RECYCLING BAG RETROS...       2\n",
              "1328  0.020610  (LUNCH BAG  BLACK SKULL., LUNCH BAG APPLE DESIGN)       2\n",
              "1390  0.020610  (LUNCH BAG SUKI DESIGN , LUNCH BAG PINK POLKADOT)       2\n",
              "1458  0.020610  (NATURAL SLATE HEART CHALKBOARD , WHITE HANGIN...       2\n",
              "1581  0.020362  (SET OF 3 CAKE TINS PANTRY DESIGN , SET OF 6 S...       2\n",
              "1607  0.020163  (WOODLAND CHARLOTTE BAG, STRAWBERRY CHARLOTTE ...       2\n",
              "1615  0.020262  (WHITE HANGING HEART T-LIGHT HOLDER, WOODEN PI...       2"
            ]
          },
          "metadata": {
            "tags": []
          },
          "execution_count": 16
        }
      ]
    },
    {
      "cell_type": "code",
      "metadata": {
        "id": "PnYf_CcbKAl5",
        "colab_type": "code",
        "colab": {
          "base_uri": "https://localhost:8080/",
          "height": 295
        },
        "outputId": "22d07c97-0734-44d5-c65d-5cd6084f7fac"
      },
      "source": [
        "mod_colnames_minsupport.hist(\"support\", grid=False, bins=30)\n",
        "plt.xlabel(\"Support of item\")\n",
        "plt.ylabel(\"Number of items\")\n",
        "plt.title(\"Frequency distribution of Support\")\n",
        "plt.show() "
      ],
      "execution_count": 17,
      "outputs": [
        {
          "output_type": "display_data",
          "data": {
            "image/png": "[encoded data removed]",
            "text/plain": [
              "<Figure size 432x288 with 1 Axes>"
            ]
          },
          "metadata": {
            "tags": []
          }
        }
      ]
    },
    {
      "cell_type": "markdown",
      "metadata": {
        "id": "M7gJ0JJBKAl8",
        "colab_type": "text"
      },
      "source": [
        "#### Activity 8.03: Find the Association Rules on the Complete Online Retail Data Set"
      ]
    },
    {
      "cell_type": "code",
      "metadata": {
        "id": "R_HrFM6gKAl9",
        "colab_type": "code",
        "colab": {
          "base_uri": "https://localhost:8080/",
          "height": 266
        },
        "outputId": "6cb4e80e-74be-4e4e-a5ca-ba76189f55e6"
      },
      "source": [
        "rules = mlxtend.frequent_patterns.association_rules(\n",
        "    mod_colnames_minsupport, \n",
        "    metric=\"confidence\",\n",
        "    min_threshold=0.6, \n",
        "    support_only=False\n",
        ")\n",
        "\n",
        "rules.loc[0:6]"
      ],
      "execution_count": 18,
      "outputs": [
        {
          "output_type": "execute_result",
          "data": {
            "text/html": [
              "<div>\n",
              "<style scoped>\n",
              "    .dataframe tbody tr th:only-of-type {\n",
              "        vertical-align: middle;\n",
              "    }\n",
              "\n",
              "    .dataframe tbody tr th {\n",
              "        vertical-align: top;\n",
              "    }\n",
              "\n",
              "    .dataframe thead th {\n",
              "        text-align: right;\n",
              "    }\n",
              "</style>\n",
              "<table border=\"1\" class=\"dataframe\">\n",
              "  <thead>\n",
              "    <tr style=\"text-align: right;\">\n",
              "      <th></th>\n",
              "      <th>antecedents</th>\n",
              "      <th>consequents</th>\n",
              "      <th>antecedent support</th>\n",
              "      <th>consequent support</th>\n",
              "      <th>support</th>\n",
              "      <th>confidence</th>\n",
              "      <th>lift</th>\n",
              "      <th>leverage</th>\n",
              "      <th>conviction</th>\n",
              "    </tr>\n",
              "  </thead>\n",
              "  <tbody>\n",
              "    <tr>\n",
              "      <th>0</th>\n",
              "      <td>(ALARM CLOCK BAKELIKE CHOCOLATE)</td>\n",
              "      <td>(ALARM CLOCK BAKELIKE GREEN)</td>\n",
              "      <td>0.021255</td>\n",
              "      <td>0.048669</td>\n",
              "      <td>0.013756</td>\n",
              "      <td>0.647196</td>\n",
              "      <td>13.297902</td>\n",
              "      <td>0.012722</td>\n",
              "      <td>2.696488</td>\n",
              "    </tr>\n",
              "    <tr>\n",
              "      <th>1</th>\n",
              "      <td>(ALARM CLOCK BAKELIKE CHOCOLATE)</td>\n",
              "      <td>(ALARM CLOCK BAKELIKE RED )</td>\n",
              "      <td>0.021255</td>\n",
              "      <td>0.052195</td>\n",
              "      <td>0.014501</td>\n",
              "      <td>0.682243</td>\n",
              "      <td>13.071023</td>\n",
              "      <td>0.013392</td>\n",
              "      <td>2.982798</td>\n",
              "    </tr>\n",
              "    <tr>\n",
              "      <th>2</th>\n",
              "      <td>(ALARM CLOCK BAKELIKE ORANGE)</td>\n",
              "      <td>(ALARM CLOCK BAKELIKE GREEN)</td>\n",
              "      <td>0.022100</td>\n",
              "      <td>0.048669</td>\n",
              "      <td>0.013558</td>\n",
              "      <td>0.613483</td>\n",
              "      <td>12.605201</td>\n",
              "      <td>0.012482</td>\n",
              "      <td>2.461292</td>\n",
              "    </tr>\n",
              "    <tr>\n",
              "      <th>3</th>\n",
              "      <td>(ALARM CLOCK BAKELIKE GREEN)</td>\n",
              "      <td>(ALARM CLOCK BAKELIKE RED )</td>\n",
              "      <td>0.048669</td>\n",
              "      <td>0.052195</td>\n",
              "      <td>0.031784</td>\n",
              "      <td>0.653061</td>\n",
              "      <td>12.511932</td>\n",
              "      <td>0.029244</td>\n",
              "      <td>2.731908</td>\n",
              "    </tr>\n",
              "    <tr>\n",
              "      <th>4</th>\n",
              "      <td>(ALARM CLOCK BAKELIKE RED )</td>\n",
              "      <td>(ALARM CLOCK BAKELIKE GREEN)</td>\n",
              "      <td>0.052195</td>\n",
              "      <td>0.048669</td>\n",
              "      <td>0.031784</td>\n",
              "      <td>0.608944</td>\n",
              "      <td>12.511932</td>\n",
              "      <td>0.029244</td>\n",
              "      <td>2.432722</td>\n",
              "    </tr>\n",
              "    <tr>\n",
              "      <th>5</th>\n",
              "      <td>(ALARM CLOCK BAKELIKE IVORY)</td>\n",
              "      <td>(ALARM CLOCK BAKELIKE RED )</td>\n",
              "      <td>0.028308</td>\n",
              "      <td>0.052195</td>\n",
              "      <td>0.018524</td>\n",
              "      <td>0.654386</td>\n",
              "      <td>12.537313</td>\n",
              "      <td>0.017047</td>\n",
              "      <td>2.742380</td>\n",
              "    </tr>\n",
              "    <tr>\n",
              "      <th>6</th>\n",
              "      <td>(ALARM CLOCK BAKELIKE ORANGE)</td>\n",
              "      <td>(ALARM CLOCK BAKELIKE RED )</td>\n",
              "      <td>0.022100</td>\n",
              "      <td>0.052195</td>\n",
              "      <td>0.014998</td>\n",
              "      <td>0.678652</td>\n",
              "      <td>13.002217</td>\n",
              "      <td>0.013845</td>\n",
              "      <td>2.949463</td>\n",
              "    </tr>\n",
              "  </tbody>\n",
              "</table>\n",
              "</div>"
            ],
            "text/plain": [
              "                        antecedents  ... conviction\n",
              "0  (ALARM CLOCK BAKELIKE CHOCOLATE)  ...   2.696488\n",
              "1  (ALARM CLOCK BAKELIKE CHOCOLATE)  ...   2.982798\n",
              "2     (ALARM CLOCK BAKELIKE ORANGE)  ...   2.461292\n",
              "3      (ALARM CLOCK BAKELIKE GREEN)  ...   2.731908\n",
              "4       (ALARM CLOCK BAKELIKE RED )  ...   2.432722\n",
              "5      (ALARM CLOCK BAKELIKE IVORY)  ...   2.742380\n",
              "6     (ALARM CLOCK BAKELIKE ORANGE)  ...   2.949463\n",
              "\n",
              "[7 rows x 9 columns]"
            ]
          },
          "metadata": {
            "tags": []
          },
          "execution_count": 18
        }
      ]
    },
    {
      "cell_type": "code",
      "metadata": {
        "id": "8xqUe0tWKAmB",
        "colab_type": "code",
        "colab": {
          "base_uri": "https://localhost:8080/",
          "height": 34
        },
        "outputId": "5016ea2b-9c6b-45bc-ef78-b5d22c2fc22d"
      },
      "source": [
        "print(\"Number of Associations: {}\".format(rules.shape[0]))"
      ],
      "execution_count": 19,
      "outputs": [
        {
          "output_type": "stream",
          "text": [
            "Number of Associations: 498\n"
          ],
          "name": "stdout"
        }
      ]
    },
    {
      "cell_type": "code",
      "metadata": {
        "id": "ryTKUXOUKAmE",
        "colab_type": "code",
        "colab": {
          "base_uri": "https://localhost:8080/",
          "height": 295
        },
        "outputId": "f2596201-4187-49c4-b04a-d74bbe98fe79"
      },
      "source": [
        "rules.plot.scatter(\"support\", \"confidence\", alpha=0.5, marker=\"*\")\n",
        "plt.xlabel(\"Support\")\n",
        "plt.ylabel(\"Confidence\")\n",
        "plt.title(\"Association Rules\")\n",
        "plt.show()"
      ],
      "execution_count": 20,
      "outputs": [
        {
          "output_type": "display_data",
          "data": {
            "image/png": "[encoded data removed]",
            "text/plain": [
              "<Figure size 432x288 with 1 Axes>"
            ]
          },
          "metadata": {
            "tags": []
          }
        }
      ]
    },
    {
      "cell_type": "code",
      "metadata": {
        "id": "M1mbSeI8KAmH",
        "colab_type": "code",
        "colab": {
          "base_uri": "https://localhost:8080/",
          "height": 295
        },
        "outputId": "37a76b1b-0290-4496-f386-7c150372f747"
      },
      "source": [
        "rules.hist(\"lift\", grid=False, bins=30)\n",
        "plt.xlabel(\"Lift of item\")\n",
        "plt.ylabel(\"Number of items\")\n",
        "plt.title(\"Frequency distribution of Lift\")\n",
        "plt.show() "
      ],
      "execution_count": 21,
      "outputs": [
        {
          "output_type": "display_data",
          "data": {
            "image/png": "[encoded data removed]",
            "text/plain": [
              "<Figure size 432x288 with 1 Axes>"
            ]
          },
          "metadata": {
            "tags": []
          }
        }
      ]
    },
    {
      "cell_type": "code",
      "metadata": {
        "id": "mK6w2pnPKAmK",
        "colab_type": "code",
        "colab": {
          "base_uri": "https://localhost:8080/",
          "height": 295
        },
        "outputId": "a57cbe8e-4c4a-4833-961a-763296bc2897"
      },
      "source": [
        "rules.hist(\"leverage\", grid=False, bins=30)\n",
        "plt.xlabel(\"Leverage of item\")\n",
        "plt.ylabel(\"Number of items\")\n",
        "plt.title(\"Frequency distribution of Leverage\")\n",
        "plt.show() "
      ],
      "execution_count": 22,
      "outputs": [
        {
          "output_type": "display_data",
          "data": {
            "image/png": "[encoded data removed]",
            "text/plain": [
              "<Figure size 432x288 with 1 Axes>"
            ]
          },
          "metadata": {
            "tags": []
          }
        }
      ]
    },
    {
      "cell_type": "code",
      "metadata": {
        "id": "8fqiJVjkKAmM",
        "colab_type": "code",
        "colab": {
          "base_uri": "https://localhost:8080/",
          "height": 295
        },
        "outputId": "dd1621e9-2311-4491-d278-e06b3e7d9955"
      },
      "source": [
        "plt.hist(rules[numpy.isfinite(rules['conviction'])].conviction.values, bins = 30)\n",
        "plt.xlabel(\"Conviction of item\")\n",
        "plt.ylabel(\"Number of items\")\n",
        "plt.title(\"Frequency distribution of Conviction\")\n",
        "plt.show() "
      ],
      "execution_count": 23,
      "outputs": [
        {
          "output_type": "display_data",
          "data": {
            "image/png": "[encoded data removed]",
            "text/plain": [
              "<Figure size 432x288 with 1 Axes>"
            ]
          },
          "metadata": {
            "tags": []
          }
        }
      ]
    },
    {
      "cell_type": "code",
      "metadata": {
        "id": "IkyjfHyaKAmP",
        "colab_type": "code",
        "colab": {}
      },
      "source": [
        ""
      ],
      "execution_count": 0,
      "outputs": []
    }
  ]
}